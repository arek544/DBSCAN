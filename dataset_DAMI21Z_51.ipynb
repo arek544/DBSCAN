{
 "cells": [
  {
   "cell_type": "markdown",
   "id": "9351a636-c852-41d0-a30d-b32f525636d0",
   "metadata": {},
   "source": [
    "# DATASET"
   ]
  },
  {
   "cell_type": "code",
   "execution_count": 5,
   "id": "c223ab61-969f-4cc6-96b2-9db3b49c0208",
   "metadata": {},
   "outputs": [],
   "source": [
    "dataset = {\n",
    "    \n",
    "    \"A\": [4.2, 4.0],\n",
    "    \"B\": [5.9, 3.9],\n",
    "    \"C\": [2.8, 3.5],\n",
    "    \"D\": [12.0, 1.3],\n",
    "    \"E\": [10.0, 1.3],\n",
    "    \"F\": [1.1, 3.0],\n",
    "    \"G\": [2.4, 2.0],\n",
    "    \"I\": [11.5, 1.8],\n",
    "    \"J\": [11.0, 1.0],\n",
    "    \"K\": [0.9, 0.0],\n",
    "    \"L\": [1.0, 1.5]\n",
    "}"
   ]
  },
  {
   "cell_type": "code",
   "execution_count": 9,
   "id": "eb33cd5c-9b00-4df4-840b-49cfbb0d00da",
   "metadata": {},
   "outputs": [],
   "source": [
    "X = np.array(\n",
    "    [[4.2, 4.0], \n",
    "    [5.9, 3.9],\n",
    "    [2.8, 3.5],\n",
    "    [12.0, 1.3],\n",
    "    [10.0, 1.3],\n",
    "    [1.1, 3.0],\n",
    "    [2.4, 2.0],\n",
    "    [11.5, 1.8],\n",
    "    [11.0, 1.0],\n",
    "    [0.9, 0.0],\n",
    "    [1.0, 1.5]], np.single)"
   ]
  },
  {
   "cell_type": "code",
   "execution_count": 11,
   "id": "9faa1bb9-053b-4992-b17d-050974f604c8",
   "metadata": {},
   "outputs": [],
   "source": [
    "labels = [ \"A\", \"B\", \"C\", \"D\", \"E\", \"F\", \"G\", \"I\", \"J\", \"K\", \"L\"]"
   ]
  },
  {
   "cell_type": "code",
   "execution_count": null,
   "id": "dde33e9a-1223-4074-84a1-f9d0e62e3f2d",
   "metadata": {},
   "outputs": [],
   "source": [
    "C =  np.array([1, 2, 2, 1, 1, 1, 2, 2, 1, 1])"
   ]
  },
  {
   "cell_type": "markdown",
   "id": "dc12d703-d764-4b43-ac9f-dd2e840141e4",
   "metadata": {},
   "source": [
    "# SIMILARITY METRICS"
   ]
  },
  {
   "cell_type": "code",
   "execution_count": null,
   "id": "3dc2bf1f-3f99-41cd-b4a3-1dde2c780ed5",
   "metadata": {},
   "outputs": [],
   "source": [
    "def cosine_similarity(x1, x2):\n",
    "    distance = 0\n",
    "    for i in range(len(x1)):\n",
    "        distance += sum(x1[i]*x2[i])/((math.sqrt(sum(x1[i]**2)))*(math.sqrt(sum(x2[i]**2))))\n",
    "        return distance"
   ]
  },
  {
   "cell_type": "code",
   "execution_count": null,
   "id": "48d30a2f-e0a5-44c4-a8fb-def5e31e4ea4",
   "metadata": {},
   "outputs": [],
   "source": [
    "def euclidean_distance(x1, x2):\n",
    "    distance = 0\n",
    "    for i in range(len(x1)):\n",
    "        distance += pow((x1[i] - x2[i]), 2)\n",
    "    return math.sqrt(distance)"
   ]
  },
  {
   "cell_type": "markdown",
   "id": "052e66e0-631d-45de-a726-120781e253e7",
   "metadata": {},
   "source": [
    "# Evaluation"
   ]
  },
  {
   "cell_type": "code",
   "execution_count": null,
   "id": "0b0e2d1f-a894-42ba-9712-6cdcfd7e2673",
   "metadata": {},
   "outputs": [],
   "source": [
    "from sklearn.metrics.cluster import adjusted_rand_score\n",
    "from sklearn.cluster import KMeans\n",
    "from sklearn import metrics\n",
    "from sklearn.metrics import davies_bouldin_score\n",
    "from sklearn.metrics import pairwise_distances\n",
    "\n",
    "'''\n",
    "n_clusters: the number of discovered clusters,\n",
    "C: real clusters,\n",
    "G: discovered clusters\n",
    "'''\n",
    "\n",
    "n_clusters = len(set(G))\n",
    "    \n",
    "kmeans = KMeans(n_clusters, random_state=1).fit(dataset)\n",
    "labels = kmeans.labels_\n",
    "\n",
    "# Purity\n",
    "def purity(C, G):\n",
    "    common_items_inclusters = metrics.cluster.contingency_matrix(C, G)\n",
    "    purity_score = np.sum(np.amax(common_items_inclusters, axis=0)) / np.sum(common_items_inclusters)\n",
    "    return purity_score\n",
    "\n",
    "purity_score = purity(C, G)\n",
    "\n",
    "# Reduce\n",
    "rand_score = adjusted_rand_score(C, G)\n",
    "\n",
    "# Davies-Bouldin\n",
    "db_score = davies_bouldin_score(dataset, labels)\n",
    "\n",
    "# Silhouette Coefficient\n",
    "silhouette_score_euclidian = metrics.silhouette_score(dataset, labels, metric = 'euclidean')\n",
    "silhouette_score_cosinus = metrics.silhouette_score(dataset, labels, metric = 'cosine')"
   ]
  }
 ],
 "metadata": {
  "kernelspec": {
   "display_name": "Python 3",
   "language": "python",
   "name": "python3"
  },
  "language_info": {
   "codemirror_mode": {
    "name": "ipython",
    "version": 3
   },
   "file_extension": ".py",
   "mimetype": "text/x-python",
   "name": "python",
   "nbconvert_exporter": "python",
   "pygments_lexer": "ipython3",
   "version": "3.8.5"
  }
 },
 "nbformat": 4,
 "nbformat_minor": 5
}
