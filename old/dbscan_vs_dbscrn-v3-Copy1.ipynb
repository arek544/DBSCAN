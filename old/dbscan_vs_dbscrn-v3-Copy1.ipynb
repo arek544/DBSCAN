{
 "cells": [
  {
   "cell_type": "markdown",
   "id": "senior-shelter",
   "metadata": {
    "tags": []
   },
   "source": [
    "# DBSCAN vs DBSCRN"
   ]
  },
  {
   "cell_type": "code",
   "execution_count": 6,
   "id": "useful-content",
   "metadata": {},
   "outputs": [],
   "source": [
    "import time\n",
    "import warnings\n",
    "import math\n",
    "from collections import Counter\n",
    "\n",
    "import numpy as np\n",
    "import matplotlib.pyplot as plt\n",
    "\n",
    "import pandas as pd\n",
    "\n",
    "from sklearn import cluster, datasets\n",
    "from sklearn.preprocessing import StandardScaler\n",
    "from sklearn.preprocessing import Normalizer\n",
    "from itertools import cycle, islice\n",
    "from sklearn import cluster\n",
    "from sklearn import preprocessing\n",
    "\n",
    "np.random.seed(0)\n",
    "\n",
    "def cluster_encoder(cluster):\n",
    "    le = preprocessing.LabelEncoder()\n",
    "    le.fit(cluster)\n",
    "    return le.transform(cluster)"
   ]
  },
  {
   "cell_type": "markdown",
   "id": "1ad5c88c-6cee-416e-81d3-dd9a24cc38c2",
   "metadata": {},
   "source": [
    "(1) **OUT** - an output file that contains the following information on a separate line for each point in the dataset:\n",
    "point id, x, y, ...., \\# of distance/similarity calculations, point type, CId\n",
    "where:\n",
    "- point id - the position of the point in the dataset (before possible sorting),\n",
    "- x, y, ... - dimension values\n",
    "- \\# of distance/similarity calculations = # of performed calculations of the distance/similarity of the point to other points in the dataset,\n",
    "- a point type is either a core point (denoted by 1), or a border point (denoted by 0), or a noise point (denoted by -1)\n",
    "- CId is either a cluster identifier (which is a natural number) or -1 in the case of noise points."
   ]
  },
  {
   "cell_type": "code",
   "execution_count": 30,
   "id": "f59f6278-e7ed-44c9-9574-4fcedd374513",
   "metadata": {},
   "outputs": [
    {
     "data": {
      "text/html": [
       "<div>\n",
       "<style scoped>\n",
       "    .dataframe tbody tr th:only-of-type {\n",
       "        vertical-align: middle;\n",
       "    }\n",
       "\n",
       "    .dataframe tbody tr th {\n",
       "        vertical-align: top;\n",
       "    }\n",
       "\n",
       "    .dataframe thead th {\n",
       "        text-align: right;\n",
       "    }\n",
       "</style>\n",
       "<table border=\"1\" class=\"dataframe\">\n",
       "  <thead>\n",
       "    <tr style=\"text-align: right;\">\n",
       "      <th></th>\n",
       "      <th>point id</th>\n",
       "      <th>x</th>\n",
       "      <th>y</th>\n",
       "      <th># of distance/similarity calculations</th>\n",
       "      <th>point type</th>\n",
       "      <th>CId</th>\n",
       "    </tr>\n",
       "  </thead>\n",
       "  <tbody>\n",
       "  </tbody>\n",
       "</table>\n",
       "</div>"
      ],
      "text/plain": [
       "Empty DataFrame\n",
       "Columns: [point id, x, y, # of distance/similarity calculations, point type, CId]\n",
       "Index: []"
      ]
     },
     "execution_count": 30,
     "metadata": {},
     "output_type": "execute_result"
    }
   ],
   "source": [
    "out = pd.DataFrame({\n",
    "    'point id': [],\n",
    "    'x': [],\n",
    "    'y': [],\n",
    "    '# of distance/similarity calculations': [],\n",
    "    'point type': [], # 1 - core, 0 - border, -1 - noise\n",
    "    'CId': [] # clusters\n",
    "})\n",
    "out"
   ]
  },
  {
   "cell_type": "markdown",
   "id": "c204e2be-a2cd-4459-a21e-c859fc4f2c74",
   "metadata": {},
   "source": [
    "(2) **STAT** - a file with the following statistics:\n",
    "- name of the input file, # of dimensions of a point, # of points in the input file\n",
    "- values of respective parameters of the used algorithm\n",
    "- values of dimensions of a reference point (for TI- versions)\n",
    "- partial runtimes for each important phase of algorithms such as:\n",
    "reading the input file, calculation of distances to a reference point (for TI- versions), normalization of vectors (for versions working on normalized vectors), sorting of points w.r.t. their distances to the reference point (for TI- versions), sorting of points w.r.t. their lengths (for optimized versions using the Tanimoto similarity), calculation of Eps-neighborhood / k+NN / kNN / R-k+NN / R-kNN etc., clustering, saving results to OUT and STAT files\n",
    "- total runtime\n",
    "- \\# of discovered clusters, # of discovered noise points, # of discovered core points, # of discovered border points - if applicable\n",
    "- avg \\# of calculations of distance/similarity of a point to other points in the data set,\n",
    "- |TP|, |TN|, # of pairs of points, RAND and Purity (when calculating RAND and Purity, the set of all noise points should be treated as a special type of a cluster) - calculated in the case of datasets whose real clusters are known\n",
    "- Silhouette coefficient (when calculating Silhouette coefficient, each noise point should be treated as a separate singleton cluster)\n",
    "- Davies Bouldin - calculated in the case of algorithms that do not discover noise points"
   ]
  },
  {
   "cell_type": "code",
   "execution_count": null,
   "id": "7f1ed12e-ae57-405f-b6bb-6020dbe9b9ef",
   "metadata": {},
   "outputs": [],
   "source": [
    "stat = pd.DataFrame({\n",
    "    'point id': [],\n",
    "    'x': [],\n",
    "    'y': [],\n",
    "    '# of distance/similarity calculations': [],\n",
    "    'point type': [],\n",
    "    'CId': []\n",
    "})\n",
    "out"
   ]
  },
  {
   "cell_type": "markdown",
   "id": "745d6fad-f1ce-4132-a6ed-a88138202fc4",
   "metadata": {},
   "source": []
  },
  {
   "cell_type": "code",
   "execution_count": 32,
   "id": "17224444-fae4-4caf-a65f-29b8d0878dad",
   "metadata": {},
   "outputs": [],
   "source": []
  },
  {
   "cell_type": "markdown",
   "id": "voluntary-seven",
   "metadata": {},
   "source": [
    "# Dataset: example from lecture"
   ]
  },
  {
   "cell_type": "code",
   "execution_count": 7,
   "id": "interpreted-florist",
   "metadata": {},
   "outputs": [
    {
     "data": {
      "image/png": "[encoded data removed]",
      "text/plain": [
       "<Figure size 432x288 with 1 Axes>"
      ]
     },
     "metadata": {
      "needs_background": "light"
     },
     "output_type": "display_data"
    }
   ],
   "source": [
    "X = np.array([\n",
    "    [4.2, 4.0], \n",
    "    [5.9, 3.9],\n",
    "    [2.8, 3.5],\n",
    "    [12.0, 1.3],\n",
    "    [10.0, 1.3],\n",
    "    [1.1, 3.0],\n",
    "    [0.0, 2.4],\n",
    "    [2.4, 2.0],\n",
    "    [11.5, 1.8],\n",
    "    [11.0, 1.0],\n",
    "    [0.9, 0.0],\n",
    "    [1.0, 1.5]\n",
    "], np.single)\n",
    "\n",
    "# X = StandardScaler().fit_transform(X)\n",
    "\n",
    "# normalize vectors\n",
    "X_norm = Normalizer().fit_transform(X)\n",
    "\n",
    "# real clusters\n",
    "y =  np.array([1, 0, 1, 2, 2, 1, 1, 1, 2, 2, 1, 1])\n",
    "\n",
    "fig, ax = plt.subplots()\n",
    "for i, txt in enumerate(range(len(X))):\n",
    "    ax.annotate(i, (X[i,0], X[i,1]), size=15)\n",
    "ax.scatter(X[:,0], X[:,1]);\n",
    "plt.title('Original dataset');"
   ]
  },
  {
   "cell_type": "code",
   "execution_count": 19,
   "id": "6241a22e-b70b-4da4-928b-756a9a58212b",
   "metadata": {
    "tags": []
   },
   "outputs": [
    {
     "data": {
      "image/png": "[encoded data removed]",
      "text/plain": [
       "<Figure size 432x288 with 1 Axes>"
      ]
     },
     "metadata": {
      "needs_background": "light"
     },
     "output_type": "display_data"
    }
   ],
   "source": [
    "fig, ax = plt.subplots()\n",
    "for i, txt in enumerate(range(len(X_norm))):\n",
    "    ax.annotate(i, (X_norm[i,0], X_norm[i,1]), size=15)\n",
    "ax.scatter(X_norm[:,0], X_norm[:,1]);\n",
    "plt.title('After normalization');"
   ]
  },
  {
   "cell_type": "markdown",
   "id": "87ee34ec-bc7f-4729-ba30-25380e2dcd3c",
   "metadata": {},
   "source": [
    "# Clusterization performance metrics"
   ]
  },
  {
   "cell_type": "code",
   "execution_count": 9,
   "id": "premium-understanding",
   "metadata": {
    "tags": []
   },
   "outputs": [],
   "source": [
    "from sklearn.metrics.cluster import adjusted_rand_score\n",
    "from sklearn.cluster import KMeans\n",
    "from sklearn import metrics\n",
    "from sklearn.metrics import davies_bouldin_score\n",
    "# from sklearn.metrics import pairwise_distance\n",
    "\n",
    "# n_clusters: the number of discovered clusters,\n",
    "# y: real clusters,\n",
    "# c: discovered clusters\n",
    "\n",
    "# Purity\n",
    "def purity(C, G):\n",
    "    common_items_inclusters = metrics.cluster.contingency_matrix(C, G)\n",
    "    purity_score = np.sum(np.amax(common_items_inclusters, axis=0)) / np.sum(common_items_inclusters)\n",
    "    return purity_score\n",
    "\n",
    "def evaluate(y_pred, y_true, data):\n",
    "    y_pred = cluster_encoder(y_pred)\n",
    "    return {\n",
    "        \"purity\": purity(y_true, y_pred),\n",
    "        \"adjusted_rand_score\": adjusted_rand_score(y_true, y_pred),\n",
    "        \"davies_bouldin_score\": davies_bouldin_score(data, y_pred),\n",
    "        \"silhouette_score_euclidean\": metrics.silhouette_score(data, y_pred, metric = 'euclidean'),\n",
    "        \"silhouette_score_cosine\": metrics.silhouette_score(data, y_pred, metric = 'cosine'),\n",
    "    }"
   ]
  },
  {
   "cell_type": "markdown",
   "id": "2c3cfd53-21eb-4274-8cf4-60be97be4254",
   "metadata": {},
   "source": [
    "# Distance or (dis)similarity measures "
   ]
  },
  {
   "cell_type": "markdown",
   "id": "assumed-damages",
   "metadata": {
    "tags": []
   },
   "source": [
    "## Euclidean similarity"
   ]
  },
  {
   "cell_type": "code",
   "execution_count": 10,
   "id": "pressing-gardening",
   "metadata": {},
   "outputs": [],
   "source": [
    "def euclidean_distance(a, b):\n",
    "    similarity_measure = 0\n",
    "    for i in range(len(a)):\n",
    "         similarity_measure += pow((a[i] - b[i]), 2)\n",
    "    return np.sqrt(similarity_measure)"
   ]
  },
  {
   "cell_type": "markdown",
   "id": "rough-offset",
   "metadata": {},
   "source": [
    "## Cosinus dissimilarity "
   ]
  },
  {
   "cell_type": "code",
   "execution_count": 11,
   "id": "minus-slovakia",
   "metadata": {},
   "outputs": [],
   "source": [
    "def cosine_dissimilarity(a, b):\n",
    "    dot = 0\n",
    "    norm_a = 0\n",
    "    norm_b = 0\n",
    "    for i in range(len(a)):\n",
    "        dot += a[i] * b[i]\n",
    "        norm_a += a[i]**2\n",
    "        norm_b += b[i]**2\n",
    "    return 1 - dot / (norm_a * norm_b)**0.5"
   ]
  },
  {
   "cell_type": "markdown",
   "id": "9c1cbde9-100d-49a5-ab63-6ffe5ae7078c",
   "metadata": {},
   "source": [
    "## Cosine similarity"
   ]
  },
  {
   "cell_type": "code",
   "execution_count": 12,
   "id": "7ef963ab-92a6-412c-99e9-0084be119dde",
   "metadata": {},
   "outputs": [],
   "source": [
    "def cosine_similarity(a, b):\n",
    "    dot = 0\n",
    "    norm_a = 0\n",
    "    norm_b = 0\n",
    "    for i in range(len(a)):\n",
    "        dot += a[i] * b[i]\n",
    "        norm_a += a[i]**2\n",
    "        norm_b += b[i]**2\n",
    "    return dot / (norm_a * norm_b)**0.5"
   ]
  },
  {
   "cell_type": "code",
   "execution_count": 13,
   "id": "5599466f-7446-4620-aa8e-f17ad60eefd4",
   "metadata": {},
   "outputs": [],
   "source": [
    "# from numpy import dot\n",
    "# from numpy.linalg import norm\n",
    "\n",
    "def cosine_similaryty_numpy(a, b):\n",
    "    return (a @ b.T) / (norm(a)*norm(b))"
   ]
  },
  {
   "cell_type": "markdown",
   "id": "4df09d7b-31ec-4642-8508-6c816e828170",
   "metadata": {
    "tags": []
   },
   "source": [
    "# DBSCAN"
   ]
  },
  {
   "cell_type": "markdown",
   "id": "occupational-jonathan",
   "metadata": {},
   "source": [
    "## Get reachable neighbors"
   ]
  },
  {
   "cell_type": "code",
   "execution_count": 14,
   "id": "favorite-learning",
   "metadata": {},
   "outputs": [],
   "source": [
    "def get_neighbors(X, current_index, epsilon, similarity):\n",
    "    '''\n",
    "    X - dataset with point coordinates,\n",
    "    current_index - index of given point,\n",
    "    epsilon - max similarity or distance to given point,\n",
    "    similarity - metric of similarity or distance bewteen two points\n",
    "    '''\n",
    "    neighbor_indices = []\n",
    "    for neighbor_index, neighbor in enumerate(X):\n",
    "        if similarity(neighbor, X[current_index]) <= epsilon:\n",
    "            neighbor_indices.append(neighbor_index)\n",
    "    return neighbor_indices"
   ]
  },
  {
   "cell_type": "markdown",
   "id": "9b9b25bf-cd03-4b4f-be56-b649c81887b2",
   "metadata": {},
   "source": [
    "## Clusterization algorithm"
   ]
  },
  {
   "cell_type": "code",
   "execution_count": 15,
   "id": "thick-blowing",
   "metadata": {},
   "outputs": [],
   "source": [
    "def dbscan(X, epsilon, minPts, similarity):\n",
    "    '''\n",
    "    X - dataset with point coordinates,\n",
    "    epsilon - max similarity or distance to given point,\n",
    "    minPts - minimum number of points that create cluster,\n",
    "    similarity - metric of similarity or distance bewteen two points\n",
    "    '''\n",
    "    # each data point can be in one of 3 stages\n",
    "    NOT_VISITED = 0 # not visited point\n",
    "    VISTED = 1 # non-core point\n",
    "    CLUSTERED = 2 # core point\n",
    "    \n",
    "    # initial setup\n",
    "    n = X.shape[0]\n",
    "    cluster = np.array([0] * n) # cluster register\n",
    "    state = np.array([NOT_VISITED] * n) # state register\n",
    "    cluster_id = 1\n",
    "\n",
    "    def search(current_index, cluster_id, epsilon, minPts, similarity):\n",
    "        neighbor_indices = get_neighbors(X, current_index, epsilon, similarity)\n",
    "        if len(neighbor_indices) >= minPts:\n",
    "            state[current_index] = CLUSTERED\n",
    "            cluster[current_index] = cluster_id\n",
    "            for neighbor_index in neighbor_indices:\n",
    "                if state[neighbor_index] == NOT_VISITED:\n",
    "                    state[neighbor_index] = CLUSTERED\n",
    "                    cluster[neighbor_index] = cluster_id\n",
    "                    search(neighbor_index, cluster_id, epsilon, minPts, similarity)\n",
    "        else:\n",
    "            state[current_index] = VISTED\n",
    "\n",
    "    while NOT_VISITED in state:\n",
    "        not_visited_ids = np.where(state==NOT_VISITED)[0]\n",
    "        search(not_visited_ids[0], cluster_id, epsilon, minPts, similarity)\n",
    "        cluster_id += 1\n",
    "    \n",
    "    return cluster"
   ]
  },
  {
   "cell_type": "markdown",
   "id": "b38d8420-6562-448a-a290-9d5aecba33ae",
   "metadata": {
    "toc-hr-collapsed": true
   },
   "source": [
    "## Evaluation: DBSCAN"
   ]
  },
  {
   "cell_type": "markdown",
   "id": "140a5de5-8c05-4377-9bce-71eea7120e52",
   "metadata": {},
   "source": [
    "### DBSCAN: euclidean distance"
   ]
  },
  {
   "cell_type": "code",
   "execution_count": 28,
   "id": "79abd652-dbe3-4034-bf69-17e334be38d6",
   "metadata": {},
   "outputs": [
    {
     "data": {
      "image/png": "[encoded data removed]",
      "text/plain": [
       "<Figure size 432x288 with 1 Axes>"
      ]
     },
     "metadata": {
      "needs_background": "light"
     },
     "output_type": "display_data"
    }
   ],
   "source": [
    "from sklearn.cluster import DBSCAN\n",
    "db = DBSCAN(eps=2, min_samples=3)\n",
    "db.fit_predict(X)\n",
    "\n",
    "# display results\n",
    "fig, ax = plt.subplots()\n",
    "ax.scatter(X[:,0], X[:,1], c=y_pred)\n",
    "plt.show()"
   ]
  },
  {
   "cell_type": "code",
   "execution_count": 29,
   "id": "10795478-e4d0-4d21-83c5-5d034fb6552a",
   "metadata": {},
   "outputs": [
    {
     "data": {
      "image/png": "[encoded data removed]",
      "text/plain": [
       "<Figure size 432x288 with 1 Axes>"
      ]
     },
     "metadata": {
      "needs_background": "light"
     },
     "output_type": "display_data"
    }
   ],
   "source": [
    "y_pred = dbscan(X=X, epsilon=2, minPts=3, similarity=euclidean_distance)\n",
    "\n",
    "# display results\n",
    "fig, ax = plt.subplots()\n",
    "ax.scatter(X[:,0], X[:,1], c=y_pred)\n",
    "plt.show()\n",
    "\n",
    "# evaluation\n",
    "# evaluate(y_pred, y, X)"
   ]
  },
  {
   "cell_type": "markdown",
   "id": "41d1d62a-4cef-4691-ba9c-c961e2329193",
   "metadata": {},
   "source": [
    "### DBSCAN: cosine dissimilarity"
   ]
  },
  {
   "cell_type": "code",
   "execution_count": 28,
   "id": "be132c93-0d55-49c3-a3ff-03dba9550d2a",
   "metadata": {},
   "outputs": [
    {
     "data": {
      "image/png": "[encoded data removed]",
      "text/plain": [
       "<Figure size 432x288 with 1 Axes>"
      ]
     },
     "metadata": {
      "needs_background": "light"
     },
     "output_type": "display_data"
    },
    {
     "data": {
      "text/plain": [
       "{'purity': 0.8333333333333334,\n",
       " 'adjusted_rand_score': 0.5097493036211699,\n",
       " 'davies_bouldin_score': 0.36743682429155733,\n",
       " 'silhouette_score_euclidean': 0.6683597,\n",
       " 'silhouette_score_cosine': 0.76168364}"
      ]
     },
     "execution_count": 28,
     "metadata": {},
     "output_type": "execute_result"
    }
   ],
   "source": [
    "y_pred = dbscan(X=X_norm, epsilon=0.07, minPts=3, similarity=cosine_dissimilarity)\n",
    "\n",
    "# display results\n",
    "fig, ax = plt.subplots()\n",
    "ax.scatter(X_norm[:,0], X_norm[:,1], c=y_pred)\n",
    "plt.show()\n",
    "\n",
    "# evaluation\n",
    "evaluate(y_pred, y, X_norm)"
   ]
  },
  {
   "cell_type": "markdown",
   "id": "3b2583ce-9bcc-4a00-9208-d42a87d3cf23",
   "metadata": {},
   "source": [
    "## DBSCAN: cosine similarity"
   ]
  },
  {
   "cell_type": "code",
   "execution_count": 90,
   "id": "22d73bf0-cf81-4a56-a9dd-541468faa86e",
   "metadata": {},
   "outputs": [
    {
     "data": {
      "image/png": "[encoded data removed]",
      "text/plain": [
       "<Figure size 432x288 with 1 Axes>"
      ]
     },
     "metadata": {
      "needs_background": "light"
     },
     "output_type": "display_data"
    },
    {
     "data": {
      "text/plain": [
       "{'purity': 0.5833333333333334,\n",
       " 'adjusted_rand_score': -0.0547945205479452,\n",
       " 'davies_bouldin_score': 2.969022389089624,\n",
       " 'silhouette_score_euclidean': 0.15740474,\n",
       " 'silhouette_score_cosine': 0.18675934}"
      ]
     },
     "execution_count": 90,
     "metadata": {},
     "output_type": "execute_result"
    }
   ],
   "source": [
    "y_pred = dbscan(X=X_norm, epsilon=0.2, minPts=3, similarity=cosine_similarity)\n",
    "\n",
    "# display results\n",
    "fig, ax = plt.subplots()\n",
    "ax.scatter(X_norm[:,0], X_norm[:,1], c=y_pred)\n",
    "plt.show()\n",
    "\n",
    "# evaluation\n",
    "evaluate(y_pred, y, X_norm)"
   ]
  },
  {
   "cell_type": "markdown",
   "id": "liquid-campus",
   "metadata": {
    "tags": []
   },
   "source": [
    "# DBSCAN-RN"
   ]
  },
  {
   "cell_type": "markdown",
   "id": "804198bf-3d68-4078-9686-6d6dd27c9211",
   "metadata": {
    "tags": []
   },
   "source": [
    "## KNN"
   ]
  },
  {
   "cell_type": "code",
   "execution_count": 10,
   "id": "300d3845-9773-43f6-a17f-a2b5f2f34398",
   "metadata": {},
   "outputs": [],
   "source": [
    "def get_knn(current_index, neighbor_indices, k, similarity, X):\n",
    "    \n",
    "    # Remove current point from neighbors\n",
    "    if current_index in neighbor_indices: neighbor_indices.remove(current_index)\n",
    "    \n",
    "    # For each neighbor measure similarity to current point\n",
    "    neighbor_similaritys = []\n",
    "    for neighbor_index in neighbor_indices:\n",
    "        similarity_measure = similarity(X[neighbor_index], X[current_index])\n",
    "        neighbor_similaritys.append(similarity_measure) \n",
    "        \n",
    "    # Get k-nearest neighbors\n",
    "    sort_indices = np.argsort(neighbor_similaritys) # sort arguments and return indexes\n",
    "    neighbor_indices = np.array(neighbor_indices) \n",
    "    return neighbor_indices[sort_indices][:k].tolist()"
   ]
  },
  {
   "cell_type": "code",
   "execution_count": 110,
   "id": "d0ba6dc8-ad35-4301-9072-b20b6f109997",
   "metadata": {},
   "outputs": [
    {
     "data": {
      "text/plain": [
       "array([4, 5, 6])"
      ]
     },
     "execution_count": 110,
     "metadata": {},
     "output_type": "execute_result"
    }
   ],
   "source": [
    "np.array([5,6,4])[np.argsort([5,6,4])]"
   ]
  },
  {
   "cell_type": "code",
   "execution_count": 9,
   "id": "7d41660c-7c58-49ec-91a6-4426bff6ada8",
   "metadata": {},
   "outputs": [],
   "source": [
    "# # check\n",
    "# all_point_indices = list(range(len(X)))\n",
    "# for x in range(len(all_point_indices)):\n",
    "#     print(x, get_knn(x, all_point_indices[:], 3, euclidean_distance, X))"
   ]
  },
  {
   "cell_type": "markdown",
   "id": "e8c7ee44-22e2-4520-9a36-d5978817a2b9",
   "metadata": {
    "tags": []
   },
   "source": [
    "## RNN"
   ]
  },
  {
   "cell_type": "code",
   "execution_count": 11,
   "id": "legal-arbor",
   "metadata": {},
   "outputs": [],
   "source": [
    "def get_pointwise_rnn(point_knn, current_index):\n",
    "    rnn = []\n",
    "    for neighbor in point_knn[current_index]:\n",
    "        if current_index in point_knn[neighbor]:\n",
    "            rnn.append(neighbor)\n",
    "    return rnn\n",
    "    \n",
    "def get_rnn(point_indices, k, similarity, X):\n",
    "    point_rnn = {}\n",
    "    point_knn = {}\n",
    "    for current_index in point_indices:\n",
    "        knn = get_knn(current_index, point_indices[:], k, similarity, X)\n",
    "        point_knn[current_index] = knn\n",
    "    for current_index in point_indices:\n",
    "        rnn = get_pointwise_rnn(point_knn, current_index)\n",
    "        point_rnn[current_index] = rnn\n",
    "    return point_rnn, point_knn"
   ]
  },
  {
   "cell_type": "markdown",
   "id": "9db47640-481c-4a61-b5cd-462d5987eea3",
   "metadata": {},
   "source": [
    "## TI-KNN"
   ]
  },
  {
   "cell_type": "code",
   "execution_count": 12,
   "id": "c321c34e-de06-476b-acdd-e4665f16e8c9",
   "metadata": {},
   "outputs": [],
   "source": [
    "def check_pessimistic_estimation(df, df2, current_point):\n",
    "    # calculate real distance to current point\n",
    "    df2['real'] = df2.apply(lambda row: euclidean_distance(row[['x','y']], current_point[['x','y']].values[0]), axis=1)\n",
    "    df.update(df2)\n",
    "    # choose max real distance\n",
    "    max_val = df2.max()\n",
    "    # get points with fake distance below max real distance \n",
    "    return df[(df['pesimistic_distance'] < max_val['real']) & (df['pesimistic_distance'] > 1) & (df['real'].isna())]"
   ]
  },
  {
   "cell_type": "code",
   "execution_count": 13,
   "id": "94b9f0de-889a-420f-bf96-07448425029b",
   "metadata": {},
   "outputs": [],
   "source": [
    "all_point_indices = list(range(len(X_norm))) \n",
    "    \n",
    "df = pd.DataFrame({\n",
    "    \"index\": all_point_indices,\n",
    "    \"x\": X_norm[all_point_indices][:,0],\n",
    "    \"y\": X_norm[all_point_indices][:,1],\n",
    "    'real': np.nan\n",
    "})\n",
    "\n",
    "k = 3\n",
    "\n",
    "def ti_knn(k, df, current_index, all_point_indices):\n",
    "   \n",
    "    # calculate distance to reference point, [0,1]\n",
    "    df['r_distnace'] = df.apply(lambda row: euclidean_distance(row[['x','y']], [0,1]), axis=1)\n",
    "    df = df.sort_values(by='r_distnace')\n",
    "\n",
    "    # calculate distance to current point\n",
    "    current_point = df[df['index']==current_index]\n",
    "    df['pesimistic_distance'] = abs(df['r_distnace'] - current_point['r_distnace'].values[0] )\n",
    "\n",
    "    # get k-NN acording to pessimistic estimation \n",
    "    df2 = df[df['pesimistic_distance'] > 0].sort_values(by='pesimistic_distance').head(k)\n",
    "    # was > 1, changed to > 0\n",
    "\n",
    "    dfn = check_pessimistic_estimation(df, df2, current_point)\n",
    "\n",
    "    # check if current df is empty\n",
    "    def empty_df(df, df2, dfn):\n",
    "        for n in range(0, df.shape[0]):\n",
    "            if dfn.empty:\n",
    "                result = df.sort_values(by='real').head(k) \n",
    "                return result\n",
    "            else:\n",
    "                dfn = check_pessimistic_estimation(df, dfn, current_point)\n",
    "                empty_df(df, df2, dfn)\n",
    "\n",
    "    result = empty_df(df, df2, dfn)\n",
    "    df['real']=np.nan\n",
    "    \n",
    "    return result"
   ]
  },
  {
   "cell_type": "code",
   "execution_count": 14,
   "id": "3cb910bb-8748-421a-8136-9053c278dbd5",
   "metadata": {},
   "outputs": [],
   "source": [
    "def get_tiknn(k, df, all_point_indices):\n",
    "    point_knn = {}\n",
    "    for current_index in range(0, df.shape[0]):\n",
    "        result = ti_knn(k, df, current_index, all_point_indices)\n",
    "        point_knn_result = result['index'].to_list()\n",
    "        point_knn_result = [int(point) for point in point_knn_result]\n",
    "        point_knn[current_index] = point_knn_result\n",
    "    return point_knn"
   ]
  },
  {
   "cell_type": "markdown",
   "id": "38172544-1244-4a82-99b0-3e19b94d33b9",
   "metadata": {},
   "source": [
    "## TI-RNN"
   ]
  },
  {
   "cell_type": "code",
   "execution_count": 15,
   "id": "36b8ecba-1ce9-4525-9f73-009498dadb37",
   "metadata": {},
   "outputs": [],
   "source": [
    "def gert_tirnn(k, df, point_indices):\n",
    "    point_tirnn = {}\n",
    "    point_tiknn = get_tiknn(k, df, all_point_indices)\n",
    "    for current_index in point_indices:\n",
    "        rnn = get_pointwise_rnn(point_tiknn, current_index)\n",
    "        point_tirnn[current_index] = rnn\n",
    "        \n",
    "    return point_tirnn, point_tiknn"
   ]
  },
  {
   "cell_type": "markdown",
   "id": "engaged-server",
   "metadata": {
    "toc-hr-collapsed": true
   },
   "source": [
    "## Clusterization algorithm"
   ]
  },
  {
   "cell_type": "markdown",
   "id": "894ddbb6-7b4a-43b3-b9b1-a0159a5f8643",
   "metadata": {},
   "source": [
    "### DBSCANRN + classic KNN"
   ]
  },
  {
   "cell_type": "code",
   "execution_count": 16,
   "id": "joint-salem",
   "metadata": {},
   "outputs": [],
   "source": [
    "def dbscanrn(X, k, similarity):\n",
    "    \n",
    "    # each X point can be in one of 3 stages\n",
    "    NOT_VISITED = 0 # not visited point\n",
    "    VISTED = 1 # non-core point\n",
    "    CLUSTERED = 2 # core point\n",
    "    \n",
    "    # initial setup\n",
    "    n = X.shape[0]\n",
    "    cluster = np.array([0] * n) # cluster register\n",
    "    state = np.array([NOT_VISITED] * n) # state register\n",
    "    cluster_id = 1\n",
    "    all_point_indices = list(range(len(X))) # inidces of all points\n",
    "    point_rnn, point_knn = get_rnn(all_point_indices, k, similarity, X) # calculate RNN_k for all points\n",
    "    \n",
    "    # search for clusters\n",
    "    def search(current_index, k):\n",
    "        if len(point_rnn[current_index]) < k:\n",
    "                state[current_index] = VISTED\n",
    "        else:\n",
    "            state[current_index] = CLUSTERED\n",
    "            cluster[current_index] = cluster_id\n",
    "            for neighbor_index in point_rnn[current_index]:\n",
    "                if state[neighbor_index] == NOT_VISITED:\n",
    "                    search(neighbor_index, k)\n",
    "                state[neighbor_index] = CLUSTERED\n",
    "                cluster[neighbor_index] = cluster_id\n",
    "                    \n",
    "    # visit all X points\n",
    "    while NOT_VISITED in state:\n",
    "        not_visited_ids = np.where(state==NOT_VISITED)[0][0]\n",
    "        search(not_visited_ids, k)\n",
    "        cluster_id += 1\n",
    "    \n",
    "    # clusterize all outlier data points \n",
    "    while VISTED in state:\n",
    "        not_clustered_ids = np.where(state==VISTED)[0][0]\n",
    "        clustered_ids = np.where(state==CLUSTERED)[0]\n",
    "        knn = get_knn(not_clustered_ids, clustered_ids, 1, similarity, X)\n",
    "        cluster[not_clustered_ids] = cluster[knn[0]]\n",
    "        state[not_clustered_ids] = CLUSTERED\n",
    "    \n",
    "    return cluster"
   ]
  },
  {
   "cell_type": "markdown",
   "id": "9b85fe9b-1cba-4d0a-80ce-5ee3bedbecf0",
   "metadata": {},
   "source": [
    "### DBSCANRN + ti-KNN"
   ]
  },
  {
   "cell_type": "code",
   "execution_count": 17,
   "id": "67d1bc29-cd10-4d8d-b3e3-9518670bc493",
   "metadata": {},
   "outputs": [],
   "source": [
    "def ti_dbscanrn(X, k, similarity):\n",
    "    \n",
    "    # each X point can be in one of 3 stages\n",
    "    NOT_VISITED = 0 # not visited point\n",
    "    VISTED = 1 # non-core point\n",
    "    CLUSTERED = 2 # core point\n",
    "    \n",
    "    # initial setup\n",
    "    n = X.shape[0]\n",
    "    cluster = np.array([0] * n) # cluster register\n",
    "    state = np.array([NOT_VISITED] * n) # state register\n",
    "    cluster_id = 1\n",
    "    all_point_indices = list(range(len(X))) # inidces of all points\n",
    "    point_rnn, point_knn = gert_tirnn(k, df, all_point_indices) # calculate RNN_k for all points\n",
    "    \n",
    "    # search for clusters\n",
    "    def search(current_index, k):\n",
    "        if len(point_rnn[current_index]) < k:\n",
    "                state[current_index] = VISTED\n",
    "        else:\n",
    "            state[current_index] = CLUSTERED\n",
    "            cluster[current_index] = cluster_id\n",
    "            for neighbor_index in point_rnn[current_index]:\n",
    "                if state[neighbor_index] == NOT_VISITED:\n",
    "                    search(neighbor_index, k)\n",
    "                state[neighbor_index] = CLUSTERED\n",
    "                cluster[neighbor_index] = cluster_id\n",
    "                    \n",
    "    # visit all X points\n",
    "    while NOT_VISITED in state:\n",
    "        not_visited_ids = np.where(state==NOT_VISITED)[0][0]\n",
    "        search(not_visited_ids, k)\n",
    "        cluster_id += 1\n",
    "    \n",
    "    # clusterize all outlier data points \n",
    "    while VISTED in state:\n",
    "        not_clustered_ids = np.where(state==VISTED)[0][0]\n",
    "        clustered_ids = np.where(state==CLUSTERED)[0]\n",
    "        knn = get_knn(not_clustered_ids, clustered_ids, 1, similarity, X)\n",
    "        cluster[not_clustered_ids] = cluster[knn[0]]\n",
    "        state[not_clustered_ids] = CLUSTERED\n",
    "    \n",
    "    return cluster"
   ]
  },
  {
   "cell_type": "markdown",
   "id": "e62d2162-d481-44f2-a748-f5618a5133c8",
   "metadata": {},
   "source": [
    "# Evaluation"
   ]
  },
  {
   "cell_type": "markdown",
   "id": "1e5f837c-1bcc-4b0b-9880-a8cb68cdd925",
   "metadata": {
    "toc-hr-collapsed": true
   },
   "source": [
    "## DBSCANRN"
   ]
  },
  {
   "cell_type": "markdown",
   "id": "6682be7e-ca2f-49fe-9c94-0229cb4a4f39",
   "metadata": {},
   "source": [
    "### DBSCANRN: euclidean distance + classic KNN"
   ]
  },
  {
   "cell_type": "code",
   "execution_count": 64,
   "id": "322674ac-4148-49d0-84da-ac1c527a2a9d",
   "metadata": {},
   "outputs": [
    {
     "data": {
      "image/png": "[encoded data removed]",
      "text/plain": [
       "<Figure size 432x288 with 1 Axes>"
      ]
     },
     "metadata": {
      "needs_background": "light"
     },
     "output_type": "display_data"
    },
    {
     "data": {
      "text/plain": [
       "{'purity': 0.8333333333333334,\n",
       " 'adjusted_rand_score': 0.5097493036211699,\n",
       " 'davies_bouldin_score': 0.7589424132751467,\n",
       " 'silhouette_score_euclidean': 0.50847596,\n",
       " 'silhouette_score_cosine': 0.76168364}"
      ]
     },
     "execution_count": 64,
     "metadata": {},
     "output_type": "execute_result"
    }
   ],
   "source": [
    "y_pred = dbscanrn(X=X_norm, k=3, similarity=euclidean_distance)\n",
    "\n",
    "# display results\n",
    "fig, ax = plt.subplots()\n",
    "ax.scatter(X[:,0], X[:,1], c=y_pred)\n",
    "plt.show()\n",
    "\n",
    "# evaluation\n",
    "evaluate(y_pred, y, X)"
   ]
  },
  {
   "cell_type": "markdown",
   "id": "1ce8f2d0-b8ea-4641-a64b-38627f347821",
   "metadata": {},
   "source": [
    "### DBSCANRN: cosine dissimilarity + classic KNN"
   ]
  },
  {
   "cell_type": "code",
   "execution_count": 65,
   "id": "b036250e-da9d-4ce4-9268-161a2d23e57a",
   "metadata": {},
   "outputs": [
    {
     "data": {
      "image/png": "[encoded data removed]",
      "text/plain": [
       "<Figure size 432x288 with 1 Axes>"
      ]
     },
     "metadata": {
      "needs_background": "light"
     },
     "output_type": "display_data"
    },
    {
     "data": {
      "text/plain": [
       "{'purity': 0.8333333333333334,\n",
       " 'adjusted_rand_score': 0.5097493036211699,\n",
       " 'davies_bouldin_score': 0.36743682429155733,\n",
       " 'silhouette_score_euclidean': 0.6683597,\n",
       " 'silhouette_score_cosine': 0.76168364}"
      ]
     },
     "execution_count": 65,
     "metadata": {},
     "output_type": "execute_result"
    }
   ],
   "source": [
    "y_pred = dbscanrn(X=X_norm, k=4, similarity=cosine_dissimilarity)\n",
    "\n",
    "# display results\n",
    "fig, ax = plt.subplots()\n",
    "ax.scatter(X_norm[:,0], X_norm[:,1], c=y_pred)\n",
    "plt.show()\n",
    "\n",
    "# evaluation\n",
    "evaluate(y_pred, y, X_norm)"
   ]
  },
  {
   "cell_type": "markdown",
   "id": "d71cf13a-457a-47cf-ba64-8f95aba26a02",
   "metadata": {},
   "source": [
    "### DBSCANRN: cosine similarity + classic KNN"
   ]
  },
  {
   "cell_type": "code",
   "execution_count": 100,
   "id": "3b0fea90-0547-4152-8259-c0b2124fac62",
   "metadata": {},
   "outputs": [
    {
     "data": {
      "image/png": "[encoded data removed]",
      "text/plain": [
       "<Figure size 432x288 with 1 Axes>"
      ]
     },
     "metadata": {
      "needs_background": "light"
     },
     "output_type": "display_data"
    },
    {
     "ename": "ValueError",
     "evalue": "Number of labels is 1. Valid values are 2 to n_samples - 1 (inclusive)",
     "output_type": "error",
     "traceback": [
      "\u001b[0;31m---------------------------------------------------------------------------\u001b[0m",
      "\u001b[0;31mValueError\u001b[0m                                Traceback (most recent call last)",
      "\u001b[0;32m/tmp/ipykernel_2128/2493328301.py\u001b[0m in \u001b[0;36m<module>\u001b[0;34m\u001b[0m\n\u001b[1;32m      7\u001b[0m \u001b[0;34m\u001b[0m\u001b[0m\n\u001b[1;32m      8\u001b[0m \u001b[0;31m# evaluation\u001b[0m\u001b[0;34m\u001b[0m\u001b[0;34m\u001b[0m\u001b[0m\n\u001b[0;32m----> 9\u001b[0;31m \u001b[0mevaluate\u001b[0m\u001b[0;34m(\u001b[0m\u001b[0my_pred\u001b[0m\u001b[0;34m,\u001b[0m \u001b[0my\u001b[0m\u001b[0;34m,\u001b[0m \u001b[0mX_norm\u001b[0m\u001b[0;34m)\u001b[0m\u001b[0;34m\u001b[0m\u001b[0;34m\u001b[0m\u001b[0m\n\u001b[0m",
      "\u001b[0;32m/tmp/ipykernel_2128/3273798995.py\u001b[0m in \u001b[0;36mevaluate\u001b[0;34m(y_pred, y_true, data)\u001b[0m\n\u001b[1;32m     20\u001b[0m         \u001b[0;34m\"purity\"\u001b[0m\u001b[0;34m:\u001b[0m \u001b[0mpurity\u001b[0m\u001b[0;34m(\u001b[0m\u001b[0my_true\u001b[0m\u001b[0;34m,\u001b[0m \u001b[0my_pred\u001b[0m\u001b[0;34m)\u001b[0m\u001b[0;34m,\u001b[0m\u001b[0;34m\u001b[0m\u001b[0;34m\u001b[0m\u001b[0m\n\u001b[1;32m     21\u001b[0m         \u001b[0;34m\"adjusted_rand_score\"\u001b[0m\u001b[0;34m:\u001b[0m \u001b[0madjusted_rand_score\u001b[0m\u001b[0;34m(\u001b[0m\u001b[0my_true\u001b[0m\u001b[0;34m,\u001b[0m \u001b[0my_pred\u001b[0m\u001b[0;34m)\u001b[0m\u001b[0;34m,\u001b[0m\u001b[0;34m\u001b[0m\u001b[0;34m\u001b[0m\u001b[0m\n\u001b[0;32m---> 22\u001b[0;31m         \u001b[0;34m\"davies_bouldin_score\"\u001b[0m\u001b[0;34m:\u001b[0m \u001b[0mdavies_bouldin_score\u001b[0m\u001b[0;34m(\u001b[0m\u001b[0mdata\u001b[0m\u001b[0;34m,\u001b[0m \u001b[0my_pred\u001b[0m\u001b[0;34m)\u001b[0m\u001b[0;34m,\u001b[0m\u001b[0;34m\u001b[0m\u001b[0;34m\u001b[0m\u001b[0m\n\u001b[0m\u001b[1;32m     23\u001b[0m         \u001b[0;34m\"silhouette_score_euclidean\"\u001b[0m\u001b[0;34m:\u001b[0m \u001b[0mmetrics\u001b[0m\u001b[0;34m.\u001b[0m\u001b[0msilhouette_score\u001b[0m\u001b[0;34m(\u001b[0m\u001b[0mdata\u001b[0m\u001b[0;34m,\u001b[0m \u001b[0my_pred\u001b[0m\u001b[0;34m,\u001b[0m \u001b[0mmetric\u001b[0m \u001b[0;34m=\u001b[0m \u001b[0;34m'euclidean'\u001b[0m\u001b[0;34m)\u001b[0m\u001b[0;34m,\u001b[0m\u001b[0;34m\u001b[0m\u001b[0;34m\u001b[0m\u001b[0m\n\u001b[1;32m     24\u001b[0m         \u001b[0;34m\"silhouette_score_cosine\"\u001b[0m\u001b[0;34m:\u001b[0m \u001b[0mmetrics\u001b[0m\u001b[0;34m.\u001b[0m\u001b[0msilhouette_score\u001b[0m\u001b[0;34m(\u001b[0m\u001b[0mdata\u001b[0m\u001b[0;34m,\u001b[0m \u001b[0my_pred\u001b[0m\u001b[0;34m,\u001b[0m \u001b[0mmetric\u001b[0m \u001b[0;34m=\u001b[0m \u001b[0;34m'cosine'\u001b[0m\u001b[0;34m)\u001b[0m\u001b[0;34m,\u001b[0m\u001b[0;34m\u001b[0m\u001b[0;34m\u001b[0m\u001b[0m\n",
      "\u001b[0;32m/usr/local/lib/python3.10/site-packages/sklearn/metrics/cluster/_unsupervised.py\u001b[0m in \u001b[0;36mdavies_bouldin_score\u001b[0;34m(X, labels)\u001b[0m\n\u001b[1;32m    344\u001b[0m     \u001b[0mn_samples\u001b[0m\u001b[0;34m,\u001b[0m \u001b[0m_\u001b[0m \u001b[0;34m=\u001b[0m \u001b[0mX\u001b[0m\u001b[0;34m.\u001b[0m\u001b[0mshape\u001b[0m\u001b[0;34m\u001b[0m\u001b[0;34m\u001b[0m\u001b[0m\n\u001b[1;32m    345\u001b[0m     \u001b[0mn_labels\u001b[0m \u001b[0;34m=\u001b[0m \u001b[0mlen\u001b[0m\u001b[0;34m(\u001b[0m\u001b[0mle\u001b[0m\u001b[0;34m.\u001b[0m\u001b[0mclasses_\u001b[0m\u001b[0;34m)\u001b[0m\u001b[0;34m\u001b[0m\u001b[0;34m\u001b[0m\u001b[0m\n\u001b[0;32m--> 346\u001b[0;31m     \u001b[0mcheck_number_of_labels\u001b[0m\u001b[0;34m(\u001b[0m\u001b[0mn_labels\u001b[0m\u001b[0;34m,\u001b[0m \u001b[0mn_samples\u001b[0m\u001b[0;34m)\u001b[0m\u001b[0;34m\u001b[0m\u001b[0;34m\u001b[0m\u001b[0m\n\u001b[0m\u001b[1;32m    347\u001b[0m \u001b[0;34m\u001b[0m\u001b[0m\n\u001b[1;32m    348\u001b[0m     \u001b[0mintra_dists\u001b[0m \u001b[0;34m=\u001b[0m \u001b[0mnp\u001b[0m\u001b[0;34m.\u001b[0m\u001b[0mzeros\u001b[0m\u001b[0;34m(\u001b[0m\u001b[0mn_labels\u001b[0m\u001b[0;34m)\u001b[0m\u001b[0;34m\u001b[0m\u001b[0;34m\u001b[0m\u001b[0m\n",
      "\u001b[0;32m/usr/local/lib/python3.10/site-packages/sklearn/metrics/cluster/_unsupervised.py\u001b[0m in \u001b[0;36mcheck_number_of_labels\u001b[0;34m(n_labels, n_samples)\u001b[0m\n\u001b[1;32m     31\u001b[0m     \"\"\"\n\u001b[1;32m     32\u001b[0m     \u001b[0;32mif\u001b[0m \u001b[0;32mnot\u001b[0m \u001b[0;36m1\u001b[0m \u001b[0;34m<\u001b[0m \u001b[0mn_labels\u001b[0m \u001b[0;34m<\u001b[0m \u001b[0mn_samples\u001b[0m\u001b[0;34m:\u001b[0m\u001b[0;34m\u001b[0m\u001b[0;34m\u001b[0m\u001b[0m\n\u001b[0;32m---> 33\u001b[0;31m         raise ValueError(\n\u001b[0m\u001b[1;32m     34\u001b[0m             \u001b[0;34m\"Number of labels is %d. Valid values are 2 to n_samples - 1 (inclusive)\"\u001b[0m\u001b[0;34m\u001b[0m\u001b[0;34m\u001b[0m\u001b[0m\n\u001b[1;32m     35\u001b[0m             \u001b[0;34m%\u001b[0m \u001b[0mn_labels\u001b[0m\u001b[0;34m\u001b[0m\u001b[0;34m\u001b[0m\u001b[0m\n",
      "\u001b[0;31mValueError\u001b[0m: Number of labels is 1. Valid values are 2 to n_samples - 1 (inclusive)"
     ]
    }
   ],
   "source": [
    "y_pred = dbscanrn(X=X_norm, k=4, similarity=cosine_similarity)\n",
    "\n",
    "# display results\n",
    "fig, ax = plt.subplots()\n",
    "ax.scatter(X_norm[:,0], X_norm[:,1], c=y_pred)\n",
    "plt.show()\n",
    "\n",
    "# evaluation\n",
    "evaluate(y_pred, y, X_norm)"
   ]
  },
  {
   "cell_type": "code",
   "execution_count": 96,
   "id": "ecbbf632-10ab-4549-883d-2ee4152dbd59",
   "metadata": {},
   "outputs": [
    {
     "data": {
      "image/png": "[encoded data removed]",
      "text/plain": [
       "<Figure size 432x288 with 1 Axes>"
      ]
     },
     "metadata": {
      "needs_background": "light"
     },
     "output_type": "display_data"
    },
    {
     "ename": "ValueError",
     "evalue": "Number of labels is 1. Valid values are 2 to n_samples - 1 (inclusive)",
     "output_type": "error",
     "traceback": [
      "\u001b[0;31m---------------------------------------------------------------------------\u001b[0m",
      "\u001b[0;31mValueError\u001b[0m                                Traceback (most recent call last)",
      "\u001b[0;32m/tmp/ipykernel_2128/3554370986.py\u001b[0m in \u001b[0;36m<module>\u001b[0;34m\u001b[0m\n\u001b[1;32m      7\u001b[0m \u001b[0;34m\u001b[0m\u001b[0m\n\u001b[1;32m      8\u001b[0m \u001b[0;31m# evaluation\u001b[0m\u001b[0;34m\u001b[0m\u001b[0;34m\u001b[0m\u001b[0m\n\u001b[0;32m----> 9\u001b[0;31m \u001b[0mevaluate\u001b[0m\u001b[0;34m(\u001b[0m\u001b[0my_pred\u001b[0m\u001b[0;34m,\u001b[0m \u001b[0my\u001b[0m\u001b[0;34m,\u001b[0m \u001b[0mX_norm\u001b[0m\u001b[0;34m)\u001b[0m\u001b[0;34m\u001b[0m\u001b[0;34m\u001b[0m\u001b[0m\n\u001b[0m",
      "\u001b[0;32m/tmp/ipykernel_2128/3273798995.py\u001b[0m in \u001b[0;36mevaluate\u001b[0;34m(y_pred, y_true, data)\u001b[0m\n\u001b[1;32m     20\u001b[0m         \u001b[0;34m\"purity\"\u001b[0m\u001b[0;34m:\u001b[0m \u001b[0mpurity\u001b[0m\u001b[0;34m(\u001b[0m\u001b[0my_true\u001b[0m\u001b[0;34m,\u001b[0m \u001b[0my_pred\u001b[0m\u001b[0;34m)\u001b[0m\u001b[0;34m,\u001b[0m\u001b[0;34m\u001b[0m\u001b[0;34m\u001b[0m\u001b[0m\n\u001b[1;32m     21\u001b[0m         \u001b[0;34m\"adjusted_rand_score\"\u001b[0m\u001b[0;34m:\u001b[0m \u001b[0madjusted_rand_score\u001b[0m\u001b[0;34m(\u001b[0m\u001b[0my_true\u001b[0m\u001b[0;34m,\u001b[0m \u001b[0my_pred\u001b[0m\u001b[0;34m)\u001b[0m\u001b[0;34m,\u001b[0m\u001b[0;34m\u001b[0m\u001b[0;34m\u001b[0m\u001b[0m\n\u001b[0;32m---> 22\u001b[0;31m         \u001b[0;34m\"davies_bouldin_score\"\u001b[0m\u001b[0;34m:\u001b[0m \u001b[0mdavies_bouldin_score\u001b[0m\u001b[0;34m(\u001b[0m\u001b[0mdata\u001b[0m\u001b[0;34m,\u001b[0m \u001b[0my_pred\u001b[0m\u001b[0;34m)\u001b[0m\u001b[0;34m,\u001b[0m\u001b[0;34m\u001b[0m\u001b[0;34m\u001b[0m\u001b[0m\n\u001b[0m\u001b[1;32m     23\u001b[0m         \u001b[0;34m\"silhouette_score_euclidean\"\u001b[0m\u001b[0;34m:\u001b[0m \u001b[0mmetrics\u001b[0m\u001b[0;34m.\u001b[0m\u001b[0msilhouette_score\u001b[0m\u001b[0;34m(\u001b[0m\u001b[0mdata\u001b[0m\u001b[0;34m,\u001b[0m \u001b[0my_pred\u001b[0m\u001b[0;34m,\u001b[0m \u001b[0mmetric\u001b[0m \u001b[0;34m=\u001b[0m \u001b[0;34m'euclidean'\u001b[0m\u001b[0;34m)\u001b[0m\u001b[0;34m,\u001b[0m\u001b[0;34m\u001b[0m\u001b[0;34m\u001b[0m\u001b[0m\n\u001b[1;32m     24\u001b[0m         \u001b[0;34m\"silhouette_score_cosine\"\u001b[0m\u001b[0;34m:\u001b[0m \u001b[0mmetrics\u001b[0m\u001b[0;34m.\u001b[0m\u001b[0msilhouette_score\u001b[0m\u001b[0;34m(\u001b[0m\u001b[0mdata\u001b[0m\u001b[0;34m,\u001b[0m \u001b[0my_pred\u001b[0m\u001b[0;34m,\u001b[0m \u001b[0mmetric\u001b[0m \u001b[0;34m=\u001b[0m \u001b[0;34m'cosine'\u001b[0m\u001b[0;34m)\u001b[0m\u001b[0;34m,\u001b[0m\u001b[0;34m\u001b[0m\u001b[0;34m\u001b[0m\u001b[0m\n",
      "\u001b[0;32m/usr/local/lib/python3.10/site-packages/sklearn/metrics/cluster/_unsupervised.py\u001b[0m in \u001b[0;36mdavies_bouldin_score\u001b[0;34m(X, labels)\u001b[0m\n\u001b[1;32m    344\u001b[0m     \u001b[0mn_samples\u001b[0m\u001b[0;34m,\u001b[0m \u001b[0m_\u001b[0m \u001b[0;34m=\u001b[0m \u001b[0mX\u001b[0m\u001b[0;34m.\u001b[0m\u001b[0mshape\u001b[0m\u001b[0;34m\u001b[0m\u001b[0;34m\u001b[0m\u001b[0m\n\u001b[1;32m    345\u001b[0m     \u001b[0mn_labels\u001b[0m \u001b[0;34m=\u001b[0m \u001b[0mlen\u001b[0m\u001b[0;34m(\u001b[0m\u001b[0mle\u001b[0m\u001b[0;34m.\u001b[0m\u001b[0mclasses_\u001b[0m\u001b[0;34m)\u001b[0m\u001b[0;34m\u001b[0m\u001b[0;34m\u001b[0m\u001b[0m\n\u001b[0;32m--> 346\u001b[0;31m     \u001b[0mcheck_number_of_labels\u001b[0m\u001b[0;34m(\u001b[0m\u001b[0mn_labels\u001b[0m\u001b[0;34m,\u001b[0m \u001b[0mn_samples\u001b[0m\u001b[0;34m)\u001b[0m\u001b[0;34m\u001b[0m\u001b[0;34m\u001b[0m\u001b[0m\n\u001b[0m\u001b[1;32m    347\u001b[0m \u001b[0;34m\u001b[0m\u001b[0m\n\u001b[1;32m    348\u001b[0m     \u001b[0mintra_dists\u001b[0m \u001b[0;34m=\u001b[0m \u001b[0mnp\u001b[0m\u001b[0;34m.\u001b[0m\u001b[0mzeros\u001b[0m\u001b[0;34m(\u001b[0m\u001b[0mn_labels\u001b[0m\u001b[0;34m)\u001b[0m\u001b[0;34m\u001b[0m\u001b[0;34m\u001b[0m\u001b[0m\n",
      "\u001b[0;32m/usr/local/lib/python3.10/site-packages/sklearn/metrics/cluster/_unsupervised.py\u001b[0m in \u001b[0;36mcheck_number_of_labels\u001b[0;34m(n_labels, n_samples)\u001b[0m\n\u001b[1;32m     31\u001b[0m     \"\"\"\n\u001b[1;32m     32\u001b[0m     \u001b[0;32mif\u001b[0m \u001b[0;32mnot\u001b[0m \u001b[0;36m1\u001b[0m \u001b[0;34m<\u001b[0m \u001b[0mn_labels\u001b[0m \u001b[0;34m<\u001b[0m \u001b[0mn_samples\u001b[0m\u001b[0;34m:\u001b[0m\u001b[0;34m\u001b[0m\u001b[0;34m\u001b[0m\u001b[0m\n\u001b[0;32m---> 33\u001b[0;31m         raise ValueError(\n\u001b[0m\u001b[1;32m     34\u001b[0m             \u001b[0;34m\"Number of labels is %d. Valid values are 2 to n_samples - 1 (inclusive)\"\u001b[0m\u001b[0;34m\u001b[0m\u001b[0;34m\u001b[0m\u001b[0m\n\u001b[1;32m     35\u001b[0m             \u001b[0;34m%\u001b[0m \u001b[0mn_labels\u001b[0m\u001b[0;34m\u001b[0m\u001b[0;34m\u001b[0m\u001b[0m\n",
      "\u001b[0;31mValueError\u001b[0m: Number of labels is 1. Valid values are 2 to n_samples - 1 (inclusive)"
     ]
    }
   ],
   "source": [
    "y_pred = dbscanrn(X=X_norm, k=4, similarity=cosine_similaryty_numpy)\n",
    "\n",
    "# display results\n",
    "fig, ax = plt.subplots()\n",
    "ax.scatter(X_norm[:,0], X_norm[:,1], c=y_pred)\n",
    "plt.show()\n",
    "\n",
    "# evaluation\n",
    "evaluate(y_pred, y, X_norm)"
   ]
  },
  {
   "cell_type": "markdown",
   "id": "ccaaa790-f1b5-46a3-acdf-542ce00cff4f",
   "metadata": {},
   "source": [
    "### DBSCANRN: euclidean distance + ti-KNN"
   ]
  },
  {
   "cell_type": "code",
   "execution_count": 74,
   "id": "c64c094a-f24d-45ed-9710-76e14f89884d",
   "metadata": {},
   "outputs": [
    {
     "data": {
      "image/png": "[encoded data removed]",
      "text/plain": [
       "<Figure size 432x288 with 1 Axes>"
      ]
     },
     "metadata": {
      "needs_background": "light"
     },
     "output_type": "display_data"
    },
    {
     "data": {
      "text/plain": [
       "{'purity': 0.8333333333333334,\n",
       " 'adjusted_rand_score': 0.5097493036211699,\n",
       " 'davies_bouldin_score': 0.7589424132751467,\n",
       " 'silhouette_score_euclidean': 0.50847596,\n",
       " 'silhouette_score_cosine': 0.76168364}"
      ]
     },
     "execution_count": 74,
     "metadata": {},
     "output_type": "execute_result"
    }
   ],
   "source": [
    "y_pred = ti_dbscanrn(X=X_norm, k=2, similarity=euclidean_distance)\n",
    "\n",
    "# display results\n",
    "fig, ax = plt.subplots()\n",
    "ax.scatter(X[:,0], X[:,1], c=y_pred)\n",
    "plt.show()\n",
    "\n",
    "# evaluation\n",
    "evaluate(y_pred, y, X)"
   ]
  },
  {
   "cell_type": "markdown",
   "id": "534d2197-3f3f-4056-a7e6-4439b1166f30",
   "metadata": {},
   "source": [
    "### DBSCANRN: cosine dissimilarity + ti-KNN"
   ]
  },
  {
   "cell_type": "code",
   "execution_count": 75,
   "id": "49ffc477-4b13-4494-b0c3-c2395bb53199",
   "metadata": {},
   "outputs": [
    {
     "data": {
      "image/png": "[encoded data removed]",
      "text/plain": [
       "<Figure size 432x288 with 1 Axes>"
      ]
     },
     "metadata": {
      "needs_background": "light"
     },
     "output_type": "display_data"
    },
    {
     "data": {
      "text/plain": [
       "{'purity': 0.8333333333333334,\n",
       " 'adjusted_rand_score': 0.5097493036211699,\n",
       " 'davies_bouldin_score': 0.36743682429155733,\n",
       " 'silhouette_score_euclidean': 0.6683597,\n",
       " 'silhouette_score_cosine': 0.76168364}"
      ]
     },
     "execution_count": 75,
     "metadata": {},
     "output_type": "execute_result"
    }
   ],
   "source": [
    "y_pred = ti_dbscanrn(X=X_norm, k=2, similarity=cosine_dissimilarity)\n",
    "\n",
    "# display results\n",
    "fig, ax = plt.subplots()\n",
    "ax.scatter(X_norm[:,0], X_norm[:,1], c=y_pred)\n",
    "plt.show()\n",
    "\n",
    "# evaluation\n",
    "evaluate(y_pred, y, X_norm)"
   ]
  },
  {
   "cell_type": "markdown",
   "id": "097b2d3e-be63-4d16-9960-1881719a05cc",
   "metadata": {},
   "source": [
    "### DBSCANRN: cosine similarity + ti-KNN"
   ]
  },
  {
   "cell_type": "code",
   "execution_count": 82,
   "id": "28f0e604-af05-437a-b19f-66e30f6d50df",
   "metadata": {},
   "outputs": [
    {
     "data": {
      "image/png": "[encoded data removed]",
      "text/plain": [
       "<Figure size 432x288 with 1 Axes>"
      ]
     },
     "metadata": {
      "needs_background": "light"
     },
     "output_type": "display_data"
    },
    {
     "data": {
      "text/plain": [
       "{'purity': 0.75,\n",
       " 'adjusted_rand_score': 0.2913165266106443,\n",
       " 'davies_bouldin_score': 1.0481691108966802,\n",
       " 'silhouette_score_euclidean': 0.5012502,\n",
       " 'silhouette_score_cosine': 0.49780026}"
      ]
     },
     "execution_count": 82,
     "metadata": {},
     "output_type": "execute_result"
    }
   ],
   "source": [
    "y_pred = ti_dbscanrn(X=X_norm, k=4, similarity=cosine_similarity)\n",
    "\n",
    "# display results\n",
    "fig, ax = plt.subplots()\n",
    "ax.scatter(X_norm[:,0], X_norm[:,1], c=y_pred)\n",
    "plt.show()\n",
    "\n",
    "# evaluation\n",
    "evaluate(y_pred, y, X_norm)"
   ]
  },
  {
   "cell_type": "code",
   "execution_count": 97,
   "id": "55c6442f-4511-45da-a9ce-eb1c60bd6f8b",
   "metadata": {},
   "outputs": [
    {
     "data": {
      "image/png": "[encoded data removed]",
      "text/plain": [
       "<Figure size 432x288 with 1 Axes>"
      ]
     },
     "metadata": {
      "needs_background": "light"
     },
     "output_type": "display_data"
    },
    {
     "data": {
      "text/plain": [
       "{'purity': 0.75,\n",
       " 'adjusted_rand_score': 0.2913165266106443,\n",
       " 'davies_bouldin_score': 1.0481691108966802,\n",
       " 'silhouette_score_euclidean': 0.5012502,\n",
       " 'silhouette_score_cosine': 0.49780026}"
      ]
     },
     "execution_count": 97,
     "metadata": {},
     "output_type": "execute_result"
    }
   ],
   "source": [
    "y_pred = ti_dbscanrn(X=X_norm, k=4, similarity=cosine_similaryty_numpy)\n",
    "\n",
    "# display results\n",
    "fig, ax = plt.subplots()\n",
    "ax.scatter(X_norm[:,0], X_norm[:,1], c=y_pred)\n",
    "plt.show()\n",
    "\n",
    "# evaluation\n",
    "evaluate(y_pred, y, X_norm)"
   ]
  },
  {
   "cell_type": "code",
   "execution_count": null,
   "id": "cdeb3ea3-2c47-4696-b301-a3b5d30f3f9d",
   "metadata": {},
   "outputs": [],
   "source": []
  }
 ],
 "metadata": {
  "kernelspec": {
   "display_name": "Python 3 (ipykernel)",
   "language": "python",
   "name": "python3"
  },
  "language_info": {
   "codemirror_mode": {
    "name": "ipython",
    "version": 3
   },
   "file_extension": ".py",
   "mimetype": "text/x-python",
   "name": "python",
   "nbconvert_exporter": "python",
   "pygments_lexer": "ipython3",
   "version": "3.8.7"
  },
  "toc-showcode": false
 },
 "nbformat": 4,
 "nbformat_minor": 5
}
