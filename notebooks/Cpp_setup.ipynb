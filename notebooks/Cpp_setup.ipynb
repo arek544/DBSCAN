{
 "cells": [
  {
   "cell_type": "markdown",
   "id": "872eb6cb-6025-4caf-b281-7905057c4449",
   "metadata": {},
   "source": [
    "## Install C++ requirements"
   ]
  },
  {
   "cell_type": "code",
   "execution_count": 42,
   "id": "46579cb0-2878-48a4-a65b-57fe86359124",
   "metadata": {},
   "outputs": [
    {
     "name": "stdin",
     "output_type": "stream",
     "text": [
      " ··········\n"
     ]
    },
    {
     "name": "stdout",
     "output_type": "stream",
     "text": [
      "Hit:1 http://archive.ubuntu.com/ubuntu focal InRelease\n",
      "Get:2 http://archive.ubuntu.com/ubuntu focal-updates InRelease [114 kB]\n",
      "Get:3 http://security.ubuntu.com/ubuntu focal-security InRelease [114 kB]\n",
      "Get:4 http://archive.ubuntu.com/ubuntu focal-backports InRelease [108 kB][33m\n",
      "Fetched 336 kB in 1s (475 kB/s)    \u001b[0m                           \u001b[0m\u001b[33m\u001b[33m\u001b[33m\u001b[33m\u001b[33m\n",
      "Reading package lists... Done\n",
      "Building dependency tree       \n",
      "Reading state information... Done\n",
      "156 packages can be upgraded. Run 'apt list --upgradable' to see them.\n"
     ]
    },
    {
     "name": "stdin",
     "output_type": "stream",
     "text": [
      " ··········\n"
     ]
    },
    {
     "name": "stdout",
     "output_type": "stream",
     "text": [
      "Reading package lists... Done\n",
      "Building dependency tree       \n",
      "Reading state information... Done\n",
      "build-essential is already the newest version (12.8ubuntu1.1).\n",
      "0 upgraded, 0 newly installed, 0 to remove and 156 not upgraded.\n"
     ]
    }
   ],
   "source": [
    "from getpass import getpass\n",
    "\n",
    "passwd = getpass()\n",
    "!echo {passwd} | sudo -S apt update\n",
    "!echo {passwd} | sudo -S apt install build-essential\n",
    "del passwd"
   ]
  },
  {
   "cell_type": "markdown",
   "id": "1a4acf51-a769-4e2c-87bb-38fb9b26cc5f",
   "metadata": {},
   "source": [
    "## Hello World example"
   ]
  },
  {
   "cell_type": "markdown",
   "id": "3691b8d4-1807-4696-bb68-79405f23d4f3",
   "metadata": {},
   "source": [
    "This is an example of C++ script:"
   ]
  },
  {
   "cell_type": "code",
   "execution_count": 25,
   "id": "961a3e03-1958-48bd-ba7a-5117b84a9677",
   "metadata": {},
   "outputs": [
    {
     "name": "stdout",
     "output_type": "stream",
     "text": [
      "Overwriting ./test.cpp\n"
     ]
    }
   ],
   "source": [
    "%%writefile ./test.cpp\n",
    "\n",
    "#include <iostream>\n",
    "\n",
    "int main()\n",
    "{\n",
    "    std::cout << \"Hello World! from C++\" << std::endl;\n",
    "    return 0;\n",
    "}"
   ]
  },
  {
   "cell_type": "markdown",
   "id": "15b9c6bb-1b76-4a85-a701-17be081a9523",
   "metadata": {},
   "source": [
    "## Compilation"
   ]
  },
  {
   "cell_type": "code",
   "execution_count": 45,
   "id": "43719d8e-6e3c-4166-b7ed-422996e5f55d",
   "metadata": {},
   "outputs": [],
   "source": [
    "import subprocess\n",
    "\n",
    "subprocess.call([\"g++\", \"test.cpp\", \"-o\", \"test.out\"]);"
   ]
  },
  {
   "cell_type": "markdown",
   "id": "324503ee-7986-4db2-9571-1b061ddbe2b4",
   "metadata": {},
   "source": [
    "## Run executable file"
   ]
  },
  {
   "cell_type": "code",
   "execution_count": 44,
   "id": "208ab40d-f04e-45d7-85a0-a5704eb76c35",
   "metadata": {},
   "outputs": [
    {
     "name": "stdout",
     "output_type": "stream",
     "text": [
      "Hello World! from C++\n"
     ]
    }
   ],
   "source": [
    "subprocess.call(\"./test.out\");"
   ]
  }
 ],
 "metadata": {
  "kernelspec": {
   "display_name": "Python 3 (ipykernel)",
   "language": "python",
   "name": "python3"
  },
  "language_info": {
   "codemirror_mode": {
    "name": "ipython",
    "version": 3
   },
   "file_extension": ".py",
   "mimetype": "text/x-python",
   "name": "python",
   "nbconvert_exporter": "python",
   "pygments_lexer": "ipython3",
   "version": "3.8.5"
  }
 },
 "nbformat": 4,
 "nbformat_minor": 5
}
