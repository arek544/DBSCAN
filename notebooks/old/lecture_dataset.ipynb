{
 "cells": [
  {
   "cell_type": "code",
   "execution_count": 1,
   "id": "295c1ec5-526c-4a89-bac3-2bea78a7eb5f",
   "metadata": {},
   "outputs": [
    {
     "name": "stdout",
     "output_type": "stream",
     "text": [
      "/root/workspace/DBSCAN\n"
     ]
    }
   ],
   "source": [
    "cd .."
   ]
  },
  {
   "cell_type": "code",
   "execution_count": 2,
   "id": "93fa1b38-0c62-491b-8d19-90ab55852dcb",
   "metadata": {},
   "outputs": [],
   "source": [
    "%load_ext autoreload\n",
    "%autoreload 2\n",
    "\n",
    "from src.dbscan import *\n",
    "from src.utils import *\n",
    "from src.metrics import *\n",
    "from src.clusterization_performance import *\n",
    "from src.datasets import Dataset\n",
    "from src.dbscanrn_optimalized import ti_dbscanrn\n",
    "from src.dbscanrn import dbscanrn\n",
    "import time \n",
    "\n",
    "\n",
    "import numpy as np\n",
    "import matplotlib.pyplot as plt\n",
    "import pandas as pd\n",
    "from sklearn.preprocessing import Normalizer\n",
    "\n",
    "np.random.seed(0)\n",
    "# plt.style.use('dark_background')"
   ]
  },
  {
   "cell_type": "markdown",
   "id": "senior-shelter",
   "metadata": {
    "tags": []
   },
   "source": [
    "# DBSCAN vs DBSCANRN "
   ]
  },
  {
   "cell_type": "markdown",
   "id": "voluntary-seven",
   "metadata": {},
   "source": [
    "# Datasets"
   ]
  },
  {
   "cell_type": "markdown",
   "id": "872020d4-b2e1-4d0f-8046-95a697ec3620",
   "metadata": {},
   "source": [
    "### Dataset from lecture"
   ]
  },
  {
   "cell_type": "code",
   "execution_count": 3,
   "id": "4a53ee6c-491e-431f-8d65-7b7d33c82e49",
   "metadata": {},
   "outputs": [],
   "source": [
    "dataset = Dataset('./data/lecture_dataset.txt')"
   ]
  },
  {
   "cell_type": "code",
   "execution_count": 4,
   "id": "interpreted-florist",
   "metadata": {},
   "outputs": [
    {
     "data": {
      "image/png": "[encoded data removed]",
      "text/plain": [
       "<Figure size 432x288 with 1 Axes>"
      ]
     },
     "metadata": {
      "needs_background": "light"
     },
     "output_type": "display_data"
    }
   ],
   "source": [
    "X, y = dataset.X, dataset.y\n",
    "\n",
    "X_norm = Normalizer().fit_transform(X)\n",
    "\n",
    "display_points(X, y, 'Original', numerate=True)\n",
    "# display_points(X_norm, y, 'Normalized')"
   ]
  },
  {
   "cell_type": "markdown",
   "id": "4df09d7b-31ec-4642-8508-6c816e828170",
   "metadata": {
    "tags": []
   },
   "source": [
    "# DBSCAN (euclidean distance)"
   ]
  },
  {
   "cell_type": "code",
   "execution_count": 54,
   "id": "10795478-e4d0-4d21-83c5-5d034fb6552a",
   "metadata": {},
   "outputs": [
    {
     "data": {
      "image/png": "[encoded data removed]",
      "text/plain": [
       "<Figure size 432x288 with 1 Axes>"
      ]
     },
     "metadata": {
      "needs_background": "light"
     },
     "output_type": "display_data"
    }
   ],
   "source": [
    "params = {\n",
    "    'epsilon': 2,\n",
    "    'minPts': 3,\n",
    "    'similarity': euclidean_distance\n",
    "}\n",
    "y_pred, state, number_of_calc = dbscan(X, **params)\n",
    "display_points(X, y_pred)\n",
    "score = evaluate(y_pred, y, X)"
   ]
  },
  {
   "cell_type": "code",
   "execution_count": 6,
   "id": "51d41c69-781d-4e68-9d2f-bb8be9e40eff",
   "metadata": {},
   "outputs": [
    {
     "data": {
      "text/html": [
       "<div>\n",
       "<style scoped>\n",
       "    .dataframe tbody tr th:only-of-type {\n",
       "        vertical-align: middle;\n",
       "    }\n",
       "\n",
       "    .dataframe tbody tr th {\n",
       "        vertical-align: top;\n",
       "    }\n",
       "\n",
       "    .dataframe thead th {\n",
       "        text-align: right;\n",
       "    }\n",
       "</style>\n",
       "<table border=\"1\" class=\"dataframe\">\n",
       "  <thead>\n",
       "    <tr style=\"text-align: right;\">\n",
       "      <th></th>\n",
       "      <th>Calculations</th>\n",
       "      <th>Current index</th>\n",
       "      <th>Time</th>\n",
       "    </tr>\n",
       "  </thead>\n",
       "  <tbody>\n",
       "    <tr>\n",
       "      <th>0</th>\n",
       "      <td>Eps</td>\n",
       "      <td>0.0</td>\n",
       "      <td>0.000048</td>\n",
       "    </tr>\n",
       "    <tr>\n",
       "      <th>1</th>\n",
       "      <td>Eps</td>\n",
       "      <td>1.0</td>\n",
       "      <td>0.000058</td>\n",
       "    </tr>\n",
       "    <tr>\n",
       "      <th>2</th>\n",
       "      <td>Eps</td>\n",
       "      <td>2.0</td>\n",
       "      <td>0.000040</td>\n",
       "    </tr>\n",
       "    <tr>\n",
       "      <th>3</th>\n",
       "      <td>Eps</td>\n",
       "      <td>5.0</td>\n",
       "      <td>0.000048</td>\n",
       "    </tr>\n",
       "    <tr>\n",
       "      <th>4</th>\n",
       "      <td>Eps</td>\n",
       "      <td>6.0</td>\n",
       "      <td>0.000039</td>\n",
       "    </tr>\n",
       "    <tr>\n",
       "      <th>5</th>\n",
       "      <td>Eps</td>\n",
       "      <td>11.0</td>\n",
       "      <td>0.000138</td>\n",
       "    </tr>\n",
       "    <tr>\n",
       "      <th>6</th>\n",
       "      <td>Eps</td>\n",
       "      <td>7.0</td>\n",
       "      <td>0.000040</td>\n",
       "    </tr>\n",
       "    <tr>\n",
       "      <th>7</th>\n",
       "      <td>Eps</td>\n",
       "      <td>10.0</td>\n",
       "      <td>0.000059</td>\n",
       "    </tr>\n",
       "    <tr>\n",
       "      <th>8</th>\n",
       "      <td>Eps</td>\n",
       "      <td>3.0</td>\n",
       "      <td>0.000042</td>\n",
       "    </tr>\n",
       "    <tr>\n",
       "      <th>9</th>\n",
       "      <td>Eps</td>\n",
       "      <td>4.0</td>\n",
       "      <td>0.000040</td>\n",
       "    </tr>\n",
       "    <tr>\n",
       "      <th>10</th>\n",
       "      <td>Eps</td>\n",
       "      <td>8.0</td>\n",
       "      <td>0.000038</td>\n",
       "    </tr>\n",
       "    <tr>\n",
       "      <th>11</th>\n",
       "      <td>Eps</td>\n",
       "      <td>9.0</td>\n",
       "      <td>0.000052</td>\n",
       "    </tr>\n",
       "    <tr>\n",
       "      <th>12</th>\n",
       "      <td>cluster</td>\n",
       "      <td>NaN</td>\n",
       "      <td>0.014367</td>\n",
       "    </tr>\n",
       "  </tbody>\n",
       "</table>\n",
       "</div>"
      ],
      "text/plain": [
       "   Calculations  Current index      Time\n",
       "0           Eps            0.0  0.000048\n",
       "1           Eps            1.0  0.000058\n",
       "2           Eps            2.0  0.000040\n",
       "3           Eps            5.0  0.000048\n",
       "4           Eps            6.0  0.000039\n",
       "5           Eps           11.0  0.000138\n",
       "6           Eps            7.0  0.000040\n",
       "7           Eps           10.0  0.000059\n",
       "8           Eps            3.0  0.000042\n",
       "9           Eps            4.0  0.000040\n",
       "10          Eps            8.0  0.000038\n",
       "11          Eps            9.0  0.000052\n",
       "12      cluster            NaN  0.014367"
      ]
     },
     "execution_count": 6,
     "metadata": {},
     "output_type": "execute_result"
    }
   ],
   "source": [
    "log_info = pd.read_csv(\"out/dbscan_log.log\", names=['Calculations', 'Current index', 'Time'])\n",
    "log_info"
   ]
  },
  {
   "cell_type": "code",
   "execution_count": 7,
   "id": "30d8951e-3c60-4a65-a06f-7d016923efbf",
   "metadata": {},
   "outputs": [
    {
     "name": "stdout",
     "output_type": "stream",
     "text": [
      "0.015219926834106445\n"
     ]
    },
    {
     "data": {
      "text/html": [
       "<div>\n",
       "<style scoped>\n",
       "    .dataframe tbody tr th:only-of-type {\n",
       "        vertical-align: middle;\n",
       "    }\n",
       "\n",
       "    .dataframe tbody tr th {\n",
       "        vertical-align: top;\n",
       "    }\n",
       "\n",
       "    .dataframe thead th {\n",
       "        text-align: right;\n",
       "    }\n",
       "</style>\n",
       "<table border=\"1\" class=\"dataframe\">\n",
       "  <thead>\n",
       "    <tr style=\"text-align: right;\">\n",
       "      <th></th>\n",
       "      <th>point id</th>\n",
       "      <th>x</th>\n",
       "      <th>y</th>\n",
       "      <th>point type</th>\n",
       "      <th>CId</th>\n",
       "      <th># of distance/similarity calculations</th>\n",
       "    </tr>\n",
       "  </thead>\n",
       "  <tbody>\n",
       "    <tr>\n",
       "      <th>0</th>\n",
       "      <td>0</td>\n",
       "      <td>4.2</td>\n",
       "      <td>4.0</td>\n",
       "      <td>1</td>\n",
       "      <td>1</td>\n",
       "      <td>3</td>\n",
       "    </tr>\n",
       "    <tr>\n",
       "      <th>1</th>\n",
       "      <td>1</td>\n",
       "      <td>5.9</td>\n",
       "      <td>3.9</td>\n",
       "      <td>0</td>\n",
       "      <td>1</td>\n",
       "      <td>2</td>\n",
       "    </tr>\n",
       "    <tr>\n",
       "      <th>2</th>\n",
       "      <td>2</td>\n",
       "      <td>2.8</td>\n",
       "      <td>3.5</td>\n",
       "      <td>1</td>\n",
       "      <td>1</td>\n",
       "      <td>4</td>\n",
       "    </tr>\n",
       "    <tr>\n",
       "      <th>3</th>\n",
       "      <td>3</td>\n",
       "      <td>12.0</td>\n",
       "      <td>1.3</td>\n",
       "      <td>1</td>\n",
       "      <td>2</td>\n",
       "      <td>4</td>\n",
       "    </tr>\n",
       "    <tr>\n",
       "      <th>4</th>\n",
       "      <td>4</td>\n",
       "      <td>10.0</td>\n",
       "      <td>1.3</td>\n",
       "      <td>1</td>\n",
       "      <td>2</td>\n",
       "      <td>4</td>\n",
       "    </tr>\n",
       "    <tr>\n",
       "      <th>5</th>\n",
       "      <td>5</td>\n",
       "      <td>1.1</td>\n",
       "      <td>3.0</td>\n",
       "      <td>1</td>\n",
       "      <td>1</td>\n",
       "      <td>5</td>\n",
       "    </tr>\n",
       "    <tr>\n",
       "      <th>6</th>\n",
       "      <td>6</td>\n",
       "      <td>0.0</td>\n",
       "      <td>2.4</td>\n",
       "      <td>1</td>\n",
       "      <td>1</td>\n",
       "      <td>3</td>\n",
       "    </tr>\n",
       "    <tr>\n",
       "      <th>7</th>\n",
       "      <td>7</td>\n",
       "      <td>2.4</td>\n",
       "      <td>2.0</td>\n",
       "      <td>1</td>\n",
       "      <td>1</td>\n",
       "      <td>4</td>\n",
       "    </tr>\n",
       "    <tr>\n",
       "      <th>8</th>\n",
       "      <td>8</td>\n",
       "      <td>11.5</td>\n",
       "      <td>1.8</td>\n",
       "      <td>1</td>\n",
       "      <td>2</td>\n",
       "      <td>4</td>\n",
       "    </tr>\n",
       "    <tr>\n",
       "      <th>9</th>\n",
       "      <td>9</td>\n",
       "      <td>11.0</td>\n",
       "      <td>1.0</td>\n",
       "      <td>1</td>\n",
       "      <td>2</td>\n",
       "      <td>4</td>\n",
       "    </tr>\n",
       "    <tr>\n",
       "      <th>10</th>\n",
       "      <td>10</td>\n",
       "      <td>0.9</td>\n",
       "      <td>0.0</td>\n",
       "      <td>0</td>\n",
       "      <td>1</td>\n",
       "      <td>2</td>\n",
       "    </tr>\n",
       "    <tr>\n",
       "      <th>11</th>\n",
       "      <td>11</td>\n",
       "      <td>1.0</td>\n",
       "      <td>1.5</td>\n",
       "      <td>1</td>\n",
       "      <td>1</td>\n",
       "      <td>5</td>\n",
       "    </tr>\n",
       "  </tbody>\n",
       "</table>\n",
       "</div>"
      ],
      "text/plain": [
       "    point id     x    y  point type  CId  \\\n",
       "0          0   4.2  4.0           1    1   \n",
       "1          1   5.9  3.9           0    1   \n",
       "2          2   2.8  3.5           1    1   \n",
       "3          3  12.0  1.3           1    2   \n",
       "4          4  10.0  1.3           1    2   \n",
       "5          5   1.1  3.0           1    1   \n",
       "6          6   0.0  2.4           1    1   \n",
       "7          7   2.4  2.0           1    1   \n",
       "8          8  11.5  1.8           1    2   \n",
       "9          9  11.0  1.0           1    2   \n",
       "10        10   0.9  0.0           0    1   \n",
       "11        11   1.0  1.5           1    1   \n",
       "\n",
       "    # of distance/similarity calculations  \n",
       "0                                       3  \n",
       "1                                       2  \n",
       "2                                       4  \n",
       "3                                       4  \n",
       "4                                       4  \n",
       "5                                       5  \n",
       "6                                       3  \n",
       "7                                       4  \n",
       "8                                       4  \n",
       "9                                       4  \n",
       "10                                      2  \n",
       "11                                      5  "
      ]
     },
     "execution_count": 7,
     "metadata": {},
     "output_type": "execute_result"
    }
   ],
   "source": [
    "timer_out = time.time() \n",
    "out = pd.DataFrame({\n",
    "    'point id': np.arange(X.shape[0]),\n",
    "    'x': X[:, 0],\n",
    "    'y': X[:, 1],\n",
    "    'point type': state, # 1 - core, 0 - border, -1 - noise\n",
    "    'CId': y_pred # clusters: cluster identifier or -1 in the case of noise points\n",
    "})\n",
    "\n",
    "out = out.merge(pd.DataFrame({\n",
    "    'point id': number_of_calc.keys(), \n",
    "    '# of distance/similarity calculations': number_of_calc.values()\n",
    "}), on='point id')\n",
    "\n",
    "save_file(\n",
    "    df=out, \n",
    "    file_type='OUT', \n",
    "    algorithm_name='dbscan', \n",
    "    dataset_name='example_from_lecture', \n",
    "    n_dimentions=X.shape[1], \n",
    "    n_rows=X.shape[0], \n",
    "    minPts=params['minPts'], \n",
    "    epsilon=params['epsilon']\n",
    ")\n",
    "out_time = time.time() - timer_out\n",
    "print(out_time)\n",
    "out"
   ]
  },
  {
   "cell_type": "code",
   "execution_count": 48,
   "id": "04edaa4a-a242-4584-8118-5fd0ad4d8895",
   "metadata": {},
   "outputs": [
    {
     "data": {
      "text/plain": [
       "3.6666666666666665"
      ]
     },
     "execution_count": 48,
     "metadata": {},
     "output_type": "execute_result"
    }
   ],
   "source": [
    "out['# of distance/similarity calculations'].mean()"
   ]
  },
  {
   "cell_type": "code",
   "execution_count": 55,
   "id": "edb0a215-db4e-4a2d-9228-92cc06b17056",
   "metadata": {},
   "outputs": [
    {
     "name": "stdout",
     "output_type": "stream",
     "text": [
      "0.003325939178466797\n"
     ]
    },
    {
     "data": {
      "text/html": [
       "<div>\n",
       "<style scoped>\n",
       "    .dataframe tbody tr th:only-of-type {\n",
       "        vertical-align: middle;\n",
       "    }\n",
       "\n",
       "    .dataframe tbody tr th {\n",
       "        vertical-align: top;\n",
       "    }\n",
       "\n",
       "    .dataframe thead th {\n",
       "        text-align: right;\n",
       "    }\n",
       "</style>\n",
       "<table border=\"1\" class=\"dataframe\">\n",
       "  <thead>\n",
       "    <tr style=\"text-align: right;\">\n",
       "      <th></th>\n",
       "      <th>name of the input fil</th>\n",
       "      <th># of dimensions of a point</th>\n",
       "      <th># of points in the input file</th>\n",
       "      <th>epsilon</th>\n",
       "      <th>minPts</th>\n",
       "      <th>similarity</th>\n",
       "      <th>version</th>\n",
       "      <th>Eps-neighborhood timer</th>\n",
       "      <th>Clustering timer</th>\n",
       "      <th>OUT timer</th>\n",
       "      <th># of discovered clusters</th>\n",
       "      <th># of discovered noise points</th>\n",
       "      <th># of discovered core points</th>\n",
       "      <th># of discovered border points</th>\n",
       "      <th>avg # of calculations of distance/similarity</th>\n",
       "      <th>RAND</th>\n",
       "      <th>Purity</th>\n",
       "      <th>Silhouette coefficient</th>\n",
       "      <th>Davies Bouldin</th>\n",
       "    </tr>\n",
       "  </thead>\n",
       "  <tbody>\n",
       "    <tr>\n",
       "      <th>0</th>\n",
       "      <td>lecture_dataset</td>\n",
       "      <td>2</td>\n",
       "      <td>12</td>\n",
       "      <td>2</td>\n",
       "      <td>3</td>\n",
       "      <td>euclidean_distance</td>\n",
       "      <td>dbscan</td>\n",
       "      <td>0.01501</td>\n",
       "      <td>0.014367</td>\n",
       "      <td>0.01522</td>\n",
       "      <td>2</td>\n",
       "      <td>0</td>\n",
       "      <td>10</td>\n",
       "      <td>2</td>\n",
       "      <td>3.666667</td>\n",
       "      <td>0.789041</td>\n",
       "      <td>0.916667</td>\n",
       "      <td>0.713755</td>\n",
       "      <td>0.307556</td>\n",
       "    </tr>\n",
       "  </tbody>\n",
       "</table>\n",
       "</div>"
      ],
      "text/plain": [
       "  name of the input fil  # of dimensions of a point  \\\n",
       "0       lecture_dataset                           2   \n",
       "\n",
       "   # of points in the input file  epsilon  minPts          similarity version  \\\n",
       "0                             12        2       3  euclidean_distance  dbscan   \n",
       "\n",
       "   Eps-neighborhood timer  Clustering timer  OUT timer  \\\n",
       "0                 0.01501          0.014367    0.01522   \n",
       "\n",
       "   # of discovered clusters  # of discovered noise points  \\\n",
       "0                         2                             0   \n",
       "\n",
       "   # of discovered core points  # of discovered border points  \\\n",
       "0                           10                              2   \n",
       "\n",
       "   avg # of calculations of distance/similarity      RAND    Purity  \\\n",
       "0                                      3.666667  0.789041  0.916667   \n",
       "\n",
       "   Silhouette coefficient  Davies Bouldin  \n",
       "0                0.713755        0.307556  "
      ]
     },
     "execution_count": 55,
     "metadata": {},
     "output_type": "execute_result"
    }
   ],
   "source": [
    "timer_stat = time.time()\n",
    "stat = pd.DataFrame({\n",
    "    'name of the input fil': dataset.name,\n",
    "    '# of dimensions of a point': X.shape[1],\n",
    "    '# of points in the input file': X.shape[0],\n",
    "    'epsilon': params['epsilon'],\n",
    "    'minPts': params['minPts'],\n",
    "    'similarity': params['similarity'].__name__,\n",
    "    'version': ['dbscan'],\n",
    "    \"Eps-neighborhood timer\": log_info['Time'][log_info['Calculations'] == 'Eps'].sum(),\n",
    "    'Clustering timer': log_info['Time'][12],\n",
    "    'OUT timer': out_time,\n",
    "    '# of discovered clusters': len(set(y_pred[y_pred > 0])),\n",
    "    '# of discovered noise points': sum(out['point type'] == -1),\n",
    "    '# of discovered core points': sum(out['point type'] == 1),\n",
    "    '# of discovered border points': sum(out['point type'] == 0),\n",
    "    'avg # of calculations of distance/similarity': out['# of distance/similarity calculations'].mean(),\n",
    "    'RAND':score['adjusted_rand_score'],\n",
    "    'Purity':score['purity'],\n",
    "    'Silhouette coefficient':score['silhouette_score_euclidean'],\n",
    "    'Davies Bouldin': score['davies_bouldin_score']\n",
    "    \n",
    "})\n",
    "\n",
    "# save_file(\n",
    "#     df=stat, \n",
    "#     file_type='STAT', \n",
    "#     algorithm_name='dbscan', \n",
    "#     dataset_name='example_from_lecture', \n",
    "#     n_dimentions=X.shape[1], \n",
    "#     n_rows=X.shape[0], \n",
    "#     minPts='', \n",
    "#     epsilon=''\n",
    "# )\n",
    "stat_time = time.time() - timer_stat\n",
    "print(stat_time)\n",
    "stat"
   ]
  },
  {
   "cell_type": "markdown",
   "id": "liquid-campus",
   "metadata": {
    "tags": []
   },
   "source": [
    "# DBSCANRN"
   ]
  },
  {
   "cell_type": "markdown",
   "id": "1ce8f2d0-b8ea-4641-a64b-38627f347821",
   "metadata": {},
   "source": [
    "### cosine dissimilarity, not optimized KNN"
   ]
  },
  {
   "cell_type": "code",
   "execution_count": 8,
   "id": "b036250e-da9d-4ce4-9268-161a2d23e57a",
   "metadata": {},
   "outputs": [
    {
     "data": {
      "image/png": "[encoded data removed]",
      "text/plain": [
       "<Figure size 432x288 with 1 Axes>"
      ]
     },
     "metadata": {
      "needs_background": "light"
     },
     "output_type": "display_data"
    }
   ],
   "source": [
    "y_pred = dbscanrn(X=X_norm, k=4, similarity=cosine_dissimilarity)\n",
    "display_points(X_norm, y_pred)"
   ]
  },
  {
   "cell_type": "markdown",
   "id": "d71cf13a-457a-47cf-ba64-8f95aba26a02",
   "metadata": {},
   "source": [
    "### cosine similarity, not optimized KNN"
   ]
  },
  {
   "cell_type": "code",
   "execution_count": 9,
   "id": "3b0fea90-0547-4152-8259-c0b2124fac62",
   "metadata": {},
   "outputs": [
    {
     "data": {
      "image/png": "[encoded data removed]",
      "text/plain": [
       "<Figure size 432x288 with 1 Axes>"
      ]
     },
     "metadata": {
      "needs_background": "light"
     },
     "output_type": "display_data"
    }
   ],
   "source": [
    "y_pred = dbscanrn(X=X_norm, k=4, similarity=cosine_similarity)\n",
    "display_points(X_norm, y_pred)"
   ]
  },
  {
   "cell_type": "markdown",
   "id": "534d2197-3f3f-4056-a7e6-4439b1166f30",
   "metadata": {},
   "source": [
    "### cosine dissimilarity, ti-KNN"
   ]
  },
  {
   "cell_type": "code",
   "execution_count": 10,
   "id": "49ffc477-4b13-4494-b0c3-c2395bb53199",
   "metadata": {},
   "outputs": [
    {
     "data": {
      "image/png": "[encoded data removed]",
      "text/plain": [
       "<Figure size 432x288 with 1 Axes>"
      ]
     },
     "metadata": {
      "needs_background": "light"
     },
     "output_type": "display_data"
    }
   ],
   "source": [
    "y_pred = ti_dbscanrn(X=X_norm, k=2, similarity=cosine_dissimilarity)\n",
    "display_points(X_norm, y_pred)"
   ]
  },
  {
   "cell_type": "markdown",
   "id": "097b2d3e-be63-4d16-9960-1881719a05cc",
   "metadata": {},
   "source": [
    "### cosine similarity, ti-KNN"
   ]
  },
  {
   "cell_type": "code",
   "execution_count": 13,
   "id": "fd481f86-2ff8-4f76-a817-0d7edd1ddbfa",
   "metadata": {},
   "outputs": [
    {
     "data": {
      "text/plain": [
       "array([1, 1, 1, 2, 2, 1, 2, 1, 2, 2, 2, 1])"
      ]
     },
     "execution_count": 13,
     "metadata": {},
     "output_type": "execute_result"
    }
   ],
   "source": [
    "y_pred"
   ]
  },
  {
   "cell_type": "code",
   "execution_count": 11,
   "id": "28f0e604-af05-437a-b19f-66e30f6d50df",
   "metadata": {},
   "outputs": [
    {
     "data": {
      "image/png": "[encoded data removed]",
      "text/plain": [
       "<Figure size 432x288 with 1 Axes>"
      ]
     },
     "metadata": {
      "needs_background": "light"
     },
     "output_type": "display_data"
    }
   ],
   "source": [
    "y_pred = ti_dbscanrn(X=X_norm, k=4, similarity=cosine_similarity)\n",
    "display_points(X_norm, y_pred)"
   ]
  },
  {
   "cell_type": "code",
   "execution_count": null,
   "id": "7f1ed12e-ae57-405f-b6bb-6020dbe9b9ef",
   "metadata": {},
   "outputs": [],
   "source": [
    "# stat = pd.DataFrame({\n",
    "#     'point id': [],\n",
    "#     'x': [],\n",
    "#     'y': [],\n",
    "#     '# of distance/similarity calculations': [],\n",
    "#     'point type': [],\n",
    "#     'CId': []\n",
    "# })\n",
    "# out"
   ]
  },
  {
   "cell_type": "code",
   "execution_count": null,
   "id": "8534ae1f-5de5-46f5-81bf-9afe64d003e8",
   "metadata": {},
   "outputs": [],
   "source": []
  }
 ],
 "metadata": {
  "kernelspec": {
   "display_name": "Python 3 (ipykernel)",
   "language": "python",
   "name": "python3"
  },
  "language_info": {
   "codemirror_mode": {
    "name": "ipython",
    "version": 3
   },
   "file_extension": ".py",
   "mimetype": "text/x-python",
   "name": "python",
   "nbconvert_exporter": "python",
   "pygments_lexer": "ipython3",
   "version": "3.10.1"
  },
  "toc-showcode": false
 },
 "nbformat": 4,
 "nbformat_minor": 5
}
