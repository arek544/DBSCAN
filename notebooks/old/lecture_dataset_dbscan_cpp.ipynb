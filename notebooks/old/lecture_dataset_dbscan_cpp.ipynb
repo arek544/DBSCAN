{
 "cells": [
  {
   "cell_type": "code",
   "execution_count": 2,
   "id": "02494d81-090d-4f34-b636-2d65889a5bd2",
   "metadata": {},
   "outputs": [],
   "source": [
    "#include <iostream>\n",
    "#include <xtensor/xarray.hpp>\n",
    "#include <xtensor/xio.hpp>\n",
    "#include <xtensor/xview.hpp>\n",
    "#include <xtensor/xarray.hpp>\n",
    "#include <xtensor/xfixed.hpp>\n",
    "#include <xtensor/xio.hpp>\n",
    "#include <xtensor/xtensor.hpp>\n",
    "#include <xtensor/xadapt.hpp>\n",
    "#include <xtensor/xarray.hpp>\n",
    "#include <xtensor/xaxis_slice_iterator.hpp>\n",
    "#include <xtensor/xaxis_iterator.hpp>\n",
    "#include <xtensor/xio.hpp>\n",
    "#include <xtensor/xarray.hpp>\n",
    "#include <xtensor/xindex_view.hpp>\n",
    "#include <xtensor/xchunked_array.hpp>\n",
    "#include <xtensor/xfixed.hpp>\n",
    "#include <cstddef>\n",
    "#include <vector>\n",
    "#include <xtensor/xarray.hpp>\n",
    "#include <xtensor/xadapt.hpp>\n",
    "#include <istream>\n",
    "#include <fstream>\n",
    "#include <iostream>\n",
    "#include <xtensor/xarray.hpp>\n",
    "#include <xtensor/xcsv.hpp>\n",
    "#include <iostream>\n",
    "#include <fstream>\n",
    "#include <functional>\n",
    "#include <cstdio>\n",
    "#include <xtensor/xcsv.hpp>\n",
    "\n",
    "using namespace xt;\n",
    "using namespace std;"
   ]
  },
  {
   "cell_type": "markdown",
   "id": "3b3597be-1a72-4704-a64f-5815417df41f",
   "metadata": {},
   "source": [
    "# Load data"
   ]
  },
  {
   "cell_type": "code",
   "execution_count": 3,
   "id": "fabe74e9-5489-4e32-89cd-02644cf221ee",
   "metadata": {
    "tags": []
   },
   "outputs": [],
   "source": [
    "using namespace std;\n",
    "\n",
    "ifstream input_file;\n",
    "input_file.open (\"../data/lecture_dataset.txt\");\n",
    "auto data = xt::load_csv<double>(input_file);\n",
    "input_file.close();\n",
    "\n",
    "data.reshape(data.shape());\n",
    "xarray<double> X = view(data, all(), range(0, 2));"
   ]
  },
  {
   "cell_type": "markdown",
   "id": "dacfb554-3e06-486c-913b-b9a04c03e3fe",
   "metadata": {},
   "source": [
    "# Similarity"
   ]
  },
  {
   "cell_type": "code",
   "execution_count": 4,
   "id": "d755c71c-c93c-434a-b1b2-a44d694251b1",
   "metadata": {},
   "outputs": [],
   "source": [
    "float euclidean_distance(const xarray<double>& a, const xarray<double>& b){ \n",
    "    return (float) sqrt(sum(pow((a - b), 2))(0));\n",
    "}"
   ]
  },
  {
   "cell_type": "markdown",
   "id": "81fd4fea-ebec-4a39-9636-d0647e8a2d8a",
   "metadata": {},
   "source": [
    "# Clusterization"
   ]
  },
  {
   "cell_type": "code",
   "execution_count": 5,
   "id": "6ae42a79-ec8d-44fa-815c-54557975fba5",
   "metadata": {},
   "outputs": [
    {
     "data": {
      "text/html": [
       "<table style='border-style:solid;border-width:1px;'><tbody><tr><td style='font-family:monospace;' title='0'><pre> 3.</pre></td></tr><tr><td style='font-family:monospace;' title='1'><pre>-1.</pre></td></tr><tr><td style='font-family:monospace;' title='2'><pre> 3.</pre></td></tr><tr><td style='font-family:monospace;' title='3'><pre> 4.</pre></td></tr><tr><td style='font-family:monospace;' title='4'><pre> 4.</pre></td></tr><tr><td style='font-family:monospace;' title='5'><pre> 3.</pre></td></tr><tr><td style='font-family:monospace;' title='6'><pre> 3.</pre></td></tr><tr><td style='font-family:monospace;' title='7'><pre> 3.</pre></td></tr><tr><td style='font-family:monospace;' title='8'><pre> 4.</pre></td></tr><tr><td style='font-family:monospace;' title='9'><pre> 4.</pre></td></tr><tr><td style='font-family:monospace;' title='10'><pre> 3.</pre></td></tr><tr><td style='font-family:monospace;' title='11'><pre> 3.</pre></td></tr></tbody></table>"
      ]
     },
     "execution_count": 5,
     "metadata": {},
     "output_type": "execute_result"
    }
   ],
   "source": [
    "auto dbscan(const xarray<float>& X, float epsilon, int minPts)\n",
    "{\n",
    "    printf(\"%f,start log,,,\\n\",(double) time(nullptr) * 1000);\n",
    "\n",
    "    // each data point can be in one of 3 stages\n",
    "    int NOT_VISITED = -1; // not visited point\n",
    "    int VISITED = 0; // non-core point\n",
    "    int CLUSTERED = 1; // core point\n",
    "\n",
    "    // initial setup\n",
    "    int n = X.shape()[0];\n",
    "    xarray<double> cluster = ones<double>({n}) * -1; // cluster register\n",
    "    xarray<double> state = ones<double>({n}) * NOT_VISITED; // state register\n",
    "    int cluster_id = 1;\n",
    "    \n",
    "    auto get_neighbors = [&] (int current_index) {\n",
    "        list<int> neighbor_indices = list<int>();\n",
    "        for (int neighbor_index : arange(0, n)){\n",
    "            if (euclidean_distance(row(X, neighbor_index), row(X, current_index)) <= (float) epsilon){\n",
    "                neighbor_indices.push_back((int) neighbor_index);\n",
    "            };\n",
    "        }\n",
    "        return neighbor_indices;\n",
    "    };\n",
    "    \n",
    "    // extend cluster\n",
    "    function < void( int ) > search = [&] (int current_index) -> void {\n",
    "\n",
    "        list<int> neighbor_indices = get_neighbors(current_index);\n",
    "        printf(\"%f,Eps_time,%d,1,\\n\",(double) time(nullptr) * 1000, current_index);\n",
    "        printf(\"%f,|Eps_neighbors|,%d,%d,\\n\",(double) time(nullptr) * 1000, current_index, (int) neighbor_indices.size());\n",
    "        printf(\"%f,Eps_neighbor_id,%d,,\",(double) time(nullptr) * 1000, current_index);\n",
    "        for(auto& i : neighbor_indices) {std::cout << i << \";\"; }\n",
    "        printf(\"\\n\");\n",
    "\n",
    "        if ((int) neighbor_indices.size() >= minPts){\n",
    "            state(current_index) = CLUSTERED;\n",
    "            cluster(current_index) = cluster_id;\n",
    "            for (auto& neighbor_index : neighbor_indices) {\n",
    "                if (state(neighbor_index) == VISITED || state(neighbor_index) == NOT_VISITED){\n",
    "                    state(neighbor_index) = CLUSTERED;\n",
    "                    cluster(neighbor_index) = cluster_id;\n",
    "                    printf(\"%f,similarity_calculation,%d,1,\\n\",(double) time(nullptr) * 1000, current_index);\n",
    "                    search(neighbor_index);\n",
    "                };\n",
    "            };\n",
    "        } else {\n",
    "            state(current_index) = VISITED;\n",
    "        };\n",
    "    };\n",
    "\n",
    "    while (any(equal(state, NOT_VISITED))){\n",
    "        xarray<int> idx = from_indices(argwhere(equal(state, NOT_VISITED)));\n",
    "        search(idx(0,0));\n",
    "        cluster_id++;\n",
    "    }\n",
    "    printf(\"%f,stop log,,,\\n\",(double) time(nullptr) * 1000);\n",
    "    return cluster;\n",
    "}\n",
    "\n",
    "auto y_pred = dbscan(X, 0.7, 3);\n",
    "// y_pred"
   ]
  },
  {
   "cell_type": "markdown",
   "id": "cf9d87c7-69f9-49f4-8ccf-df731ff4e377",
   "metadata": {},
   "source": [
    "# Save output to csv"
   ]
  },
  {
   "cell_type": "code",
   "execution_count": 6,
   "id": "b3f627b6-a863-41c4-9f80-821af769c927",
   "metadata": {},
   "outputs": [],
   "source": [
    "ofstream out_file;\n",
    "out_file.open (\"../out/dbscan_cpp_lecture_dataset.csv\");\n",
    "dump_csv(out_file, view(y_pred, all(), newaxis()));\n",
    "out_file.close();"
   ]
  },
  {
   "cell_type": "markdown",
   "id": "16613ecc-5dcb-4521-879e-58e4af03ba2b",
   "metadata": {},
   "source": [
    "# To execute following cells change kernel into python "
   ]
  },
  {
   "cell_type": "code",
   "execution_count": 1,
   "id": "001266dc-5054-482f-ac7a-7d6af9c657d3",
   "metadata": {},
   "outputs": [
    {
     "name": "stdout",
     "output_type": "stream",
     "text": [
      "/work\n"
     ]
    }
   ],
   "source": [
    "cd .."
   ]
  },
  {
   "cell_type": "code",
   "execution_count": 3,
   "id": "4c045e4a-7e2e-4949-bc0a-c599ce41524d",
   "metadata": {
    "tags": []
   },
   "outputs": [
    {
     "data": {
      "image/png": "[encoded data removed]",
      "text/plain": [
       "<Figure size 432x288 with 1 Axes>"
      ]
     },
     "metadata": {
      "needs_background": "light"
     },
     "output_type": "display_data"
    }
   ],
   "source": [
    "import pandas as pd\n",
    "from src.datasets import Dataset\n",
    "from src.utils import *\n",
    "\n",
    "dataset = Dataset('./data/lecture_dataset.txt')\n",
    "X, y = dataset.X, dataset.y\n",
    "c = pd.read_csv(\"./out/dbscan_cpp_lecture_dataset.csv\", header=None)\n",
    "display_points(X, c, 'Normalized', numerate=True)"
   ]
  },
  {
   "cell_type": "code",
   "execution_count": null,
   "id": "c4b51483-ce29-473a-b5e1-13f3df1c0832",
   "metadata": {},
   "outputs": [],
   "source": []
  }
 ],
 "metadata": {
  "kernelspec": {
   "display_name": "Python 3 (ipykernel)",
   "language": "python",
   "name": "python3"
  },
  "language_info": {
   "codemirror_mode": {
    "name": "ipython",
    "version": 3
   },
   "file_extension": ".py",
   "mimetype": "text/x-python",
   "name": "python",
   "nbconvert_exporter": "python",
   "pygments_lexer": "ipython3",
   "version": "3.9.7"
  }
 },
 "nbformat": 4,
 "nbformat_minor": 5
}
