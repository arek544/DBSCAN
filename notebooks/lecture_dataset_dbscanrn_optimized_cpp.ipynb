{
 "cells": [
  {
   "cell_type": "code",
   "execution_count": 1,
   "id": "02494d81-090d-4f34-b636-2d65889a5bd2",
   "metadata": {},
   "outputs": [],
   "source": [
    "#include <iostream>\n",
    "#include <xtensor/xarray.hpp>\n",
    "#include <xtensor/xio.hpp>\n",
    "#include <xtensor/xview.hpp>\n",
    "#include <xtensor/xarray.hpp>\n",
    "#include <xtensor/xfixed.hpp>\n",
    "#include <xtensor/xio.hpp>\n",
    "#include <xtensor/xtensor.hpp>\n",
    "#include <xtensor/xadapt.hpp>\n",
    "#include <xtensor/xarray.hpp>\n",
    "#include <xtensor/xaxis_slice_iterator.hpp>\n",
    "#include <xtensor/xaxis_iterator.hpp>\n",
    "#include <xtensor/xio.hpp>\n",
    "#include <xtensor/xarray.hpp>\n",
    "#include <xtensor/xindex_view.hpp>\n",
    "#include <xtensor/xchunked_array.hpp>\n",
    "#include <xtensor/xfixed.hpp>\n",
    "#include <cstddef>\n",
    "#include <vector>\n",
    "#include <xtensor/xarray.hpp>\n",
    "#include <xtensor/xadapt.hpp>\n",
    "#include <istream>\n",
    "#include <fstream>\n",
    "#include <iostream>\n",
    "#include <xtensor/xarray.hpp>\n",
    "#include <xtensor/xcsv.hpp>\n",
    "#include <iostream>\n",
    "#include <fstream>\n",
    "#include <functional>\n",
    "#include <cstdio>\n",
    "#include <xtensor/xcsv.hpp>\n",
    "#include <xcpp/xdisplay.hpp>\n",
    "#include <xtensor/xsort.hpp>\n",
    "\n",
    "using namespace xt;\n",
    "using namespace xt::placeholders;  // to enable _ syntax\n",
    "\n",
    "#include <iostream>\n",
    "#include <fstream>\n",
    "using namespace std;"
   ]
  },
  {
   "cell_type": "markdown",
   "id": "9b7f0423-32a8-45fb-a354-2d0d74fd19b6",
   "metadata": {},
   "source": [
    "# DBSCANRN"
   ]
  },
  {
   "cell_type": "markdown",
   "id": "3b3597be-1a72-4704-a64f-5815417df41f",
   "metadata": {},
   "source": [
    "# Load data"
   ]
  },
  {
   "cell_type": "code",
   "execution_count": 2,
   "id": "fabe74e9-5489-4e32-89cd-02644cf221ee",
   "metadata": {
    "tags": []
   },
   "outputs": [],
   "source": [
    "ifstream input_file;\n",
    "input_file.open (\"../data/lecture_dataset.txt\");\n",
    "auto data = load_csv<double>(input_file);\n",
    "input_file.close();\n",
    "\n",
    "data.reshape(data.shape());\n",
    "xarray<double> X = view(data, all(), range(0, 2));"
   ]
  },
  {
   "cell_type": "markdown",
   "id": "dacfb554-3e06-486c-913b-b9a04c03e3fe",
   "metadata": {},
   "source": [
    "# Similarity\n",
    "\n"
   ]
  },
  {
   "cell_type": "code",
   "execution_count": 3,
   "id": "d755c71c-c93c-434a-b1b2-a44d694251b1",
   "metadata": {},
   "outputs": [],
   "source": [
    "float cosine_dissimilarity(const xarray<double>& a, const xarray<double>& b){ \n",
    "    auto numerator = sum(a * b);\n",
    "    auto denominator = sqrt(sum(pow(a, 2))) * sqrt(sum(pow(b, 2)));\n",
    "    auto result = numerator / denominator;\n",
    "    return 1 - result(0);\n",
    "}"
   ]
  },
  {
   "cell_type": "markdown",
   "id": "2dec2ff4-dd18-4b3a-9185-c3232651ec9c",
   "metadata": {},
   "source": [
    "# Normalization"
   ]
  },
  {
   "cell_type": "code",
   "execution_count": 4,
   "id": "37c079aa-4243-4d87-84f4-13bb942f9766",
   "metadata": {},
   "outputs": [],
   "source": [
    "auto normalize(const xarray<double>& a){ \n",
    "    xarray<double> result = a / sqrt(sum(pow(a, 2)));\n",
    "    return result;\n",
    "}"
   ]
  },
  {
   "cell_type": "markdown",
   "id": "81fd4fea-ebec-4a39-9636-d0647e8a2d8a",
   "metadata": {},
   "source": [
    "# Clusterization"
   ]
  },
  {
   "cell_type": "code",
   "execution_count": 5,
   "id": "6ae42a79-ec8d-44fa-815c-54557975fba5",
   "metadata": {},
   "outputs": [
    {
     "data": {
      "text/html": [
       "<table style='border-style:solid;border-width:1px;'><tbody><tr><td style='font-family:monospace;' title='0'><pre> 2.</pre></td></tr><tr><td style='font-family:monospace;' title='1'><pre> 2.</pre></td></tr><tr><td style='font-family:monospace;' title='2'><pre> 2.</pre></td></tr><tr><td style='font-family:monospace;' title='3'><pre> 3.</pre></td></tr><tr><td style='font-family:monospace;' title='4'><pre> 3.</pre></td></tr><tr><td style='font-family:monospace;' title='5'><pre> 2.</pre></td></tr><tr><td style='font-family:monospace;' title='6'><pre> 2.</pre></td></tr><tr><td style='font-family:monospace;' title='7'><pre> 2.</pre></td></tr><tr><td style='font-family:monospace;' title='8'><pre> 3.</pre></td></tr><tr><td style='font-family:monospace;' title='9'><pre> 3.</pre></td></tr><tr><td style='font-family:monospace;' title='10'><pre> 3.</pre></td></tr><tr><td style='font-family:monospace;' title='11'><pre> 2.</pre></td></tr></tbody></table>"
      ]
     },
     "execution_count": 5,
     "metadata": {},
     "output_type": "execute_result"
    }
   ],
   "source": [
    "auto dbscanrn_opt(const xarray<float>& X_original, int k)\n",
    "{\n",
    "    // normalization\n",
    "    xarray<float> X = normalize(X_original);\n",
    "\n",
    "    // each data point can be in one of 3 stages\n",
    "    int NOT_VISITED = -1; // not visited point\n",
    "    int VISITED = 0; // non-core point\n",
    "    int CLUSTERED = 1; // core point\n",
    "\n",
    "    // initial setup\n",
    "    int n = X.shape()[0];\n",
    "    xarray<double> cluster = ones<double>({n}) * -1; // cluster register\n",
    "    xarray<double> state = ones<double>({n}) * NOT_VISITED; // state register\n",
    "    int cluster_id = 1;\n",
    "    xarray<int> all_point_indices = arange(n);\n",
    "    map<int, vector<int>> point_rnn;\n",
    "    map<int, xarray<int>> point_knn;\n",
    "    \n",
    "    xarray<int> all_point_sorted; \n",
    "    xarray<int> candidates;\n",
    "    float real_max; \n",
    "    xarray<double> pessimistic_estimation;\n",
    "    xarray<double> candidate_distance;\n",
    "    int down_row;\n",
    "            \n",
    "    function < void( int ) > calc_pessimistic_estimation = [&] (\n",
    "        int current_index \n",
    "    ) -> void {\n",
    "        // choosing the next point to check if he is a better neighbor\n",
    "        int new_candidate = all_point_sorted(down_row);\n",
    "        bool previous_check = pessimistic_estimation(down_row) < real_max;\n",
    "        down_row++;\n",
    "        if (!previous_check) {\n",
    "            point_knn[(int) current_index] = candidates;\n",
    "            return;\n",
    "        };\n",
    "        if (previous_check) {\n",
    "            float similarity = cosine_dissimilarity(\n",
    "                new_candidate, all_point_sorted[current_index]\n",
    "            );\n",
    "            if (similarity < real_max) {\n",
    "                candidates = filter(candidates, not_equal(candidate_distance, real_max));\n",
    "                candidates = concatenate(xtuple(candidates, xarray<int>{new_candidate}));\n",
    "                candidate_distance = concatenate(xtuple(candidate_distance, xarray<double>{similarity}));\n",
    "                real_max = amax(candidate_distance)(0);\n",
    "                calc_pessimistic_estimation((int) current_index);\n",
    "            };\n",
    "        };\n",
    "        calc_pessimistic_estimation((int) current_index);   \n",
    "    };\n",
    "\n",
    "    auto get_tiknn = [&] (int current_index, xarray<int> neighbor_indices, int k){\n",
    "        vector<double> r_dist;\n",
    "        for (auto& idx : all_point_indices) {\n",
    "            r_dist.push_back(cosine_dissimilarity(row(X, idx), {0, 1}));\n",
    "        };\n",
    "        xarray<double> r_distance = adapt(r_dist, {r_dist.size()});\n",
    "        auto current_index_r_distance = r_distance[current_index];\n",
    "        pessimistic_estimation = abs(current_index_r_distance - r_distance);\n",
    "        xarray<int> sort_indices = argsort(pessimistic_estimation);\n",
    "        all_point_sorted = index_view(all_point_indices, sort_indices); // df \n",
    "        \n",
    "        // selecting candidates for k - nearest neighbors\n",
    "        candidates = view(all_point_sorted, range(1, k+1)); //dfx\n",
    "        down_row = k + 2;\n",
    "                \n",
    "        // calculation of similarity for candidates\n",
    "        vector<double> dist;\n",
    "        for (auto& candidate_idx : candidates) {\n",
    "            dist.push_back(cosine_dissimilarity(row(X, current_index), row(X, candidate_idx)));\n",
    "        }\n",
    "        candidate_distance = adapt(dist, {dist.size()});\n",
    "        real_max = amax(candidate_distance)(0);\n",
    "        calc_pessimistic_estimation((int) current_index);\n",
    "    };  \n",
    "        \n",
    "    auto get_knn = [&] (int current_index, xarray<int> neighbor_indices, int k){\n",
    "        vector<float> neighbor_sim;\n",
    "        for (auto& neighbor_index : neighbor_indices) {\n",
    "            neighbor_sim.push_back(cosine_dissimilarity(row(X, neighbor_index), row(X, current_index)));\n",
    "        };\n",
    "        xarray<float> neighbor_similaritys = adapt(neighbor_sim, {neighbor_sim.size()});\n",
    "        xarray<int> sort_indices = argsort(neighbor_similaritys);\n",
    "        xarray<int> neighbor_indices_sorted = index_view(neighbor_indices, sort_indices); \n",
    "        point_knn[(int) current_index] = view(neighbor_indices_sorted, range(0, k));  \n",
    "    };    \n",
    "    \n",
    "    auto get_pointwise_rnn = [&] (int current_index){\n",
    "        vector<int> rnn;\n",
    "        for (auto& neighbor_index : point_knn[(int) current_index]) {\n",
    "            if ((point_knn[(int) neighbor_index], (int) current_index)) {\n",
    "                rnn.push_back((int) neighbor_index);\n",
    "            };\n",
    "        };\n",
    "        point_rnn[(int) current_index] = rnn;\n",
    "    };\n",
    "    \n",
    "    auto get_rnn = [&] (){\n",
    "        for (int current_index = 0; current_index < n; current_index++) {\n",
    "            // remove current index from neighbors\n",
    "            xarray<int> neighbor_indices = col(\n",
    "                from_indices(argwhere(not_equal(all_point_indices, current_index))), 0\n",
    "            );\n",
    "            get_tiknn((int) current_index, neighbor_indices, k);\n",
    "        };\n",
    "        for (int current_index =  0; current_index < n; current_index++) {\n",
    "            get_pointwise_rnn((int) current_index);\n",
    "        };\n",
    "    };\n",
    "\n",
    "    // extend cluster\n",
    "    function < void( int ) > search = [&] (int current_index) -> void {\n",
    "        if (point_rnn[(int) current_index].size() <  k) {\n",
    "            state[(int) current_index] = VISITED;\n",
    "        } else {\n",
    "            state[(int) current_index] = CLUSTERED;\n",
    "            cluster[(int) current_index] = cluster_id;\n",
    "            for (auto& neighbor_index : point_rnn[(int) current_index]) {\n",
    "                if (state[(int) neighbor_index] == NOT_VISITED) {\n",
    "                    search(neighbor_index);\n",
    "                };\n",
    "                state[(int) neighbor_index] = CLUSTERED;\n",
    "                cluster[(int) neighbor_index] = cluster_id;\n",
    "            };\n",
    "        };\n",
    "    };\n",
    "    \n",
    "    get_rnn();\n",
    "    \n",
    "    // visit all points\n",
    "    while (any(equal(state, NOT_VISITED))){\n",
    "        xarray<int> idx = from_indices(argwhere(equal(state, NOT_VISITED)));\n",
    "        search(idx(0,0));\n",
    "        cluster_id++;\n",
    "    }\n",
    "\n",
    "    // clusterize all outlier points to nearest cluster \n",
    "    while (any(equal(state, VISITED))){\n",
    "        xarray<int> idx_not_clustered = from_indices(argwhere(equal(state, VISITED)));\n",
    "        xarray<int> idx_clustered = from_indices(argwhere(equal(state, CLUSTERED)));\n",
    "        get_knn((int) idx_not_clustered(0,0), idx_clustered, 1);\n",
    "        auto closest_clustered_idx = point_knn[(int) idx_not_clustered(0,0)](0);\n",
    "        cluster[(int) idx_not_clustered(0,0)] = cluster[(int) closest_clustered_idx];\n",
    "        state[(int) idx_not_clustered(0,0)] = CLUSTERED;\n",
    "    }\n",
    "    return cluster;\n",
    "}\n",
    "\n",
    "auto y_pred = dbscanrn_opt(X, 4);\n",
    "y_pred"
   ]
  },
  {
   "cell_type": "markdown",
   "id": "cf9d87c7-69f9-49f4-8ccf-df731ff4e377",
   "metadata": {},
   "source": [
    "# Save output to csv"
   ]
  },
  {
   "cell_type": "code",
   "execution_count": 6,
   "id": "b3f627b6-a863-41c4-9f80-821af769c927",
   "metadata": {},
   "outputs": [],
   "source": [
    "ofstream out_file;\n",
    "out_file.open(\"../out/dbscanrn_opt_cpp_lecture_dataset.csv\");\n",
    "dump_csv(out_file, view(y_pred, all(), newaxis()));\n",
    "out_file.close();"
   ]
  },
  {
   "cell_type": "markdown",
   "id": "bb345c4d-944f-43a6-b5a1-89cf49c7904b",
   "metadata": {},
   "source": [
    "# To execute following cells change kernel into python "
   ]
  },
  {
   "cell_type": "code",
   "execution_count": 1,
   "id": "3d1daf26-cd8b-4d87-9cc9-dd0dfc1f5ce0",
   "metadata": {},
   "outputs": [
    {
     "name": "stdout",
     "output_type": "stream",
     "text": [
      "/work\n"
     ]
    }
   ],
   "source": [
    "cd .."
   ]
  },
  {
   "cell_type": "code",
   "execution_count": 2,
   "id": "5a171db1-84fe-420f-b5fe-a36e772d55f6",
   "metadata": {
    "tags": []
   },
   "outputs": [
    {
     "data": {
      "image/png": "[encoded data removed]",
      "text/plain": [
       "<Figure size 432x288 with 1 Axes>"
      ]
     },
     "metadata": {
      "needs_background": "light"
     },
     "output_type": "display_data"
    }
   ],
   "source": [
    "import pandas as pd\n",
    "from src.datasets import Dataset\n",
    "from src.utils import *\n",
    "\n",
    "dataset = Dataset('./data/lecture_dataset.txt')\n",
    "X, y = dataset.X, dataset.y\n",
    "c = pd.read_csv(\"./out/Cpp_out_dbscanrn_opt_lecture_dataset.csv\", header=None)\n",
    "display_points(X, c, 'Normalized', numerate=True)"
   ]
  },
  {
   "cell_type": "code",
   "execution_count": null,
   "id": "e0383e35-a054-47d3-9fd7-8f11e80f1ca9",
   "metadata": {},
   "outputs": [],
   "source": []
  }
 ],
 "metadata": {
  "kernelspec": {
   "display_name": "Python 3 (ipykernel)",
   "language": "python",
   "name": "python3"
  },
  "language_info": {
   "codemirror_mode": {
    "name": "ipython",
    "version": 3
   },
   "file_extension": ".py",
   "mimetype": "text/x-python",
   "name": "python",
   "nbconvert_exporter": "python",
   "pygments_lexer": "ipython3",
   "version": "3.9.7"
  }
 },
 "nbformat": 4,
 "nbformat_minor": 5
}
