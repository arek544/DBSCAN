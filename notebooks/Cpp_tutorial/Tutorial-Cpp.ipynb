{
 "cells": [
  {
   "cell_type": "markdown",
   "id": "ce9ef4b6-1ac1-441c-8c05-31569001442a",
   "metadata": {},
   "source": [
    "# C++ 14"
   ]
  },
  {
   "cell_type": "code",
   "execution_count": 1,
   "id": "6ac2479f-9816-498f-9cb4-76812811e5a1",
   "metadata": {},
   "outputs": [],
   "source": [
    "#include <iostream>\n",
    "#include <xtensor/xarray.hpp>\n",
    "#include <xtensor/xio.hpp>\n",
    "#include <xtensor/xview.hpp>\n",
    "\n",
    "#include <xtensor/xarray.hpp>\n",
    "#include <xtensor/xfixed.hpp>\n",
    "#include <xtensor/xio.hpp>\n",
    "#include <xtensor/xtensor.hpp>\n",
    "#include <xtensor/xadapt.hpp>\n",
    "#include <xtensor/xarray.hpp>\n",
    "#include <xtensor/xaxis_slice_iterator.hpp>\n",
    "#include <xtensor/xaxis_iterator.hpp>\n",
    "#include <xtensor/xio.hpp>\n",
    "#include <xtensor/xarray.hpp>\n",
    "#include <xtensor/xindex_view.hpp>\n",
    "\n",
    "#include <xtensor/xchunked_array.hpp>\n",
    "#include <xtensor/xfixed.hpp>\n",
    "#include <cstddef>\n",
    "#include <vector>\n",
    "#include <xtensor/xarray.hpp>\n",
    "#include <xtensor/xadapt.hpp>\n",
    "\n",
    "using namespace xt;\n",
    "using namespace std;"
   ]
  },
  {
   "cell_type": "markdown",
   "id": "ffc708f4-a469-4644-9e73-dab997892249",
   "metadata": {},
   "source": [
    "# Vectors"
   ]
  },
  {
   "cell_type": "code",
   "execution_count": 2,
   "id": "3ad52de3-9a03-4fee-a769-4541e0a16635",
   "metadata": {},
   "outputs": [
    {
     "data": {
      "text/html": [
       "<table style='border-style:solid;border-width:1px;'><tbody><tr><td style='font-family:monospace;' title='0'><pre> 1.</pre></td></tr><tr><td style='font-family:monospace;' title='1'><pre> 2.</pre></td></tr><tr><td style='font-family:monospace;' title='2'><pre> 3.</pre></td></tr><tr><td style='font-family:monospace;' title='3'><pre> 4.</pre></td></tr><tr><td style='font-family:monospace;' title='4'><pre> 5.</pre></td></tr><tr><td style='font-family:monospace;' title='5'><pre> 6.</pre></td></tr></tbody></table>"
      ]
     },
     "execution_count": 2,
     "metadata": {},
     "output_type": "execute_result"
    }
   ],
   "source": [
    "#include <cstddef>\n",
    "#include <vector>\n",
    "#include <xtensor/xarray.hpp>\n",
    "#include <xtensor/xadapt.hpp>\n",
    "\n",
    "std::vector<double> v = {1., 2., 3., 4., 5., 6. };\n",
    "std::vector<std::size_t> shape = {6};\n",
    "xarray<double> a1 = xt::adapt(v, shape);\n",
    "a1"
   ]
  },
  {
   "cell_type": "code",
   "execution_count": 4,
   "id": "af953c5c-1982-48f3-ae16-9c0461477afe",
   "metadata": {},
   "outputs": [
    {
     "data": {
      "text/plain": [
       "6"
      ]
     },
     "execution_count": 4,
     "metadata": {},
     "output_type": "execute_result"
    }
   ],
   "source": [
    "v.size()"
   ]
  },
  {
   "cell_type": "code",
   "execution_count": 3,
   "id": "d18cf98b-6081-40a9-b9cd-01b886695134",
   "metadata": {},
   "outputs": [
    {
     "data": {
      "text/plain": [
       "6"
      ]
     },
     "execution_count": 3,
     "metadata": {},
     "output_type": "execute_result"
    }
   ],
   "source": [
    "a1.size()"
   ]
  },
  {
   "cell_type": "code",
   "execution_count": null,
   "id": "985bfa59-a5d3-42cb-a6f1-146a64074701",
   "metadata": {},
   "outputs": [],
   "source": [
    "xarray<double> a1 = adapt(v, {v.size()});"
   ]
  },
  {
   "cell_type": "markdown",
   "id": "6145062a-ca05-4213-b77d-36eed3b6998a",
   "metadata": {},
   "source": [
    "# List"
   ]
  },
  {
   "cell_type": "code",
   "execution_count": 23,
   "id": "f00ef8b3-b582-4a6b-bfc7-995c595c1547",
   "metadata": {},
   "outputs": [],
   "source": [
    "std::list<int> myList = std::list<int>();\n",
    "myList.push_back(4);\n",
    "myList.push_back(5);"
   ]
  },
  {
   "cell_type": "code",
   "execution_count": 24,
   "id": "5c4666f3-59c8-4b8a-8804-e4e1a460b4a7",
   "metadata": {},
   "outputs": [
    {
     "data": {
      "text/plain": [
       "{ 4, 5 }"
      ]
     },
     "execution_count": 24,
     "metadata": {},
     "output_type": "execute_result"
    }
   ],
   "source": [
    "myList"
   ]
  },
  {
   "cell_type": "markdown",
   "id": "d2a66bd0-b0a3-473d-95d1-8bffffca759e",
   "metadata": {},
   "source": [
    "# Display"
   ]
  },
  {
   "cell_type": "code",
   "execution_count": 25,
   "id": "2ee301e3-e140-454b-ae59-def919418bb5",
   "metadata": {},
   "outputs": [
    {
     "data": {
      "text/plain": [
       "{ 4, 5 }"
      ]
     },
     "metadata": {},
     "output_type": "display_data"
    },
    {
     "data": {
      "text/plain": [
       "{ 4, 5 }"
      ]
     },
     "metadata": {},
     "output_type": "display_data"
    }
   ],
   "source": [
    "#include <xcpp/xdisplay.hpp>\n",
    "\n",
    "xcpp::display(myList);\n",
    "xcpp::display(myList)"
   ]
  },
  {
   "cell_type": "code",
   "execution_count": 20,
   "id": "40e78203-0755-440d-a691-b86a033252fe",
   "metadata": {},
   "outputs": [
    {
     "name": "stderr",
     "output_type": "stream",
     "text": [
      "\u001b[1minput_line_32:2:2: \u001b[0m\u001b[0;1;31merror: \u001b[0m\u001b[1mno template named 'list'; did you mean 'std::list'?\u001b[0m\n",
      " list<int> myList = {1,2,3};\n",
      "\u001b[0;1;32m ^~~~\n",
      "\u001b[0m\u001b[0;32m std::list\n",
      "\u001b[0m\u001b[1m/root/anaconda3/bin/../lib/gcc/x86_64-conda-linux-gnu/9.3.0/../../../../x86_64-conda-linux-gnu/include/c++/9.3.0/bits/stl_list.h:552:11: \u001b[0m\u001b[0;1;30mnote: \u001b[0m'std::list' declared here\u001b[0m\n",
      "    class list : protected _List_base<_Tp, _Alloc>\n",
      "\u001b[0;1;32m          ^\n",
      "\u001b[0m\u001b[1minput_line_32:2:12: \u001b[0m\u001b[0;1;31merror: \u001b[0m\u001b[1mno matching constructor for initialization of 'list<int>'\u001b[0m\n",
      " list<int> myList = {1,2,3};\n",
      "\u001b[0;1;32m           ^        ~~~~~~~\n",
      "\u001b[0m\u001b[1m/root/anaconda3/bin/../lib/gcc/x86_64-conda-linux-gnu/9.3.0/../../../../x86_64-conda-linux-gnu/include/c++/9.3.0/bits/stl_list.h:704:7: \u001b[0m\u001b[0;1;30mnote: \u001b[0mcandidate constructor not viable: no known conversion from 'int' to 'const std::__cxx11::list<int, std::allocator<int> >::allocator_type' (aka 'const std::allocator<int>') for 3rd argument\u001b[0m\n",
      "      list(size_type __n, const value_type& __value,\n",
      "\u001b[0;1;32m      ^\n",
      "\u001b[0m\u001b[1m/root/anaconda3/bin/../lib/gcc/x86_64-conda-linux-gnu/9.3.0/../../../../x86_64-conda-linux-gnu/include/c++/9.3.0/bits/stl_list.h:764:7: \u001b[0m\u001b[0;1;30mnote: \u001b[0mcandidate constructor not viable: no known conversion from 'int' to 'std::__cxx11::list<int, std::allocator<int> >' for 1st argument\u001b[0m\n",
      "      list(list&& __x, const allocator_type& __a, true_type) noexcept\n",
      "\u001b[0;1;32m      ^\n",
      "\u001b[0m\u001b[1m/root/anaconda3/bin/../lib/gcc/x86_64-conda-linux-gnu/9.3.0/../../../../x86_64-conda-linux-gnu/include/c++/9.3.0/bits/stl_list.h:768:7: \u001b[0m\u001b[0;1;30mnote: \u001b[0mcandidate constructor not viable: no known conversion from 'int' to 'std::__cxx11::list<int, std::allocator<int> >' for 1st argument\u001b[0m\n",
      "      list(list&& __x, const allocator_type& __a, false_type)\n",
      "\u001b[0;1;32m      ^\n",
      "\u001b[0m\u001b[1m/root/anaconda3/bin/../lib/gcc/x86_64-conda-linux-gnu/9.3.0/../../../../x86_64-conda-linux-gnu/include/c++/9.3.0/bits/stl_list.h:799:2: \u001b[0m\u001b[0;1;30mnote: \u001b[0mcandidate template ignored: substitution failure [with _InputIterator = int]: no type named 'iterator_category' in 'std::iterator_traits<int>'\u001b[0m\n",
      "        list(_InputIterator __first, _InputIterator __last,\n",
      "\u001b[0;1;32m        ^\n",
      "\u001b[0m\u001b[1m/root/anaconda3/bin/../lib/gcc/x86_64-conda-linux-gnu/9.3.0/../../../../x86_64-conda-linux-gnu/include/c++/9.3.0/bits/stl_list.h:692:7: \u001b[0m\u001b[0;1;30mnote: \u001b[0mcandidate constructor not viable: requires at most 2 arguments, but 3 were provided\u001b[0m\n",
      "      list(size_type __n, const allocator_type& __a = allocator_type())\n",
      "\u001b[0;1;32m      ^\n",
      "\u001b[0m\u001b[1m/root/anaconda3/bin/../lib/gcc/x86_64-conda-linux-gnu/9.3.0/../../../../x86_64-conda-linux-gnu/include/c++/9.3.0/bits/stl_list.h:759:7: \u001b[0m\u001b[0;1;30mnote: \u001b[0mcandidate constructor not viable: requires 2 arguments, but 3 were provided\u001b[0m\n",
      "      list(const list& __x, const allocator_type& __a)\n",
      "\u001b[0;1;32m      ^\n",
      "\u001b[0m\u001b[1m/root/anaconda3/bin/../lib/gcc/x86_64-conda-linux-gnu/9.3.0/../../../../x86_64-conda-linux-gnu/include/c++/9.3.0/bits/stl_list.h:779:7: \u001b[0m\u001b[0;1;30mnote: \u001b[0mcandidate constructor not viable: requires 2 arguments, but 3 were provided\u001b[0m\n",
      "      list(list&& __x, const allocator_type& __a)\n",
      "\u001b[0;1;32m      ^\n",
      "\u001b[0m\u001b[1m/root/anaconda3/bin/../lib/gcc/x86_64-conda-linux-gnu/9.3.0/../../../../x86_64-conda-linux-gnu/include/c++/9.3.0/bits/stl_list.h:679:7: \u001b[0m\u001b[0;1;30mnote: \u001b[0mcandidate constructor not viable: requires single argument '__a', but 3 arguments were provided\u001b[0m\n",
      "      list(const allocator_type& __a) _GLIBCXX_NOEXCEPT\n",
      "\u001b[0;1;32m      ^\n",
      "\u001b[0m\u001b[1m/root/anaconda3/bin/../lib/gcc/x86_64-conda-linux-gnu/9.3.0/../../../../x86_64-conda-linux-gnu/include/c++/9.3.0/bits/stl_list.h:731:7: \u001b[0m\u001b[0;1;30mnote: \u001b[0mcandidate constructor not viable: requires single argument '__x', but 3 arguments were provided\u001b[0m\n",
      "      list(const list& __x)\n",
      "\u001b[0;1;32m      ^\n",
      "\u001b[0m\u001b[1m/root/anaconda3/bin/../lib/gcc/x86_64-conda-linux-gnu/9.3.0/../../../../x86_64-conda-linux-gnu/include/c++/9.3.0/bits/stl_list.h:744:7: \u001b[0m\u001b[0;1;30mnote: \u001b[0mcandidate constructor not viable: requires 1 argument, but 3 were provided\u001b[0m\n",
      "      list(list&&) = default;\n",
      "\u001b[0;1;32m      ^\n",
      "\u001b[0m\u001b[1m/root/anaconda3/bin/../lib/gcc/x86_64-conda-linux-gnu/9.3.0/../../../../x86_64-conda-linux-gnu/include/c++/9.3.0/bits/stl_list.h:669:7: \u001b[0m\u001b[0;1;30mnote: \u001b[0mcandidate constructor not viable: requires 0 arguments, but 3 were provided\u001b[0m\n",
      "      list() = default;\n",
      "\u001b[0;1;32m      ^\n",
      "\u001b[0m"
     ]
    },
    {
     "ename": "Interpreter Error",
     "evalue": "",
     "output_type": "error",
     "traceback": [
      "Interpreter Error: "
     ]
    }
   ],
   "source": [
    "list<int> myList = {1,2,3};\n",
    "myList"
   ]
  },
  {
   "cell_type": "code",
   "execution_count": 48,
   "id": "3222981c-3f4c-4d48-838d-82493f4b4dec",
   "metadata": {},
   "outputs": [
    {
     "data": {
      "text/plain": [
       "{ 1, 3 }"
      ]
     },
     "execution_count": 48,
     "metadata": {},
     "output_type": "execute_result"
    }
   ],
   "source": [
    "myList.remove(2);\n",
    "myList"
   ]
  },
  {
   "cell_type": "code",
   "execution_count": 11,
   "id": "bf6f4a84-4e6f-474c-b69b-27ef546dc356",
   "metadata": {},
   "outputs": [
    {
     "name": "stdout",
     "output_type": "stream",
     "text": [
      "4\n",
      "5\n"
     ]
    }
   ],
   "source": [
    "for (auto const& i : myList) {\n",
    "    std::cout << i << '\\n';\n",
    "}"
   ]
  },
  {
   "cell_type": "code",
   "execution_count": 16,
   "id": "1b0b5d52-7776-4721-8879-47605e7d47da",
   "metadata": {},
   "outputs": [
    {
     "name": "stdout",
     "output_type": "stream",
     "text": [
      "4,5,"
     ]
    }
   ],
   "source": [
    "for(auto& i : myList) {std::cout << i << \",\"; }"
   ]
  },
  {
   "cell_type": "code",
   "execution_count": 26,
   "id": "657050d9-07a4-4018-ab0e-9e14d554a364",
   "metadata": {},
   "outputs": [],
   "source": [
    "auto list_contains(list<int> my_list, int element){\n",
    "    // check if list contains element\n",
    "    return (find(my_list.begin(), my_list.end(), element) != my_list.end());\n",
    "}"
   ]
  },
  {
   "cell_type": "code",
   "execution_count": 27,
   "id": "b830930c-b6df-43f7-8320-8bd7ea6c1ef6",
   "metadata": {},
   "outputs": [
    {
     "data": {
      "text/plain": [
       "false"
      ]
     },
     "execution_count": 27,
     "metadata": {},
     "output_type": "execute_result"
    }
   ],
   "source": [
    "list<int> myList = {1,2,3};\n",
    "list_contains(myList, 5)"
   ]
  },
  {
   "cell_type": "markdown",
   "id": "37de9146-24cb-4251-bcaa-0a4e0de2457d",
   "metadata": {},
   "source": [
    "# Dict"
   ]
  },
  {
   "cell_type": "code",
   "execution_count": 3,
   "id": "c1b5ed78-9a0c-4e8d-a523-7408323ee2f3",
   "metadata": {},
   "outputs": [],
   "source": [
    "#include <map>"
   ]
  },
  {
   "cell_type": "code",
   "execution_count": 16,
   "id": "ecbae2f6-84e5-4768-b265-1f40ef162ac6",
   "metadata": {},
   "outputs": [],
   "source": [
    "std::map<int, xt::xarray<double>> x;"
   ]
  },
  {
   "cell_type": "code",
   "execution_count": 5,
   "id": "17267bc2-55c2-4792-af95-578981b8cad5",
   "metadata": {},
   "outputs": [
    {
     "data": {
      "text/plain": [
       "{ 'A' => '1', 'B' => '2', 'C' => '3' }"
      ]
     },
     "execution_count": 5,
     "metadata": {},
     "output_type": "execute_result"
    }
   ],
   "source": [
    "std::map<char, char> my_map = {\n",
    "    { 'A', '1' },\n",
    "    { 'B', '2' },\n",
    "    { 'C', '3' }\n",
    "};\n",
    "\n",
    "my_map"
   ]
  },
  {
   "cell_type": "code",
   "execution_count": 20,
   "id": "caf4c443-49a4-44ac-af08-575b2bafc2ae",
   "metadata": {},
   "outputs": [
    {
     "data": {
      "text/plain": [
       "'1'"
      ]
     },
     "execution_count": 20,
     "metadata": {},
     "output_type": "execute_result"
    }
   ],
   "source": [
    "my_map['A']"
   ]
  },
  {
   "cell_type": "code",
   "execution_count": 21,
   "id": "44394356-e590-45ec-808c-9db616ad7cb2",
   "metadata": {},
   "outputs": [
    {
     "data": {
      "text/plain": [
       "{ 'A' => 1, 'B' => 2, 'C' => 3 }"
      ]
     },
     "execution_count": 21,
     "metadata": {},
     "output_type": "execute_result"
    }
   ],
   "source": [
    "std::map<char, int> my_map = {\n",
    "    { 'A', 1 },\n",
    "    { 'B', 2 },\n",
    "    { 'C', 3 }\n",
    "};\n",
    "\n",
    "my_map"
   ]
  },
  {
   "cell_type": "code",
   "execution_count": 22,
   "id": "104c1562-0e1f-47e5-b8d5-6d407010bf8f",
   "metadata": {},
   "outputs": [
    {
     "data": {
      "text/plain": [
       "1"
      ]
     },
     "execution_count": 22,
     "metadata": {},
     "output_type": "execute_result"
    }
   ],
   "source": [
    "my_map['A']"
   ]
  },
  {
   "cell_type": "code",
   "execution_count": 23,
   "id": "62943ca7-6363-4bdc-a363-4cd0b0083786",
   "metadata": {},
   "outputs": [
    {
     "data": {
      "text/plain": [
       "{ 'A' => 3, 'B' => 2, 'C' => 3 }"
      ]
     },
     "execution_count": 23,
     "metadata": {},
     "output_type": "execute_result"
    }
   ],
   "source": [
    "my_map['A'] = 3;\n",
    "my_map"
   ]
  },
  {
   "cell_type": "code",
   "execution_count": 6,
   "id": "1b7958af-3049-46e5-8db6-b7737e222fe2",
   "metadata": {},
   "outputs": [
    {
     "name": "stderr",
     "output_type": "stream",
     "text": [
      "\u001b[1minput_line_15:2:2: \u001b[0m\u001b[0;1;31merror: \u001b[0m\u001b[1mno template named 'map'; did you mean 'std::map'?\u001b[0m\n",
      " map<char, list<int>> my_map = {\n",
      "\u001b[0;1;32m ^~~\n",
      "\u001b[0m\u001b[0;32m std::map\n",
      "\u001b[0m\u001b[1m/root/anaconda3/bin/../lib/gcc/x86_64-conda-linux-gnu/9.3.0/../../../../x86_64-conda-linux-gnu/include/c++/9.3.0/bits/stl_multimap.h:70:11: \u001b[0m\u001b[0;1;30mnote: \u001b[0m'std::map' declared here\u001b[0m\n",
      "    class map;\n",
      "\u001b[0;1;32m          ^\n",
      "\u001b[0m\u001b[1minput_line_15:2:12: \u001b[0m\u001b[0;1;31merror: \u001b[0m\u001b[1mno template named 'list'; did you mean 'std::list'?\u001b[0m\n",
      " map<char, list<int>> my_map = {\n",
      "\u001b[0;1;32m           ^~~~\n",
      "\u001b[0m\u001b[0;32m           std::list\n",
      "\u001b[0m\u001b[1m/root/anaconda3/bin/../lib/gcc/x86_64-conda-linux-gnu/9.3.0/../../../../x86_64-conda-linux-gnu/include/c++/9.3.0/bits/stl_list.h:552:11: \u001b[0m\u001b[0;1;30mnote: \u001b[0m'std::list' declared here\u001b[0m\n",
      "    class list : protected _List_base<_Tp, _Alloc>\n",
      "\u001b[0;1;32m          ^\n",
      "\u001b[0m"
     ]
    },
    {
     "ename": "Interpreter Error",
     "evalue": "",
     "output_type": "error",
     "traceback": [
      "Interpreter Error: "
     ]
    }
   ],
   "source": [
    "map<char, list<int>> my_map = {\n",
    "    { 'A', {1, 2} },\n",
    "    { 'B', {2} },\n",
    "    { 'C', {3,2,3} }\n",
    "};\n",
    "\n",
    "my_map"
   ]
  },
  {
   "cell_type": "code",
   "execution_count": 27,
   "id": "7bcadafa-0ef5-47f5-931d-02173ead2779",
   "metadata": {},
   "outputs": [],
   "source": [
    "map<char, forward_list<int>> my_map"
   ]
  },
  {
   "cell_type": "code",
   "execution_count": 28,
   "id": "72cd296b-87bb-48e1-ad65-7df43af3719e",
   "metadata": {},
   "outputs": [
    {
     "data": {
      "text/plain": [
       "{ 3 }"
      ]
     },
     "execution_count": 28,
     "metadata": {},
     "output_type": "execute_result"
    }
   ],
   "source": [
    "my_map['a'] = {3}"
   ]
  },
  {
   "cell_type": "code",
   "execution_count": 29,
   "id": "610b6dd9-096e-4081-be9f-bd28de5149fb",
   "metadata": {},
   "outputs": [
    {
     "data": {
      "text/plain": [
       "{ 'a' => { 3 } }"
      ]
     },
     "execution_count": 29,
     "metadata": {},
     "output_type": "execute_result"
    }
   ],
   "source": [
    "my_map"
   ]
  },
  {
   "cell_type": "code",
   "execution_count": 41,
   "id": "b69e9061-05a5-4a49-b462-01cb1648266a",
   "metadata": {},
   "outputs": [
    {
     "data": {
      "text/plain": [
       "{ 0 => { 1, 2 } }"
      ]
     },
     "execution_count": 41,
     "metadata": {},
     "output_type": "execute_result"
    }
   ],
   "source": [
    "map<int, list<int>> point_rnn;\n",
    "\n",
    "point_rnn[0] = {1,2};\n",
    "point_rnn"
   ]
  },
  {
   "cell_type": "markdown",
   "id": "47c0f183-b142-4a02-9347-1e2280851af9",
   "metadata": {},
   "source": [
    "# Create simple 1D array"
   ]
  },
  {
   "cell_type": "code",
   "execution_count": 2,
   "id": "b2a3dd9b-7365-4284-909f-dcdc47033f79",
   "metadata": {},
   "outputs": [
    {
     "data": {
      "text/html": [
       "<table style='border-style:solid;border-width:1px;'><tbody><tr><td style='font-family:monospace;' title='0'><pre> 1.</pre></td></tr><tr><td style='font-family:monospace;' title='1'><pre> 2.</pre></td></tr><tr><td style='font-family:monospace;' title='2'><pre> 3.</pre></td></tr><tr><td style='font-family:monospace;' title='3'><pre> 4.</pre></td></tr></tbody></table>"
      ]
     },
     "execution_count": 2,
     "metadata": {},
     "output_type": "execute_result"
    }
   ],
   "source": [
    "xt::xarray<double> a = {1, 2, 3, 4};\n",
    "a"
   ]
  },
  {
   "cell_type": "markdown",
   "id": "9cbf5da5-7d1c-4187-8c07-ce1fa446c34e",
   "metadata": {},
   "source": [
    "## Accessing elements"
   ]
  },
  {
   "cell_type": "code",
   "execution_count": 5,
   "id": "3366d708-25b6-4d70-bfe2-d70f26603c80",
   "metadata": {},
   "outputs": [
    {
     "data": {
      "text/plain": [
       "3.0000000"
      ]
     },
     "execution_count": 5,
     "metadata": {},
     "output_type": "execute_result"
    }
   ],
   "source": [
    "a(2)"
   ]
  },
  {
   "cell_type": "code",
   "execution_count": 6,
   "id": "238e4cbb-69a0-4f4c-9932-798a3177142d",
   "metadata": {},
   "outputs": [
    {
     "data": {
      "text/html": [
       "<table style='border-style:solid;border-width:1px;'><tbody><tr><td style='font-family:monospace;' title='0'><pre>  1.</pre></td></tr><tr><td style='font-family:monospace;' title='1'><pre>  2.</pre></td></tr><tr><td style='font-family:monospace;' title='2'><pre> 50.</pre></td></tr><tr><td style='font-family:monospace;' title='3'><pre>  4.</pre></td></tr></tbody></table>"
      ]
     },
     "execution_count": 6,
     "metadata": {},
     "output_type": "execute_result"
    }
   ],
   "source": [
    "a(2) = 50;\n",
    "a"
   ]
  },
  {
   "cell_type": "code",
   "execution_count": 9,
   "id": "6727efda-d2e7-412d-8e56-8bd283b6242c",
   "metadata": {},
   "outputs": [
    {
     "data": {
      "text/html": [
       "<table style='border-style:solid;border-width:1px;'><tbody><tr><td style='font-family:monospace;' title='0'><pre> 1.</pre></td></tr><tr><td style='font-family:monospace;' title='1'><pre> 2.</pre></td></tr><tr><td style='font-family:monospace;' title='2'><pre> 3.</pre></td></tr></tbody></table>"
      ]
     },
     "execution_count": 9,
     "metadata": {},
     "output_type": "execute_result"
    }
   ],
   "source": [
    "view(a, range(0, -1))"
   ]
  },
  {
   "cell_type": "markdown",
   "id": "d87b2e15-014e-4a98-9aac-7f4af666d1c4",
   "metadata": {},
   "source": [
    "## Append / concatenate"
   ]
  },
  {
   "cell_type": "code",
   "execution_count": 52,
   "id": "f3531f0f-0f2b-4c70-bff3-0744ad1e5a35",
   "metadata": {},
   "outputs": [
    {
     "data": {
      "text/html": [
       "<table style='border-style:solid;border-width:1px;'><tbody><tr><td style='font-family:monospace;' title='0'><pre> 1.</pre></td></tr><tr><td style='font-family:monospace;' title='1'><pre> 2.</pre></td></tr><tr><td style='font-family:monospace;' title='2'><pre> 3.</pre></td></tr><tr><td style='font-family:monospace;' title='3'><pre> 4.</pre></td></tr><tr><td style='font-family:monospace;' title='4'><pre> 4.</pre></td></tr></tbody></table>"
      ]
     },
     "execution_count": 52,
     "metadata": {},
     "output_type": "execute_result"
    }
   ],
   "source": [
    "xarray<double> a = {1, 2, 3, 4};\n",
    "xarray<double> b = {4};\n",
    "concatenate(xtuple(a, b))"
   ]
  },
  {
   "cell_type": "code",
   "execution_count": 53,
   "id": "cf12a9e6-395f-49ba-b7bd-82ecd95e13ee",
   "metadata": {},
   "outputs": [
    {
     "data": {
      "text/html": [
       "<table style='border-style:solid;border-width:1px;'><tbody><tr><td style='font-family:monospace;' title='0'><pre> 1.</pre></td></tr><tr><td style='font-family:monospace;' title='1'><pre> 2.</pre></td></tr><tr><td style='font-family:monospace;' title='2'><pre> 3.</pre></td></tr><tr><td style='font-family:monospace;' title='3'><pre> 4.</pre></td></tr><tr><td style='font-family:monospace;' title='4'><pre> 7.</pre></td></tr></tbody></table>"
      ]
     },
     "execution_count": 53,
     "metadata": {},
     "output_type": "execute_result"
    }
   ],
   "source": [
    "concatenate(xtuple(a, xarray<double> {7}))"
   ]
  },
  {
   "cell_type": "markdown",
   "id": "48864351-5883-4bf7-947a-f832fc57ad23",
   "metadata": {},
   "source": [
    "## sort"
   ]
  },
  {
   "cell_type": "code",
   "execution_count": 3,
   "id": "56224b2f-e5f6-4fbe-be3f-5f8e5b69ae58",
   "metadata": {},
   "outputs": [
    {
     "data": {
      "text/html": [
       "<table style='border-style:solid;border-width:1px;'><tbody><tr><td style='font-family:monospace;' title='0'><pre>1</pre></td></tr><tr><td style='font-family:monospace;' title='1'><pre>0</pre></td></tr><tr><td style='font-family:monospace;' title='2'><pre>2</pre></td></tr><tr><td style='font-family:monospace;' title='3'><pre>3</pre></td></tr></tbody></table>"
      ]
     },
     "execution_count": 3,
     "metadata": {},
     "output_type": "execute_result"
    }
   ],
   "source": [
    "#include <xtensor/xsort.hpp>\n",
    "\n",
    "xarray<double> a = {2, 1, 3, 4};\n",
    "auto idx = argsort(a, 0);\n",
    "idx"
   ]
  },
  {
   "cell_type": "code",
   "execution_count": 63,
   "id": "9e24a98a-7cd0-43b9-9c24-fbc549924614",
   "metadata": {},
   "outputs": [
    {
     "data": {
      "text/plain": [
       "{ 1.0000000, 2.0000000, 3.0000000, 4.0000000 }"
      ]
     },
     "execution_count": 63,
     "metadata": {},
     "output_type": "execute_result"
    }
   ],
   "source": [
    "index_view(a, idx)"
   ]
  },
  {
   "cell_type": "markdown",
   "id": "ab29d96f-fa3c-41b2-a2a4-bd6e25f81411",
   "metadata": {},
   "source": [
    "## iteration"
   ]
  },
  {
   "cell_type": "code",
   "execution_count": 4,
   "id": "244b3cdc-5e2e-4388-ab73-af0f02068c82",
   "metadata": {},
   "outputs": [
    {
     "name": "stdout",
     "output_type": "stream",
     "text": [
      "2\n",
      "1\n",
      "3\n",
      "4\n"
     ]
    }
   ],
   "source": [
    "for (auto& i : a) {\n",
    "    std::cout << (int) i << \"\\n\";\n",
    "}  "
   ]
  },
  {
   "cell_type": "markdown",
   "id": "e2079c98-7c64-438c-a056-6bfe1731abba",
   "metadata": {},
   "source": [
    "## slicing"
   ]
  },
  {
   "cell_type": "code",
   "execution_count": 8,
   "id": "147dd3f5-c10c-4955-9bff-4a79e4336ea0",
   "metadata": {},
   "outputs": [
    {
     "data": {
      "text/html": [
       "<table style='border-style:solid;border-width:1px;'><tbody><tr><td style='font-family:monospace;' title='0'><pre> 2.</pre></td></tr><tr><td style='font-family:monospace;' title='1'><pre> 1.</pre></td></tr></tbody></table>"
      ]
     },
     "execution_count": 8,
     "metadata": {},
     "output_type": "execute_result"
    }
   ],
   "source": [
    "view(a, range(0, 2))"
   ]
  },
  {
   "cell_type": "markdown",
   "id": "8f4fb293-5e61-4813-9798-a55d456a7f04",
   "metadata": {},
   "source": [
    "# 2D array"
   ]
  },
  {
   "cell_type": "code",
   "execution_count": 7,
   "id": "977110eb-b605-42cb-9581-5ff4e7262e5c",
   "metadata": {},
   "outputs": [
    {
     "data": {
      "text/html": [
       "<table style='border-style:solid;border-width:1px;'><tbody><tr><td style='font-family:monospace;' title='(0, 0)'><pre> 1.</pre></td><td style='font-family:monospace;' title='(0, 1)'><pre> 2.</pre></td><td style='font-family:monospace;' title='(0, 2)'><pre> 3.</pre></td><td style='font-family:monospace;' title='(0, 3)'><pre> 4.</pre></td></tr><tr><td style='font-family:monospace;' title='(1, 0)'><pre> 5.</pre></td><td style='font-family:monospace;' title='(1, 1)'><pre> 6.</pre></td><td style='font-family:monospace;' title='(1, 2)'><pre> 7.</pre></td><td style='font-family:monospace;' title='(1, 3)'><pre> 8.</pre></td></tr></tbody></table>"
      ]
     },
     "execution_count": 7,
     "metadata": {},
     "output_type": "execute_result"
    }
   ],
   "source": [
    "xt::xarray<double> b = {{1, 2, 3, 4},\n",
    "                    {5, 6, 7, 8}};\n",
    "b"
   ]
  },
  {
   "cell_type": "code",
   "execution_count": 8,
   "id": "73b897c8-a921-4818-9170-77adcad716cf",
   "metadata": {},
   "outputs": [
    {
     "data": {
      "text/plain": [
       "7.0000000"
      ]
     },
     "execution_count": 8,
     "metadata": {},
     "output_type": "execute_result"
    }
   ],
   "source": [
    "// Accessing elements\n",
    "b(1,2)"
   ]
  },
  {
   "cell_type": "markdown",
   "id": "47c217bb-e8c8-49d0-8f23-d71567637b36",
   "metadata": {},
   "source": [
    "# Zeros"
   ]
  },
  {
   "cell_type": "code",
   "execution_count": 9,
   "id": "ed62c660-cc36-4194-a0e5-4e5c11badb74",
   "metadata": {},
   "outputs": [
    {
     "data": {
      "text/html": [
       "<table style='border-style:solid;border-width:1px;'><tbody><tr><td style='font-family:monospace;' title='(0, 0)'><pre> 0.</pre></td><td style='font-family:monospace;' title='(0, 1)'><pre> 0.</pre></td><td style='font-family:monospace;' title='(0, 2)'><pre> 0.</pre></td><td style='font-family:monospace;' title='(0, 3)'><pre> 0.</pre></td></tr><tr><td style='font-family:monospace;' title='(1, 0)'><pre> 0.</pre></td><td style='font-family:monospace;' title='(1, 1)'><pre> 0.</pre></td><td style='font-family:monospace;' title='(1, 2)'><pre> 0.</pre></td><td style='font-family:monospace;' title='(1, 3)'><pre> 0.</pre></td></tr><tr><td style='font-family:monospace;' title='(2, 0)'><pre> 0.</pre></td><td style='font-family:monospace;' title='(2, 1)'><pre> 0.</pre></td><td style='font-family:monospace;' title='(2, 2)'><pre> 0.</pre></td><td style='font-family:monospace;' title='(2, 3)'><pre> 0.</pre></td></tr></tbody></table>"
      ]
     },
     "execution_count": 9,
     "metadata": {},
     "output_type": "execute_result"
    }
   ],
   "source": [
    "xt::xarray<double> X = xt::zeros<double>({3, 4});\n",
    "X"
   ]
  },
  {
   "cell_type": "markdown",
   "id": "962ef1c1-c6b4-4cad-bfda-a2014f3521dc",
   "metadata": {},
   "source": [
    "# Ones"
   ]
  },
  {
   "cell_type": "code",
   "execution_count": 10,
   "id": "bfb442ae-dc0a-4ef9-9772-36863aec2ec2",
   "metadata": {},
   "outputs": [
    {
     "data": {
      "text/html": [
       "<table style='border-style:solid;border-width:1px;'><tbody><tr><td style='font-family:monospace;' title='(0, 0)'><pre> 1.</pre></td><td style='font-family:monospace;' title='(0, 1)'><pre> 1.</pre></td><td style='font-family:monospace;' title='(0, 2)'><pre> 1.</pre></td><td style='font-family:monospace;' title='(0, 3)'><pre> 1.</pre></td></tr><tr><td style='font-family:monospace;' title='(1, 0)'><pre> 1.</pre></td><td style='font-family:monospace;' title='(1, 1)'><pre> 1.</pre></td><td style='font-family:monospace;' title='(1, 2)'><pre> 1.</pre></td><td style='font-family:monospace;' title='(1, 3)'><pre> 1.</pre></td></tr><tr><td style='font-family:monospace;' title='(2, 0)'><pre> 1.</pre></td><td style='font-family:monospace;' title='(2, 1)'><pre> 1.</pre></td><td style='font-family:monospace;' title='(2, 2)'><pre> 1.</pre></td><td style='font-family:monospace;' title='(2, 3)'><pre> 1.</pre></td></tr></tbody></table>"
      ]
     },
     "execution_count": 10,
     "metadata": {},
     "output_type": "execute_result"
    }
   ],
   "source": [
    "xt::ones<double>({3, 4}) "
   ]
  },
  {
   "cell_type": "code",
   "execution_count": 11,
   "id": "52f30386-a71e-401a-b0cf-c5fd84c5f3c4",
   "metadata": {},
   "outputs": [
    {
     "data": {
      "text/html": [
       "<table style='border-style:solid;border-width:1px;'><tbody><tr><td style='font-family:monospace;' title='(0, 0)'><pre> 3.</pre></td><td style='font-family:monospace;' title='(0, 1)'><pre> 3.</pre></td><td style='font-family:monospace;' title='(0, 2)'><pre> 3.</pre></td><td style='font-family:monospace;' title='(0, 3)'><pre> 3.</pre></td></tr><tr><td style='font-family:monospace;' title='(1, 0)'><pre> 3.</pre></td><td style='font-family:monospace;' title='(1, 1)'><pre> 3.</pre></td><td style='font-family:monospace;' title='(1, 2)'><pre> 3.</pre></td><td style='font-family:monospace;' title='(1, 3)'><pre> 3.</pre></td></tr><tr><td style='font-family:monospace;' title='(2, 0)'><pre> 3.</pre></td><td style='font-family:monospace;' title='(2, 1)'><pre> 3.</pre></td><td style='font-family:monospace;' title='(2, 2)'><pre> 3.</pre></td><td style='font-family:monospace;' title='(2, 3)'><pre> 3.</pre></td></tr></tbody></table>"
      ]
     },
     "execution_count": 11,
     "metadata": {},
     "output_type": "execute_result"
    }
   ],
   "source": [
    "xt::ones<double>({3, 4}) * 3"
   ]
  },
  {
   "cell_type": "markdown",
   "id": "bfcc17ef-adbe-45e2-86d0-fa84c795a6a7",
   "metadata": {},
   "source": [
    "# Conditions and If Statements"
   ]
  },
  {
   "cell_type": "code",
   "execution_count": 12,
   "id": "044cd80b-eba4-4613-ac97-f6237211846e",
   "metadata": {},
   "outputs": [
    {
     "name": "stdout",
     "output_type": "stream",
     "text": [
      "yes!\n"
     ]
    }
   ],
   "source": [
    "if (0 < 1)\n",
    "{\n",
    "    std::cout << \"yes!\\n\"; \n",
    "}"
   ]
  },
  {
   "cell_type": "markdown",
   "id": "ead95ce5-d450-4b8d-b5c3-c9e871e45a8e",
   "metadata": {},
   "source": [
    "# Where"
   ]
  },
  {
   "cell_type": "markdown",
   "id": "dd7631e9-f0ee-42dd-8d03-46f12ddc374f",
   "metadata": {},
   "source": [
    "where(E&& b, E1&& e1, E2&& e2) returns an xexpression whose elements are those of e1 when corresponding elements of b are truthy, and those of e2 otherwise."
   ]
  },
  {
   "cell_type": "code",
   "execution_count": 13,
   "id": "fa5ee123-1c08-411c-97de-384de3ea8505",
   "metadata": {},
   "outputs": [
    {
     "data": {
      "text/html": [
       "<table style='border-style:solid;border-width:1px;'><tbody><tr><td style='font-family:monospace;' title='0'><pre>11</pre></td></tr><tr><td style='font-family:monospace;' title='1'><pre> 2</pre></td></tr><tr><td style='font-family:monospace;' title='2'><pre> 3</pre></td></tr><tr><td style='font-family:monospace;' title='3'><pre>14</pre></td></tr></tbody></table>"
      ]
     },
     "execution_count": 13,
     "metadata": {},
     "output_type": "execute_result"
    }
   ],
   "source": [
    "xt::xarray<bool> b = { false, true, true, false };\n",
    "xt::xarray<int> a1 = { 1,   2,  3,  4 };\n",
    "xt::xarray<int> a2 = { 11, 12, 13, 14 };\n",
    "\n",
    "xt::xarray<int> res = xt::where(b, a1, a2);\n",
    "res"
   ]
  },
  {
   "cell_type": "code",
   "execution_count": 14,
   "id": "c10c8044-e37e-4a34-8b29-1c7cc78e594e",
   "metadata": {},
   "outputs": [
    {
     "data": {
      "text/html": [
       "<table style='border-style:solid;border-width:1px;'><tbody><tr><td style='font-family:monospace;' title='0'><pre>20</pre></td></tr><tr><td style='font-family:monospace;' title='1'><pre>10</pre></td></tr><tr><td style='font-family:monospace;' title='2'><pre>10</pre></td></tr><tr><td style='font-family:monospace;' title='3'><pre>20</pre></td></tr></tbody></table>"
      ]
     },
     "execution_count": 14,
     "metadata": {},
     "output_type": "execute_result"
    }
   ],
   "source": [
    "xt::xarray<bool> b = { false, true, true, false };\n",
    "xt::xarray<int> res = xt::where(b, 10, 20);\n",
    "res"
   ]
  },
  {
   "cell_type": "markdown",
   "id": "06cea468-5590-4a32-9a66-c4d9b1f95e12",
   "metadata": {},
   "source": [
    "# Argwhere"
   ]
  },
  {
   "cell_type": "code",
   "execution_count": 58,
   "id": "76831a4b-bb9c-41f2-bd42-b5c685c1e679",
   "metadata": {},
   "outputs": [
    {
     "data": {
      "text/html": [
       "<table style='border-style:solid;border-width:1px;'><tbody><tr><td style='font-family:monospace;' title='(0, 0)'><pre>2</pre></td></tr><tr><td style='font-family:monospace;' title='(1, 0)'><pre>3</pre></td></tr></tbody></table>"
      ]
     },
     "execution_count": 58,
     "metadata": {},
     "output_type": "execute_result"
    }
   ],
   "source": [
    "xarray<int> a = { 1,   2,  4,  4 };\n",
    "\n",
    "xarray<int> idx = from_indices(argwhere(equal(a, 4)));\n",
    "idx"
   ]
  },
  {
   "cell_type": "markdown",
   "id": "1533543c-e0a8-41c2-aaa8-360a14bcfc73",
   "metadata": {},
   "source": [
    "# Filtration"
   ]
  },
  {
   "cell_type": "code",
   "execution_count": 16,
   "id": "b4209588-e38b-4dc8-b629-8114d6f01b61",
   "metadata": {},
   "outputs": [
    {
     "data": {
      "text/html": [
       "<table style='border-style:solid;border-width:1px;'><tbody><tr><td style='font-family:monospace;' title='(0, 0)'><pre>   1.</pre></td><td style='font-family:monospace;' title='(0, 1)'><pre> 105.</pre></td><td style='font-family:monospace;' title='(0, 2)'><pre>   3.</pre></td></tr><tr><td style='font-family:monospace;' title='(1, 0)'><pre>   4.</pre></td><td style='font-family:monospace;' title='(1, 1)'><pre> 105.</pre></td><td style='font-family:monospace;' title='(1, 2)'><pre> 106.</pre></td></tr></tbody></table>"
      ]
     },
     "execution_count": 16,
     "metadata": {},
     "output_type": "execute_result"
    }
   ],
   "source": [
    "xt::xarray<double> a = {{1, 5, 3}, {4, 5, 6}};\n",
    "filtration(a, a >= 5) += 100;\n",
    "a"
   ]
  },
  {
   "cell_type": "code",
   "execution_count": null,
   "id": "e3d50a49-18b5-4533-9864-6a5fe680c36b",
   "metadata": {},
   "outputs": [],
   "source": [
    "xarray<int> all_point_indices = arange(3);\n",
    "// filter(all_point_indices, all_point_indices>1)\n",
    "\n",
    "\n",
    "filter(all_point_indices, not_equal(all_point_indices, 1))"
   ]
  },
  {
   "cell_type": "markdown",
   "id": "295282a2-b777-45a1-ab40-4f9567236d11",
   "metadata": {},
   "source": [
    "# Mask"
   ]
  },
  {
   "cell_type": "code",
   "execution_count": 17,
   "id": "e92582fe-ca60-4ed8-bcf3-a849fe16eb9f",
   "metadata": {},
   "outputs": [
    {
     "data": {
      "text/html": [
       "<table style='border-style:solid;border-width:1px;'><tbody><tr><td style='font-family:monospace;' title='0'><pre>false</pre></td></tr><tr><td style='font-family:monospace;' title='1'><pre>false</pre></td></tr><tr><td style='font-family:monospace;' title='2'><pre> true</pre></td></tr><tr><td style='font-family:monospace;' title='3'><pre> true</pre></td></tr></tbody></table>"
      ]
     },
     "execution_count": 17,
     "metadata": {},
     "output_type": "execute_result"
    }
   ],
   "source": [
    "xarray<int> a = { 1,   2,  4,  4 };\n",
    "xt::xarray<bool> mask = a > 2;\n",
    "mask"
   ]
  },
  {
   "cell_type": "code",
   "execution_count": 18,
   "id": "69c1330c-7453-4ea5-8436-65e601b12c50",
   "metadata": {},
   "outputs": [],
   "source": [
    "// #include <xtensor/xmasked_view.hpp>\n",
    "// xt::masked_view(a, mask) "
   ]
  },
  {
   "cell_type": "markdown",
   "id": "9eb94cb9-6a60-4a1d-ba1e-a9928fe4ea98",
   "metadata": {},
   "source": [
    "# Views"
   ]
  },
  {
   "cell_type": "code",
   "execution_count": 19,
   "id": "8b6da791-40a9-4e1e-963e-270e8a695c15",
   "metadata": {},
   "outputs": [],
   "source": [
    "// auto v1 = view(a, range(1,3));"
   ]
  },
  {
   "cell_type": "markdown",
   "id": "8847145a-cf70-40e2-af0b-847d56795db1",
   "metadata": {},
   "source": [
    "# Loops\n",
    "\n",
    "https://xtensor.readthedocs.io/en/latest/quickref/iterator.htmlhttps://xtensor.readthedocs.io/en/latest/quickref/iterator.html\n"
   ]
  },
  {
   "cell_type": "code",
   "execution_count": 20,
   "id": "a9a6d977-8bd4-4ef4-a8e7-2fa7c5098b70",
   "metadata": {},
   "outputs": [
    {
     "name": "stdout",
     "output_type": "stream",
     "text": [
      "0\n",
      "1\n"
     ]
    }
   ],
   "source": [
    "int i = 0;\n",
    "while (i < 2) {\n",
    "    std::cout << i << std::endl;\n",
    "    i++;\n",
    "}"
   ]
  },
  {
   "cell_type": "code",
   "execution_count": 21,
   "id": "d864d075-6cda-4d42-b95d-69f4d83276ba",
   "metadata": {
    "tags": []
   },
   "outputs": [
    {
     "name": "stdout",
     "output_type": "stream",
     "text": [
      "1\n",
      "2\n",
      "3\n",
      "4\n"
     ]
    }
   ],
   "source": [
    "xarray<int> a = { 1, 2, 3, 4 };\n",
    "auto iter = axis_begin(a, 0);\n",
    "auto end = axis_end(a, 0);\n",
    "\n",
    "while(iter != end)\n",
    "{\n",
    "    std::cout << *iter << std::endl;\n",
    "    *iter++;\n",
    "}"
   ]
  },
  {
   "cell_type": "markdown",
   "id": "e076dbc9-9924-460d-8515-483f9dc68ea3",
   "metadata": {},
   "source": [
    "# Function"
   ]
  },
  {
   "cell_type": "code",
   "execution_count": 22,
   "id": "51159eb9-9e7c-4448-af9e-b8ca580a1bdc",
   "metadata": {},
   "outputs": [],
   "source": [
    "auto example_xarray(const xarray<int>& m)\n",
    "{\n",
    "    return m + 2;\n",
    "}"
   ]
  },
  {
   "cell_type": "code",
   "execution_count": 23,
   "id": "ae69771a-ed7c-46bb-a7bb-52a59a9970e6",
   "metadata": {},
   "outputs": [
    {
     "data": {
      "text/html": [
       "<table style='border-style:solid;border-width:1px;'><tbody><tr><td style='font-family:monospace;' title='0'><pre>3</pre></td></tr><tr><td style='font-family:monospace;' title='1'><pre>4</pre></td></tr><tr><td style='font-family:monospace;' title='2'><pre>5</pre></td></tr><tr><td style='font-family:monospace;' title='3'><pre>6</pre></td></tr></tbody></table>"
      ]
     },
     "execution_count": 23,
     "metadata": {},
     "output_type": "execute_result"
    }
   ],
   "source": [
    "example_xarray(a)"
   ]
  },
  {
   "cell_type": "code",
   "execution_count": 24,
   "id": "983b7cde-dc31-48a9-99cb-9e7d5f239ce8",
   "metadata": {
    "tags": []
   },
   "outputs": [
    {
     "name": "stdout",
     "output_type": "stream",
     "text": [
      "{  7.,  11.,  14.}\n"
     ]
    }
   ],
   "source": [
    "int main(int argc, char* argv[])\n",
    "{\n",
    "    xt::xarray<double> arr1\n",
    "      {{1.0, 2.0, 3.0},\n",
    "       {2.0, 5.0, 7.0},\n",
    "       {2.0, 5.0, 7.0}};\n",
    "\n",
    "    xt::xarray<double> arr2\n",
    "      {5.0, 6.0, 7.0};\n",
    "\n",
    "    xt::xarray<double> res = xt::view(arr1, 1) + arr2;\n",
    "\n",
    "    std::cout << res << std::endl;\n",
    "\n",
    "    return 0;\n",
    "}\n",
    "\n",
    "main(0,0);"
   ]
  },
  {
   "cell_type": "markdown",
   "id": "3958f2d5-f233-41e5-b3f2-a9b6d2623cd4",
   "metadata": {},
   "source": [
    "# Function inside function\n",
    "\n",
    "In current versions of c++ (C++11, C++14, and C++17), you can have functions inside functions in the form of a lambda:\n",
    "\n",
    "```cpp\n",
    "int main() {\n",
    "    // This declares a lambda, which can be called just like a function\n",
    "    auto print_message = [](std::string message) \n",
    "    { \n",
    "        std::cout << message << \"\\n\"; \n",
    "    };\n",
    "\n",
    "    // Prints \"Hello!\" 10 times\n",
    "    for(int i = 0; i < 10; i++) {\n",
    "        print_message(\"Hello!\"); \n",
    "    }\n",
    "}\n",
    "\n",
    "```\n",
    "\n",
    "Lambdas can also modify local variables through **capture-by-reference*. With capture-by-reference, the lambda has access to all local variables declared in the lambda's scope. It can modify and change them normally.\n",
    "\n",
    "```cpp\n",
    "int main() {\n",
    "    int i = 0;\n",
    "    // Captures i by reference; increments it by one\n",
    "    auto addOne = [&] () {\n",
    "        i++; \n",
    "    };\n",
    "\n",
    "    while(i < 10) {\n",
    "        addOne(); //Add 1 to i\n",
    "        std::cout << i << \"\\n\";\n",
    "    }\n",
    "}\n",
    "```"
   ]
  },
  {
   "cell_type": "markdown",
   "id": "d58492b3-fa7a-440c-9399-c7f6dfb983b0",
   "metadata": {},
   "source": [
    "# Shape"
   ]
  },
  {
   "cell_type": "code",
   "execution_count": 15,
   "id": "53fb1be0-cfa0-40a3-89c8-36758c6b3aa3",
   "metadata": {},
   "outputs": [
    {
     "name": "stdout",
     "output_type": "stream",
     "text": [
      "{3, 4}\n"
     ]
    }
   ],
   "source": [
    "auto shape = X.shape();\n",
    "\n",
    "std::cout << xt::adapt(shape) << std::endl;"
   ]
  },
  {
   "cell_type": "code",
   "execution_count": null,
   "id": "9678cfe2-9a57-4f34-bb65-c53e4991b467",
   "metadata": {},
   "outputs": [],
   "source": [
    "X.shape(0)"
   ]
  },
  {
   "cell_type": "markdown",
   "id": "6917c708-1466-4879-bfa7-034494577998",
   "metadata": {},
   "source": [
    "# Files\n",
    "\n",
    "- ofstream: Stream class to write on files\n",
    "- ifstream: Stream class to read from files\n",
    "- fstream: Stream class to both read and write from/to files.\n",
    "\n",
    "https://www.cplusplus.com/doc/tutorial/files/"
   ]
  },
  {
   "cell_type": "markdown",
   "id": "9965277c-6bb2-45cc-ad17-01b29c11b8f7",
   "metadata": {},
   "source": [
    "## Write"
   ]
  },
  {
   "cell_type": "code",
   "execution_count": 2,
   "id": "7fe1a176-7dbd-4b58-a1cd-ce1b6296783a",
   "metadata": {},
   "outputs": [],
   "source": [
    "// basic file operations\n",
    "#include <iostream>\n",
    "#include <fstream>\n",
    "using namespace std;\n",
    "\n",
    "\n",
    "ofstream myfile;\n",
    "myfile.open (\"example.txt\");\n",
    "myfile << \"Writing this to a file.\\n\";\n",
    "myfile.close();"
   ]
  },
  {
   "cell_type": "markdown",
   "id": "d7eecbdb-222f-4057-9ba1-ed47176cae46",
   "metadata": {},
   "source": [
    "## Write CSV"
   ]
  },
  {
   "cell_type": "code",
   "execution_count": null,
   "id": "2d25c4d6-fd82-461c-b25e-9e314f3a2954",
   "metadata": {},
   "outputs": [],
   "source": [
    "#include <iostream>\n",
    "#include <fstream>\n",
    "#include <xtensor/xarray.hpp>\n",
    "#include <xtensor/xcsv.hpp>\n",
    "\n",
    "using namespace std;\n",
    "using namespace xt;\n",
    "\n",
    "ofstream myfile;\n",
    "myfile.open (\"example.csv\");\n",
    "xarray<double> a = {{1,2,3,4}, {5,6,7,8}};\n",
    "dump_csv(myfile, a);\n",
    "myfile.close();"
   ]
  },
  {
   "cell_type": "markdown",
   "id": "b6d97686-2032-4ed1-b758-7de5ca6f1190",
   "metadata": {},
   "source": [
    "# Read CSV"
   ]
  },
  {
   "cell_type": "code",
   "execution_count": 3,
   "id": "682a5fd9-b4e1-4101-a224-78f3382c3563",
   "metadata": {},
   "outputs": [
    {
     "data": {
      "text/html": [
       "<table style='border-style:solid;border-width:1px;'><tbody><tr><td style='font-family:monospace;' title='(0, 0)'><pre>  4.2</pre></td><td style='font-family:monospace;' title='(0, 1)'><pre>  4. </pre></td><td style='font-family:monospace;' title='(0, 2)'><pre>  1. </pre></td></tr><tr><td style='font-family:monospace;' title='(1, 0)'><pre>  5.9</pre></td><td style='font-family:monospace;' title='(1, 1)'><pre>  3.9</pre></td><td style='font-family:monospace;' title='(1, 2)'><pre>  0. </pre></td></tr><tr><td style='font-family:monospace;' title='(2, 0)'><pre>  2.8</pre></td><td style='font-family:monospace;' title='(2, 1)'><pre>  3.5</pre></td><td style='font-family:monospace;' title='(2, 2)'><pre>  1. </pre></td></tr><tr><td style='font-family:monospace;' title='(3, 0)'><pre> 12. </pre></td><td style='font-family:monospace;' title='(3, 1)'><pre>  1.3</pre></td><td style='font-family:monospace;' title='(3, 2)'><pre>  2. </pre></td></tr><tr><td style='font-family:monospace;' title='(4, 0)'><pre> 10. </pre></td><td style='font-family:monospace;' title='(4, 1)'><pre>  1.3</pre></td><td style='font-family:monospace;' title='(4, 2)'><pre>  2. </pre></td></tr><tr><td style='font-family:monospace;' title='(5, 0)'><pre>  1.1</pre></td><td style='font-family:monospace;' title='(5, 1)'><pre>  3. </pre></td><td style='font-family:monospace;' title='(5, 2)'><pre>  1. </pre></td></tr><tr><td style='font-family:monospace;' title='(6, 0)'><pre>  0. </pre></td><td style='font-family:monospace;' title='(6, 1)'><pre>  2.4</pre></td><td style='font-family:monospace;' title='(6, 2)'><pre>  1. </pre></td></tr><tr><td style='font-family:monospace;' title='(7, 0)'><pre>  2.4</pre></td><td style='font-family:monospace;' title='(7, 1)'><pre>  2. </pre></td><td style='font-family:monospace;' title='(7, 2)'><pre>  1. </pre></td></tr><tr><td style='font-family:monospace;' title='(8, 0)'><pre> 11.5</pre></td><td style='font-family:monospace;' title='(8, 1)'><pre>  1.8</pre></td><td style='font-family:monospace;' title='(8, 2)'><pre>  2. </pre></td></tr><tr><td style='font-family:monospace;' title='(9, 0)'><pre> 11. </pre></td><td style='font-family:monospace;' title='(9, 1)'><pre>  1. </pre></td><td style='font-family:monospace;' title='(9, 2)'><pre>  2. </pre></td></tr><tr><td style='font-family:monospace;' title='(10, 0)'><pre>  0.9</pre></td><td style='font-family:monospace;' title='(10, 1)'><pre>  0. </pre></td><td style='font-family:monospace;' title='(10, 2)'><pre>  1. </pre></td></tr><tr><td style='font-family:monospace;' title='(11, 0)'><pre>  1. </pre></td><td style='font-family:monospace;' title='(11, 1)'><pre>  1.5</pre></td><td style='font-family:monospace;' title='(11, 2)'><pre>  1. </pre></td></tr></tbody></table>"
      ]
     },
     "execution_count": 3,
     "metadata": {},
     "output_type": "execute_result"
    }
   ],
   "source": [
    "#include <istream>\n",
    "#include <fstream>\n",
    "#include <iostream>\n",
    "\n",
    "#include <xtensor/xarray.hpp>\n",
    "#include <xtensor/xcsv.hpp>\n",
    "\n",
    "#include <iostream>\n",
    "#include <fstream>\n",
    "using namespace std;\n",
    "\n",
    "ifstream myfile;\n",
    "myfile.open (\"lecture_dataset.txt\");\n",
    "\n",
    "auto data = xt::load_csv<double>(myfile);\n",
    "myfile.close();\n",
    "\n",
    "data.reshape(data.shape());\n",
    "\n",
    "data"
   ]
  },
  {
   "cell_type": "code",
   "execution_count": null,
   "id": "791dea97-b6cb-485e-a479-88a88016291a",
   "metadata": {},
   "outputs": [],
   "source": []
  }
 ],
 "metadata": {
  "kernelspec": {
   "display_name": "C++14",
   "language": "C++14",
   "name": "xcpp14"
  },
  "language_info": {
   "codemirror_mode": "text/x-c++src",
   "file_extension": ".cpp",
   "mimetype": "text/x-c++src",
   "name": "c++",
   "version": "14"
  }
 },
 "nbformat": 4,
 "nbformat_minor": 5
}
