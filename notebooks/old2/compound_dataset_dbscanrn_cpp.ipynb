{
 "cells": [
  {
   "cell_type": "code",
   "execution_count": 8,
   "id": "02494d81-090d-4f34-b636-2d65889a5bd2",
   "metadata": {},
   "outputs": [],
   "source": [
    "#include <iostream>\n",
    "#include <xtensor/xarray.hpp>\n",
    "#include <xtensor/xio.hpp>\n",
    "#include <xtensor/xview.hpp>\n",
    "#include <xtensor/xarray.hpp>\n",
    "#include <xtensor/xfixed.hpp>\n",
    "#include <xtensor/xio.hpp>\n",
    "#include <xtensor/xtensor.hpp>\n",
    "#include <xtensor/xadapt.hpp>\n",
    "#include <xtensor/xarray.hpp>\n",
    "#include <xtensor/xaxis_slice_iterator.hpp>\n",
    "#include <xtensor/xaxis_iterator.hpp>\n",
    "#include <xtensor/xio.hpp>\n",
    "#include <xtensor/xarray.hpp>\n",
    "#include <xtensor/xindex_view.hpp>\n",
    "#include <xtensor/xchunked_array.hpp>\n",
    "#include <xtensor/xfixed.hpp>\n",
    "#include <cstddef>\n",
    "#include <vector>\n",
    "#include <xtensor/xarray.hpp>\n",
    "#include <xtensor/xadapt.hpp>\n",
    "#include <istream>\n",
    "#include <fstream>\n",
    "#include <iostream>\n",
    "#include <xtensor/xarray.hpp>\n",
    "#include <xtensor/xcsv.hpp>\n",
    "#include <iostream>\n",
    "#include <fstream>\n",
    "#include <functional>\n",
    "#include <cstdio>\n",
    "#include <xtensor/xcsv.hpp>\n",
    "#include <xcpp/xdisplay.hpp>\n",
    "#include <xtensor/xsort.hpp>\n",
    "\n",
    "using namespace xt;\n",
    "using namespace xt::placeholders;  // to enable _ syntax\n",
    "\n",
    "#include <iostream>\n",
    "#include <fstream>\n",
    "using namespace std;\n",
    "\n",
    "#include <chrono>\n",
    "using namespace std::chrono;"
   ]
  },
  {
   "cell_type": "code",
   "execution_count": 9,
   "id": "86925be1-ff2b-4078-96fe-4d9ca42c323f",
   "metadata": {},
   "outputs": [],
   "source": [
    "double current_time(){\n",
    "    auto current_time = std::chrono::system_clock::now();\n",
    "    auto duration_in_seconds = std::chrono::duration<double>(current_time.time_since_epoch());\n",
    "    double num_seconds = duration_in_seconds.count();\n",
    "    return num_seconds;\n",
    "}"
   ]
  },
  {
   "cell_type": "markdown",
   "id": "3b3597be-1a72-4704-a64f-5815417df41f",
   "metadata": {},
   "source": [
    "# Load data"
   ]
  },
  {
   "cell_type": "code",
   "execution_count": 10,
   "id": "fabe74e9-5489-4e32-89cd-02644cf221ee",
   "metadata": {
    "tags": []
   },
   "outputs": [],
   "source": [
    "ofstream outfile;\n",
    "outfile.open(\"../out/LOG_dbscanrn_cpp_compound_dataset_D2_R12_k2_cosine_dissimilarity_rMin.log\");\n",
    "\n",
    "auto start =  chrono::high_resolution_clock::now();\n",
    "\n",
    "ifstream input_file;\n",
    "input_file.open(\"../data/compound_dataset.txt\");\n",
    "auto data = load_csv<double>(input_file);\n",
    "input_file.close();\n",
    "\n",
    "auto end =  chrono::high_resolution_clock::now();\n",
    "duration<double> elapsed = (end - start);\n",
    "outfile << std::setprecision (16) << current_time() << \",reading_data,\" <<\n",
    "    \",,\" << elapsed.count() << ',' << endl;\n",
    "\n",
    "data.reshape(data.shape());\n",
    "xarray<double> X = view(data, all(), range(0, 2));"
   ]
  },
  {
   "cell_type": "markdown",
   "id": "dacfb554-3e06-486c-913b-b9a04c03e3fe",
   "metadata": {},
   "source": [
    "# Similarity\n",
    "\n"
   ]
  },
  {
   "cell_type": "code",
   "execution_count": 11,
   "id": "d755c71c-c93c-434a-b1b2-a44d694251b1",
   "metadata": {},
   "outputs": [],
   "source": [
    "float cosine_dissimilarity(const xarray<double>& a, const xarray<double>& b){ \n",
    "    auto numerator = sum(a * b);\n",
    "    auto denominator = sqrt(sum(pow(a, 2))) * sqrt(sum(pow(b, 2)));\n",
    "    auto result = numerator / denominator;\n",
    "    return 1 - result(0);\n",
    "}"
   ]
  },
  {
   "cell_type": "markdown",
   "id": "2dec2ff4-dd18-4b3a-9185-c3232651ec9c",
   "metadata": {
    "tags": []
   },
   "source": [
    "# Normalization"
   ]
  },
  {
   "cell_type": "code",
   "execution_count": 12,
   "id": "37c079aa-4243-4d87-84f4-13bb942f9766",
   "metadata": {},
   "outputs": [],
   "source": [
    "auto normalize(const xarray<double>& a){ \n",
    "    xarray<double> result = a / sqrt(sum(pow(a, 2)));\n",
    "    return result;\n",
    "}"
   ]
  },
  {
   "cell_type": "markdown",
   "id": "81fd4fea-ebec-4a39-9636-d0647e8a2d8a",
   "metadata": {},
   "source": [
    "# Clusterization"
   ]
  },
  {
   "cell_type": "code",
   "execution_count": 13,
   "id": "6ae42a79-ec8d-44fa-815c-54557975fba5",
   "metadata": {
    "tags": []
   },
   "outputs": [],
   "source": [
    "auto dbscanrn(const xarray<float>& X_original, int k)\n",
    "{\n",
    "    outfile << std::setprecision (16) << current_time() << \",start log,,,\" << endl;\n",
    "    \n",
    "    // normalization\n",
    "    auto start =  chrono::high_resolution_clock::now();\n",
    "    xarray<float> X = normalize(X_original);\n",
    "    auto end =  chrono::high_resolution_clock::now();\n",
    "    std::chrono::duration<double> elapsed = end - start;\n",
    "\n",
    "    outfile << std::setprecision (16) << current_time() << \",normalization_time,\" <<\n",
    "        \",,\" << elapsed.count() << ',' << endl;\n",
    "    \n",
    "    // each data point can be in one of 3 stages\n",
    "    int NOT_VISITED = -1; // not visited point\n",
    "    int VISITED = 0; // non-core point\n",
    "    int CLUSTERED = 1; // core point\n",
    "\n",
    "    // initial setup\n",
    "    int n = X.shape()[0];\n",
    "    xarray<double> cluster = ones<double>({n}) * -1; // cluster register\n",
    "    xarray<double> state = ones<double>({n}) * NOT_VISITED; // state register\n",
    "    int cluster_id = 1;\n",
    "    auto all_point_indices = arange(n);\n",
    "    map<int, vector<int>> point_rnn;\n",
    "    map<int, xarray<int>> point_knn;\n",
    "    \n",
    "    auto get_knn = [&] (int current_index, xarray<int> neighbor_indices, int k){\n",
    "        xarray<float> neighbor_similaritys = {0};\n",
    "        for (auto& neighbor_index : neighbor_indices) {\n",
    "            \n",
    "            outfile << std::setprecision (16) << current_time() << \",similarity_calculation,\" <<\n",
    "                current_index << \",,\" << endl;\n",
    "            \n",
    "            auto similarity = cosine_dissimilarity(\n",
    "                row(X, neighbor_index), row(X, current_index)\n",
    "            );\n",
    "            neighbor_similaritys = concatenate(\n",
    "                xtuple(neighbor_similaritys, xarray<float> {similarity})\n",
    "            );\n",
    "        };\n",
    "        xarray<int> sort_indices = argsort(view(neighbor_similaritys, range(1, all())));\n",
    "        xarray<int> neighbor_indices_sorted = index_view(neighbor_indices, sort_indices); \n",
    "        point_knn[(int) current_index] = view(neighbor_indices_sorted, range(0, k));  \n",
    "        \n",
    "        outfile << std::setprecision (16) << current_time() << \",knn_neighbors_id,\" <<\n",
    "                current_index << \",\";\n",
    "        for(auto& i : point_knn[(int) current_index]) {outfile << i << \";\"; }\n",
    "        outfile << endl;\n",
    "        outfile << std::setprecision (16) << current_time() << \",|knn_neighbors|,\" <<\n",
    "        current_index << \",\" << (int) point_knn[(int) current_index].shape(0) << \",\" << endl;\n",
    "    };    \n",
    "    \n",
    "    auto get_pointwise_rnn = [&] (int current_index){\n",
    "        vector<int> rnn;\n",
    "        for (auto& neighbor_index : point_knn[(int) current_index]) {\n",
    "            if ((point_knn[(int) neighbor_index], (int) current_index)) {\n",
    "                rnn.push_back((int) neighbor_index);\n",
    "            };\n",
    "        };\n",
    "        \n",
    "        point_rnn[(int) current_index] = rnn;\n",
    "    };\n",
    "    \n",
    "    auto get_rnn = [&] (){\n",
    "        \n",
    "        auto start =  chrono::high_resolution_clock::now();\n",
    "        for (int current_index = 0; current_index < n; current_index++) {\n",
    "            // remove current index from neighbors\n",
    "            xarray<int> neighbor_indices = col(\n",
    "                from_indices(argwhere(not_equal(all_point_indices, current_index))), 0\n",
    "            );\n",
    "            get_knn((int) current_index, neighbor_indices, k);\n",
    "        };\n",
    "        auto end = chrono::high_resolution_clock::now();\n",
    "        std::chrono::duration<double> elapsed = end - start;\n",
    "        \n",
    "        outfile << std::setprecision (16) << current_time() << \",knn_time,\" <<\n",
    "            \",,\" << elapsed.count() << ',' << endl;\n",
    "        \n",
    "        start =  chrono::high_resolution_clock::now();\n",
    "        for (int current_index =  0; current_index < n; current_index++) {\n",
    "            get_pointwise_rnn((int) current_index);\n",
    "            outfile << std::setprecision (16) << current_time() << \",|rnn_neighbors|,\" <<\n",
    "                current_index << \",\" << (int) point_knn[(int) current_index].shape(0) << \n",
    "                \",\" << endl;\n",
    "        };\n",
    "        end = chrono::high_resolution_clock::now();\n",
    "        elapsed = end - start;\n",
    "        \n",
    "        outfile << std::setprecision (16) << current_time() << \",rnn_time,\" <<\n",
    "            \",,\" << elapsed.count() << ',' << endl;\n",
    "    };\n",
    "\n",
    "    // extend cluster\n",
    "    function < void( int ) > search = [&] (int current_index) -> void {\n",
    "        if (point_rnn[(int) current_index].size() <  k) {\n",
    "            state[(int) current_index] = VISITED;\n",
    "        } else {\n",
    "            state[(int) current_index] = CLUSTERED;\n",
    "            cluster[(int) current_index] = cluster_id;\n",
    "            for (auto& neighbor_index : point_rnn[(int) current_index]) {\n",
    "                if (state[(int) neighbor_index] == NOT_VISITED) {\n",
    "                    search(neighbor_index);\n",
    "                };\n",
    "                state[(int) neighbor_index] = CLUSTERED;\n",
    "                cluster[(int) neighbor_index] = cluster_id;\n",
    "            };\n",
    "        };\n",
    "    };\n",
    "    \n",
    "    get_rnn();\n",
    "    \n",
    "    // visit all points\n",
    "    while (any(equal(state, NOT_VISITED))){\n",
    "        xarray<int> idx = from_indices(argwhere(equal(state, NOT_VISITED)));\n",
    "        search(idx(0,0));\n",
    "        cluster_id++;\n",
    "    }\n",
    "\n",
    "    // clusterize all outlier points to nearest cluster \n",
    "    while (any(equal(state, VISITED))){\n",
    "        xarray<int> idx_not_clustered = from_indices(argwhere(equal(state, VISITED)));\n",
    "        xarray<int> idx_clustered = from_indices(argwhere(equal(state, CLUSTERED)));\n",
    "        get_knn((int) idx_not_clustered(0,0), idx_clustered, 1);\n",
    "        auto closest_clustered_idx = point_knn[(int) idx_not_clustered(0,0)](0);\n",
    "        cluster[(int) idx_not_clustered(0,0)] = cluster[(int) closest_clustered_idx];\n",
    "        state[(int) idx_not_clustered(0,0)] = CLUSTERED;\n",
    "    }\n",
    "    outfile << std::setprecision (16) << current_time() << \",stop log,,,\" << endl;\n",
    "    return cluster;\n",
    "}\n",
    "\n",
    "auto y_pred = dbscanrn(X, 4);\n",
    "// y_pred"
   ]
  },
  {
   "cell_type": "markdown",
   "id": "cf9d87c7-69f9-49f4-8ccf-df731ff4e377",
   "metadata": {},
   "source": [
    "# Save output to csv"
   ]
  },
  {
   "cell_type": "code",
   "execution_count": 14,
   "id": "b3f627b6-a863-41c4-9f80-821af769c927",
   "metadata": {},
   "outputs": [],
   "source": [
    "start = chrono::high_resolution_clock::now();\n",
    "\n",
    "ofstream out_file;\n",
    "out_file.open(\"../out/dbscanrn_cpp_compound_dataset.csv\");\n",
    "dump_csv(out_file, view(y_pred, all(), newaxis()));\n",
    "out_file.close();\n",
    "\n",
    "duration<double> elapsed = (chrono::high_resolution_clock::now() - start);\n",
    "outfile << std::setprecision (16) << current_time() << \",writing_data,\" <<\n",
    "    \",,\" << elapsed.count() << ',' << endl;\n",
    "outfile.close();"
   ]
  },
  {
   "cell_type": "markdown",
   "id": "a0da99c7-2331-4862-b584-c3db57d1b646",
   "metadata": {},
   "source": [
    "# To execute following cells change kernel into python "
   ]
  },
  {
   "cell_type": "code",
   "execution_count": 1,
   "id": "3d1daf26-cd8b-4d87-9cc9-dd0dfc1f5ce0",
   "metadata": {},
   "outputs": [
    {
     "name": "stdout",
     "output_type": "stream",
     "text": [
      "/work\n"
     ]
    }
   ],
   "source": [
    "cd .."
   ]
  },
  {
   "cell_type": "code",
   "execution_count": 4,
   "id": "5a171db1-84fe-420f-b5fe-a36e772d55f6",
   "metadata": {
    "tags": []
   },
   "outputs": [
    {
     "data": {
      "image/png": "[encoded data removed]",
      "text/plain": [
       "<Figure size 432x288 with 1 Axes>"
      ]
     },
     "metadata": {
      "needs_background": "light"
     },
     "output_type": "display_data"
    }
   ],
   "source": [
    "import pandas as pd\n",
    "from src.datasets import Dataset\n",
    "from src.utils import *\n",
    "\n",
    "dataset = Dataset('./data/compound_dataset.txt')\n",
    "X, y = dataset.X, dataset.y\n",
    "c = pd.read_csv(\"./out/dbscanrn_cpp_compound_dataset.csv\", header=None)\n",
    "display_points(X, c, 'Normalized', numerate=False)"
   ]
  },
  {
   "cell_type": "code",
   "execution_count": null,
   "id": "15c62016-bb00-48be-8feb-8d92c7c21ddf",
   "metadata": {},
   "outputs": [],
   "source": []
  }
 ],
 "metadata": {
  "kernelspec": {
   "display_name": "C++14",
   "language": "C++14",
   "name": "xcpp14"
  },
  "language_info": {
   "codemirror_mode": "text/x-c++src",
   "file_extension": ".cpp",
   "mimetype": "text/x-c++src",
   "name": "c++",
   "version": "14"
  }
 },
 "nbformat": 4,
 "nbformat_minor": 5
}
