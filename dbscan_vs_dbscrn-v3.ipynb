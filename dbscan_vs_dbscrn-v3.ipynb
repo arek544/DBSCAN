{
 "cells": [
  {
   "cell_type": "markdown",
   "id": "senior-shelter",
   "metadata": {
    "tags": []
   },
   "source": [
    "# DBSCAN vs DBSCRN"
   ]
  },
  {
   "cell_type": "code",
   "execution_count": 1,
   "id": "useful-content",
   "metadata": {},
   "outputs": [],
   "source": [
    "import time\n",
    "import warnings\n",
    "import math\n",
    "from collections import Counter\n",
    "\n",
    "import numpy as np\n",
    "import matplotlib.pyplot as plt\n",
    "\n",
    "import pandas as pd\n",
    "\n",
    "from sklearn import cluster, datasets\n",
    "from sklearn.preprocessing import StandardScaler\n",
    "from itertools import cycle, islice\n",
    "from sklearn import cluster\n",
    "from sklearn import preprocessing\n",
    "\n",
    "np.random.seed(0)\n",
    "\n",
    "def cluster_encoder(cluster):\n",
    "    le = preprocessing.LabelEncoder()\n",
    "    le.fit(cluster)\n",
    "    return le.transform(cluster)"
   ]
  },
  {
   "cell_type": "markdown",
   "id": "voluntary-seven",
   "metadata": {},
   "source": [
    "# Dataset: example from lecture"
   ]
  },
  {
   "cell_type": "code",
   "execution_count": 2,
   "id": "interpreted-florist",
   "metadata": {},
   "outputs": [
    {
     "data": {
      "image/png": "[encoded data removed]",
      "text/plain": [
       "<Figure size 432x288 with 1 Axes>"
      ]
     },
     "metadata": {
      "needs_background": "light"
     },
     "output_type": "display_data"
    }
   ],
   "source": [
    "X = np.array(\n",
    "    [[4.2, 4.0], \n",
    "    [5.9, 3.9],\n",
    "    [2.8, 3.5],\n",
    "    [12.0, 1.3],\n",
    "    [10.0, 1.3],\n",
    "    [1.1, 3.0],\n",
    "    [0.0, 2.4],\n",
    "    [2.4, 2.0],\n",
    "    [11.5, 1.8],\n",
    "    [11.0, 1.0],\n",
    "    [0.9, 0.0],\n",
    "    [1.0, 1.5]], np.single)\n",
    "\n",
    "# X = StandardScaler().fit_transform(X)\n",
    "\n",
    "# real clusters\n",
    "y =  np.array([1, 0, 1, 2, 2, 1, 1, 1, 2, 2, 1, 1])\n",
    "\n",
    "fig, ax = plt.subplots()\n",
    "for i, txt in enumerate(range(len(X))):\n",
    "    ax.annotate(i, (X[i,0], X[i,1]), size=15)\n",
    "ax.scatter(X[:,0], X[:,1]);"
   ]
  },
  {
   "cell_type": "markdown",
   "id": "87ee34ec-bc7f-4729-ba30-25380e2dcd3c",
   "metadata": {},
   "source": [
    "# Clusterization performance metrics"
   ]
  },
  {
   "cell_type": "code",
   "execution_count": 3,
   "id": "premium-understanding",
   "metadata": {
    "tags": []
   },
   "outputs": [],
   "source": [
    "from sklearn.metrics.cluster import adjusted_rand_score\n",
    "from sklearn.cluster import KMeans\n",
    "from sklearn import metrics\n",
    "from sklearn.metrics import davies_bouldin_score\n",
    "# from sklearn.metrics import pairwise_distance\n",
    "\n",
    "# n_clusters: the number of discovered clusters,\n",
    "# y: real clusters,\n",
    "# c: discovered clusters\n",
    "\n",
    "# Purity\n",
    "def purity(C, G):\n",
    "    common_items_inclusters = metrics.cluster.contingency_matrix(C, G)\n",
    "    purity_score = np.sum(np.amax(common_items_inclusters, axis=0)) / np.sum(common_items_inclusters)\n",
    "    return purity_score\n",
    "\n",
    "def evaluate(y_pred, y_true, data):\n",
    "    y_pred = cluster_encoder(y_pred)\n",
    "    return {\n",
    "        \"purity\": purity(y_true, y_pred),\n",
    "        \"adjusted_rand_score\": adjusted_rand_score(y_true, y_pred),\n",
    "        \"davies_bouldin_score\": davies_bouldin_score(data, y_pred),\n",
    "        \"silhouette_score_euclidean\": metrics.silhouette_score(data, y_pred, metric = 'euclidean'),\n",
    "        \"silhouette_score_cosine\": metrics.silhouette_score(data, y_pred, metric = 'cosine'),\n",
    "    }"
   ]
  },
  {
   "cell_type": "markdown",
   "id": "2c3cfd53-21eb-4274-8cf4-60be97be4254",
   "metadata": {},
   "source": [
    "# Distance or (dis)similarity measures "
   ]
  },
  {
   "cell_type": "markdown",
   "id": "assumed-damages",
   "metadata": {
    "tags": []
   },
   "source": [
    "## Euclidean similarity"
   ]
  },
  {
   "cell_type": "code",
   "execution_count": 4,
   "id": "pressing-gardening",
   "metadata": {},
   "outputs": [],
   "source": [
    "def euclidean_distance(a, b):\n",
    "    similarity_measure = 0\n",
    "    for i in range(len(a)):\n",
    "         similarity_measure += pow((a[i] - b[i]), 2)\n",
    "    return np.sqrt(similarity_measure)"
   ]
  },
  {
   "cell_type": "markdown",
   "id": "rough-offset",
   "metadata": {},
   "source": [
    "## Cosinus dissimilarity "
   ]
  },
  {
   "cell_type": "code",
   "execution_count": 5,
   "id": "minus-slovakia",
   "metadata": {},
   "outputs": [],
   "source": [
    "def cosine_dissimilarity(a, b):\n",
    "    dot = 0\n",
    "    norm_a = 0\n",
    "    norm_b = 0\n",
    "    for i in range(len(a)):\n",
    "        dot += a[i] * b[i]\n",
    "        norm_a += a[i]**2\n",
    "        norm_b += b[i]**2\n",
    "    return 1 - dot / (norm_a * norm_b)**0.5"
   ]
  },
  {
   "cell_type": "markdown",
   "id": "4df09d7b-31ec-4642-8508-6c816e828170",
   "metadata": {},
   "source": [
    "# DBSCAN"
   ]
  },
  {
   "cell_type": "markdown",
   "id": "occupational-jonathan",
   "metadata": {},
   "source": [
    "## Get reachable neighbors"
   ]
  },
  {
   "cell_type": "code",
   "execution_count": 6,
   "id": "favorite-learning",
   "metadata": {},
   "outputs": [],
   "source": [
    "def get_neighbors(X, current_index, epsilon, similarity):\n",
    "    neighbor_indices = []\n",
    "    for neighbor_index, neighbor in enumerate(X):\n",
    "        if similarity(neighbor, X[current_index]) <= epsilon:\n",
    "            neighbor_indices.append(neighbor_index)\n",
    "    return neighbor_indices"
   ]
  },
  {
   "cell_type": "markdown",
   "id": "9b9b25bf-cd03-4b4f-be56-b649c81887b2",
   "metadata": {},
   "source": [
    "## Clusterization algorithm"
   ]
  },
  {
   "cell_type": "code",
   "execution_count": 7,
   "id": "thick-blowing",
   "metadata": {},
   "outputs": [],
   "source": [
    "def dbscan(X, epsilon, minPts, similarity):\n",
    "    \n",
    "    # each data point can be in one of 3 stages\n",
    "    NOT_VISITED = 0 # not visited point\n",
    "    VISTED = 1 # non-core point\n",
    "    CLUSTERED = 2 # core point\n",
    "    \n",
    "    # initial setup\n",
    "    n = X.shape[0]\n",
    "    cluster = np.array([0] * n) # cluster register\n",
    "    state = np.array([NOT_VISITED] * n) # state register\n",
    "    cluster_id = 1\n",
    "\n",
    "    def search(current_index, cluster_id, epsilon, minPts, similarity):\n",
    "        neighbor_indices = get_neighbors(X, current_index, epsilon, similarity)\n",
    "        if len(neighbor_indices) >= minPts:\n",
    "            state[current_index] = CLUSTERED\n",
    "            cluster[current_index] = cluster_id\n",
    "            for neighbor_index in neighbor_indices:\n",
    "                if state[neighbor_index] == NOT_VISITED:\n",
    "                    state[neighbor_index] = CLUSTERED\n",
    "                    cluster[neighbor_index] = cluster_id\n",
    "                    search(neighbor_index, cluster_id, epsilon, minPts, similarity)\n",
    "        else:\n",
    "            state[current_index] = VISTED\n",
    "\n",
    "    while NOT_VISITED in state:\n",
    "        not_visited_ids = np.where(state==NOT_VISITED)[0]\n",
    "        search(not_visited_ids[0], cluster_id, epsilon, minPts, similarity)\n",
    "        cluster_id += 1\n",
    "    \n",
    "    return cluster"
   ]
  },
  {
   "cell_type": "markdown",
   "id": "1ab1c46f-8ef8-4deb-abe5-4220e96d164e",
   "metadata": {},
   "source": [
    "## Evaluation"
   ]
  },
  {
   "cell_type": "markdown",
   "id": "a491d114-5661-49f4-8492-ecf48ed90b3f",
   "metadata": {},
   "source": [
    "### Euclidean distance"
   ]
  },
  {
   "cell_type": "code",
   "execution_count": 8,
   "id": "4b822c20-2027-4c10-b353-af6118fdee09",
   "metadata": {},
   "outputs": [
    {
     "data": {
      "image/png": "[encoded data removed]",
      "text/plain": [
       "<Figure size 432x288 with 1 Axes>"
      ]
     },
     "metadata": {
      "needs_background": "light"
     },
     "output_type": "display_data"
    },
    {
     "data": {
      "text/plain": [
       "{'purity': 0.9166666666666666,\n",
       " 'adjusted_rand_score': 0.7890410958904109,\n",
       " 'davies_bouldin_score': 0.30755551210315785,\n",
       " 'silhouette_score_euclidean': 0.7137552,\n",
       " 'silhouette_score_cosine': 0.50933105}"
      ]
     },
     "execution_count": 8,
     "metadata": {},
     "output_type": "execute_result"
    }
   ],
   "source": [
    "y_pred = dbscan(X=X, epsilon=1.1, minPts=2, similarity=euclidean_distance)\n",
    "\n",
    "# display results\n",
    "fig, ax = plt.subplots()\n",
    "ax.scatter(X[:,0], X[:,1], c=y_pred)\n",
    "plt.show()\n",
    "\n",
    "# evaluation\n",
    "evaluate(y_pred, y, X)"
   ]
  },
  {
   "cell_type": "markdown",
   "id": "06e1b791-a42d-4e4c-b25c-9375edb36816",
   "metadata": {},
   "source": [
    "### Cosine dissimilarity"
   ]
  },
  {
   "cell_type": "code",
   "execution_count": 9,
   "id": "attached-significance",
   "metadata": {},
   "outputs": [
    {
     "data": {
      "image/png": "[encoded data removed]",
      "text/plain": [
       "<Figure size 432x288 with 1 Axes>"
      ]
     },
     "metadata": {
      "needs_background": "light"
     },
     "output_type": "display_data"
    },
    {
     "data": {
      "text/plain": [
       "{'purity': 0.8333333333333334,\n",
       " 'adjusted_rand_score': 0.5097493036211699,\n",
       " 'davies_bouldin_score': 0.7589424132751467,\n",
       " 'silhouette_score_euclidean': 0.50847596,\n",
       " 'silhouette_score_cosine': 0.76168364}"
      ]
     },
     "execution_count": 9,
     "metadata": {},
     "output_type": "execute_result"
    }
   ],
   "source": [
    "y_pred = dbscan(X=X, epsilon=0.09, minPts=4, similarity=cosine_dissimilarity)\n",
    "\n",
    "# display results\n",
    "fig, ax = plt.subplots()\n",
    "ax.scatter(X[:,0], X[:,1], c=y_pred)\n",
    "plt.show()\n",
    "\n",
    "# evaluation\n",
    "evaluate(y_pred, y, X)"
   ]
  },
  {
   "cell_type": "markdown",
   "id": "liquid-campus",
   "metadata": {},
   "source": [
    "# DBSCANRN"
   ]
  },
  {
   "cell_type": "markdown",
   "id": "804198bf-3d68-4078-9686-6d6dd27c9211",
   "metadata": {
    "tags": []
   },
   "source": [
    "## KNN"
   ]
  },
  {
   "cell_type": "code",
   "execution_count": 10,
   "id": "300d3845-9773-43f6-a17f-a2b5f2f34398",
   "metadata": {},
   "outputs": [],
   "source": [
    "def get_knn(current_index, neighbor_indices, k, similarity, X):\n",
    "    if current_index in neighbor_indices: neighbor_indices.remove(current_index)\n",
    "    neighbor_similaritys = []\n",
    "    for neighbor_index in neighbor_indices:\n",
    "        similarity_measure = similarity(X[neighbor_index], X[current_index])\n",
    "        neighbor_similaritys.append(similarity_measure) \n",
    "    sort_indices = np.argsort(neighbor_similaritys)\n",
    "    neighbor_indices = np.array(neighbor_indices)\n",
    "    return neighbor_indices[sort_indices][:k].tolist()"
   ]
  },
  {
   "cell_type": "code",
   "execution_count": 11,
   "id": "7386c10c-bb1a-4f4a-bae2-fca1b7f6060f",
   "metadata": {},
   "outputs": [],
   "source": [
    "def get_tiknn(current_index, neighbor_indices, k, similarity, X):\n",
    "    if current_index in neighbor_indices: neighbor_indices.remove(current_index)\n",
    "\n",
    "    return"
   ]
  },
  {
   "cell_type": "code",
   "execution_count": 16,
   "id": "7d41660c-7c58-49ec-91a6-4426bff6ada8",
   "metadata": {},
   "outputs": [
    {
     "name": "stdout",
     "output_type": "stream",
     "text": [
      "0 [2, 1]\n",
      "1 [0, 2]\n",
      "2 [0, 7]\n",
      "3 [8, 9]\n",
      "4 [9, 8]\n",
      "5 [6, 11]\n",
      "6 [5, 11]\n",
      "7 [11, 2]\n",
      "8 [3, 9]\n",
      "9 [8, 3]\n",
      "10 [11, 7]\n",
      "11 [6, 7]\n"
     ]
    }
   ],
   "source": [
    "# check\n",
    "all_point_indices = list(range(len(X)))\n",
    "for x in range(len(all_point_indices)):\n",
    "    print(x, get_knn(x, all_point_indices[:], 2, euclidean_distance, X))"
   ]
  },
  {
   "cell_type": "code",
   "execution_count": null,
   "id": "c321c34e-de06-476b-acdd-e4665f16e8c9",
   "metadata": {},
   "outputs": [],
   "source": [
    "def check_pessimistic_estimation(df, df2, current_point):\n",
    "    # calculate real distance to current point\n",
    "    df2['real'] = df2.apply(lambda row: euclidean_distance(row[['x','y']], current_point[['x','y']].values[0]), axis=1)\n",
    "    df.update(df2)\n",
    "    # choose max real distance\n",
    "    max_val = df2.max()\n",
    "    # get points with fake distance below max real distance \n",
    "    return df[(df['fake_distance'] < max_val['real']) & (df['fake_distance'] > 1) & (df['real'].isna())]"
   ]
  },
  {
   "cell_type": "code",
   "execution_count": 23,
   "id": "94b9f0de-889a-420f-bf96-07448425029b",
   "metadata": {},
   "outputs": [
    {
     "name": "stdout",
     "output_type": "stream",
     "text": [
      "   index    x    y      real  r_distnace  fake_distance\n",
      "0    0.0  4.2  4.0  1.486607      5.8000       1.317813\n",
      "7    7.0  2.4  2.0  1.552417      3.1241       1.358087\n"
     ]
    },
    {
     "name": "stderr",
     "output_type": "stream",
     "text": [
      "/tmp/ipykernel_17636/2481045202.py:3: SettingWithCopyWarning: \n",
      "A value is trying to be set on a copy of a slice from a DataFrame.\n",
      "Try using .loc[row_indexer,col_indexer] = value instead\n",
      "\n",
      "See the caveats in the documentation: https://pandas.pydata.org/pandas-docs/stable/user_guide/indexing.html#returning-a-view-versus-a-copy\n",
      "  df2['real'] = df2.apply(lambda row: euclidean_distance(row[['x','y']], current_point[['x','y']].values[0]), axis=1)\n"
     ]
    }
   ],
   "source": [
    "df = pd.DataFrame({\n",
    "    \"index\": all_point_indices,\n",
    "    \"x\": X[all_point_indices][:,0],\n",
    "    \"y\": X[all_point_indices][:,1],\n",
    "    'real': np.nan\n",
    "})\n",
    "\n",
    "k = 2\n",
    "current_index = 2\n",
    "\n",
    "# calculate distance to reference point\n",
    "df['r_distnace'] = df.apply(lambda row: euclidean_distance(row[['x','y']], [0,0]), axis=1)\n",
    "df = df.sort_values(by='r_distnace')\n",
    "\n",
    "# calculate distance to current point\n",
    "current_point = df[df['index']==current_index]\n",
    "df['fake_distance'] = abs(df['r_distnace'] - current_point['r_distnace'].values[0] )\n",
    "\n",
    "# get k-NN acording to pessimistic estimation \n",
    "df2 = df[df['fake_distance'] > 1].sort_values(by='fake_distance').head(k)\n",
    "\n",
    "df3 = check_pessimistic_estimation(df, df2, current_point)\n",
    "\n",
    "if df3.empty:\n",
    "    result = df.sort_values(by='real').head(k) \n",
    "    print(result)\n",
    "else:\n",
    "    df4 = check_pessimistic_estimation(df, df3, current_point)\n",
    "    if df4.empty:\n",
    "        result = df.sort_values(by='real').head(k) \n",
    "        print(result)\n",
    "    else:\n",
    "        df5 = check_pessimistic_estimation(df, df4, current_point)"
   ]
  },
  {
   "cell_type": "code",
   "execution_count": 20,
   "id": "762cbac4-809d-4597-a615-a0b6ea98b3c6",
   "metadata": {},
   "outputs": [
    {
     "data": {
      "text/html": [
       "<div>\n",
       "<style scoped>\n",
       "    .dataframe tbody tr th:only-of-type {\n",
       "        vertical-align: middle;\n",
       "    }\n",
       "\n",
       "    .dataframe tbody tr th {\n",
       "        vertical-align: top;\n",
       "    }\n",
       "\n",
       "    .dataframe thead th {\n",
       "        text-align: right;\n",
       "    }\n",
       "</style>\n",
       "<table border=\"1\" class=\"dataframe\">\n",
       "  <thead>\n",
       "    <tr style=\"text-align: right;\">\n",
       "      <th></th>\n",
       "      <th>index</th>\n",
       "      <th>x</th>\n",
       "      <th>y</th>\n",
       "      <th>real</th>\n",
       "      <th>r_distnace</th>\n",
       "      <th>fake_distance</th>\n",
       "    </tr>\n",
       "  </thead>\n",
       "  <tbody>\n",
       "    <tr>\n",
       "      <th>10</th>\n",
       "      <td>10.0</td>\n",
       "      <td>0.9</td>\n",
       "      <td>0.0</td>\n",
       "      <td>NaN</td>\n",
       "      <td>0.900000</td>\n",
       "      <td>3.582187</td>\n",
       "    </tr>\n",
       "    <tr>\n",
       "      <th>11</th>\n",
       "      <td>11.0</td>\n",
       "      <td>1.0</td>\n",
       "      <td>1.5</td>\n",
       "      <td>NaN</td>\n",
       "      <td>1.802776</td>\n",
       "      <td>2.679411</td>\n",
       "    </tr>\n",
       "    <tr>\n",
       "      <th>6</th>\n",
       "      <td>6.0</td>\n",
       "      <td>0.0</td>\n",
       "      <td>2.4</td>\n",
       "      <td>NaN</td>\n",
       "      <td>2.400000</td>\n",
       "      <td>2.082187</td>\n",
       "    </tr>\n",
       "    <tr>\n",
       "      <th>7</th>\n",
       "      <td>7.0</td>\n",
       "      <td>2.4</td>\n",
       "      <td>2.0</td>\n",
       "      <td>1.552417</td>\n",
       "      <td>3.124100</td>\n",
       "      <td>1.358087</td>\n",
       "    </tr>\n",
       "    <tr>\n",
       "      <th>5</th>\n",
       "      <td>5.0</td>\n",
       "      <td>1.1</td>\n",
       "      <td>3.0</td>\n",
       "      <td>1.772004</td>\n",
       "      <td>3.195309</td>\n",
       "      <td>1.286878</td>\n",
       "    </tr>\n",
       "    <tr>\n",
       "      <th>2</th>\n",
       "      <td>2.0</td>\n",
       "      <td>2.8</td>\n",
       "      <td>3.5</td>\n",
       "      <td>NaN</td>\n",
       "      <td>4.482187</td>\n",
       "      <td>0.000000</td>\n",
       "    </tr>\n",
       "    <tr>\n",
       "      <th>0</th>\n",
       "      <td>0.0</td>\n",
       "      <td>4.2</td>\n",
       "      <td>4.0</td>\n",
       "      <td>1.486607</td>\n",
       "      <td>5.800000</td>\n",
       "      <td>1.317813</td>\n",
       "    </tr>\n",
       "    <tr>\n",
       "      <th>1</th>\n",
       "      <td>1.0</td>\n",
       "      <td>5.9</td>\n",
       "      <td>3.9</td>\n",
       "      <td>NaN</td>\n",
       "      <td>7.072482</td>\n",
       "      <td>2.590295</td>\n",
       "    </tr>\n",
       "    <tr>\n",
       "      <th>4</th>\n",
       "      <td>4.0</td>\n",
       "      <td>10.0</td>\n",
       "      <td>1.3</td>\n",
       "      <td>NaN</td>\n",
       "      <td>10.084146</td>\n",
       "      <td>5.601959</td>\n",
       "    </tr>\n",
       "    <tr>\n",
       "      <th>9</th>\n",
       "      <td>9.0</td>\n",
       "      <td>11.0</td>\n",
       "      <td>1.0</td>\n",
       "      <td>NaN</td>\n",
       "      <td>11.045361</td>\n",
       "      <td>6.563174</td>\n",
       "    </tr>\n",
       "    <tr>\n",
       "      <th>8</th>\n",
       "      <td>8.0</td>\n",
       "      <td>11.5</td>\n",
       "      <td>1.8</td>\n",
       "      <td>NaN</td>\n",
       "      <td>11.640017</td>\n",
       "      <td>7.157830</td>\n",
       "    </tr>\n",
       "    <tr>\n",
       "      <th>3</th>\n",
       "      <td>3.0</td>\n",
       "      <td>12.0</td>\n",
       "      <td>1.3</td>\n",
       "      <td>NaN</td>\n",
       "      <td>12.070211</td>\n",
       "      <td>7.588024</td>\n",
       "    </tr>\n",
       "  </tbody>\n",
       "</table>\n",
       "</div>"
      ],
      "text/plain": [
       "    index     x    y      real  r_distnace  fake_distance\n",
       "10   10.0   0.9  0.0       NaN    0.900000       3.582187\n",
       "11   11.0   1.0  1.5       NaN    1.802776       2.679411\n",
       "6     6.0   0.0  2.4       NaN    2.400000       2.082187\n",
       "7     7.0   2.4  2.0  1.552417    3.124100       1.358087\n",
       "5     5.0   1.1  3.0  1.772004    3.195309       1.286878\n",
       "2     2.0   2.8  3.5       NaN    4.482187       0.000000\n",
       "0     0.0   4.2  4.0  1.486607    5.800000       1.317813\n",
       "1     1.0   5.9  3.9       NaN    7.072482       2.590295\n",
       "4     4.0  10.0  1.3       NaN   10.084146       5.601959\n",
       "9     9.0  11.0  1.0       NaN   11.045361       6.563174\n",
       "8     8.0  11.5  1.8       NaN   11.640017       7.157830\n",
       "3     3.0  12.0  1.3       NaN   12.070211       7.588024"
      ]
     },
     "execution_count": 20,
     "metadata": {},
     "output_type": "execute_result"
    }
   ],
   "source": [
    "df"
   ]
  },
  {
   "cell_type": "markdown",
   "id": "e8c7ee44-22e2-4520-9a36-d5978817a2b9",
   "metadata": {},
   "source": [
    "## RNN"
   ]
  },
  {
   "cell_type": "code",
   "execution_count": 58,
   "id": "legal-arbor",
   "metadata": {},
   "outputs": [],
   "source": [
    "def get_pointwise_rnn(point_knn, current_index):\n",
    "    rnn = []\n",
    "    for neighbor in point_knn[current_index]:\n",
    "        if current_index in point_knn[neighbor]:\n",
    "            rnn.append(neighbor)\n",
    "    return rnn\n",
    "    \n",
    "def get_rnn(point_indices, k, similarity, X):\n",
    "    point_rnn = {}\n",
    "    point_knn = {}\n",
    "    for current_index in point_indices:\n",
    "        knn = get_knn(current_index, point_indices[:], k, similarity, X)\n",
    "        point_knn[current_index] = knn\n",
    "    for current_index in point_indices:\n",
    "        rnn = get_pointwise_rnn(point_knn, current_index)\n",
    "        point_rnn[current_index] = rnn\n",
    "    return point_rnn"
   ]
  },
  {
   "cell_type": "code",
   "execution_count": 59,
   "id": "36b8ecba-1ce9-4525-9f73-009498dadb37",
   "metadata": {},
   "outputs": [
    {
     "data": {
      "text/plain": [
       "{0: [2, 1],\n",
       " 1: [0],\n",
       " 2: [0, 7],\n",
       " 3: [8, 9],\n",
       " 4: [],\n",
       " 5: [6],\n",
       " 6: [5, 11],\n",
       " 7: [11, 2],\n",
       " 8: [3, 9],\n",
       " 9: [8, 3],\n",
       " 10: [],\n",
       " 11: [6, 7]}"
      ]
     },
     "execution_count": 59,
     "metadata": {},
     "output_type": "execute_result"
    }
   ],
   "source": [
    "# check\n",
    "get_rnn(all_point_indices, 2, euclidean_distance, X)"
   ]
  },
  {
   "cell_type": "markdown",
   "id": "engaged-server",
   "metadata": {},
   "source": [
    "## Clusterization algorithm"
   ]
  },
  {
   "cell_type": "code",
   "execution_count": 60,
   "id": "joint-salem",
   "metadata": {},
   "outputs": [],
   "source": [
    "def dbscanrn(X, k, similarity):\n",
    "    \n",
    "    # each X point can be in one of 3 stages\n",
    "    NOT_VISITED = 0 # not visited point\n",
    "    VISTED = 1 # non-core point\n",
    "    CLUSTERED = 2 # core point\n",
    "    \n",
    "    # initial setup\n",
    "    n = X.shape[0]\n",
    "    cluster = np.array([0] * n) # cluster register\n",
    "    state = np.array([NOT_VISITED] * n) # state register\n",
    "    cluster_id = 1\n",
    "    all_point_indices = list(range(len(X))) # inidces of all points\n",
    "    point_rnn = get_rnn(all_point_indices, k, similarity, X) # calculate RNN_k for all points\n",
    "    \n",
    "    # search for clusters\n",
    "    def search(current_index, k):\n",
    "        if len(point_rnn[current_index]) < k:\n",
    "                state[current_index] = VISTED\n",
    "        else:\n",
    "            state[current_index] = CLUSTERED\n",
    "            cluster[current_index] = cluster_id\n",
    "            for neighbor_index in point_rnn[current_index]:\n",
    "                if state[neighbor_index] == NOT_VISITED:\n",
    "                    search(neighbor_index, k)\n",
    "                state[neighbor_index] = CLUSTERED\n",
    "                cluster[neighbor_index] = cluster_id\n",
    "                    \n",
    "    # visit all X points\n",
    "    while NOT_VISITED in state:\n",
    "        not_visited_ids = np.where(state==NOT_VISITED)[0][0]\n",
    "        search(not_visited_ids, k)\n",
    "        cluster_id += 1\n",
    "    \n",
    "    # clusterize all outlier data points \n",
    "    while VISTED in state:\n",
    "        not_clustered_ids = np.where(state==VISTED)[0][0]\n",
    "        clustered_ids = np.where(state==CLUSTERED)[0]\n",
    "        knn = get_knn(not_clustered_ids, clustered_ids, 1, similarity, X)\n",
    "        cluster[not_clustered_ids] = cluster[knn[0]]\n",
    "        state[not_clustered_ids] = CLUSTERED\n",
    "    \n",
    "    return cluster"
   ]
  },
  {
   "cell_type": "markdown",
   "id": "e62d2162-d481-44f2-a748-f5618a5133c8",
   "metadata": {},
   "source": [
    "## Evaluation"
   ]
  },
  {
   "cell_type": "markdown",
   "id": "b9f182ad-4568-40f3-a0c9-c6215838b6d1",
   "metadata": {},
   "source": [
    "### Euclidean distance"
   ]
  },
  {
   "cell_type": "code",
   "execution_count": 61,
   "id": "070980a4-7825-4b3f-aa62-20716b1dc4d9",
   "metadata": {
    "tags": []
   },
   "outputs": [
    {
     "data": {
      "image/png": "[encoded data removed]",
      "text/plain": [
       "<Figure size 432x288 with 1 Axes>"
      ]
     },
     "metadata": {
      "needs_background": "light"
     },
     "output_type": "display_data"
    },
    {
     "data": {
      "text/plain": [
       "{'purity': 0.9166666666666666,\n",
       " 'adjusted_rand_score': 0.7890410958904109,\n",
       " 'davies_bouldin_score': 0.30755551210315785,\n",
       " 'silhouette_score_euclidean': 0.7137552,\n",
       " 'silhouette_score_cosine': 0.50933105}"
      ]
     },
     "execution_count": 61,
     "metadata": {},
     "output_type": "execute_result"
    }
   ],
   "source": [
    "y_pred = dbscanrn(X=X, k=3, similarity=euclidean_distance)\n",
    "\n",
    "# display results\n",
    "fig, ax = plt.subplots()\n",
    "ax.scatter(X[:,0], X[:,1], c=y_pred)\n",
    "plt.show()\n",
    "\n",
    "# evaluation\n",
    "evaluate(y_pred, y, X)"
   ]
  },
  {
   "cell_type": "markdown",
   "id": "52125101-324d-4b2a-bb67-e4b3f1f70e5e",
   "metadata": {},
   "source": [
    "## Cosine dissimilarity"
   ]
  },
  {
   "cell_type": "code",
   "execution_count": 62,
   "id": "1ce97838-75c5-4ec8-a057-f3fa1c2c050a",
   "metadata": {},
   "outputs": [
    {
     "data": {
      "image/png": "[encoded data removed]",
      "text/plain": [
       "<Figure size 432x288 with 1 Axes>"
      ]
     },
     "metadata": {
      "needs_background": "light"
     },
     "output_type": "display_data"
    },
    {
     "data": {
      "text/plain": [
       "{'purity': 0.8333333333333334,\n",
       " 'adjusted_rand_score': 0.5097493036211699,\n",
       " 'davies_bouldin_score': 0.7589424132751467,\n",
       " 'silhouette_score_euclidean': 0.50847596,\n",
       " 'silhouette_score_cosine': 0.76168364}"
      ]
     },
     "execution_count": 62,
     "metadata": {},
     "output_type": "execute_result"
    }
   ],
   "source": [
    "y_pred = dbscanrn(X=X, k=4, similarity=cosine_dissimilarity)\n",
    "\n",
    "# display results\n",
    "fig, ax = plt.subplots()\n",
    "ax.scatter(X[:,0], X[:,1], c=y_pred)\n",
    "plt.show()\n",
    "\n",
    "# evaluation\n",
    "evaluate(y_pred, y, X)"
   ]
  },
  {
   "cell_type": "markdown",
   "id": "6f6351f8-3afa-452b-b5a0-f46306cca6a6",
   "metadata": {},
   "source": [
    "## DBSCAN: euclidean distance"
   ]
  },
  {
   "cell_type": "code",
   "execution_count": 63,
   "id": "10795478-e4d0-4d21-83c5-5d034fb6552a",
   "metadata": {},
   "outputs": [
    {
     "data": {
      "image/png": "[encoded data removed]",
      "text/plain": [
       "<Figure size 432x288 with 1 Axes>"
      ]
     },
     "metadata": {
      "needs_background": "light"
     },
     "output_type": "display_data"
    },
    {
     "data": {
      "text/plain": [
       "{'purity': 0.9166666666666666,\n",
       " 'adjusted_rand_score': 0.7890410958904109,\n",
       " 'davies_bouldin_score': 0.30755551210315785,\n",
       " 'silhouette_score_euclidean': 0.7137552,\n",
       " 'silhouette_score_cosine': 0.50933105}"
      ]
     },
     "execution_count": 63,
     "metadata": {},
     "output_type": "execute_result"
    }
   ],
   "source": [
    "y_pred = dbscan(X=X, epsilon=1.3, minPts=3, similarity=euclidean_distance)\n",
    "\n",
    "# display results\n",
    "fig, ax = plt.subplots()\n",
    "ax.scatter(X[:,0], X[:,1], c=y_pred)\n",
    "plt.show()\n",
    "\n",
    "# evaluation\n",
    "evaluate(y_pred, y, X)"
   ]
  },
  {
   "cell_type": "markdown",
   "id": "a3a72f11-2ea3-426c-a330-19337bb56ee8",
   "metadata": {},
   "source": [
    "## DBSCAN: cosine dissimilarity"
   ]
  },
  {
   "cell_type": "code",
   "execution_count": 64,
   "id": "be132c93-0d55-49c3-a3ff-03dba9550d2a",
   "metadata": {},
   "outputs": [
    {
     "data": {
      "image/png": "[encoded data removed]",
      "text/plain": [
       "<Figure size 432x288 with 1 Axes>"
      ]
     },
     "metadata": {
      "needs_background": "light"
     },
     "output_type": "display_data"
    },
    {
     "data": {
      "text/plain": [
       "{'purity': 0.8333333333333334,\n",
       " 'adjusted_rand_score': 0.5097493036211699,\n",
       " 'davies_bouldin_score': 0.7589424132751467,\n",
       " 'silhouette_score_euclidean': 0.50847596,\n",
       " 'silhouette_score_cosine': 0.76168364}"
      ]
     },
     "execution_count": 64,
     "metadata": {},
     "output_type": "execute_result"
    }
   ],
   "source": [
    "y_pred = dbscan(X=X, epsilon=0.07, minPts=3, similarity=cosine_dissimilarity)\n",
    "\n",
    "# display results\n",
    "fig, ax = plt.subplots()\n",
    "ax.scatter(X[:,0], X[:,1], c=y_pred)\n",
    "plt.show()\n",
    "\n",
    "# evaluation\n",
    "evaluate(y_pred, y, X)"
   ]
  },
  {
   "cell_type": "markdown",
   "id": "6682be7e-ca2f-49fe-9c94-0229cb4a4f39",
   "metadata": {},
   "source": [
    "## DBSCANRN: euclidean distance"
   ]
  },
  {
   "cell_type": "code",
   "execution_count": 65,
   "id": "322674ac-4148-49d0-84da-ac1c527a2a9d",
   "metadata": {},
   "outputs": [
    {
     "data": {
      "image/png": "[encoded data removed]",
      "text/plain": [
       "<Figure size 432x288 with 1 Axes>"
      ]
     },
     "metadata": {
      "needs_background": "light"
     },
     "output_type": "display_data"
    },
    {
     "data": {
      "text/plain": [
       "{'purity': 0.9166666666666666,\n",
       " 'adjusted_rand_score': 0.7890410958904109,\n",
       " 'davies_bouldin_score': 0.30755551210315785,\n",
       " 'silhouette_score_euclidean': 0.7137552,\n",
       " 'silhouette_score_cosine': 0.50933105}"
      ]
     },
     "execution_count": 65,
     "metadata": {},
     "output_type": "execute_result"
    }
   ],
   "source": [
    "y_pred = dbscanrn(X=X, k=3, similarity=euclidean_distance)\n",
    "\n",
    "# display results\n",
    "fig, ax = plt.subplots()\n",
    "ax.scatter(X[:,0], X[:,1], c=y_pred)\n",
    "plt.show()\n",
    "\n",
    "# evaluation\n",
    "evaluate(y_pred, y, X)"
   ]
  },
  {
   "cell_type": "markdown",
   "id": "1ce8f2d0-b8ea-4641-a64b-38627f347821",
   "metadata": {},
   "source": [
    "## DBSCANRN: cosine dissimilarity"
   ]
  },
  {
   "cell_type": "code",
   "execution_count": 66,
   "id": "b036250e-da9d-4ce4-9268-161a2d23e57a",
   "metadata": {},
   "outputs": [
    {
     "data": {
      "image/png": "[encoded data removed]",
      "text/plain": [
       "<Figure size 432x288 with 1 Axes>"
      ]
     },
     "metadata": {
      "needs_background": "light"
     },
     "output_type": "display_data"
    },
    {
     "data": {
      "text/plain": [
       "{'purity': 0.8333333333333334,\n",
       " 'adjusted_rand_score': 0.5097493036211699,\n",
       " 'davies_bouldin_score': 0.7589424132751467,\n",
       " 'silhouette_score_euclidean': 0.50847596,\n",
       " 'silhouette_score_cosine': 0.76168364}"
      ]
     },
     "execution_count": 66,
     "metadata": {},
     "output_type": "execute_result"
    }
   ],
   "source": [
    "y_pred = dbscanrn(X=X, k=2, similarity=cosine_dissimilarity)\n",
    "\n",
    "# display results\n",
    "fig, ax = plt.subplots()\n",
    "ax.scatter(X[:,0], X[:,1], c=y_pred)\n",
    "plt.show()\n",
    "\n",
    "# evaluation\n",
    "evaluate(y_pred, y, X)"
   ]
  },
  {
   "cell_type": "code",
   "execution_count": null,
   "id": "03f8b604-1ec4-4189-9e05-94f08fc98130",
   "metadata": {},
   "outputs": [],
   "source": []
  },
  {
   "cell_type": "code",
   "execution_count": null,
   "id": "bbbe30c2-a97e-45df-b3f2-94ee392d99e1",
   "metadata": {},
   "outputs": [],
   "source": []
  }
 ],
 "metadata": {
  "kernelspec": {
   "display_name": "Python 3 (ipykernel)",
   "language": "python",
   "name": "python3"
  },
  "language_info": {
   "codemirror_mode": {
    "name": "ipython",
    "version": 3
   },
   "file_extension": ".py",
   "mimetype": "text/x-python",
   "name": "python",
   "nbconvert_exporter": "python",
   "pygments_lexer": "ipython3",
   "version": "3.10.1"
  },
  "toc-showcode": false
 },
 "nbformat": 4,
 "nbformat_minor": 5
}
