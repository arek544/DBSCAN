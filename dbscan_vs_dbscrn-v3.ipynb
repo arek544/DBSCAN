{
 "cells": [
  {
   "cell_type": "markdown",
   "id": "senior-shelter",
   "metadata": {
    "tags": []
   },
   "source": [
    "# DBSCAN vs DBSCRN"
   ]
  },
  {
   "cell_type": "code",
   "execution_count": 1,
   "id": "useful-content",
   "metadata": {},
   "outputs": [],
   "source": [
    "import time\n",
    "import warnings\n",
    "import math\n",
    "from collections import Counter\n",
    "\n",
    "import numpy as np\n",
    "import matplotlib.pyplot as plt\n",
    "\n",
    "import pandas as pd\n",
    "\n",
    "from sklearn import cluster, datasets\n",
    "from sklearn.preprocessing import StandardScaler\n",
    "from sklearn.preprocessing import Normalizer\n",
    "from itertools import cycle, islice\n",
    "from sklearn import cluster\n",
    "from sklearn import preprocessing\n",
    "\n",
    "np.random.seed(0)\n",
    "\n",
    "def cluster_encoder(cluster):\n",
    "    le = preprocessing.LabelEncoder()\n",
    "    le.fit(cluster)\n",
    "    return le.transform(cluster)"
   ]
  },
  {
   "cell_type": "markdown",
   "id": "91abc729-d7fe-4e7e-8c91-94cf49942557",
   "metadata": {},
   "source": [
    "# Datasets"
   ]
  },
  {
   "cell_type": "markdown",
   "id": "f83b6c2d-11fa-43ba-bda4-42549e6af5a0",
   "metadata": {},
   "source": [
    "## Dataset: A. K. Jain's Toy Problem"
   ]
  },
  {
   "cell_type": "code",
   "execution_count": 2,
   "id": "b341fab0-13a5-43ef-b2c5-1e34729b91c3",
   "metadata": {
    "tags": []
   },
   "outputs": [],
   "source": [
    "header_list = [\"x\", \"y\", \"real_cluster\"]\n",
    "X_jain = pd.read_csv('jain_dataset.txt', sep = '\\t', names=header_list)\n",
    "X_j = X_jain[[\"x\", \"y\"]].values\n",
    "y_j = X_jain[\"real_cluster\"].values\n",
    "\n",
    "# normalize vectors\n",
    "X_jnorm = Normalizer().fit_transform(X_j)"
   ]
  },
  {
   "cell_type": "markdown",
   "id": "voluntary-seven",
   "metadata": {},
   "source": [
    "## Dataset: example from lecture"
   ]
  },
  {
   "cell_type": "code",
   "execution_count": 3,
   "id": "interpreted-florist",
   "metadata": {},
   "outputs": [
    {
     "data": {
      "image/png": "[encoded data removed]",
      "text/plain": [
       "<Figure size 432x288 with 1 Axes>"
      ]
     },
     "metadata": {
      "needs_background": "light"
     },
     "output_type": "display_data"
    }
   ],
   "source": [
    "X = np.array([\n",
    "    [4.2, 4.0], \n",
    "    [5.9, 3.9],\n",
    "    [2.8, 3.5],\n",
    "    [12.0, 1.3],\n",
    "    [10.0, 1.3],\n",
    "    [1.1, 3.0],\n",
    "    [0.0, 2.4],\n",
    "    [2.4, 2.0],\n",
    "    [11.5, 1.8],\n",
    "    [11.0, 1.0],\n",
    "    [0.9, 0.0],\n",
    "    [1.0, 1.5]\n",
    "], np.single)\n",
    "\n",
    "# X = StandardScaler().fit_transform(X)\n",
    "\n",
    "# normalize vectors\n",
    "X_norm = Normalizer().fit_transform(X)\n",
    "\n",
    "# real clusters\n",
    "y =  np.array([1, 0, 1, 2, 2, 1, 1, 1, 2, 2, 1, 1])\n",
    "\n",
    "fig, ax = plt.subplots()\n",
    "for i, txt in enumerate(range(len(X))):\n",
    "    ax.annotate(i, (X[i,0], X[i,1]), size=15)\n",
    "ax.scatter(X[:,0], X[:,1]);"
   ]
  },
  {
   "cell_type": "code",
   "execution_count": 4,
   "id": "6241a22e-b70b-4da4-928b-756a9a58212b",
   "metadata": {},
   "outputs": [
    {
     "data": {
      "image/png": "[encoded data removed]",
      "text/plain": [
       "<Figure size 432x288 with 1 Axes>"
      ]
     },
     "metadata": {
      "needs_background": "light"
     },
     "output_type": "display_data"
    }
   ],
   "source": [
    "fig, ax = plt.subplots()\n",
    "for i, txt in enumerate(range(len(X_norm))):\n",
    "    ax.annotate(i, (X_norm[i,0], X_norm[i,1]), size=15)\n",
    "ax.scatter(X_norm[:,0], X_norm[:,1]);"
   ]
  },
  {
   "cell_type": "markdown",
   "id": "87ee34ec-bc7f-4729-ba30-25380e2dcd3c",
   "metadata": {},
   "source": [
    "# Clusterization performance metrics"
   ]
  },
  {
   "cell_type": "code",
   "execution_count": 5,
   "id": "premium-understanding",
   "metadata": {
    "tags": []
   },
   "outputs": [],
   "source": [
    "from sklearn.metrics.cluster import adjusted_rand_score\n",
    "from sklearn.cluster import KMeans\n",
    "from sklearn import metrics\n",
    "from sklearn.metrics import davies_bouldin_score\n",
    "# from sklearn.metrics import pairwise_distance\n",
    "\n",
    "# n_clusters: the number of discovered clusters,\n",
    "# y: real clusters,\n",
    "# c: discovered clusters\n",
    "\n",
    "# Purity\n",
    "def purity(C, G):\n",
    "    common_items_inclusters = metrics.cluster.contingency_matrix(C, G)\n",
    "    purity_score = np.sum(np.amax(common_items_inclusters, axis=0)) / np.sum(common_items_inclusters)\n",
    "    return purity_score\n",
    "\n",
    "def evaluate(y_pred, y_true, data):\n",
    "    y_pred = cluster_encoder(y_pred)\n",
    "    return {\n",
    "        \"purity\": purity(y_true, y_pred),\n",
    "        \"adjusted_rand_score\": adjusted_rand_score(y_true, y_pred),\n",
    "        \"davies_bouldin_score\": davies_bouldin_score(data, y_pred),\n",
    "        \"silhouette_score_euclidean\": metrics.silhouette_score(data, y_pred, metric = 'euclidean'),\n",
    "        \"silhouette_score_cosine\": metrics.silhouette_score(data, y_pred, metric = 'cosine'),\n",
    "    }"
   ]
  },
  {
   "cell_type": "markdown",
   "id": "2c3cfd53-21eb-4274-8cf4-60be97be4254",
   "metadata": {
    "toc-hr-collapsed": true
   },
   "source": [
    "# Distance or (dis)similarity measures "
   ]
  },
  {
   "cell_type": "markdown",
   "id": "assumed-damages",
   "metadata": {
    "tags": []
   },
   "source": [
    "## Euclidean similarity"
   ]
  },
  {
   "cell_type": "code",
   "execution_count": 6,
   "id": "pressing-gardening",
   "metadata": {},
   "outputs": [],
   "source": [
    "def euclidean_distance(a, b):\n",
    "    similarity_measure = 0\n",
    "    for i in range(len(a)):\n",
    "         similarity_measure += pow((a[i] - b[i]), 2)\n",
    "    return np.sqrt(similarity_measure)"
   ]
  },
  {
   "cell_type": "markdown",
   "id": "rough-offset",
   "metadata": {},
   "source": [
    "## Cosinus dissimilarity "
   ]
  },
  {
   "cell_type": "code",
   "execution_count": 7,
   "id": "minus-slovakia",
   "metadata": {},
   "outputs": [],
   "source": [
    "def cosine_dissimilarity(a, b):\n",
    "    dot = 0\n",
    "    norm_a = 0\n",
    "    norm_b = 0\n",
    "    for i in range(len(a)):\n",
    "        dot += a[i] * b[i]\n",
    "        norm_a += a[i]**2\n",
    "        norm_b += b[i]**2\n",
    "    return 1 - dot / (norm_a * norm_b)**0.5"
   ]
  },
  {
   "cell_type": "markdown",
   "id": "9c1cbde9-100d-49a5-ab63-6ffe5ae7078c",
   "metadata": {},
   "source": [
    "## Cosine similarity"
   ]
  },
  {
   "cell_type": "code",
   "execution_count": 8,
   "id": "7ef963ab-92a6-412c-99e9-0084be119dde",
   "metadata": {},
   "outputs": [],
   "source": [
    "def cosine_similarity(a, b):\n",
    "    dot = 0\n",
    "    norm_a = 0\n",
    "    norm_b = 0\n",
    "    for i in range(len(a)):\n",
    "        dot += a[i] * b[i]\n",
    "        norm_a += a[i]**2\n",
    "        norm_b += b[i]**2\n",
    "    return dot / (norm_a * norm_b)**0.5"
   ]
  },
  {
   "cell_type": "code",
   "execution_count": 9,
   "id": "5599466f-7446-4620-aa8e-f17ad60eefd4",
   "metadata": {},
   "outputs": [],
   "source": [
    "# from numpy import dot\n",
    "# from numpy.linalg import norm\n",
    "\n",
    "def cosine_similaryty_numpy(a, b):\n",
    "    return (a @ b.T) / (norm(a)*norm(b))"
   ]
  },
  {
   "cell_type": "markdown",
   "id": "4df09d7b-31ec-4642-8508-6c816e828170",
   "metadata": {
    "tags": [],
    "toc-hr-collapsed": true
   },
   "source": [
    "# DBSCAN"
   ]
  },
  {
   "cell_type": "markdown",
   "id": "occupational-jonathan",
   "metadata": {},
   "source": [
    "## Get reachable neighbors"
   ]
  },
  {
   "cell_type": "code",
   "execution_count": 10,
   "id": "favorite-learning",
   "metadata": {},
   "outputs": [],
   "source": [
    "def get_neighbors(X, current_index, epsilon, similarity):\n",
    "    '''\n",
    "    X - dataset with point coordinates,\n",
    "    current_index - index of given point,\n",
    "    epsilon - max similarity or distance to given point,\n",
    "    similarity - metric of similarity or distance bewteen two points\n",
    "    '''\n",
    "    neighbor_indices = [current_index] # number of neighbors plus current index\n",
    "    for neighbor_index, neighbor in enumerate(X):\n",
    "        if similarity(neighbor, X[current_index]) <= epsilon:\n",
    "            neighbor_indices.append(neighbor_index)\n",
    "    return neighbor_indices"
   ]
  },
  {
   "cell_type": "markdown",
   "id": "9b9b25bf-cd03-4b4f-be56-b649c81887b2",
   "metadata": {},
   "source": [
    "## Clusterization algorithm"
   ]
  },
  {
   "cell_type": "code",
   "execution_count": 11,
   "id": "thick-blowing",
   "metadata": {},
   "outputs": [],
   "source": [
    "def dbscan(X, epsilon, minPts, similarity):\n",
    "    '''\n",
    "    X - dataset with point coordinates,\n",
    "    epsilon - max similarity or distance to given point,\n",
    "    minPts - minimum number of points that create cluster,\n",
    "    similarity - metric of similarity or distance bewteen two points\n",
    "    '''\n",
    "    # each data point can be in one of 3 stages\n",
    "    NOT_VISITED = 0 # not visited point\n",
    "    VISTED = 1 # non-core point\n",
    "    CLUSTERED = 2 # core point\n",
    "    \n",
    "    # initial setup\n",
    "    n = X.shape[0]\n",
    "    cluster = np.array([0] * n) # cluster register\n",
    "    state = np.array([NOT_VISITED] * n) # state register\n",
    "    cluster_id = 1\n",
    "\n",
    "    def search(current_index, cluster_id, epsilon, minPts, similarity):\n",
    "        neighbor_indices = get_neighbors(X, current_index, epsilon, similarity)\n",
    "        if len(neighbor_indices) >= minPts: \n",
    "            state[current_index] = CLUSTERED\n",
    "            cluster[current_index] = cluster_id\n",
    "            for neighbor_index in neighbor_indices:\n",
    "                if state[neighbor_index] == NOT_VISITED:\n",
    "                    state[neighbor_index] = CLUSTERED\n",
    "                    cluster[neighbor_index] = cluster_id\n",
    "                    search(neighbor_index, cluster_id, epsilon, minPts, similarity)\n",
    "        else:\n",
    "            state[current_index] = VISTED\n",
    "\n",
    "    while NOT_VISITED in state:\n",
    "        not_visited_ids = np.where(state==NOT_VISITED)[0]\n",
    "        search(not_visited_ids[0], cluster_id, epsilon, minPts, similarity)\n",
    "        cluster_id += 1\n",
    "    \n",
    "    return cluster"
   ]
  },
  {
   "cell_type": "markdown",
   "id": "liquid-campus",
   "metadata": {
    "tags": []
   },
   "source": [
    "# DBSCANRN"
   ]
  },
  {
   "cell_type": "markdown",
   "id": "894ddbb6-7b4a-43b3-b9b1-a0159a5f8643",
   "metadata": {
    "tags": []
   },
   "source": [
    "## DBSCANRN + non-optimized KNN"
   ]
  },
  {
   "cell_type": "markdown",
   "id": "804198bf-3d68-4078-9686-6d6dd27c9211",
   "metadata": {
    "tags": []
   },
   "source": [
    "### KNN"
   ]
  },
  {
   "cell_type": "code",
   "execution_count": 12,
   "id": "300d3845-9773-43f6-a17f-a2b5f2f34398",
   "metadata": {},
   "outputs": [],
   "source": [
    "def get_knn(current_index, neighbor_indices, k, similarity, X):\n",
    "    '''\n",
    "    current_index - index of given point,\n",
    "    neighbor_indices - indices of points for searching,\n",
    "    k - number of neighbors searched for current_index,\n",
    "    similarity - metric of similarity or distance bewteen two points,\n",
    "    X - dataset with point coordinates\n",
    "    '''\n",
    "    # Remove current point from neighbors\n",
    "    if current_index in neighbor_indices: neighbor_indices.remove(current_index)\n",
    "    \n",
    "    # For each neighbor measure similarity to current point\n",
    "    neighbor_similaritys = []\n",
    "    for neighbor_index in neighbor_indices:\n",
    "        similarity_measure = similarity(X[neighbor_index], X[current_index])\n",
    "        neighbor_similaritys.append(similarity_measure) \n",
    "        \n",
    "    # Get k-nearest neighbors\n",
    "    sort_indices = np.argsort(neighbor_similaritys) # sort arguments and return indices\n",
    "    neighbor_indices = np.array(neighbor_indices) \n",
    "    return neighbor_indices[sort_indices][:k].tolist()"
   ]
  },
  {
   "cell_type": "code",
   "execution_count": 9,
   "id": "7d41660c-7c58-49ec-91a6-4426bff6ada8",
   "metadata": {},
   "outputs": [],
   "source": [
    "# # check\n",
    "# all_point_indices = list(range(len(X)))\n",
    "# for x in range(len(all_point_indices)):\n",
    "#     print(x, get_knn(x, all_point_indices[:], 3, euclidean_distance, X))"
   ]
  },
  {
   "cell_type": "markdown",
   "id": "e8c7ee44-22e2-4520-9a36-d5978817a2b9",
   "metadata": {
    "tags": []
   },
   "source": [
    "### RNN"
   ]
  },
  {
   "cell_type": "code",
   "execution_count": 13,
   "id": "legal-arbor",
   "metadata": {},
   "outputs": [],
   "source": [
    "def get_pointwise_rnn(point_knn, current_index):\n",
    "    rnn = []\n",
    "    for neighbor in point_knn[current_index]:\n",
    "        if current_index in point_knn[neighbor]:\n",
    "            rnn.append(neighbor)\n",
    "    return rnn\n",
    "    \n",
    "def get_rnn(point_indices, k, similarity, X):\n",
    "    '''\n",
    "    point_indices - indices of points for searching,\n",
    "    k - number of neighbors searched for current_index,\n",
    "    similarity - metric of similarity or distance bewteen two points,\n",
    "    X - dataset with point coordinates\n",
    "    '''\n",
    "    point_rnn = {}\n",
    "    point_knn = {}\n",
    "    \n",
    "    for current_index in point_indices:\n",
    "        knn = get_knn(current_index, point_indices[:], k, similarity, X)\n",
    "        point_knn[current_index] = knn\n",
    "        \n",
    "    for current_index in point_indices:\n",
    "        rnn = get_pointwise_rnn(point_knn, current_index)\n",
    "        point_rnn[current_index] = rnn\n",
    "        \n",
    "    return point_rnn, point_knn"
   ]
  },
  {
   "cell_type": "markdown",
   "id": "engaged-server",
   "metadata": {
    "toc-hr-collapsed": true
   },
   "source": [
    "### Clusterization algorithm"
   ]
  },
  {
   "cell_type": "code",
   "execution_count": 14,
   "id": "joint-salem",
   "metadata": {},
   "outputs": [],
   "source": [
    "def dbscanrn(X, k, similarity):\n",
    "    \n",
    "    # each X point can be in one of 3 stages\n",
    "    NOT_VISITED = 0 # not visited point\n",
    "    VISTED = 1 # non-core point\n",
    "    CLUSTERED = 2 # core point\n",
    "    \n",
    "    # initial setup\n",
    "    n = X.shape[0]\n",
    "    cluster = np.array([0] * n) # cluster register\n",
    "    state = np.array([NOT_VISITED] * n) # state register\n",
    "    cluster_id = 1\n",
    "    all_point_indices = list(range(len(X))) # inidces of all points\n",
    "    point_rnn, point_knn = get_rnn(all_point_indices, k, similarity, X) # calculate RNN_k for all points\n",
    "    \n",
    "    # search for clusters\n",
    "    def search(current_index, k):\n",
    "        if len(point_rnn[current_index]) < k:\n",
    "                state[current_index] = VISTED\n",
    "        else:\n",
    "            state[current_index] = CLUSTERED\n",
    "            cluster[current_index] = cluster_id\n",
    "            for neighbor_index in point_rnn[current_index]:\n",
    "                if state[neighbor_index] == NOT_VISITED:\n",
    "                    search(neighbor_index, k)\n",
    "                state[neighbor_index] = CLUSTERED\n",
    "                cluster[neighbor_index] = cluster_id\n",
    "                    \n",
    "    # visit all X points\n",
    "    while NOT_VISITED in state:\n",
    "        not_visited_ids = np.where(state==NOT_VISITED)[0][0]\n",
    "        search(not_visited_ids, k)\n",
    "        cluster_id += 1\n",
    "    \n",
    "    # clusterize all outlier data points \n",
    "    while VISTED in state:\n",
    "        not_clustered_ids = np.where(state==VISTED)[0][0]\n",
    "        clustered_ids = np.where(state==CLUSTERED)[0]\n",
    "        knn = get_knn(not_clustered_ids, clustered_ids, 1, similarity, X)\n",
    "        cluster[not_clustered_ids] = cluster[knn[0]]\n",
    "        state[not_clustered_ids] = CLUSTERED\n",
    "    \n",
    "    return cluster"
   ]
  },
  {
   "cell_type": "markdown",
   "id": "97791f70-9947-4f9c-83f5-d661cfabc17e",
   "metadata": {},
   "source": [
    "## DBSCANRN + optimized KNN (ti-KNN)"
   ]
  },
  {
   "cell_type": "markdown",
   "id": "9db47640-481c-4a61-b5cd-462d5987eea3",
   "metadata": {},
   "source": [
    "### TI-KNN"
   ]
  },
  {
   "cell_type": "code",
   "execution_count": 42,
   "id": "c321c34e-de06-476b-acdd-e4665f16e8c9",
   "metadata": {},
   "outputs": [],
   "source": [
    "def check_pessimistic_estimation(df, df2, current_point):\n",
    "    # calculate real distance to current point\n",
    "    df2['real'] = df2.apply(lambda row: euclidean_distance(row[['x','y']], current_point[['x','y']].values[0]), axis=1)\n",
    "    df.update(df2)\n",
    "    # choose max real distance\n",
    "    max_val = df2.max()\n",
    "    # get points with fake distance below max real distance \n",
    "    return df[(df['pesimistic_distance'] < max_val['real']) & (df['pesimistic_distance'] > 1) & (df['real'].isna())]"
   ]
  },
  {
   "cell_type": "code",
   "execution_count": 43,
   "id": "94b9f0de-889a-420f-bf96-07448425029b",
   "metadata": {},
   "outputs": [],
   "source": [
    "def ti_knn(k, df, current_index, all_point_indices):\n",
    "   \n",
    "    # calculate distance to reference point, [0,1]\n",
    "    df['r_distnace'] = df.apply(lambda row: euclidean_distance(row[['x','y']], [0,1]), axis=1)\n",
    "    df = df.sort_values(by='r_distnace')\n",
    "\n",
    "    # calculate distance to current point\n",
    "    current_point = df[df['index']==current_index]\n",
    "    df['pesimistic_distance'] = abs(df['r_distnace'] - current_point['r_distnace'].values[0] )\n",
    "\n",
    "    # get k-NN acording to pessimistic estimation \n",
    "    df2 = df[df['pesimistic_distance'] > 0].sort_values(by='pesimistic_distance').head(k)\n",
    "    # was > 1, changed to > 0\n",
    "\n",
    "    dfn = check_pessimistic_estimation(df, df2, current_point)\n",
    "\n",
    "    # check if current df is empty\n",
    "    def empty_df(df, df2, dfn):\n",
    "        for n in range(0, df.shape[0]):\n",
    "            if dfn.empty:\n",
    "                result = df.sort_values(by='real').head(k) \n",
    "                return result\n",
    "            else:\n",
    "                dfn = check_pessimistic_estimation(df, dfn, current_point)\n",
    "                empty_df(df, df2, dfn)\n",
    "\n",
    "    result = empty_df(df, df2, dfn)\n",
    "    df['real']=np.nan\n",
    "    \n",
    "    return result"
   ]
  },
  {
   "cell_type": "code",
   "execution_count": 44,
   "id": "3cb910bb-8748-421a-8136-9053c278dbd5",
   "metadata": {},
   "outputs": [],
   "source": [
    "def get_tiknn(k, df, all_point_indices):\n",
    "    point_knn = {}\n",
    "    for current_index in range(0, df.shape[0]):\n",
    "        result = ti_knn(k, df, current_index, all_point_indices)\n",
    "        point_knn_result = result['index'].to_list()\n",
    "        point_knn_result = [int(point) for point in point_knn_result]\n",
    "        point_knn[current_index] = point_knn_result\n",
    "    return point_knn"
   ]
  },
  {
   "cell_type": "markdown",
   "id": "38172544-1244-4a82-99b0-3e19b94d33b9",
   "metadata": {},
   "source": [
    "### TI-RNN"
   ]
  },
  {
   "cell_type": "code",
   "execution_count": 65,
   "id": "36b8ecba-1ce9-4525-9f73-009498dadb37",
   "metadata": {},
   "outputs": [],
   "source": [
    "def get_tirnn(k, df, point_indices):\n",
    "    point_tirnn = {}\n",
    "    point_tiknn = get_tiknn(k, df, all_point_indices)\n",
    "    for current_index in point_indices:\n",
    "        rnn = get_pointwise_rnn(point_tiknn, current_index)\n",
    "        point_tirnn[current_index] = rnn\n",
    "        \n",
    "    return point_tirnn, point_tiknn"
   ]
  },
  {
   "cell_type": "markdown",
   "id": "9b85fe9b-1cba-4d0a-80ce-5ee3bedbecf0",
   "metadata": {},
   "source": [
    "### Clusterization algorithm"
   ]
  },
  {
   "cell_type": "code",
   "execution_count": 66,
   "id": "67d1bc29-cd10-4d8d-b3e3-9518670bc493",
   "metadata": {},
   "outputs": [],
   "source": [
    "def ti_dbscanrn(X, k, similarity):\n",
    "    \n",
    "    # inidces of all points\n",
    "    all_point_indices = list(range(len(X))) \n",
    "    \n",
    "    df = pd.DataFrame({\n",
    "    \"index\": all_point_indices,\n",
    "    \"x\": X[all_point_indices][:,0],\n",
    "    \"y\": X[all_point_indices][:,1],\n",
    "    'real': np.nan\n",
    "    })\n",
    "    \n",
    "    # each X point can be in one of 3 stages\n",
    "    NOT_VISITED = 0 # not visited point\n",
    "    VISTED = 1 # non-core point\n",
    "    CLUSTERED = 2 # core point\n",
    "    \n",
    "    # initial setup\n",
    "    n = X.shape[0]\n",
    "    cluster = np.array([0] * n) # cluster register\n",
    "    state = np.array([NOT_VISITED] * n) # state register\n",
    "    cluster_id = 1\n",
    "    point_rnn, point_knn = get_tirnn(k, df, all_point_indices) # calculate RNN_k for all points\n",
    "    \n",
    "    # search for clusters\n",
    "    def search(current_index, k):\n",
    "        if len(point_rnn[current_index]) < k:\n",
    "                state[current_index] = VISTED\n",
    "        else:\n",
    "            state[current_index] = CLUSTERED\n",
    "            cluster[current_index] = cluster_id\n",
    "            for neighbor_index in point_rnn[current_index]:\n",
    "                if state[neighbor_index] == NOT_VISITED:\n",
    "                    search(neighbor_index, k)\n",
    "                state[neighbor_index] = CLUSTERED\n",
    "                cluster[neighbor_index] = cluster_id\n",
    "                    \n",
    "    # visit all X points\n",
    "    while NOT_VISITED in state:\n",
    "        not_visited_ids = np.where(state==NOT_VISITED)[0][0]\n",
    "        search(not_visited_ids, k)\n",
    "        cluster_id += 1\n",
    "    \n",
    "    # clusterize all outlier data points \n",
    "    while VISTED in state:\n",
    "        not_clustered_ids = np.where(state==VISTED)[0][0]\n",
    "        clustered_ids = np.where(state==CLUSTERED)[0]\n",
    "        knn = get_knn(not_clustered_ids, clustered_ids, 1, similarity, X)\n",
    "        cluster[not_clustered_ids] = cluster[knn[0]]\n",
    "        state[not_clustered_ids] = CLUSTERED\n",
    "    \n",
    "    return cluster"
   ]
  },
  {
   "cell_type": "markdown",
   "id": "e62d2162-d481-44f2-a748-f5618a5133c8",
   "metadata": {
    "tags": [],
    "toc-hr-collapsed": true
   },
   "source": [
    "# Evaluation"
   ]
  },
  {
   "cell_type": "markdown",
   "id": "23537d5b-87a1-482d-ad9e-042f2566bc55",
   "metadata": {
    "tags": [],
    "toc-hr-collapsed": true
   },
   "source": [
    "## Dataset fom lecture"
   ]
  },
  {
   "cell_type": "markdown",
   "id": "748bac07-ae39-4c91-8cb6-9d01452aa161",
   "metadata": {
    "toc-hr-collapsed": true
   },
   "source": [
    "### DBSCAN"
   ]
  },
  {
   "cell_type": "markdown",
   "id": "6f6351f8-3afa-452b-b5a0-f46306cca6a6",
   "metadata": {},
   "source": [
    "#### DBSCAN: euclidean distance"
   ]
  },
  {
   "cell_type": "code",
   "execution_count": 20,
   "id": "10795478-e4d0-4d21-83c5-5d034fb6552a",
   "metadata": {},
   "outputs": [
    {
     "data": {
      "image/png": "[encoded data removed]",
      "text/plain": [
       "<Figure size 432x288 with 1 Axes>"
      ]
     },
     "metadata": {
      "needs_background": "light"
     },
     "output_type": "display_data"
    },
    {
     "data": {
      "text/plain": [
       "{'purity': 0.9166666666666666,\n",
       " 'adjusted_rand_score': 0.7890410958904109,\n",
       " 'davies_bouldin_score': 0.30755551210315785,\n",
       " 'silhouette_score_euclidean': 0.7137552,\n",
       " 'silhouette_score_cosine': 0.50933105}"
      ]
     },
     "execution_count": 20,
     "metadata": {},
     "output_type": "execute_result"
    }
   ],
   "source": [
    "y_pred = dbscan(X=X, epsilon=2, minPts=4, similarity=euclidean_distance)\n",
    "\n",
    "# display results\n",
    "fig, ax = plt.subplots()\n",
    "ax.scatter(X[:,0], X[:,1], c=y_pred)\n",
    "plt.show()\n",
    "\n",
    "# evaluation\n",
    "evaluate(y_pred, y, X)"
   ]
  },
  {
   "cell_type": "markdown",
   "id": "a3a72f11-2ea3-426c-a330-19337bb56ee8",
   "metadata": {},
   "source": [
    "#### DBSCAN: cosine dissimilarity"
   ]
  },
  {
   "cell_type": "code",
   "execution_count": 21,
   "id": "be132c93-0d55-49c3-a3ff-03dba9550d2a",
   "metadata": {},
   "outputs": [
    {
     "data": {
      "image/png": "[encoded data removed]",
      "text/plain": [
       "<Figure size 432x288 with 1 Axes>"
      ]
     },
     "metadata": {
      "needs_background": "light"
     },
     "output_type": "display_data"
    },
    {
     "data": {
      "text/plain": [
       "{'purity': 0.8333333333333334,\n",
       " 'adjusted_rand_score': 0.5097493036211699,\n",
       " 'davies_bouldin_score': 0.36743682429155733,\n",
       " 'silhouette_score_euclidean': 0.6683597,\n",
       " 'silhouette_score_cosine': 0.76168364}"
      ]
     },
     "execution_count": 21,
     "metadata": {},
     "output_type": "execute_result"
    }
   ],
   "source": [
    "y_pred = dbscan(X=X_norm, epsilon=0.07, minPts=3, similarity=cosine_dissimilarity)\n",
    "\n",
    "# display results\n",
    "fig, ax = plt.subplots()\n",
    "ax.scatter(X_norm[:,0], X_norm[:,1], c=y_pred)\n",
    "plt.show()\n",
    "\n",
    "# evaluation\n",
    "evaluate(y_pred, y, X_norm)"
   ]
  },
  {
   "cell_type": "markdown",
   "id": "55572b4b-2c7a-4b0b-a132-3bd083b35397",
   "metadata": {},
   "source": [
    "#### DBSCAN: cosine similarity"
   ]
  },
  {
   "cell_type": "code",
   "execution_count": 22,
   "id": "22d73bf0-cf81-4a56-a9dd-541468faa86e",
   "metadata": {},
   "outputs": [
    {
     "data": {
      "image/png": "[encoded data removed]",
      "text/plain": [
       "<Figure size 432x288 with 1 Axes>"
      ]
     },
     "metadata": {
      "needs_background": "light"
     },
     "output_type": "display_data"
    },
    {
     "data": {
      "text/plain": [
       "{'purity': 0.5833333333333334,\n",
       " 'adjusted_rand_score': -0.0547945205479452,\n",
       " 'davies_bouldin_score': 2.969022389089624,\n",
       " 'silhouette_score_euclidean': 0.15740474,\n",
       " 'silhouette_score_cosine': 0.18675934}"
      ]
     },
     "execution_count": 22,
     "metadata": {},
     "output_type": "execute_result"
    }
   ],
   "source": [
    "y_pred = dbscan(X=X_norm, epsilon=0.2, minPts=3, similarity=cosine_similarity)\n",
    "\n",
    "# display results\n",
    "fig, ax = plt.subplots()\n",
    "ax.scatter(X_norm[:,0], X_norm[:,1], c=y_pred)\n",
    "plt.show()\n",
    "\n",
    "# evaluation\n",
    "evaluate(y_pred, y, X_norm)"
   ]
  },
  {
   "cell_type": "markdown",
   "id": "1e5f837c-1bcc-4b0b-9880-a8cb68cdd925",
   "metadata": {},
   "source": [
    "### DBSCANRN"
   ]
  },
  {
   "cell_type": "markdown",
   "id": "6682be7e-ca2f-49fe-9c94-0229cb4a4f39",
   "metadata": {},
   "source": [
    "#### DBSCANRN: euclidean distance + non-optimalized KNN"
   ]
  },
  {
   "cell_type": "code",
   "execution_count": 47,
   "id": "322674ac-4148-49d0-84da-ac1c527a2a9d",
   "metadata": {},
   "outputs": [
    {
     "data": {
      "image/png": "[encoded data removed]",
      "text/plain": [
       "<Figure size 432x288 with 1 Axes>"
      ]
     },
     "metadata": {
      "needs_background": "light"
     },
     "output_type": "display_data"
    },
    {
     "data": {
      "text/plain": [
       "{'purity': 0.9166666666666666,\n",
       " 'adjusted_rand_score': 0.7890410958904109,\n",
       " 'davies_bouldin_score': 0.30755551210315785,\n",
       " 'silhouette_score_euclidean': 0.7137552,\n",
       " 'silhouette_score_cosine': 0.50933105}"
      ]
     },
     "execution_count": 47,
     "metadata": {},
     "output_type": "execute_result"
    }
   ],
   "source": [
    "y_pred = dbscanrn(X=X, k=3, similarity=euclidean_distance)\n",
    "\n",
    "# display results\n",
    "fig, ax = plt.subplots()\n",
    "ax.scatter(X[:,0], X[:,1], c=y_pred)\n",
    "plt.show()\n",
    "\n",
    "# evaluation\n",
    "evaluate(y_pred, y, X)"
   ]
  },
  {
   "cell_type": "markdown",
   "id": "1ce8f2d0-b8ea-4641-a64b-38627f347821",
   "metadata": {},
   "source": [
    "#### DBSCANRN: cosine dissimilarity + non-optimalized KNN"
   ]
  },
  {
   "cell_type": "code",
   "execution_count": 48,
   "id": "b036250e-da9d-4ce4-9268-161a2d23e57a",
   "metadata": {},
   "outputs": [
    {
     "data": {
      "image/png": "[encoded data removed]",
      "text/plain": [
       "<Figure size 432x288 with 1 Axes>"
      ]
     },
     "metadata": {
      "needs_background": "light"
     },
     "output_type": "display_data"
    },
    {
     "data": {
      "text/plain": [
       "{'purity': 0.8333333333333334,\n",
       " 'adjusted_rand_score': 0.5097493036211699,\n",
       " 'davies_bouldin_score': 0.36743682429155733,\n",
       " 'silhouette_score_euclidean': 0.6683597,\n",
       " 'silhouette_score_cosine': 0.76168364}"
      ]
     },
     "execution_count": 48,
     "metadata": {},
     "output_type": "execute_result"
    }
   ],
   "source": [
    "y_pred = dbscanrn(X=X_norm, k=4, similarity=cosine_dissimilarity)\n",
    "\n",
    "# display results\n",
    "fig, ax = plt.subplots()\n",
    "ax.scatter(X_norm[:,0], X_norm[:,1], c=y_pred)\n",
    "plt.show()\n",
    "\n",
    "# evaluation\n",
    "evaluate(y_pred, y, X_norm)"
   ]
  },
  {
   "cell_type": "markdown",
   "id": "d71cf13a-457a-47cf-ba64-8f95aba26a02",
   "metadata": {},
   "source": [
    "#### DBSCANRN: cosine similarity + non-optimalized KNN"
   ]
  },
  {
   "cell_type": "code",
   "execution_count": 49,
   "id": "3b0fea90-0547-4152-8259-c0b2124fac62",
   "metadata": {},
   "outputs": [
    {
     "data": {
      "image/png": "[encoded data removed]",
      "text/plain": [
       "<Figure size 432x288 with 1 Axes>"
      ]
     },
     "metadata": {
      "needs_background": "light"
     },
     "output_type": "display_data"
    },
    {
     "ename": "ValueError",
     "evalue": "Number of labels is 1. Valid values are 2 to n_samples - 1 (inclusive)",
     "output_type": "error",
     "traceback": [
      "\u001b[0;31m---------------------------------------------------------------------------\u001b[0m",
      "\u001b[0;31mValueError\u001b[0m                                Traceback (most recent call last)",
      "\u001b[0;32m/tmp/ipykernel_23696/1002590828.py\u001b[0m in \u001b[0;36m<module>\u001b[0;34m\u001b[0m\n\u001b[1;32m      7\u001b[0m \u001b[0;34m\u001b[0m\u001b[0m\n\u001b[1;32m      8\u001b[0m \u001b[0;31m# evaluation\u001b[0m\u001b[0;34m\u001b[0m\u001b[0;34m\u001b[0m\u001b[0m\n\u001b[0;32m----> 9\u001b[0;31m \u001b[0mevaluate\u001b[0m\u001b[0;34m(\u001b[0m\u001b[0my_pred\u001b[0m\u001b[0;34m,\u001b[0m \u001b[0my\u001b[0m\u001b[0;34m,\u001b[0m \u001b[0mX_norm\u001b[0m\u001b[0;34m)\u001b[0m\u001b[0;34m\u001b[0m\u001b[0;34m\u001b[0m\u001b[0m\n\u001b[0m",
      "\u001b[0;32m/tmp/ipykernel_23696/3273798995.py\u001b[0m in \u001b[0;36mevaluate\u001b[0;34m(y_pred, y_true, data)\u001b[0m\n\u001b[1;32m     20\u001b[0m         \u001b[0;34m\"purity\"\u001b[0m\u001b[0;34m:\u001b[0m \u001b[0mpurity\u001b[0m\u001b[0;34m(\u001b[0m\u001b[0my_true\u001b[0m\u001b[0;34m,\u001b[0m \u001b[0my_pred\u001b[0m\u001b[0;34m)\u001b[0m\u001b[0;34m,\u001b[0m\u001b[0;34m\u001b[0m\u001b[0;34m\u001b[0m\u001b[0m\n\u001b[1;32m     21\u001b[0m         \u001b[0;34m\"adjusted_rand_score\"\u001b[0m\u001b[0;34m:\u001b[0m \u001b[0madjusted_rand_score\u001b[0m\u001b[0;34m(\u001b[0m\u001b[0my_true\u001b[0m\u001b[0;34m,\u001b[0m \u001b[0my_pred\u001b[0m\u001b[0;34m)\u001b[0m\u001b[0;34m,\u001b[0m\u001b[0;34m\u001b[0m\u001b[0;34m\u001b[0m\u001b[0m\n\u001b[0;32m---> 22\u001b[0;31m         \u001b[0;34m\"davies_bouldin_score\"\u001b[0m\u001b[0;34m:\u001b[0m \u001b[0mdavies_bouldin_score\u001b[0m\u001b[0;34m(\u001b[0m\u001b[0mdata\u001b[0m\u001b[0;34m,\u001b[0m \u001b[0my_pred\u001b[0m\u001b[0;34m)\u001b[0m\u001b[0;34m,\u001b[0m\u001b[0;34m\u001b[0m\u001b[0;34m\u001b[0m\u001b[0m\n\u001b[0m\u001b[1;32m     23\u001b[0m         \u001b[0;34m\"silhouette_score_euclidean\"\u001b[0m\u001b[0;34m:\u001b[0m \u001b[0mmetrics\u001b[0m\u001b[0;34m.\u001b[0m\u001b[0msilhouette_score\u001b[0m\u001b[0;34m(\u001b[0m\u001b[0mdata\u001b[0m\u001b[0;34m,\u001b[0m \u001b[0my_pred\u001b[0m\u001b[0;34m,\u001b[0m \u001b[0mmetric\u001b[0m \u001b[0;34m=\u001b[0m \u001b[0;34m'euclidean'\u001b[0m\u001b[0;34m)\u001b[0m\u001b[0;34m,\u001b[0m\u001b[0;34m\u001b[0m\u001b[0;34m\u001b[0m\u001b[0m\n\u001b[1;32m     24\u001b[0m         \u001b[0;34m\"silhouette_score_cosine\"\u001b[0m\u001b[0;34m:\u001b[0m \u001b[0mmetrics\u001b[0m\u001b[0;34m.\u001b[0m\u001b[0msilhouette_score\u001b[0m\u001b[0;34m(\u001b[0m\u001b[0mdata\u001b[0m\u001b[0;34m,\u001b[0m \u001b[0my_pred\u001b[0m\u001b[0;34m,\u001b[0m \u001b[0mmetric\u001b[0m \u001b[0;34m=\u001b[0m \u001b[0;34m'cosine'\u001b[0m\u001b[0;34m)\u001b[0m\u001b[0;34m,\u001b[0m\u001b[0;34m\u001b[0m\u001b[0;34m\u001b[0m\u001b[0m\n",
      "\u001b[0;32m/usr/local/lib/python3.10/site-packages/sklearn/metrics/cluster/_unsupervised.py\u001b[0m in \u001b[0;36mdavies_bouldin_score\u001b[0;34m(X, labels)\u001b[0m\n\u001b[1;32m    344\u001b[0m     \u001b[0mn_samples\u001b[0m\u001b[0;34m,\u001b[0m \u001b[0m_\u001b[0m \u001b[0;34m=\u001b[0m \u001b[0mX\u001b[0m\u001b[0;34m.\u001b[0m\u001b[0mshape\u001b[0m\u001b[0;34m\u001b[0m\u001b[0;34m\u001b[0m\u001b[0m\n\u001b[1;32m    345\u001b[0m     \u001b[0mn_labels\u001b[0m \u001b[0;34m=\u001b[0m \u001b[0mlen\u001b[0m\u001b[0;34m(\u001b[0m\u001b[0mle\u001b[0m\u001b[0;34m.\u001b[0m\u001b[0mclasses_\u001b[0m\u001b[0;34m)\u001b[0m\u001b[0;34m\u001b[0m\u001b[0;34m\u001b[0m\u001b[0m\n\u001b[0;32m--> 346\u001b[0;31m     \u001b[0mcheck_number_of_labels\u001b[0m\u001b[0;34m(\u001b[0m\u001b[0mn_labels\u001b[0m\u001b[0;34m,\u001b[0m \u001b[0mn_samples\u001b[0m\u001b[0;34m)\u001b[0m\u001b[0;34m\u001b[0m\u001b[0;34m\u001b[0m\u001b[0m\n\u001b[0m\u001b[1;32m    347\u001b[0m \u001b[0;34m\u001b[0m\u001b[0m\n\u001b[1;32m    348\u001b[0m     \u001b[0mintra_dists\u001b[0m \u001b[0;34m=\u001b[0m \u001b[0mnp\u001b[0m\u001b[0;34m.\u001b[0m\u001b[0mzeros\u001b[0m\u001b[0;34m(\u001b[0m\u001b[0mn_labels\u001b[0m\u001b[0;34m)\u001b[0m\u001b[0;34m\u001b[0m\u001b[0;34m\u001b[0m\u001b[0m\n",
      "\u001b[0;32m/usr/local/lib/python3.10/site-packages/sklearn/metrics/cluster/_unsupervised.py\u001b[0m in \u001b[0;36mcheck_number_of_labels\u001b[0;34m(n_labels, n_samples)\u001b[0m\n\u001b[1;32m     31\u001b[0m     \"\"\"\n\u001b[1;32m     32\u001b[0m     \u001b[0;32mif\u001b[0m \u001b[0;32mnot\u001b[0m \u001b[0;36m1\u001b[0m \u001b[0;34m<\u001b[0m \u001b[0mn_labels\u001b[0m \u001b[0;34m<\u001b[0m \u001b[0mn_samples\u001b[0m\u001b[0;34m:\u001b[0m\u001b[0;34m\u001b[0m\u001b[0;34m\u001b[0m\u001b[0m\n\u001b[0;32m---> 33\u001b[0;31m         raise ValueError(\n\u001b[0m\u001b[1;32m     34\u001b[0m             \u001b[0;34m\"Number of labels is %d. Valid values are 2 to n_samples - 1 (inclusive)\"\u001b[0m\u001b[0;34m\u001b[0m\u001b[0;34m\u001b[0m\u001b[0m\n\u001b[1;32m     35\u001b[0m             \u001b[0;34m%\u001b[0m \u001b[0mn_labels\u001b[0m\u001b[0;34m\u001b[0m\u001b[0;34m\u001b[0m\u001b[0m\n",
      "\u001b[0;31mValueError\u001b[0m: Number of labels is 1. Valid values are 2 to n_samples - 1 (inclusive)"
     ]
    }
   ],
   "source": [
    "y_pred = dbscanrn(X=X_norm, k=2, similarity=cosine_similarity)\n",
    "\n",
    "# display results\n",
    "fig, ax = plt.subplots()\n",
    "ax.scatter(X_norm[:,0], X_norm[:,1], c=y_pred)\n",
    "plt.show()\n",
    "\n",
    "# evaluation\n",
    "evaluate(y_pred, y, X_norm)"
   ]
  },
  {
   "cell_type": "markdown",
   "id": "ccaaa790-f1b5-46a3-acdf-542ce00cff4f",
   "metadata": {},
   "source": [
    "#### DBSCANRN: euclidean distance + optimalized KNN (ti-KNN)"
   ]
  },
  {
   "cell_type": "code",
   "execution_count": 50,
   "id": "c64c094a-f24d-45ed-9710-76e14f89884d",
   "metadata": {},
   "outputs": [
    {
     "name": "stderr",
     "output_type": "stream",
     "text": [
      "/tmp/ipykernel_23696/1490829759.py:3: SettingWithCopyWarning: \n",
      "A value is trying to be set on a copy of a slice from a DataFrame.\n",
      "Try using .loc[row_indexer,col_indexer] = value instead\n",
      "\n",
      "See the caveats in the documentation: https://pandas.pydata.org/pandas-docs/stable/user_guide/indexing.html#returning-a-view-versus-a-copy\n",
      "  df2['real'] = df2.apply(lambda row: euclidean_distance(row[['x','y']], current_point[['x','y']].values[0]), axis=1)\n"
     ]
    },
    {
     "data": {
      "image/png": "[encoded data removed]",
      "text/plain": [
       "<Figure size 432x288 with 1 Axes>"
      ]
     },
     "metadata": {
      "needs_background": "light"
     },
     "output_type": "display_data"
    },
    {
     "data": {
      "text/plain": [
       "{'purity': 0.9166666666666666,\n",
       " 'adjusted_rand_score': 0.7890410958904109,\n",
       " 'davies_bouldin_score': 0.30755551210315785,\n",
       " 'silhouette_score_euclidean': 0.7137552,\n",
       " 'silhouette_score_cosine': 0.50933105}"
      ]
     },
     "execution_count": 50,
     "metadata": {},
     "output_type": "execute_result"
    }
   ],
   "source": [
    "y_pred = ti_dbscanrn(X=X, k=2, similarity=euclidean_distance)\n",
    "\n",
    "# display results\n",
    "fig, ax = plt.subplots()\n",
    "ax.scatter(X[:,0], X[:,1], c=y_pred)\n",
    "plt.show()\n",
    "\n",
    "# evaluation\n",
    "evaluate(y_pred, y, X)"
   ]
  },
  {
   "cell_type": "markdown",
   "id": "534d2197-3f3f-4056-a7e6-4439b1166f30",
   "metadata": {},
   "source": [
    "#### DBSCANRN: cosine dissimilarity + optimalized KNN (ti-KNN)"
   ]
  },
  {
   "cell_type": "code",
   "execution_count": 51,
   "id": "49ffc477-4b13-4494-b0c3-c2395bb53199",
   "metadata": {},
   "outputs": [
    {
     "data": {
      "image/png": "[encoded data removed]",
      "text/plain": [
       "<Figure size 432x288 with 1 Axes>"
      ]
     },
     "metadata": {
      "needs_background": "light"
     },
     "output_type": "display_data"
    },
    {
     "data": {
      "text/plain": [
       "{'purity': 0.8333333333333334,\n",
       " 'adjusted_rand_score': 0.5097493036211699,\n",
       " 'davies_bouldin_score': 0.36743682429155733,\n",
       " 'silhouette_score_euclidean': 0.6683597,\n",
       " 'silhouette_score_cosine': 0.76168364}"
      ]
     },
     "execution_count": 51,
     "metadata": {},
     "output_type": "execute_result"
    }
   ],
   "source": [
    "y_pred = ti_dbscanrn(X=X_norm, k=2, similarity=cosine_dissimilarity)\n",
    "\n",
    "# display results\n",
    "fig, ax = plt.subplots()\n",
    "ax.scatter(X_norm[:,0], X_norm[:,1], c=y_pred)\n",
    "plt.show()\n",
    "\n",
    "# evaluation\n",
    "evaluate(y_pred, y, X_norm)"
   ]
  },
  {
   "cell_type": "markdown",
   "id": "097b2d3e-be63-4d16-9960-1881719a05cc",
   "metadata": {},
   "source": [
    "#### DBSCANRN: cosine similarity + optimalized KNN (ti-KNN)"
   ]
  },
  {
   "cell_type": "code",
   "execution_count": 52,
   "id": "28f0e604-af05-437a-b19f-66e30f6d50df",
   "metadata": {},
   "outputs": [
    {
     "data": {
      "image/png": "[encoded data removed]",
      "text/plain": [
       "<Figure size 432x288 with 1 Axes>"
      ]
     },
     "metadata": {
      "needs_background": "light"
     },
     "output_type": "display_data"
    },
    {
     "data": {
      "text/plain": [
       "{'purity': 0.75,\n",
       " 'adjusted_rand_score': 0.2913165266106443,\n",
       " 'davies_bouldin_score': 1.0481691108966802,\n",
       " 'silhouette_score_euclidean': 0.5012502,\n",
       " 'silhouette_score_cosine': 0.49780026}"
      ]
     },
     "execution_count": 52,
     "metadata": {},
     "output_type": "execute_result"
    }
   ],
   "source": [
    "y_pred = ti_dbscanrn(X=X_norm, k=4, similarity=cosine_similarity)\n",
    "\n",
    "# display results\n",
    "fig, ax = plt.subplots()\n",
    "ax.scatter(X_norm[:,0], X_norm[:,1], c=y_pred)\n",
    "plt.show()\n",
    "\n",
    "# evaluation\n",
    "evaluate(y_pred, y, X_norm)"
   ]
  },
  {
   "cell_type": "markdown",
   "id": "d93a7d4a-631e-4520-876b-51aed924789d",
   "metadata": {
    "tags": []
   },
   "source": [
    "## Dataset: A. K. Jain's Toy problem"
   ]
  },
  {
   "cell_type": "markdown",
   "id": "3bda9537-84a0-4cb2-96f5-213fab1f29de",
   "metadata": {
    "tags": [],
    "toc-hr-collapsed": true
   },
   "source": [
    "### DBSCAN"
   ]
  },
  {
   "cell_type": "markdown",
   "id": "bc1007d0-23c4-488a-b70a-83125a3ed6de",
   "metadata": {},
   "source": [
    "#### DBSCAN: euclidean distance "
   ]
  },
  {
   "cell_type": "code",
   "execution_count": 31,
   "id": "6b0948a7-7ab3-4bb3-965b-8de7acbba282",
   "metadata": {},
   "outputs": [
    {
     "data": {
      "image/png": "[encoded data removed]",
      "text/plain": [
       "<Figure size 432x288 with 1 Axes>"
      ]
     },
     "metadata": {
      "needs_background": "light"
     },
     "output_type": "display_data"
    },
    {
     "data": {
      "text/plain": [
       "{'purity': 1.0,\n",
       " 'adjusted_rand_score': 0.9410747419284547,\n",
       " 'davies_bouldin_score': 0.9912640949209772,\n",
       " 'silhouette_score_euclidean': 0.04313169376986787,\n",
       " 'silhouette_score_cosine': 0.02068834160275548}"
      ]
     },
     "execution_count": 31,
     "metadata": {},
     "output_type": "execute_result"
    }
   ],
   "source": [
    "y_pred = dbscan(X=X_j, epsilon=2.5, minPts=3, similarity=euclidean_distance)\n",
    "\n",
    "# display results\n",
    "fig, ax = plt.subplots()\n",
    "ax.scatter(X_j[:,0], X_j[:,1], c=y_pred)\n",
    "plt.show()\n",
    "\n",
    "# evaluation\n",
    "evaluate(y_pred, y_j, X_j)"
   ]
  },
  {
   "cell_type": "markdown",
   "id": "9133e666-a70d-42e6-92f6-cff07687dd07",
   "metadata": {},
   "source": [
    "#### DBSCAN: cosine dissimilarity"
   ]
  },
  {
   "cell_type": "code",
   "execution_count": 32,
   "id": "500b5695-41b6-43e0-9339-bcd664b062aa",
   "metadata": {},
   "outputs": [
    {
     "data": {
      "image/png": "[encoded data removed]",
      "text/plain": [
       "<Figure size 432x288 with 1 Axes>"
      ]
     },
     "metadata": {
      "needs_background": "light"
     },
     "output_type": "display_data"
    },
    {
     "data": {
      "text/plain": [
       "{'purity': 0.8605898123324397,\n",
       " 'adjusted_rand_score': 0.5094244457647574,\n",
       " 'davies_bouldin_score': 0.39985220972760177,\n",
       " 'silhouette_score_euclidean': 0.634807290398894,\n",
       " 'silhouette_score_cosine': 0.7467679107430216}"
      ]
     },
     "execution_count": 32,
     "metadata": {},
     "output_type": "execute_result"
    }
   ],
   "source": [
    "y_pred = dbscan(X=X_jnorm, epsilon=0.0005, minPts=3, similarity=cosine_dissimilarity)\n",
    "\n",
    "# display results\n",
    "fig, ax = plt.subplots()\n",
    "ax.scatter(X_jnorm[:,0], X_jnorm[:,1], c=y_pred)\n",
    "plt.show()\n",
    "\n",
    "# evaluation\n",
    "evaluate(y_pred, y_j, X_jnorm)"
   ]
  },
  {
   "cell_type": "markdown",
   "id": "5014c09a-bc24-4492-a972-cc951ff0b3da",
   "metadata": {},
   "source": [
    "#### DBSCAN: cosine similarity"
   ]
  },
  {
   "cell_type": "code",
   "execution_count": 33,
   "id": "c1afefef-0d3b-4956-99b3-703e01c6850a",
   "metadata": {},
   "outputs": [
    {
     "data": {
      "image/png": "[encoded data removed]",
      "text/plain": [
       "<Figure size 432x288 with 1 Axes>"
      ]
     },
     "metadata": {
      "needs_background": "light"
     },
     "output_type": "display_data"
    },
    {
     "data": {
      "text/plain": [
       "{'purity': 0.7828418230563002,\n",
       " 'adjusted_rand_score': 0.28981257339269606,\n",
       " 'davies_bouldin_score': 0.9570206664984932,\n",
       " 'silhouette_score_euclidean': 0.4734783838552942,\n",
       " 'silhouette_score_cosine': 0.455144646692556}"
      ]
     },
     "execution_count": 33,
     "metadata": {},
     "output_type": "execute_result"
    }
   ],
   "source": [
    "y_pred = dbscan(X=X_jnorm, epsilon=0.55, minPts=4, similarity=cosine_similarity)\n",
    "\n",
    "# display results\n",
    "fig, ax = plt.subplots()\n",
    "ax.scatter(X_jnorm[:,0], X_jnorm[:,1], c=y_pred)\n",
    "plt.show()\n",
    "\n",
    "# evaluation\n",
    "evaluate(y_pred, y_j, X_jnorm)"
   ]
  },
  {
   "cell_type": "markdown",
   "id": "c85db47e-ca08-4d4d-859d-1bb733a33137",
   "metadata": {
    "toc-hr-collapsed": true
   },
   "source": [
    "### DBSCANRN"
   ]
  },
  {
   "cell_type": "markdown",
   "id": "a2a9f4fe-27ff-4567-a9f6-67f501ba7a6f",
   "metadata": {},
   "source": [
    "#### DBSCANRN: euclidean distance + non-optimalized KNN"
   ]
  },
  {
   "cell_type": "code",
   "execution_count": 53,
   "id": "c4455e9a-8c54-4418-a416-cb2a275ac11f",
   "metadata": {},
   "outputs": [
    {
     "data": {
      "image/png": "[encoded data removed]",
      "text/plain": [
       "<Figure size 432x288 with 1 Axes>"
      ]
     },
     "metadata": {
      "needs_background": "light"
     },
     "output_type": "display_data"
    },
    {
     "data": {
      "text/plain": [
       "{'purity': 1.0,\n",
       " 'adjusted_rand_score': 0.6191575367448879,\n",
       " 'davies_bouldin_score': 0.7784834634292873,\n",
       " 'silhouette_score_euclidean': 0.37413392182536587,\n",
       " 'silhouette_score_cosine': -0.06273956437613881}"
      ]
     },
     "execution_count": 53,
     "metadata": {},
     "output_type": "execute_result"
    }
   ],
   "source": [
    "y_pred = dbscanrn(X=X_j, k=35, similarity=euclidean_distance)\n",
    "\n",
    "# display results\n",
    "fig, ax = plt.subplots()\n",
    "ax.scatter(X_j[:,0], X_j[:,1], c=y_pred)\n",
    "plt.show()\n",
    "\n",
    "# evaluation\n",
    "evaluate(y_pred, y_j, X_j)"
   ]
  },
  {
   "cell_type": "markdown",
   "id": "0e457c1b-7033-47d2-ac5f-086358a1a7af",
   "metadata": {},
   "source": [
    "#### DBSCANRN: cosine dissimilarity + non-optimalized KNN"
   ]
  },
  {
   "cell_type": "code",
   "execution_count": 54,
   "id": "0b7f9db1-5deb-4bf2-bb89-4e1c7b7bef13",
   "metadata": {},
   "outputs": [
    {
     "data": {
      "image/png": "[encoded data removed]",
      "text/plain": [
       "<Figure size 432x288 with 1 Axes>"
      ]
     },
     "metadata": {
      "needs_background": "light"
     },
     "output_type": "display_data"
    },
    {
     "data": {
      "text/plain": [
       "{'purity': 0.9168900804289544,\n",
       " 'adjusted_rand_score': 0.20917520137396012,\n",
       " 'davies_bouldin_score': 0.5262551573890407,\n",
       " 'silhouette_score_euclidean': 0.48606216723052237,\n",
       " 'silhouette_score_cosine': 0.5986804038329128}"
      ]
     },
     "execution_count": 54,
     "metadata": {},
     "output_type": "execute_result"
    }
   ],
   "source": [
    "y_pred = dbscanrn(X=X_jnorm, k=30, similarity=cosine_dissimilarity)\n",
    "\n",
    "# display results\n",
    "fig, ax = plt.subplots()\n",
    "ax.scatter(X_jnorm[:,0], X_jnorm[:,1], c=y_pred)\n",
    "plt.show()\n",
    "\n",
    "# evaluation\n",
    "evaluate(y_pred, y_j, X_jnorm)"
   ]
  },
  {
   "cell_type": "markdown",
   "id": "0574c5ff-18a6-4722-bd06-719dba97978f",
   "metadata": {},
   "source": [
    "#### DBSCANRN: cosine similarity + non-optimalized KNN"
   ]
  },
  {
   "cell_type": "code",
   "execution_count": 55,
   "id": "5d779129-53e1-421f-b667-c126fa6522bb",
   "metadata": {},
   "outputs": [
    {
     "data": {
      "image/png": "[encoded data removed]",
      "text/plain": [
       "<Figure size 432x288 with 1 Axes>"
      ]
     },
     "metadata": {
      "needs_background": "light"
     },
     "output_type": "display_data"
    },
    {
     "ename": "ValueError",
     "evalue": "Number of labels is 1. Valid values are 2 to n_samples - 1 (inclusive)",
     "output_type": "error",
     "traceback": [
      "\u001b[0;31m---------------------------------------------------------------------------\u001b[0m",
      "\u001b[0;31mValueError\u001b[0m                                Traceback (most recent call last)",
      "\u001b[0;32m/tmp/ipykernel_23696/397336994.py\u001b[0m in \u001b[0;36m<module>\u001b[0;34m\u001b[0m\n\u001b[1;32m      7\u001b[0m \u001b[0;34m\u001b[0m\u001b[0m\n\u001b[1;32m      8\u001b[0m \u001b[0;31m# evaluation\u001b[0m\u001b[0;34m\u001b[0m\u001b[0;34m\u001b[0m\u001b[0m\n\u001b[0;32m----> 9\u001b[0;31m \u001b[0mevaluate\u001b[0m\u001b[0;34m(\u001b[0m\u001b[0my_pred\u001b[0m\u001b[0;34m,\u001b[0m \u001b[0my_j\u001b[0m\u001b[0;34m,\u001b[0m \u001b[0mX_jnorm\u001b[0m\u001b[0;34m)\u001b[0m\u001b[0;34m\u001b[0m\u001b[0;34m\u001b[0m\u001b[0m\n\u001b[0m",
      "\u001b[0;32m/tmp/ipykernel_23696/3273798995.py\u001b[0m in \u001b[0;36mevaluate\u001b[0;34m(y_pred, y_true, data)\u001b[0m\n\u001b[1;32m     20\u001b[0m         \u001b[0;34m\"purity\"\u001b[0m\u001b[0;34m:\u001b[0m \u001b[0mpurity\u001b[0m\u001b[0;34m(\u001b[0m\u001b[0my_true\u001b[0m\u001b[0;34m,\u001b[0m \u001b[0my_pred\u001b[0m\u001b[0;34m)\u001b[0m\u001b[0;34m,\u001b[0m\u001b[0;34m\u001b[0m\u001b[0;34m\u001b[0m\u001b[0m\n\u001b[1;32m     21\u001b[0m         \u001b[0;34m\"adjusted_rand_score\"\u001b[0m\u001b[0;34m:\u001b[0m \u001b[0madjusted_rand_score\u001b[0m\u001b[0;34m(\u001b[0m\u001b[0my_true\u001b[0m\u001b[0;34m,\u001b[0m \u001b[0my_pred\u001b[0m\u001b[0;34m)\u001b[0m\u001b[0;34m,\u001b[0m\u001b[0;34m\u001b[0m\u001b[0;34m\u001b[0m\u001b[0m\n\u001b[0;32m---> 22\u001b[0;31m         \u001b[0;34m\"davies_bouldin_score\"\u001b[0m\u001b[0;34m:\u001b[0m \u001b[0mdavies_bouldin_score\u001b[0m\u001b[0;34m(\u001b[0m\u001b[0mdata\u001b[0m\u001b[0;34m,\u001b[0m \u001b[0my_pred\u001b[0m\u001b[0;34m)\u001b[0m\u001b[0;34m,\u001b[0m\u001b[0;34m\u001b[0m\u001b[0;34m\u001b[0m\u001b[0m\n\u001b[0m\u001b[1;32m     23\u001b[0m         \u001b[0;34m\"silhouette_score_euclidean\"\u001b[0m\u001b[0;34m:\u001b[0m \u001b[0mmetrics\u001b[0m\u001b[0;34m.\u001b[0m\u001b[0msilhouette_score\u001b[0m\u001b[0;34m(\u001b[0m\u001b[0mdata\u001b[0m\u001b[0;34m,\u001b[0m \u001b[0my_pred\u001b[0m\u001b[0;34m,\u001b[0m \u001b[0mmetric\u001b[0m \u001b[0;34m=\u001b[0m \u001b[0;34m'euclidean'\u001b[0m\u001b[0;34m)\u001b[0m\u001b[0;34m,\u001b[0m\u001b[0;34m\u001b[0m\u001b[0;34m\u001b[0m\u001b[0m\n\u001b[1;32m     24\u001b[0m         \u001b[0;34m\"silhouette_score_cosine\"\u001b[0m\u001b[0;34m:\u001b[0m \u001b[0mmetrics\u001b[0m\u001b[0;34m.\u001b[0m\u001b[0msilhouette_score\u001b[0m\u001b[0;34m(\u001b[0m\u001b[0mdata\u001b[0m\u001b[0;34m,\u001b[0m \u001b[0my_pred\u001b[0m\u001b[0;34m,\u001b[0m \u001b[0mmetric\u001b[0m \u001b[0;34m=\u001b[0m \u001b[0;34m'cosine'\u001b[0m\u001b[0;34m)\u001b[0m\u001b[0;34m,\u001b[0m\u001b[0;34m\u001b[0m\u001b[0;34m\u001b[0m\u001b[0m\n",
      "\u001b[0;32m/usr/local/lib/python3.10/site-packages/sklearn/metrics/cluster/_unsupervised.py\u001b[0m in \u001b[0;36mdavies_bouldin_score\u001b[0;34m(X, labels)\u001b[0m\n\u001b[1;32m    344\u001b[0m     \u001b[0mn_samples\u001b[0m\u001b[0;34m,\u001b[0m \u001b[0m_\u001b[0m \u001b[0;34m=\u001b[0m \u001b[0mX\u001b[0m\u001b[0;34m.\u001b[0m\u001b[0mshape\u001b[0m\u001b[0;34m\u001b[0m\u001b[0;34m\u001b[0m\u001b[0m\n\u001b[1;32m    345\u001b[0m     \u001b[0mn_labels\u001b[0m \u001b[0;34m=\u001b[0m \u001b[0mlen\u001b[0m\u001b[0;34m(\u001b[0m\u001b[0mle\u001b[0m\u001b[0;34m.\u001b[0m\u001b[0mclasses_\u001b[0m\u001b[0;34m)\u001b[0m\u001b[0;34m\u001b[0m\u001b[0;34m\u001b[0m\u001b[0m\n\u001b[0;32m--> 346\u001b[0;31m     \u001b[0mcheck_number_of_labels\u001b[0m\u001b[0;34m(\u001b[0m\u001b[0mn_labels\u001b[0m\u001b[0;34m,\u001b[0m \u001b[0mn_samples\u001b[0m\u001b[0;34m)\u001b[0m\u001b[0;34m\u001b[0m\u001b[0;34m\u001b[0m\u001b[0m\n\u001b[0m\u001b[1;32m    347\u001b[0m \u001b[0;34m\u001b[0m\u001b[0m\n\u001b[1;32m    348\u001b[0m     \u001b[0mintra_dists\u001b[0m \u001b[0;34m=\u001b[0m \u001b[0mnp\u001b[0m\u001b[0;34m.\u001b[0m\u001b[0mzeros\u001b[0m\u001b[0;34m(\u001b[0m\u001b[0mn_labels\u001b[0m\u001b[0;34m)\u001b[0m\u001b[0;34m\u001b[0m\u001b[0;34m\u001b[0m\u001b[0m\n",
      "\u001b[0;32m/usr/local/lib/python3.10/site-packages/sklearn/metrics/cluster/_unsupervised.py\u001b[0m in \u001b[0;36mcheck_number_of_labels\u001b[0;34m(n_labels, n_samples)\u001b[0m\n\u001b[1;32m     31\u001b[0m     \"\"\"\n\u001b[1;32m     32\u001b[0m     \u001b[0;32mif\u001b[0m \u001b[0;32mnot\u001b[0m \u001b[0;36m1\u001b[0m \u001b[0;34m<\u001b[0m \u001b[0mn_labels\u001b[0m \u001b[0;34m<\u001b[0m \u001b[0mn_samples\u001b[0m\u001b[0;34m:\u001b[0m\u001b[0;34m\u001b[0m\u001b[0;34m\u001b[0m\u001b[0m\n\u001b[0;32m---> 33\u001b[0;31m         raise ValueError(\n\u001b[0m\u001b[1;32m     34\u001b[0m             \u001b[0;34m\"Number of labels is %d. Valid values are 2 to n_samples - 1 (inclusive)\"\u001b[0m\u001b[0;34m\u001b[0m\u001b[0;34m\u001b[0m\u001b[0m\n\u001b[1;32m     35\u001b[0m             \u001b[0;34m%\u001b[0m \u001b[0mn_labels\u001b[0m\u001b[0;34m\u001b[0m\u001b[0;34m\u001b[0m\u001b[0m\n",
      "\u001b[0;31mValueError\u001b[0m: Number of labels is 1. Valid values are 2 to n_samples - 1 (inclusive)"
     ]
    }
   ],
   "source": [
    "y_pred = dbscanrn(X=X_jnorm, k=4, similarity=cosine_similarity)\n",
    "\n",
    "# display results\n",
    "fig, ax = plt.subplots()\n",
    "ax.scatter(X_jnorm[:,0], X_jnorm[:,1], c=y_pred)\n",
    "plt.show()\n",
    "\n",
    "# evaluation\n",
    "evaluate(y_pred, y_j, X_jnorm)"
   ]
  },
  {
   "cell_type": "markdown",
   "id": "8d75baed-f7fd-4d14-bcb3-60740122d225",
   "metadata": {},
   "source": [
    "#### DBSCANRN: euclidean distance + optimalized KNN (ti-KNN)"
   ]
  },
  {
   "cell_type": "code",
   "execution_count": 56,
   "id": "9d270ec0-85be-4dbb-a286-9aa1d3a9bc1f",
   "metadata": {},
   "outputs": [
    {
     "name": "stderr",
     "output_type": "stream",
     "text": [
      "/tmp/ipykernel_23696/1490829759.py:3: SettingWithCopyWarning: \n",
      "A value is trying to be set on a copy of a slice from a DataFrame.\n",
      "Try using .loc[row_indexer,col_indexer] = value instead\n",
      "\n",
      "See the caveats in the documentation: https://pandas.pydata.org/pandas-docs/stable/user_guide/indexing.html#returning-a-view-versus-a-copy\n",
      "  df2['real'] = df2.apply(lambda row: euclidean_distance(row[['x','y']], current_point[['x','y']].values[0]), axis=1)\n"
     ]
    },
    {
     "data": {
      "image/png": "[encoded data removed]",
      "text/plain": [
       "<Figure size 432x288 with 1 Axes>"
      ]
     },
     "metadata": {
      "needs_background": "light"
     },
     "output_type": "display_data"
    },
    {
     "data": {
      "text/plain": [
       "{'purity': 1.0,\n",
       " 'adjusted_rand_score': 0.08495426564506141,\n",
       " 'davies_bouldin_score': 1.1735796548922388,\n",
       " 'silhouette_score_euclidean': 0.14169569636696702,\n",
       " 'silhouette_score_cosine': -0.28949007333228893}"
      ]
     },
     "execution_count": 56,
     "metadata": {},
     "output_type": "execute_result"
    }
   ],
   "source": [
    "y_pred = ti_dbscanrn(X=X_j, k=5, similarity=euclidean_distance)\n",
    "\n",
    "# display results\n",
    "fig, ax = plt.subplots()\n",
    "ax.scatter(X_j[:,0], X_j[:,1], c=y_pred)\n",
    "plt.show()\n",
    "\n",
    "# evaluation\n",
    "evaluate(y_pred, y_j, X_j)"
   ]
  },
  {
   "cell_type": "markdown",
   "id": "ab93060c-ea34-4950-99f3-8c7e984822cf",
   "metadata": {},
   "source": [
    "#### DBSCANRN: cosine dissimilarity + optimalized KNN (ti-KNN)"
   ]
  },
  {
   "cell_type": "code",
   "execution_count": 63,
   "id": "ef8a9fef-8c16-46b6-aa5b-1c628ad7d665",
   "metadata": {},
   "outputs": [
    {
     "data": {
      "image/png": "[encoded data removed]",
      "text/plain": [
       "<Figure size 432x288 with 1 Axes>"
      ]
     },
     "metadata": {
      "needs_background": "light"
     },
     "output_type": "display_data"
    },
    {
     "data": {
      "text/plain": [
       "{'purity': 0.9168900804289544,\n",
       " 'adjusted_rand_score': 0.020136493135354996,\n",
       " 'davies_bouldin_score': 0.4621241486849907,\n",
       " 'silhouette_score_euclidean': 0.5441902018979903,\n",
       " 'silhouette_score_cosine': 0.6700287974040466}"
      ]
     },
     "execution_count": 63,
     "metadata": {},
     "output_type": "execute_result"
    }
   ],
   "source": [
    "y_pred = ti_dbscanrn(X=X_jnorm, k=4, similarity=cosine_dissimilarity)\n",
    "\n",
    "# display results\n",
    "fig, ax = plt.subplots()\n",
    "ax.scatter(X_jnorm[:,0], X_jnorm[:,1], c=y_pred)\n",
    "plt.show()\n",
    "\n",
    "# evaluation\n",
    "evaluate(y_pred, y_j, X_jnorm)"
   ]
  },
  {
   "cell_type": "markdown",
   "id": "a89f7b6a-6c73-43a7-a4cb-4e9c6782b67d",
   "metadata": {},
   "source": [
    "#### DBSCANRN: cosine similarity + optimalized KNN (ti-KNN)"
   ]
  },
  {
   "cell_type": "code",
   "execution_count": 64,
   "id": "e84080c4-ac2e-4edb-b0e2-4d6a4996490c",
   "metadata": {},
   "outputs": [
    {
     "data": {
      "image/png": "[encoded data removed]",
      "text/plain": [
       "<Figure size 432x288 with 1 Axes>"
      ]
     },
     "metadata": {
      "needs_background": "light"
     },
     "output_type": "display_data"
    },
    {
     "data": {
      "text/plain": [
       "{'purity': 0.8981233243967829,\n",
       " 'adjusted_rand_score': 0.01788749571333058,\n",
       " 'davies_bouldin_score': 1.5024176959371391,\n",
       " 'silhouette_score_euclidean': 0.3257108034792068,\n",
       " 'silhouette_score_cosine': 0.4201921008633988}"
      ]
     },
     "execution_count": 64,
     "metadata": {},
     "output_type": "execute_result"
    }
   ],
   "source": [
    "y_pred = ti_dbscanrn(X=X_jnorm, k=3, similarity=cosine_similarity)\n",
    "\n",
    "# display results\n",
    "fig, ax = plt.subplots()\n",
    "ax.scatter(X_jnorm[:,0], X_jnorm[:,1], c=y_pred)\n",
    "plt.show()\n",
    "\n",
    "# evaluation\n",
    "evaluate(y_pred, y_j, X_jnorm)"
   ]
  },
  {
   "cell_type": "code",
   "execution_count": null,
   "id": "0ec9ea9b-c448-4b4f-8fdb-c32c398d5522",
   "metadata": {},
   "outputs": [],
   "source": []
  }
 ],
 "metadata": {
  "kernelspec": {
   "display_name": "Python 3 (ipykernel)",
   "language": "python",
   "name": "python3"
  },
  "language_info": {
   "codemirror_mode": {
    "name": "ipython",
    "version": 3
   },
   "file_extension": ".py",
   "mimetype": "text/x-python",
   "name": "python",
   "nbconvert_exporter": "python",
   "pygments_lexer": "ipython3",
   "version": "3.10.1"
  },
  "toc-showcode": false
 },
 "nbformat": 4,
 "nbformat_minor": 5
}
