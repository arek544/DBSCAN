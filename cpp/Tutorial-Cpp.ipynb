{
 "cells": [
  {
   "cell_type": "markdown",
   "id": "ce9ef4b6-1ac1-441c-8c05-31569001442a",
   "metadata": {},
   "source": [
    "# C++ 14"
   ]
  },
  {
   "cell_type": "code",
   "execution_count": 2,
   "id": "6ac2479f-9816-498f-9cb4-76812811e5a1",
   "metadata": {},
   "outputs": [],
   "source": [
    "#include <iostream>\n",
    "#include <xtensor/xarray.hpp>\n",
    "#include <xtensor/xio.hpp>\n",
    "#include <xtensor/xview.hpp>\n",
    "\n",
    "#include <xtensor/xarray.hpp>\n",
    "#include <xtensor/xfixed.hpp>\n",
    "#include <xtensor/xio.hpp>\n",
    "#include <xtensor/xtensor.hpp>\n",
    "#include <xtensor/xadapt.hpp>\n",
    "#include <xtensor/xarray.hpp>\n",
    "#include <xtensor/xaxis_slice_iterator.hpp>\n",
    "#include <xtensor/xaxis_iterator.hpp>\n",
    "#include <xtensor/xio.hpp>\n",
    "#include <xtensor/xarray.hpp>\n",
    "#include <xtensor/xindex_view.hpp>\n",
    "\n",
    "#include <xtensor/xchunked_array.hpp>\n",
    "#include <xtensor/xfixed.hpp>\n",
    "#include <cstddef>\n",
    "#include <vector>\n",
    "#include <xtensor/xarray.hpp>\n",
    "#include <xtensor/xadapt.hpp>"
   ]
  },
  {
   "cell_type": "code",
   "execution_count": 3,
   "id": "6fb953f8-0d6c-4357-8627-f545c91b7841",
   "metadata": {},
   "outputs": [],
   "source": [
    "using namespace xt;"
   ]
  },
  {
   "cell_type": "markdown",
   "id": "47c0f183-b142-4a02-9347-1e2280851af9",
   "metadata": {},
   "source": [
    "# Create simple 1D array"
   ]
  },
  {
   "cell_type": "code",
   "execution_count": 4,
   "id": "b2a3dd9b-7365-4284-909f-dcdc47033f79",
   "metadata": {},
   "outputs": [
    {
     "data": {
      "text/html": [
       "<table style='border-style:solid;border-width:1px;'><tbody><tr><td style='font-family:monospace;' title='0'><pre> 1.</pre></td></tr><tr><td style='font-family:monospace;' title='1'><pre> 2.</pre></td></tr><tr><td style='font-family:monospace;' title='2'><pre> 3.</pre></td></tr><tr><td style='font-family:monospace;' title='3'><pre> 4.</pre></td></tr></tbody></table>"
      ]
     },
     "execution_count": 4,
     "metadata": {},
     "output_type": "execute_result"
    }
   ],
   "source": [
    "xt::xarray<double> a = {1, 2, 3, 4};\n",
    "a"
   ]
  },
  {
   "cell_type": "code",
   "execution_count": 5,
   "id": "3366d708-25b6-4d70-bfe2-d70f26603c80",
   "metadata": {},
   "outputs": [
    {
     "data": {
      "text/plain": [
       "3.0000000"
      ]
     },
     "execution_count": 5,
     "metadata": {},
     "output_type": "execute_result"
    }
   ],
   "source": [
    "// Accessing elements\n",
    "a(2)"
   ]
  },
  {
   "cell_type": "code",
   "execution_count": 6,
   "id": "238e4cbb-69a0-4f4c-9932-798a3177142d",
   "metadata": {},
   "outputs": [
    {
     "data": {
      "text/html": [
       "<table style='border-style:solid;border-width:1px;'><tbody><tr><td style='font-family:monospace;' title='0'><pre>  1.</pre></td></tr><tr><td style='font-family:monospace;' title='1'><pre>  2.</pre></td></tr><tr><td style='font-family:monospace;' title='2'><pre> 50.</pre></td></tr><tr><td style='font-family:monospace;' title='3'><pre>  4.</pre></td></tr></tbody></table>"
      ]
     },
     "execution_count": 6,
     "metadata": {},
     "output_type": "execute_result"
    }
   ],
   "source": [
    "a(2) = 50;\n",
    "a"
   ]
  },
  {
   "cell_type": "markdown",
   "id": "8f4fb293-5e61-4813-9798-a55d456a7f04",
   "metadata": {},
   "source": [
    "# 2D array"
   ]
  },
  {
   "cell_type": "code",
   "execution_count": 7,
   "id": "977110eb-b605-42cb-9581-5ff4e7262e5c",
   "metadata": {},
   "outputs": [
    {
     "data": {
      "text/html": [
       "<table style='border-style:solid;border-width:1px;'><tbody><tr><td style='font-family:monospace;' title='(0, 0)'><pre> 1.</pre></td><td style='font-family:monospace;' title='(0, 1)'><pre> 2.</pre></td><td style='font-family:monospace;' title='(0, 2)'><pre> 3.</pre></td><td style='font-family:monospace;' title='(0, 3)'><pre> 4.</pre></td></tr><tr><td style='font-family:monospace;' title='(1, 0)'><pre> 5.</pre></td><td style='font-family:monospace;' title='(1, 1)'><pre> 6.</pre></td><td style='font-family:monospace;' title='(1, 2)'><pre> 7.</pre></td><td style='font-family:monospace;' title='(1, 3)'><pre> 8.</pre></td></tr></tbody></table>"
      ]
     },
     "execution_count": 7,
     "metadata": {},
     "output_type": "execute_result"
    }
   ],
   "source": [
    "xt::xarray<double> b = {{1, 2, 3, 4},\n",
    "                    {5, 6, 7, 8}};\n",
    "b"
   ]
  },
  {
   "cell_type": "code",
   "execution_count": 8,
   "id": "73b897c8-a921-4818-9170-77adcad716cf",
   "metadata": {},
   "outputs": [
    {
     "data": {
      "text/plain": [
       "7.0000000"
      ]
     },
     "execution_count": 8,
     "metadata": {},
     "output_type": "execute_result"
    }
   ],
   "source": [
    "// Accessing elements\n",
    "b(1,2)"
   ]
  },
  {
   "cell_type": "markdown",
   "id": "47c217bb-e8c8-49d0-8f23-d71567637b36",
   "metadata": {},
   "source": [
    "# Zeros"
   ]
  },
  {
   "cell_type": "code",
   "execution_count": 9,
   "id": "ed62c660-cc36-4194-a0e5-4e5c11badb74",
   "metadata": {},
   "outputs": [
    {
     "data": {
      "text/html": [
       "<table style='border-style:solid;border-width:1px;'><tbody><tr><td style='font-family:monospace;' title='(0, 0)'><pre> 0.</pre></td><td style='font-family:monospace;' title='(0, 1)'><pre> 0.</pre></td><td style='font-family:monospace;' title='(0, 2)'><pre> 0.</pre></td><td style='font-family:monospace;' title='(0, 3)'><pre> 0.</pre></td></tr><tr><td style='font-family:monospace;' title='(1, 0)'><pre> 0.</pre></td><td style='font-family:monospace;' title='(1, 1)'><pre> 0.</pre></td><td style='font-family:monospace;' title='(1, 2)'><pre> 0.</pre></td><td style='font-family:monospace;' title='(1, 3)'><pre> 0.</pre></td></tr><tr><td style='font-family:monospace;' title='(2, 0)'><pre> 0.</pre></td><td style='font-family:monospace;' title='(2, 1)'><pre> 0.</pre></td><td style='font-family:monospace;' title='(2, 2)'><pre> 0.</pre></td><td style='font-family:monospace;' title='(2, 3)'><pre> 0.</pre></td></tr></tbody></table>"
      ]
     },
     "execution_count": 9,
     "metadata": {},
     "output_type": "execute_result"
    }
   ],
   "source": [
    "xt::xarray<double> X = xt::zeros<double>({3, 4});\n",
    "X"
   ]
  },
  {
   "cell_type": "markdown",
   "id": "962ef1c1-c6b4-4cad-bfda-a2014f3521dc",
   "metadata": {},
   "source": [
    "# Ones"
   ]
  },
  {
   "cell_type": "code",
   "execution_count": 10,
   "id": "bfb442ae-dc0a-4ef9-9772-36863aec2ec2",
   "metadata": {},
   "outputs": [
    {
     "data": {
      "text/html": [
       "<table style='border-style:solid;border-width:1px;'><tbody><tr><td style='font-family:monospace;' title='(0, 0)'><pre> 1.</pre></td><td style='font-family:monospace;' title='(0, 1)'><pre> 1.</pre></td><td style='font-family:monospace;' title='(0, 2)'><pre> 1.</pre></td><td style='font-family:monospace;' title='(0, 3)'><pre> 1.</pre></td></tr><tr><td style='font-family:monospace;' title='(1, 0)'><pre> 1.</pre></td><td style='font-family:monospace;' title='(1, 1)'><pre> 1.</pre></td><td style='font-family:monospace;' title='(1, 2)'><pre> 1.</pre></td><td style='font-family:monospace;' title='(1, 3)'><pre> 1.</pre></td></tr><tr><td style='font-family:monospace;' title='(2, 0)'><pre> 1.</pre></td><td style='font-family:monospace;' title='(2, 1)'><pre> 1.</pre></td><td style='font-family:monospace;' title='(2, 2)'><pre> 1.</pre></td><td style='font-family:monospace;' title='(2, 3)'><pre> 1.</pre></td></tr></tbody></table>"
      ]
     },
     "execution_count": 10,
     "metadata": {},
     "output_type": "execute_result"
    }
   ],
   "source": [
    "xt::ones<double>({3, 4}) "
   ]
  },
  {
   "cell_type": "code",
   "execution_count": 11,
   "id": "52f30386-a71e-401a-b0cf-c5fd84c5f3c4",
   "metadata": {},
   "outputs": [
    {
     "data": {
      "text/html": [
       "<table style='border-style:solid;border-width:1px;'><tbody><tr><td style='font-family:monospace;' title='(0, 0)'><pre> 3.</pre></td><td style='font-family:monospace;' title='(0, 1)'><pre> 3.</pre></td><td style='font-family:monospace;' title='(0, 2)'><pre> 3.</pre></td><td style='font-family:monospace;' title='(0, 3)'><pre> 3.</pre></td></tr><tr><td style='font-family:monospace;' title='(1, 0)'><pre> 3.</pre></td><td style='font-family:monospace;' title='(1, 1)'><pre> 3.</pre></td><td style='font-family:monospace;' title='(1, 2)'><pre> 3.</pre></td><td style='font-family:monospace;' title='(1, 3)'><pre> 3.</pre></td></tr><tr><td style='font-family:monospace;' title='(2, 0)'><pre> 3.</pre></td><td style='font-family:monospace;' title='(2, 1)'><pre> 3.</pre></td><td style='font-family:monospace;' title='(2, 2)'><pre> 3.</pre></td><td style='font-family:monospace;' title='(2, 3)'><pre> 3.</pre></td></tr></tbody></table>"
      ]
     },
     "execution_count": 11,
     "metadata": {},
     "output_type": "execute_result"
    }
   ],
   "source": [
    "xt::ones<double>({3, 4}) * 3"
   ]
  },
  {
   "cell_type": "markdown",
   "id": "bfcc17ef-adbe-45e2-86d0-fa84c795a6a7",
   "metadata": {},
   "source": [
    "# Conditions and If Statements"
   ]
  },
  {
   "cell_type": "code",
   "execution_count": 12,
   "id": "044cd80b-eba4-4613-ac97-f6237211846e",
   "metadata": {},
   "outputs": [
    {
     "name": "stdout",
     "output_type": "stream",
     "text": [
      "yes!\n"
     ]
    }
   ],
   "source": [
    "if (0 < 1)\n",
    "{\n",
    "    std::cout << \"yes!\\n\"; \n",
    "}"
   ]
  },
  {
   "cell_type": "markdown",
   "id": "ead95ce5-d450-4b8d-b5c3-c9e871e45a8e",
   "metadata": {},
   "source": [
    "# Where"
   ]
  },
  {
   "cell_type": "markdown",
   "id": "dd7631e9-f0ee-42dd-8d03-46f12ddc374f",
   "metadata": {},
   "source": [
    "where(E&& b, E1&& e1, E2&& e2) returns an xexpression whose elements are those of e1 when corresponding elements of b are truthy, and those of e2 otherwise."
   ]
  },
  {
   "cell_type": "code",
   "execution_count": 13,
   "id": "fa5ee123-1c08-411c-97de-384de3ea8505",
   "metadata": {},
   "outputs": [
    {
     "data": {
      "text/html": [
       "<table style='border-style:solid;border-width:1px;'><tbody><tr><td style='font-family:monospace;' title='0'><pre>11</pre></td></tr><tr><td style='font-family:monospace;' title='1'><pre> 2</pre></td></tr><tr><td style='font-family:monospace;' title='2'><pre> 3</pre></td></tr><tr><td style='font-family:monospace;' title='3'><pre>14</pre></td></tr></tbody></table>"
      ]
     },
     "execution_count": 13,
     "metadata": {},
     "output_type": "execute_result"
    }
   ],
   "source": [
    "xt::xarray<bool> b = { false, true, true, false };\n",
    "xt::xarray<int> a1 = { 1,   2,  3,  4 };\n",
    "xt::xarray<int> a2 = { 11, 12, 13, 14 };\n",
    "\n",
    "xt::xarray<int> res = xt::where(b, a1, a2);\n",
    "res"
   ]
  },
  {
   "cell_type": "code",
   "execution_count": 14,
   "id": "c10c8044-e37e-4a34-8b29-1c7cc78e594e",
   "metadata": {},
   "outputs": [
    {
     "data": {
      "text/html": [
       "<table style='border-style:solid;border-width:1px;'><tbody><tr><td style='font-family:monospace;' title='0'><pre>20</pre></td></tr><tr><td style='font-family:monospace;' title='1'><pre>10</pre></td></tr><tr><td style='font-family:monospace;' title='2'><pre>10</pre></td></tr><tr><td style='font-family:monospace;' title='3'><pre>20</pre></td></tr></tbody></table>"
      ]
     },
     "execution_count": 14,
     "metadata": {},
     "output_type": "execute_result"
    }
   ],
   "source": [
    "xt::xarray<bool> b = { false, true, true, false };\n",
    "xt::xarray<int> res = xt::where(b, 10, 20);\n",
    "res"
   ]
  },
  {
   "cell_type": "markdown",
   "id": "06cea468-5590-4a32-9a66-c4d9b1f95e12",
   "metadata": {},
   "source": [
    "# Argwhere"
   ]
  },
  {
   "cell_type": "code",
   "execution_count": 15,
   "id": "76831a4b-bb9c-41f2-bd42-b5c685c1e679",
   "metadata": {},
   "outputs": [
    {
     "data": {
      "text/html": [
       "<table style='border-style:solid;border-width:1px;'><tbody><tr><td style='font-family:monospace;' title='(0, 0)'><pre>2</pre></td></tr><tr><td style='font-family:monospace;' title='(1, 0)'><pre>3</pre></td></tr></tbody></table>"
      ]
     },
     "execution_count": 15,
     "metadata": {},
     "output_type": "execute_result"
    }
   ],
   "source": [
    "xarray<int> a = { 1,   2,  4,  4 };\n",
    "\n",
    "xarray<int> idx = from_indices(argwhere(equal(a, 4)));\n",
    "idx"
   ]
  },
  {
   "cell_type": "markdown",
   "id": "1533543c-e0a8-41c2-aaa8-360a14bcfc73",
   "metadata": {},
   "source": [
    "# Filtration"
   ]
  },
  {
   "cell_type": "code",
   "execution_count": 16,
   "id": "b4209588-e38b-4dc8-b629-8114d6f01b61",
   "metadata": {},
   "outputs": [
    {
     "data": {
      "text/html": [
       "<table style='border-style:solid;border-width:1px;'><tbody><tr><td style='font-family:monospace;' title='(0, 0)'><pre>   1.</pre></td><td style='font-family:monospace;' title='(0, 1)'><pre> 105.</pre></td><td style='font-family:monospace;' title='(0, 2)'><pre>   3.</pre></td></tr><tr><td style='font-family:monospace;' title='(1, 0)'><pre>   4.</pre></td><td style='font-family:monospace;' title='(1, 1)'><pre> 105.</pre></td><td style='font-family:monospace;' title='(1, 2)'><pre> 106.</pre></td></tr></tbody></table>"
      ]
     },
     "execution_count": 16,
     "metadata": {},
     "output_type": "execute_result"
    }
   ],
   "source": [
    "xt::xarray<double> a = {{1, 5, 3}, {4, 5, 6}};\n",
    "filtration(a, a >= 5) += 100;\n",
    "a"
   ]
  },
  {
   "cell_type": "markdown",
   "id": "295282a2-b777-45a1-ab40-4f9567236d11",
   "metadata": {},
   "source": [
    "# Mask"
   ]
  },
  {
   "cell_type": "code",
   "execution_count": 17,
   "id": "e92582fe-ca60-4ed8-bcf3-a849fe16eb9f",
   "metadata": {},
   "outputs": [
    {
     "data": {
      "text/html": [
       "<table style='border-style:solid;border-width:1px;'><tbody><tr><td style='font-family:monospace;' title='0'><pre>false</pre></td></tr><tr><td style='font-family:monospace;' title='1'><pre>false</pre></td></tr><tr><td style='font-family:monospace;' title='2'><pre> true</pre></td></tr><tr><td style='font-family:monospace;' title='3'><pre> true</pre></td></tr></tbody></table>"
      ]
     },
     "execution_count": 17,
     "metadata": {},
     "output_type": "execute_result"
    }
   ],
   "source": [
    "xarray<int> a = { 1,   2,  4,  4 };\n",
    "xt::xarray<bool> mask = a > 2;\n",
    "mask"
   ]
  },
  {
   "cell_type": "code",
   "execution_count": 18,
   "id": "69c1330c-7453-4ea5-8436-65e601b12c50",
   "metadata": {},
   "outputs": [],
   "source": [
    "// #include <xtensor/xmasked_view.hpp>\n",
    "// xt::masked_view(a, mask) "
   ]
  },
  {
   "cell_type": "markdown",
   "id": "9eb94cb9-6a60-4a1d-ba1e-a9928fe4ea98",
   "metadata": {},
   "source": [
    "# Views"
   ]
  },
  {
   "cell_type": "code",
   "execution_count": 19,
   "id": "8b6da791-40a9-4e1e-963e-270e8a695c15",
   "metadata": {},
   "outputs": [],
   "source": [
    "// auto v1 = view(a, range(1,3));"
   ]
  },
  {
   "cell_type": "markdown",
   "id": "8847145a-cf70-40e2-af0b-847d56795db1",
   "metadata": {},
   "source": [
    "# Loops\n",
    "\n",
    "https://xtensor.readthedocs.io/en/latest/quickref/iterator.htmlhttps://xtensor.readthedocs.io/en/latest/quickref/iterator.html\n"
   ]
  },
  {
   "cell_type": "code",
   "execution_count": 20,
   "id": "a9a6d977-8bd4-4ef4-a8e7-2fa7c5098b70",
   "metadata": {},
   "outputs": [
    {
     "name": "stdout",
     "output_type": "stream",
     "text": [
      "0\n",
      "1\n"
     ]
    }
   ],
   "source": [
    "int i = 0;\n",
    "while (i < 2) {\n",
    "    std::cout << i << std::endl;\n",
    "    i++;\n",
    "}"
   ]
  },
  {
   "cell_type": "code",
   "execution_count": 21,
   "id": "d864d075-6cda-4d42-b95d-69f4d83276ba",
   "metadata": {
    "tags": []
   },
   "outputs": [
    {
     "name": "stdout",
     "output_type": "stream",
     "text": [
      "1\n",
      "2\n",
      "3\n",
      "4\n"
     ]
    }
   ],
   "source": [
    "xarray<int> a = { 1, 2, 3, 4 };\n",
    "auto iter = axis_begin(a, 0);\n",
    "auto end = axis_end(a, 0);\n",
    "\n",
    "while(iter != end)\n",
    "{\n",
    "    std::cout << *iter << std::endl;\n",
    "    *iter++;\n",
    "}"
   ]
  },
  {
   "cell_type": "markdown",
   "id": "e076dbc9-9924-460d-8515-483f9dc68ea3",
   "metadata": {},
   "source": [
    "# Function"
   ]
  },
  {
   "cell_type": "code",
   "execution_count": 22,
   "id": "51159eb9-9e7c-4448-af9e-b8ca580a1bdc",
   "metadata": {},
   "outputs": [],
   "source": [
    "auto example_xarray(const xarray<int>& m)\n",
    "{\n",
    "    return m + 2;\n",
    "}"
   ]
  },
  {
   "cell_type": "code",
   "execution_count": 23,
   "id": "ae69771a-ed7c-46bb-a7bb-52a59a9970e6",
   "metadata": {},
   "outputs": [
    {
     "data": {
      "text/html": [
       "<table style='border-style:solid;border-width:1px;'><tbody><tr><td style='font-family:monospace;' title='0'><pre>3</pre></td></tr><tr><td style='font-family:monospace;' title='1'><pre>4</pre></td></tr><tr><td style='font-family:monospace;' title='2'><pre>5</pre></td></tr><tr><td style='font-family:monospace;' title='3'><pre>6</pre></td></tr></tbody></table>"
      ]
     },
     "execution_count": 23,
     "metadata": {},
     "output_type": "execute_result"
    }
   ],
   "source": [
    "example_xarray(a)"
   ]
  },
  {
   "cell_type": "code",
   "execution_count": 24,
   "id": "983b7cde-dc31-48a9-99cb-9e7d5f239ce8",
   "metadata": {
    "tags": []
   },
   "outputs": [
    {
     "name": "stdout",
     "output_type": "stream",
     "text": [
      "{  7.,  11.,  14.}\n"
     ]
    }
   ],
   "source": [
    "int main(int argc, char* argv[])\n",
    "{\n",
    "    xt::xarray<double> arr1\n",
    "      {{1.0, 2.0, 3.0},\n",
    "       {2.0, 5.0, 7.0},\n",
    "       {2.0, 5.0, 7.0}};\n",
    "\n",
    "    xt::xarray<double> arr2\n",
    "      {5.0, 6.0, 7.0};\n",
    "\n",
    "    xt::xarray<double> res = xt::view(arr1, 1) + arr2;\n",
    "\n",
    "    std::cout << res << std::endl;\n",
    "\n",
    "    return 0;\n",
    "}\n",
    "\n",
    "main(0,0);"
   ]
  },
  {
   "cell_type": "markdown",
   "id": "d58492b3-fa7a-440c-9399-c7f6dfb983b0",
   "metadata": {},
   "source": [
    "# Shape"
   ]
  },
  {
   "cell_type": "code",
   "execution_count": 15,
   "id": "53fb1be0-cfa0-40a3-89c8-36758c6b3aa3",
   "metadata": {},
   "outputs": [
    {
     "name": "stdout",
     "output_type": "stream",
     "text": [
      "{3, 4}\n"
     ]
    }
   ],
   "source": [
    "auto shape = X.shape();\n",
    "\n",
    "std::cout << xt::adapt(shape) << std::endl;"
   ]
  },
  {
   "cell_type": "code",
   "execution_count": null,
   "id": "b23521fb-577a-4474-aea9-3748c9181a70",
   "metadata": {},
   "outputs": [],
   "source": []
  }
 ],
 "metadata": {
  "kernelspec": {
   "display_name": "C++14",
   "language": "C++14",
   "name": "xcpp14"
  },
  "language_info": {
   "codemirror_mode": "text/x-c++src",
   "file_extension": ".cpp",
   "mimetype": "text/x-c++src",
   "name": "c++",
   "version": "14"
  }
 },
 "nbformat": 4,
 "nbformat_minor": 5
}
