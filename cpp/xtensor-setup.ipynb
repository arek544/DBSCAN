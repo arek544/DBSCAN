{
 "cells": [
  {
   "cell_type": "markdown",
   "id": "3aaa58d8-7a4d-4bb2-89b1-e73a1ed46fa9",
   "metadata": {},
   "source": [
    "# Prerequisites\n",
    "\n",
    "- conda shell"
   ]
  },
  {
   "cell_type": "markdown",
   "id": "dcc2a2a8",
   "metadata": {},
   "source": [
    "# Install `xtensor`"
   ]
  },
  {
   "cell_type": "code",
   "execution_count": 2,
   "id": "3d7732c0-6a3a-4fd6-8b1a-efe1cd6c0526",
   "metadata": {},
   "outputs": [
    {
     "name": "stdout",
     "output_type": "stream",
     "text": [
      "/bin/bash: conda: command not found\n"
     ]
    }
   ],
   "source": [
    "!conda install -c conda-forge xtensor"
   ]
  },
  {
   "cell_type": "markdown",
   "id": "f029482a",
   "metadata": {},
   "source": [
    "# Install C++ kernel\n",
    "(optional, required for jupyter notebooks)"
   ]
  },
  {
   "cell_type": "code",
   "execution_count": null,
   "id": "96f7d6c3",
   "metadata": {},
   "outputs": [],
   "source": [
    "!conda install xeus -c conda-forge"
   ]
  },
  {
   "cell_type": "code",
   "execution_count": null,
   "id": "2761234a",
   "metadata": {},
   "outputs": [],
   "source": [
    "!conda install xeus-cling -c conda-forge"
   ]
  },
  {
   "cell_type": "markdown",
   "id": "a5beb7f9-2ab9-4d9f-b682-a44b11aaf3e1",
   "metadata": {},
   "source": [
    "# Installation `xtensor-python` \n",
    "(optional, required for C++ and python integration)"
   ]
  },
  {
   "cell_type": "code",
   "execution_count": null,
   "id": "193754b5-2b2e-41b9-99db-2fc5bb79d31c",
   "metadata": {},
   "outputs": [],
   "source": [
    "!conda install -c conda-forge xtensor-python"
   ]
  },
  {
   "cell_type": "markdown",
   "id": "8072c05a-b5e0-4e52-a2a1-e88d53e6dfbd",
   "metadata": {},
   "source": [
    "# Install `cmake`\n",
    "(optional, required for C++ and python integration)"
   ]
  },
  {
   "cell_type": "code",
   "execution_count": null,
   "id": "7042af4e-00b3-49b8-bbd5-5a49a0ede077",
   "metadata": {},
   "outputs": [],
   "source": [
    "!conda install -c anaconda cmake"
   ]
  }
 ],
 "metadata": {
  "kernelspec": {
   "display_name": "Python 3 (ipykernel)",
   "language": "python",
   "name": "python3"
  },
  "language_info": {
   "codemirror_mode": {
    "name": "ipython",
    "version": 3
   },
   "file_extension": ".py",
   "mimetype": "text/x-python",
   "name": "python",
   "nbconvert_exporter": "python",
   "pygments_lexer": "ipython3",
   "version": "3.9.7"
  }
 },
 "nbformat": 4,
 "nbformat_minor": 5
}
