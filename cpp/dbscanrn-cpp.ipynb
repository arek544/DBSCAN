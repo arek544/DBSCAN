{
 "cells": [
  {
   "cell_type": "code",
   "execution_count": 1,
   "id": "02494d81-090d-4f34-b636-2d65889a5bd2",
   "metadata": {},
   "outputs": [],
   "source": [
    "#include <iostream>\n",
    "#include <xtensor/xarray.hpp>\n",
    "#include <xtensor/xio.hpp>\n",
    "#include <xtensor/xview.hpp>\n",
    "#include <xtensor/xarray.hpp>\n",
    "#include <xtensor/xfixed.hpp>\n",
    "#include <xtensor/xio.hpp>\n",
    "#include <xtensor/xtensor.hpp>\n",
    "#include <xtensor/xadapt.hpp>\n",
    "#include <xtensor/xarray.hpp>\n",
    "#include <xtensor/xaxis_slice_iterator.hpp>\n",
    "#include <xtensor/xaxis_iterator.hpp>\n",
    "#include <xtensor/xio.hpp>\n",
    "#include <xtensor/xarray.hpp>\n",
    "#include <xtensor/xindex_view.hpp>\n",
    "#include <xtensor/xchunked_array.hpp>\n",
    "#include <xtensor/xfixed.hpp>\n",
    "#include <cstddef>\n",
    "#include <vector>\n",
    "#include <xtensor/xarray.hpp>\n",
    "#include <xtensor/xadapt.hpp>\n",
    "#include <istream>\n",
    "#include <fstream>\n",
    "#include <iostream>\n",
    "#include <xtensor/xarray.hpp>\n",
    "#include <xtensor/xcsv.hpp>\n",
    "#include <iostream>\n",
    "#include <fstream>\n",
    "#include <functional>\n",
    "#include <cstdio>\n",
    "#include <xtensor/xcsv.hpp>\n",
    "#include <xcpp/xdisplay.hpp>\n",
    "#include <xtensor/xsort.hpp>\n",
    "\n",
    "using namespace xt;\n",
    "using namespace xt::placeholders;  // to enable _ syntax\n",
    "\n",
    "#include <iostream>\n",
    "#include <fstream>\n",
    "using namespace std;"
   ]
  },
  {
   "cell_type": "markdown",
   "id": "9b7f0423-32a8-45fb-a354-2d0d74fd19b6",
   "metadata": {},
   "source": [
    "# DBSCANRN"
   ]
  },
  {
   "cell_type": "markdown",
   "id": "3b3597be-1a72-4704-a64f-5815417df41f",
   "metadata": {},
   "source": [
    "# Load data"
   ]
  },
  {
   "cell_type": "code",
   "execution_count": 2,
   "id": "fabe74e9-5489-4e32-89cd-02644cf221ee",
   "metadata": {
    "tags": []
   },
   "outputs": [],
   "source": [
    "ifstream input_file;\n",
    "input_file.open (\"lecture_dataset.txt\");\n",
    "auto data = load_csv<double>(input_file);\n",
    "input_file.close();\n",
    "\n",
    "data.reshape(data.shape());\n",
    "xarray<double> X = view(data, all(), range(0, 2));"
   ]
  },
  {
   "cell_type": "markdown",
   "id": "dacfb554-3e06-486c-913b-b9a04c03e3fe",
   "metadata": {},
   "source": [
    "# Similarity\n",
    "\n"
   ]
  },
  {
   "cell_type": "code",
   "execution_count": 3,
   "id": "d755c71c-c93c-434a-b1b2-a44d694251b1",
   "metadata": {},
   "outputs": [],
   "source": [
    "float cosine_dissimilarity(const xarray<double>& a, const xarray<double>& b){ \n",
    "    auto numerator = sum(a * b);\n",
    "    auto denominator = sqrt(sum(pow(a, 2))) * sqrt(sum(pow(b, 2)));\n",
    "    auto result = numerator / denominator;\n",
    "    return 1 - result(0);\n",
    "}"
   ]
  },
  {
   "cell_type": "code",
   "execution_count": 4,
   "id": "b5c9a088-175e-47b2-86c9-564c98b8e0b7",
   "metadata": {},
   "outputs": [
    {
     "data": {
      "text/plain": [
       "0.0156116f"
      ]
     },
     "execution_count": 4,
     "metadata": {},
     "output_type": "execute_result"
    }
   ],
   "source": [
    "auto a = row(X, 0); \n",
    "auto b = row(X, 1);\n",
    "    \n",
    "cosine_dissimilarity(a,b)"
   ]
  },
  {
   "cell_type": "markdown",
   "id": "81fd4fea-ebec-4a39-9636-d0647e8a2d8a",
   "metadata": {},
   "source": [
    "# Clusterization"
   ]
  },
  {
   "cell_type": "code",
   "execution_count": 9,
   "id": "4cb9bcf5-ff7b-49ab-823c-8c0973b1ba8d",
   "metadata": {},
   "outputs": [],
   "source": [
    "auto x = empty<double>({1})"
   ]
  },
  {
   "cell_type": "code",
   "execution_count": 10,
   "id": "58bc0a3a-e463-4bcf-9abf-d27bc718693b",
   "metadata": {},
   "outputs": [
    {
     "data": {
      "text/html": [
       "<table style='border-style:solid;border-width:1px;'><tbody><tr><td style='font-family:monospace;' title='(0, 0)'><pre>1</pre></td></tr><tr><td style='font-family:monospace;' title='(1, 0)'><pre>2</pre></td></tr><tr><td style='font-family:monospace;' title='(2, 0)'><pre>3</pre></td></tr><tr><td style='font-family:monospace;' title='(3, 0)'><pre>5</pre></td></tr><tr><td style='font-family:monospace;' title='(4, 0)'><pre>6</pre></td></tr><tr><td style='font-family:monospace;' title='(5, 0)'><pre>7</pre></td></tr><tr><td style='font-family:monospace;' title='(6, 0)'><pre>8</pre></td></tr><tr><td style='font-family:monospace;' title='(7, 0)'><pre>9</pre></td></tr></tbody></table>"
      ]
     },
     "execution_count": 10,
     "metadata": {},
     "output_type": "execute_result"
    }
   ],
   "source": [
    "auto all_point_indices = arange(10);\n",
    "xarray<int> idx = from_indices(argwhere(not_equal(all_point_indices, 4)));\n",
    "view(idx, range(1,all()))"
   ]
  },
  {
   "cell_type": "code",
   "execution_count": 8,
   "id": "2c56bf42-1bf9-4921-a6cf-46212078563c",
   "metadata": {},
   "outputs": [
    {
     "name": "stdout",
     "output_type": "stream",
     "text": [
      "{4}\n"
     ]
    },
    {
     "data": {
      "text/plain": [
       "@0x7fabe14b3ba0"
      ]
     },
     "execution_count": 8,
     "metadata": {},
     "output_type": "execute_result"
    }
   ],
   "source": [
    "auto all_point_indices = arange(5);\n",
    "// auto s = all_point_indices.shape();\n",
    "auto x = col(from_indices(argwhere(not_equal(all_point_indices, 2))),0);\n",
    "auto s = x.shape();\n",
    "std::cout << adapt(s) << std::endl"
   ]
  },
  {
   "cell_type": "code",
   "execution_count": 3,
   "id": "a71d9153-582a-45be-88f9-819c354ffa4b",
   "metadata": {
    "collapsed": true,
    "jupyter": {
     "outputs_hidden": true
    },
    "tags": []
   },
   "outputs": [
    {
     "name": "stderr",
     "output_type": "stream",
     "text": [
      "\u001b[1minput_line_9:2:2: \u001b[0m\u001b[0;1;31merror: \u001b[0m\u001b[1mno template named 'xarray'; did you mean 'std::array'?\u001b[0m\n",
      " xarray<int> a = {2, 1, 7, 4, 454};\n",
      "\u001b[0;1;32m ^~~~~~\n",
      "\u001b[0m\u001b[0;32m std::array\n",
      "\u001b[0m\u001b[1m/root/anaconda3/bin/../lib/gcc/x86_64-conda-linux-gnu/9.3.0/../../../../x86_64-conda-linux-gnu/include/c++/9.3.0/array:94:12: \u001b[0m\u001b[0;1;30mnote: \u001b[0m'std::array' declared here\u001b[0m\n",
      "    struct array\n",
      "\u001b[0;1;32m           ^\n",
      "\u001b[0m\u001b[1minput_line_9:2:2: \u001b[0m\u001b[0;1;31merror: \u001b[0m\u001b[1mtoo few template arguments for class template 'array'\u001b[0m\n",
      " xarray<int> a = {2, 1, 7, 4, 454};\n",
      "\u001b[0;1;32m ^\n",
      "\u001b[0m\u001b[1m/root/anaconda3/bin/../lib/gcc/x86_64-conda-linux-gnu/9.3.0/../../../../x86_64-conda-linux-gnu/include/c++/9.3.0/array:94:12: \u001b[0m\u001b[0;1;30mnote: \u001b[0mtemplate is declared here\u001b[0m\n",
      "    struct array\n",
      "\u001b[0;1;32m           ^\n",
      "\u001b[0m\u001b[1minput_line_9:3:28: \u001b[0m\u001b[0;1;31merror: \u001b[0m\u001b[1muse of undeclared identifier 'all'\u001b[0m\n",
      "auto ax = view(a, range(1, all()));\n",
      "\u001b[0;1;32m                           ^\n",
      "\u001b[0m\u001b[1minput_line_9:4:1: \u001b[0m\u001b[0;1;31merror: \u001b[0m\u001b[1mno template named 'xarray'; did you mean 'std::array'?\u001b[0m\n",
      "xarray<int> idx = argsort(ax);\n",
      "\u001b[0;1;32m^~~~~~\n",
      "\u001b[0m\u001b[0;32mstd::array\n",
      "\u001b[0m\u001b[1m/root/anaconda3/bin/../lib/gcc/x86_64-conda-linux-gnu/9.3.0/../../../../x86_64-conda-linux-gnu/include/c++/9.3.0/array:94:12: \u001b[0m\u001b[0;1;30mnote: \u001b[0m'std::array' declared here\u001b[0m\n",
      "    struct array\n",
      "\u001b[0;1;32m           ^\n",
      "\u001b[0m\u001b[1minput_line_9:4:1: \u001b[0m\u001b[0;1;31merror: \u001b[0m\u001b[1mtoo few template arguments for class template 'array'\u001b[0m\n",
      "xarray<int> idx = argsort(ax);\n",
      "\u001b[0;1;32m^\n",
      "\u001b[0m\u001b[1m/root/anaconda3/bin/../lib/gcc/x86_64-conda-linux-gnu/9.3.0/../../../../x86_64-conda-linux-gnu/include/c++/9.3.0/array:94:12: \u001b[0m\u001b[0;1;30mnote: \u001b[0mtemplate is declared here\u001b[0m\n",
      "    struct array\n",
      "\u001b[0;1;32m           ^\n",
      "\u001b[0m\u001b[1minput_line_9:5:1: \u001b[0m\u001b[0;1;31merror: \u001b[0m\u001b[1mno template named 'xarray'; did you mean 'std::array'?\u001b[0m\n",
      "xarray<float> c = {244, 41, 47, 6565, 5};\n",
      "\u001b[0;1;32m^~~~~~\n",
      "\u001b[0m\u001b[0;32mstd::array\n",
      "\u001b[0m\u001b[1m/root/anaconda3/bin/../lib/gcc/x86_64-conda-linux-gnu/9.3.0/../../../../x86_64-conda-linux-gnu/include/c++/9.3.0/array:94:12: \u001b[0m\u001b[0;1;30mnote: \u001b[0m'std::array' declared here\u001b[0m\n",
      "    struct array\n",
      "\u001b[0;1;32m           ^\n",
      "\u001b[0m\u001b[1minput_line_9:5:1: \u001b[0m\u001b[0;1;31merror: \u001b[0m\u001b[1mtoo few template arguments for class template 'array'\u001b[0m\n",
      "xarray<float> c = {244, 41, 47, 6565, 5};\n",
      "\u001b[0;1;32m^\n",
      "\u001b[0m\u001b[1m/root/anaconda3/bin/../lib/gcc/x86_64-conda-linux-gnu/9.3.0/../../../../x86_64-conda-linux-gnu/include/c++/9.3.0/array:94:12: \u001b[0m\u001b[0;1;30mnote: \u001b[0mtemplate is declared here\u001b[0m\n",
      "    struct array\n",
      "\u001b[0;1;32m           ^\n",
      "\u001b[0m\u001b[1minput_line_9:6:1: \u001b[0m\u001b[0;1;31merror: \u001b[0m\u001b[1mno template named 'xarray'; did you mean 'std::array'?\u001b[0m\n",
      "xarray<int> cx = view(c, range(1, all()));\n",
      "\u001b[0;1;32m^~~~~~\n",
      "\u001b[0m\u001b[0;32mstd::array\n",
      "\u001b[0m\u001b[1m/root/anaconda3/bin/../lib/gcc/x86_64-conda-linux-gnu/9.3.0/../../../../x86_64-conda-linux-gnu/include/c++/9.3.0/array:94:12: \u001b[0m\u001b[0;1;30mnote: \u001b[0m'std::array' declared here\u001b[0m\n",
      "    struct array\n",
      "\u001b[0;1;32m           ^\n",
      "\u001b[0m\u001b[1minput_line_9:6:1: \u001b[0m\u001b[0;1;31merror: \u001b[0m\u001b[1mtoo few template arguments for class template 'array'\u001b[0m\n",
      "xarray<int> cx = view(c, range(1, all()));\n",
      "\u001b[0;1;32m^\n",
      "\u001b[0m\u001b[1m/root/anaconda3/bin/../lib/gcc/x86_64-conda-linux-gnu/9.3.0/../../../../x86_64-conda-linux-gnu/include/c++/9.3.0/array:94:12: \u001b[0m\u001b[0;1;30mnote: \u001b[0mtemplate is declared here\u001b[0m\n",
      "    struct array\n",
      "\u001b[0;1;32m           ^\n",
      "\u001b[0m\u001b[1minput_line_9:6:35: \u001b[0m\u001b[0;1;31merror: \u001b[0m\u001b[1muse of undeclared identifier 'all'\u001b[0m\n",
      "xarray<int> cx = view(c, range(1, all()));\n",
      "\u001b[0;1;32m                                  ^\n",
      "\u001b[0m\u001b[1minput_line_9:11:6: \u001b[0m\u001b[0;1;31merror: \u001b[0m\u001b[1mno member named 'cout' in namespace 'std'; did you mean 'count'?\u001b[0m\n",
      "std::cout << adapt(s) << std::endl;\n",
      "\u001b[0;1;32m~~~~~^~~~\n",
      "\u001b[0m\u001b[0;32m     count\n",
      "\u001b[0m\u001b[1m/root/anaconda3/bin/../lib/gcc/x86_64-conda-linux-gnu/9.3.0/../../../../x86_64-conda-linux-gnu/include/c++/9.3.0/bits/stl_algo.h:4107:5: \u001b[0m\u001b[0;1;30mnote: \u001b[0m'count' declared here\u001b[0m\n",
      "    count(_InputIterator __first, _InputIterator __last, const _Tp& __value)\n",
      "\u001b[0;1;32m    ^\n",
      "\u001b[0m"
     ]
    },
    {
     "ename": "Interpreter Error",
     "evalue": "",
     "output_type": "error",
     "traceback": [
      "Interpreter Error: "
     ]
    }
   ],
   "source": [
    "xarray<int> a = {2, 1, 7, 4, 454};\n",
    "auto ax = view(a, range(1, all()));\n",
    "\n",
    "xarray<int> idx = argsort(ax);\n",
    "\n",
    "xarray<float> c = {244, 41, 47, 6565, 5};\n",
    "xarray<int> cx = view(c, range(1, all()));\n",
    "\n",
    "index_view(cx, idx);\n",
    "// concatenate(xtuple(a, b))\n",
    "c.reshape(5);\n",
    "auto s = c.shape();\n",
    "std::cout << adapt(s) << std::endl;"
   ]
  },
  {
   "cell_type": "code",
   "execution_count": 4,
   "id": "657050d9-07a4-4018-ab0e-9e14d554a364",
   "metadata": {},
   "outputs": [],
   "source": [
    "auto list_contains(list<int> my_list, int element){\n",
    "    return (find(my_list.begin(), my_list.end(), element) != my_list.end());\n",
    "}"
   ]
  },
  {
   "cell_type": "code",
   "execution_count": 6,
   "id": "6ae42a79-ec8d-44fa-815c-54557975fba5",
   "metadata": {},
   "outputs": [
    {
     "data": {
      "text/plain": [
       "{ 0 => {}, 1 => { 7, 0, 2, 11 }, 2 => { 11, 0, 7, 1 }, 3 => { 9, 4, 8, 10 }, 4 => { 3, 8, 9, 10 }, 5 => { 11, 2, 6, 0 }, 6 => { 5, 11, 2, 0 }, 7 => { 0, 1, 2, 11 }, 8 => { 4, 3, 9, 10 }, 9 => { 3, 4, 8, 10 }, 10 => { 9, 3, 4, 8 }, 11 => { 2, 0, 5, 7 } }"
      ]
     },
     "metadata": {},
     "output_type": "display_data"
    }
   ],
   "source": [
    "auto dbscanrn(const xarray<float>& X, int k)\n",
    "{\n",
    "    // each data point can be in one of 3 stages\n",
    "    int NOT_VISITED = -1; // not visited point\n",
    "    int VISITED = 0; // non-core point\n",
    "    int CLUSTERED = 1; // core point\n",
    "\n",
    "    // initial setup\n",
    "    int n = X.shape()[0];\n",
    "    xarray<double> cluster = ones<double>({n}) * -1; // cluster register\n",
    "    xarray<double> state = ones<double>({n}) * NOT_VISITED; // state register\n",
    "    int cluster_id = 1;\n",
    "    auto all_point_indices = arange(n);\n",
    "    map<int, vector<int>> point_rnn;\n",
    "    map<int, xarray<int>> point_knn;\n",
    "    \n",
    "    auto get_knn = [&] (int current_index){\n",
    "        // remove current index from neighbors\n",
    "        xarray<int> neighbor_indices = col(\n",
    "            from_indices(argwhere(not_equal(all_point_indices, current_index))), 0\n",
    "        );\n",
    "        xarray<float> neighbor_similaritys = {0};\n",
    "        for (auto& neighbor_index : neighbor_indices) {\n",
    "            auto similarity = cosine_dissimilarity(\n",
    "                row(X, neighbor_index), row(X, current_index)\n",
    "            );\n",
    "            neighbor_similaritys = concatenate(\n",
    "                xtuple(neighbor_similaritys, xarray<float> {similarity})\n",
    "            );\n",
    "        };\n",
    "        xarray<int> sort_indices = argsort(view(neighbor_similaritys, range(1, all())));\n",
    "        xarray<int> neighbor_indices_sorted = index_view(neighbor_indices, sort_indices); \n",
    "        point_knn[(int) current_index] = view(neighbor_indices_sorted, range(0, k));  \n",
    "    };    \n",
    "    \n",
    "    auto get_pointwise_rnn = [&] (int current_index){\n",
    "        vector<int> rnn;\n",
    "        for (auto& neighbor_index : point_knn[(int) current_index]) {\n",
    "            if ((point_knn[(int) neighbor_index], (int) current_index)) {\n",
    "                rnn.push_back((int) neighbor_index);\n",
    "            };\n",
    "        };\n",
    "        point_rnn[(int) current_index] = rnn;\n",
    "        // return rnn;\n",
    "    };\n",
    "    \n",
    "    auto get_rnn = [&] (){\n",
    "        for (int current_index = 0; current_index < n; current_index++) {\n",
    "            get_knn((int) current_index);\n",
    "        };\n",
    "        for (int current_index =  0; current_index < n; current_index++) {\n",
    "            get_pointwise_rnn((int) current_index);\n",
    "        };\n",
    "    };\n",
    "    \n",
    "    get_rnn();\n",
    "    xcpp::display(point_rnn);\n",
    "\n",
    "//     // extend cluster\n",
    "//     function < void( int ) > search = [&] (int current_index) -> void {\n",
    "//         list<int> neighbor_indices = get_neighbors(current_index);\n",
    "//         if ((int) neighbor_indices.size() >= minPts){\n",
    "//             state(current_index) = CLUSTERED;\n",
    "//             cluster(current_index) = cluster_id;\n",
    "//             for (auto& neighbor_index : neighbor_indices) {\n",
    "//                 if (state(neighbor_index) == VISITED || state(neighbor_index) == NOT_VISITED){\n",
    "//                     state(neighbor_index) = CLUSTERED;\n",
    "//                     cluster(neighbor_index) = cluster_id;\n",
    "//                     search(neighbor_index);\n",
    "//                 };\n",
    "//             };\n",
    "//         } else {\n",
    "//             state(current_index) = VISITED;\n",
    "//         };\n",
    "//     };\n",
    "\n",
    "//     while (any(equal(state, NOT_VISITED))){\n",
    "//         xarray<int> idx = from_indices(argwhere(equal(state, NOT_VISITED)));\n",
    "//         search(idx(0,0));\n",
    "//         cluster_id++;\n",
    "//     }\n",
    "    return cluster;\n",
    "}\n",
    "\n",
    "auto y_pred = dbscanrn(X, 4);\n",
    "// y_pred"
   ]
  },
  {
   "cell_type": "code",
   "execution_count": 22,
   "id": "dd287559-82a1-46e1-97bc-a7c384375609",
   "metadata": {},
   "outputs": [
    {
     "data": {
      "text/plain": [
       "{ 7, 2, 1, 11, 5, 8, 4, 3, 9, 10, 6 }"
      ]
     },
     "execution_count": 22,
     "metadata": {},
     "output_type": "execute_result"
    }
   ],
   "source": [
    "xarray<int> sort_indices = {6, 1, 0, 10, 4, 7, 3, 2, 8, 9, 5};\n",
    "xarray<int> neighbor_indices = {1, 2, 3, 4, 5, 6, 7, 8, 9, 10, 11};\n",
    "index_view(neighbor_indices, sort_indices)"
   ]
  },
  {
   "cell_type": "markdown",
   "id": "cf9d87c7-69f9-49f4-8ccf-df731ff4e377",
   "metadata": {},
   "source": [
    "# Save output to csv"
   ]
  },
  {
   "cell_type": "code",
   "execution_count": 10,
   "id": "b3f627b6-a863-41c4-9f80-821af769c927",
   "metadata": {},
   "outputs": [],
   "source": [
    "ofstream out_file;\n",
    "out_file.open (\"example.csv\");\n",
    "dump_csv(out_file, view(y_pred, all(), newaxis()));\n",
    "out_file.close();"
   ]
  }
 ],
 "metadata": {
  "kernelspec": {
   "display_name": "C++14",
   "language": "C++14",
   "name": "xcpp14"
  },
  "language_info": {
   "codemirror_mode": "text/x-c++src",
   "file_extension": ".cpp",
   "mimetype": "text/x-c++src",
   "name": "c++",
   "version": "14"
  }
 },
 "nbformat": 4,
 "nbformat_minor": 5
}
