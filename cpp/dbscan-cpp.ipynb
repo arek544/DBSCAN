{
 "cells": [
  {
   "cell_type": "code",
   "execution_count": 1,
   "id": "c16437c0-55fc-4bf7-ae57-730105bef7d9",
   "metadata": {
    "jupyter": {
     "source_hidden": true
    },
    "tags": []
   },
   "outputs": [],
   "source": [
    "#include <iostream>\n",
    "#include <xtensor/xarray.hpp>\n",
    "#include <xtensor/xio.hpp>\n",
    "#include <xtensor/xview.hpp>\n",
    "\n",
    "#include <xtensor/xarray.hpp>\n",
    "#include <xtensor/xfixed.hpp>\n",
    "#include <xtensor/xio.hpp>\n",
    "#include <xtensor/xtensor.hpp>\n",
    "#include <xtensor/xadapt.hpp>\n",
    "#include <xtensor/xarray.hpp>\n",
    "#include <xtensor/xaxis_slice_iterator.hpp>\n",
    "#include <xtensor/xaxis_iterator.hpp>\n",
    "#include <xtensor/xio.hpp>\n",
    "#include <xtensor/xarray.hpp>\n",
    "#include <xtensor/xindex_view.hpp>\n",
    "\n",
    "#include <xtensor/xchunked_array.hpp>\n",
    "#include <xtensor/xfixed.hpp>\n",
    "#include <cstddef>\n",
    "#include <vector>\n",
    "#include <xtensor/xarray.hpp>\n",
    "#include <xtensor/xadapt.hpp>\n",
    "\n",
    "using namespace xt;"
   ]
  },
  {
   "cell_type": "code",
   "execution_count": 2,
   "id": "551bdb79-ea80-4b15-90cb-df3e6c4ae3da",
   "metadata": {},
   "outputs": [],
   "source": [
    "auto dbscan(const xarray<int>& X, float epsilon, int minPts)\n",
    "{\n",
    "    // each data point can be in one of 3 stages\n",
    "    int NOT_VISITED = -1; // not visited point\n",
    "    int VISITED = 0; // non-core point\n",
    "    int CLUSTERED = 1; // core point\n",
    "\n",
    "    // initial setup\n",
    "    int n = X.shape()[0];\n",
    "    xarray<double> cluster = ones<double>({n}) * -1; // cluster register\n",
    "    xarray<double> state = ones<double>({n}) * NOT_VISITED; // state register\n",
    "    int cluster_id = 1;\n",
    "    \n",
    "    // void search()\n",
    "    // {\n",
    "    //     cluster_id++\n",
    "    // }\n",
    "    // auto addOne = [&] () {\n",
    "    //     cluster_id++; \n",
    "    //     state(0) = 100000;\n",
    "    // }\n",
    "\n",
    "\n",
    "    while (any(equal(state, NOT_VISITED)))\n",
    "    {\n",
    "        xarray<int> idx = from_indices(argwhere(equal(state, NOT_VISITED)));\n",
    "        state[idx(0,0)] = CLUSTERED;\n",
    "        cluster_id++;\n",
    "    }\n",
    "    return cluster;\n",
    "}"
   ]
  },
  {
   "cell_type": "code",
   "execution_count": 3,
   "id": "271e208e-7432-476e-b33e-99a70cf4dba0",
   "metadata": {},
   "outputs": [
    {
     "data": {
      "text/html": [
       "<table style='border-style:solid;border-width:1px;'><tbody><tr><td style='font-family:monospace;' title='0'><pre>-1.</pre></td></tr><tr><td style='font-family:monospace;' title='1'><pre>-1.</pre></td></tr><tr><td style='font-family:monospace;' title='2'><pre>-1.</pre></td></tr></tbody></table>"
      ]
     },
     "execution_count": 3,
     "metadata": {},
     "output_type": "execute_result"
    }
   ],
   "source": [
    "xarray<double> X = zeros<double>({3, 4});\n",
    "dbscan(X, 0.2, 10)"
   ]
  },
  {
   "cell_type": "code",
   "execution_count": null,
   "id": "5722d01b-82ad-412d-b9a5-6dc59633e8be",
   "metadata": {},
   "outputs": [],
   "source": []
  }
 ],
 "metadata": {
  "kernelspec": {
   "display_name": "C++14",
   "language": "C++14",
   "name": "xcpp14"
  },
  "language_info": {
   "codemirror_mode": "text/x-c++src",
   "file_extension": ".cpp",
   "mimetype": "text/x-c++src",
   "name": "c++",
   "version": "14"
  }
 },
 "nbformat": 4,
 "nbformat_minor": 5
}
