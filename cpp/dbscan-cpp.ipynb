{
 "cells": [
  {
   "cell_type": "code",
   "execution_count": 4,
   "id": "02494d81-090d-4f34-b636-2d65889a5bd2",
   "metadata": {},
   "outputs": [],
   "source": [
    "#include <iostream>\n",
    "#include <xtensor/xarray.hpp>\n",
    "#include <xtensor/xio.hpp>\n",
    "#include <xtensor/xview.hpp>\n",
    "#include <xtensor/xarray.hpp>\n",
    "#include <xtensor/xfixed.hpp>\n",
    "#include <xtensor/xio.hpp>\n",
    "#include <xtensor/xtensor.hpp>\n",
    "#include <xtensor/xadapt.hpp>\n",
    "#include <xtensor/xarray.hpp>\n",
    "#include <xtensor/xaxis_slice_iterator.hpp>\n",
    "#include <xtensor/xaxis_iterator.hpp>\n",
    "#include <xtensor/xio.hpp>\n",
    "#include <xtensor/xarray.hpp>\n",
    "#include <xtensor/xindex_view.hpp>\n",
    "#include <xtensor/xchunked_array.hpp>\n",
    "#include <xtensor/xfixed.hpp>\n",
    "#include <cstddef>\n",
    "#include <vector>\n",
    "#include <xtensor/xarray.hpp>\n",
    "#include <xtensor/xadapt.hpp>\n",
    "#include <istream>\n",
    "#include <fstream>\n",
    "#include <iostream>\n",
    "#include <xtensor/xarray.hpp>\n",
    "#include <xtensor/xcsv.hpp>\n",
    "#include <iostream>\n",
    "#include <fstream>\n",
    "#include <functional>\n",
    "#include <cstdio>\n",
    "#include <xtensor/xcsv.hpp>\n",
    "\n",
    "using namespace xt;\n",
    "using namespace std;"
   ]
  },
  {
   "cell_type": "markdown",
   "id": "3b3597be-1a72-4704-a64f-5815417df41f",
   "metadata": {},
   "source": [
    "# Load data"
   ]
  },
  {
   "cell_type": "code",
   "execution_count": 5,
   "id": "fabe74e9-5489-4e32-89cd-02644cf221ee",
   "metadata": {
    "tags": []
   },
   "outputs": [],
   "source": [
    "ifstream input_file;\n",
    "input_file.open (\"lecture_dataset.txt\");\n",
    "auto data = xt::load_csv<double>(input_file);\n",
    "input_file.close();\n",
    "\n",
    "data.reshape(data.shape());\n",
    "xarray<double> X = view(data, all(), range(0, 2));"
   ]
  },
  {
   "cell_type": "markdown",
   "id": "dacfb554-3e06-486c-913b-b9a04c03e3fe",
   "metadata": {},
   "source": [
    "# Similarity"
   ]
  },
  {
   "cell_type": "code",
   "execution_count": 6,
   "id": "d755c71c-c93c-434a-b1b2-a44d694251b1",
   "metadata": {},
   "outputs": [],
   "source": [
    "float euclidean_distance(const xarray<double>& a, const xarray<double>& b){ \n",
    "    return (float) sqrt(sum(pow((a - b), 2))(0));\n",
    "}"
   ]
  },
  {
   "cell_type": "markdown",
   "id": "81fd4fea-ebec-4a39-9636-d0647e8a2d8a",
   "metadata": {},
   "source": [
    "# Clusterization"
   ]
  },
  {
   "cell_type": "code",
   "execution_count": 7,
   "id": "6ae42a79-ec8d-44fa-815c-54557975fba5",
   "metadata": {},
   "outputs": [
    {
     "data": {
      "text/html": [
       "<table style='border-style:solid;border-width:1px;'><tbody><tr><td style='font-family:monospace;' title='0'><pre> 3.</pre></td></tr><tr><td style='font-family:monospace;' title='1'><pre>-1.</pre></td></tr><tr><td style='font-family:monospace;' title='2'><pre> 3.</pre></td></tr><tr><td style='font-family:monospace;' title='3'><pre> 4.</pre></td></tr><tr><td style='font-family:monospace;' title='4'><pre> 4.</pre></td></tr><tr><td style='font-family:monospace;' title='5'><pre> 3.</pre></td></tr><tr><td style='font-family:monospace;' title='6'><pre> 3.</pre></td></tr><tr><td style='font-family:monospace;' title='7'><pre> 3.</pre></td></tr><tr><td style='font-family:monospace;' title='8'><pre> 4.</pre></td></tr><tr><td style='font-family:monospace;' title='9'><pre> 4.</pre></td></tr><tr><td style='font-family:monospace;' title='10'><pre> 3.</pre></td></tr><tr><td style='font-family:monospace;' title='11'><pre> 3.</pre></td></tr></tbody></table>"
      ]
     },
     "execution_count": 7,
     "metadata": {},
     "output_type": "execute_result"
    }
   ],
   "source": [
    "auto dbscan(const xarray<float>& X, float epsilon, int minPts)\n",
    "{\n",
    "    // each data point can be in one of 3 stages\n",
    "    int NOT_VISITED = -1; // not visited point\n",
    "    int VISITED = 0; // non-core point\n",
    "    int CLUSTERED = 1; // core point\n",
    "\n",
    "    // initial setup\n",
    "    int n = X.shape()[0];\n",
    "    xarray<double> cluster = ones<double>({n}) * -1; // cluster register\n",
    "    xarray<double> state = ones<double>({n}) * NOT_VISITED; // state register\n",
    "    int cluster_id = 1;\n",
    "    \n",
    "    auto get_neighbors = [&] (int current_index) {\n",
    "        list<int> neighbor_indices = list<int>();\n",
    "        for (int neighbor_index : arange(0, n)){\n",
    "            if (euclidean_distance(row(X, neighbor_index), row(X, current_index)) <= (float) epsilon){\n",
    "                neighbor_indices.push_back((int) neighbor_index);\n",
    "            };\n",
    "        }\n",
    "        return neighbor_indices;\n",
    "    };\n",
    "    \n",
    "    // extend cluster\n",
    "    function < void( int ) > search = [&] (int current_index) -> void {\n",
    "        list<int> neighbor_indices = get_neighbors(current_index);\n",
    "        if ((int) neighbor_indices.size() >= minPts){\n",
    "            state(current_index) = CLUSTERED;\n",
    "            cluster(current_index) = cluster_id;\n",
    "            for (auto& neighbor_index : neighbor_indices) {\n",
    "                if (state(neighbor_index) == VISITED || state(neighbor_index) == NOT_VISITED){\n",
    "                    state(neighbor_index) = CLUSTERED;\n",
    "                    cluster(neighbor_index) = cluster_id;\n",
    "                    search(neighbor_index);\n",
    "                };\n",
    "            };\n",
    "        } else {\n",
    "            state(current_index) = VISITED;\n",
    "        };\n",
    "    };\n",
    "\n",
    "    while (any(equal(state, NOT_VISITED))){\n",
    "        xarray<int> idx = from_indices(argwhere(equal(state, NOT_VISITED)));\n",
    "        search(idx(0,0));\n",
    "        cluster_id++;\n",
    "    }\n",
    "    return cluster;\n",
    "}\n",
    "\n",
    "auto y_pred = dbscan(X, 2, 4);\n",
    "y_pred"
   ]
  },
  {
   "cell_type": "markdown",
   "id": "cf9d87c7-69f9-49f4-8ccf-df731ff4e377",
   "metadata": {},
   "source": [
    "# Save output to csv"
   ]
  },
  {
   "cell_type": "code",
   "execution_count": 10,
   "id": "b3f627b6-a863-41c4-9f80-821af769c927",
   "metadata": {},
   "outputs": [],
   "source": [
    "ofstream out_file;\n",
    "out_file.open (\"example.csv\");\n",
    "dump_csv(out_file, view(y_pred, all(), newaxis()));\n",
    "out_file.close();"
   ]
  }
 ],
 "metadata": {
  "kernelspec": {
   "display_name": "C++14",
   "language": "C++14",
   "name": "xcpp14"
  },
  "language_info": {
   "codemirror_mode": "text/x-c++src",
   "file_extension": ".cpp",
   "mimetype": "text/x-c++src",
   "name": "c++",
   "version": "14"
  }
 },
 "nbformat": 4,
 "nbformat_minor": 5
}
