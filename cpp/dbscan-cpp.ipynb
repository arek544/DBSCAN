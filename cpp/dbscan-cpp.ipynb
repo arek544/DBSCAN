{
 "cells": [
  {
   "cell_type": "code",
   "execution_count": 1,
   "id": "c16437c0-55fc-4bf7-ae57-730105bef7d9",
   "metadata": {
    "tags": []
   },
   "outputs": [],
   "source": [
    "#include <iostream>\n",
    "#include <xtensor/xarray.hpp>\n",
    "#include <xtensor/xio.hpp>\n",
    "#include <xtensor/xview.hpp>\n",
    "\n",
    "#include <xtensor/xarray.hpp>\n",
    "#include <xtensor/xfixed.hpp>\n",
    "#include <xtensor/xio.hpp>\n",
    "#include <xtensor/xtensor.hpp>\n",
    "#include <xtensor/xadapt.hpp>\n",
    "#include <xtensor/xarray.hpp>\n",
    "#include <xtensor/xaxis_slice_iterator.hpp>\n",
    "#include <xtensor/xaxis_iterator.hpp>\n",
    "#include <xtensor/xio.hpp>\n",
    "#include <xtensor/xarray.hpp>\n",
    "#include <xtensor/xindex_view.hpp>\n",
    "\n",
    "#include <xtensor/xchunked_array.hpp>\n",
    "#include <xtensor/xfixed.hpp>\n",
    "#include <cstddef>\n",
    "#include <vector>\n",
    "#include <xtensor/xarray.hpp>\n",
    "#include <xtensor/xadapt.hpp>\n",
    "\n",
    "using namespace xt;"
   ]
  },
  {
   "cell_type": "code",
   "execution_count": 2,
   "id": "b2e46d8e-0cae-4251-b606-1835a40c9ef9",
   "metadata": {},
   "outputs": [],
   "source": [
    "using namespace std;"
   ]
  },
  {
   "cell_type": "code",
   "execution_count": 3,
   "id": "5a4b1f2e-766b-4fad-8cb2-70de060496e6",
   "metadata": {
    "tags": []
   },
   "outputs": [],
   "source": [
    "#include <istream>\n",
    "#include <fstream>\n",
    "#include <iostream>\n",
    "\n",
    "#include <xtensor/xarray.hpp>\n",
    "#include <xtensor/xcsv.hpp>\n",
    "\n",
    "#include <iostream>\n",
    "#include <fstream>\n",
    "using namespace std;\n",
    "\n",
    "ifstream myfile;\n",
    "myfile.open (\"lecture_dataset.txt\");\n",
    "\n",
    "auto data = xt::load_csv<double>(myfile);\n",
    "myfile.close();\n",
    "\n",
    "data.reshape(data.shape());"
   ]
  },
  {
   "cell_type": "code",
   "execution_count": 4,
   "id": "0c50e978-1b3b-45a5-a2ec-51f664aee320",
   "metadata": {},
   "outputs": [],
   "source": [
    "xarray<double> X = view(data, all(), range(0, 2));"
   ]
  },
  {
   "cell_type": "code",
   "execution_count": 5,
   "id": "06ec2edc-b601-4ac7-8bb6-70391e84233f",
   "metadata": {
    "jupyter": {
     "source_hidden": true
    },
    "tags": []
   },
   "outputs": [],
   "source": [
    "// auto get_neighbors(int current_index, const xarray<int>& X) {\n",
    "//     list<int> neighbor_indices = list<int>();\n",
    "//     for (int neighbor_index : arange(0, n)){\n",
    "//         if (euclidean_distance(row(X, neighbor_index), row(X, current_index)) <= epsilon){\n",
    "//             neighbor_indices.push_back((int) neighbor_index);\n",
    "//             // std::cout << (int) neighbor_index << std::endl;\n",
    "//         };\n",
    "//     }\n",
    "//     return neighbor_indices;\n",
    "// };\n",
    "\n",
    "// // extend cluster\n",
    "// void search(int current_index, int minPts, const xarray<int>& X) {\n",
    "//     list<int> neighbor_indices = get_neighbors(current_index);\n",
    "//     if (neighbor_indices.size() >= minPts){\n",
    "//         state(current_index) = CLUSTERED;\n",
    "//         cluster(current_index) = cluster_id;\n",
    "//         for(int neighbor_index=0; neighbor_index<neighbor_indices.size(); neighbor_index++){\n",
    "//             if (state(neighbor_index)==VISITED || state(neighbor_index)==NOT_VISITED){\n",
    "//                 state(neighbor_index) = CLUSTERED;\n",
    "//                 cluster(neighbor_index) = cluster_id;\n",
    "//                 std::cout << neighbor_index << std::endl;\n",
    "//                 search(neighbor_index);\n",
    "//             };\n",
    "//         };\n",
    "//     };\n",
    "// };"
   ]
  },
  {
   "cell_type": "code",
   "execution_count": 5,
   "id": "6ef5caef-d08c-4aec-99ef-dd4c30cdbcdd",
   "metadata": {},
   "outputs": [],
   "source": [
    "#include <functional>"
   ]
  },
  {
   "cell_type": "code",
   "execution_count": 44,
   "id": "67f0db7e-890e-413c-afeb-59abb13262de",
   "metadata": {},
   "outputs": [
    {
     "data": {
      "text/plain": [
       "1.7029386"
      ]
     },
     "execution_count": 44,
     "metadata": {},
     "output_type": "execute_result"
    }
   ],
   "source": [
    "sqrt(sum(pow(row(X, 0) - row(X, 1), 2))(0))"
   ]
  },
  {
   "cell_type": "code",
   "execution_count": 5,
   "id": "b1fb35e2-3c7d-4c29-9872-50fe7fcd8a78",
   "metadata": {},
   "outputs": [],
   "source": [
    "float euclidean_distance(const xarray<double>& a, const xarray<double>& b){ \n",
    "    return (float) sqrt(sum(pow((a - b), 2))(0));\n",
    "}"
   ]
  },
  {
   "cell_type": "code",
   "execution_count": 27,
   "id": "551bdb79-ea80-4b15-90cb-df3e6c4ae3da",
   "metadata": {
    "tags": []
   },
   "outputs": [],
   "source": [
    "\n",
    "\n",
    "auto dbscan(const xarray<float>& X, float epsilon, int minPts)\n",
    "{\n",
    "    // each data point can be in one of 3 stages\n",
    "    int NOT_VISITED = -1; // not visited point\n",
    "    int VISITED = 0; // non-core point\n",
    "    int CLUSTERED = 1; // core point\n",
    "\n",
    "    // initial setup\n",
    "    int n = X.shape()[0];\n",
    "    xarray<double> cluster = ones<double>({n}) * -1; // cluster register\n",
    "    xarray<double> state = ones<double>({n}) * NOT_VISITED; // state register\n",
    "    int cluster_id = 1;\n",
    "    \n",
    "    auto get_neighbors = [&] (int current_index) {\n",
    "        list<int> neighbor_indices = list<int>();\n",
    "        for (int neighbor_index : arange(0, n)){\n",
    "            // std::cout << (float)row(X, current_index)(0) << ',' << (float)row(X, current_index)(1) << ';' << (float)row(X, neighbor_index)(0) << ',' <<(float)row(X, neighbor_index)(1) << std::endl;\n",
    "            // std::cout << euclidean_distance(row(X, neighbor_index), row(X, current_index)) << std::endl;\n",
    "            // std::cout << (int) current_index  << (int) neighbor_index << \"\\n\";\n",
    "            if (euclidean_distance(row(X, neighbor_index), row(X, current_index)) <= (float) epsilon){\n",
    "                neighbor_indices.push_back((int) neighbor_index);\n",
    "                std::cout << (int) current_index  << (int) neighbor_index << \"\\n\";\n",
    "                \n",
    "                // int x = 0;\n",
    "                // std::cin >> x;\n",
    "            };\n",
    "        }\n",
    "        return neighbor_indices;\n",
    "    };\n",
    "    \n",
    "    // extend cluster\n",
    "    function < void( int ) > search = [&] (int current_index) -> void {\n",
    "        list<int> neighbor_indices = get_neighbors(current_index);\n",
    "        // std::cout << (int) neighbor_indices.size() << std::endl;\n",
    "        if ((int) neighbor_indices.size() >= minPts){\n",
    "            state(current_index) = CLUSTERED;\n",
    "            cluster(current_index) = cluster_id;\n",
    "            std::cout << current_index << ',' << (int) cluster(current_index) << std::endl;\n",
    "            for(int neighbor_index=0; neighbor_index<neighbor_indices.size(); neighbor_index++){\n",
    "                std::cout << neighbor_index << std::endl;\n",
    "                if (state(neighbor_index) == VISITED || state(neighbor_index) == NOT_VISITED){\n",
    "                    state(neighbor_index) = CLUSTERED;\n",
    "                    cluster(neighbor_index) = cluster_id;\n",
    "                    search(neighbor_index);\n",
    "                };\n",
    "            };\n",
    "        };\n",
    "    };\n",
    "\n",
    "    while (any(equal(state, NOT_VISITED))){\n",
    "        xarray<int> idx = from_indices(argwhere(equal(state, NOT_VISITED)));\n",
    "        // std::cout << (int) idx(0,0) << std::endl;\n",
    "        search(idx(0,0));\n",
    "        state(idx(0,0)) = CLUSTERED;\n",
    "        cluster_id++;\n",
    "    }\n",
    "    return cluster;\n",
    "}"
   ]
  },
  {
   "cell_type": "code",
   "execution_count": 28,
   "id": "01d6b931-ab58-4412-a4ad-1909e4582fba",
   "metadata": {
    "tags": []
   },
   "outputs": [
    {
     "name": "stdout",
     "output_type": "stream",
     "text": [
      "4.2,4;4.2,4\n",
      "0\n",
      "00\n",
      "4.2,4;5.9,3.9\n",
      "1.70294\n",
      "01\n",
      "4.2,4;2.8,3.5\n",
      "1.48661\n",
      "02\n",
      "4.2,4;12,1.3\n",
      "8.25409\n",
      "03\n",
      "4.2,4;10,1.3\n",
      "6.39766\n",
      "04\n",
      "4.2,4;1.1,3\n",
      "3.2573\n",
      "05\n",
      "4.2,4;0,2.4\n",
      "4.49444\n",
      "06\n",
      "4.2,4;2.4,2\n",
      "2.69072\n",
      "07\n",
      "4.2,4;11.5,1.8\n",
      "7.6243\n",
      "08\n",
      "4.2,4;11,1\n",
      "7.43236\n",
      "09\n",
      "4.2,4;0.9,0\n",
      "5.18556\n",
      "010\n",
      "4.2,4;1,1.5\n",
      "4.06079\n",
      "011\n",
      "5.9,3.9;4.2,4\n",
      "1.70294\n",
      "10\n",
      "5.9,3.9;5.9,3.9\n",
      "0\n",
      "11\n",
      "5.9,3.9;2.8,3.5\n",
      "3.1257\n",
      "12\n",
      "5.9,3.9;12,1.3\n",
      "6.63099\n",
      "13\n",
      "5.9,3.9;10,1.3\n",
      "4.85489\n",
      "14\n",
      "5.9,3.9;1.1,3\n",
      "4.88365\n",
      "15\n",
      "5.9,3.9;0,2.4\n",
      "6.08769\n",
      "16\n",
      "5.9,3.9;2.4,2\n",
      "3.98246\n",
      "17\n",
      "5.9,3.9;11.5,1.8\n",
      "5.9808\n",
      "18\n",
      "5.9,3.9;11,1\n",
      "5.86686\n",
      "19\n",
      "5.9,3.9;0.9,0\n",
      "6.34114\n",
      "110\n",
      "5.9,3.9;1,1.5\n",
      "5.45619\n",
      "111\n",
      "2.8,3.5;4.2,4\n",
      "1.48661\n",
      "20\n",
      "2.8,3.5;5.9,3.9\n",
      "3.1257\n",
      "21\n",
      "2.8,3.5;2.8,3.5\n",
      "0\n",
      "22\n",
      "2.8,3.5;12,1.3\n",
      "9.45939\n",
      "23\n",
      "2.8,3.5;10,1.3\n",
      "7.52861\n",
      "24\n",
      "2.8,3.5;1.1,3\n",
      "1.772\n",
      "25\n",
      "2.8,3.5;0,2.4\n",
      "3.00832\n",
      "26\n",
      "2.8,3.5;2.4,2\n",
      "1.55242\n",
      "27\n",
      "2.8,3.5;11.5,1.8\n",
      "8.86454\n",
      "28\n",
      "2.8,3.5;11,1\n",
      "8.57263\n",
      "29\n",
      "2.8,3.5;0.9,0\n",
      "3.98246\n",
      "210\n",
      "2.8,3.5;1,1.5\n",
      "2.69072\n",
      "211\n",
      "2,3\n",
      "0\n",
      "1\n",
      "2\n",
      "3\n",
      "12,1.3;4.2,4\n",
      "8.25409\n",
      "30\n",
      "12,1.3;5.9,3.9\n",
      "6.63099\n",
      "31\n",
      "12,1.3;2.8,3.5\n",
      "9.45939\n",
      "32\n",
      "12,1.3;12,1.3\n",
      "0\n",
      "33\n",
      "12,1.3;10,1.3\n",
      "2\n",
      "34\n",
      "12,1.3;1.1,3\n",
      "11.0318\n",
      "35\n",
      "12,1.3;0,2.4\n",
      "12.0503\n",
      "36\n",
      "12,1.3;2.4,2\n",
      "9.62549\n",
      "37\n",
      "12,1.3;11.5,1.8\n",
      "0.707107\n",
      "38\n",
      "12,1.3;11,1\n",
      "1.04403\n",
      "39\n",
      "12,1.3;0.9,0\n",
      "11.1759\n",
      "310\n",
      "12,1.3;1,1.5\n",
      "11.0018\n",
      "311\n",
      "3,3\n",
      "0\n",
      "1\n",
      "2\n",
      "3\n",
      "10,1.3;4.2,4\n",
      "6.39766\n",
      "40\n",
      "10,1.3;5.9,3.9\n",
      "4.85489\n",
      "41\n",
      "10,1.3;2.8,3.5\n",
      "7.52861\n",
      "42\n",
      "10,1.3;12,1.3\n",
      "2\n",
      "43\n",
      "10,1.3;10,1.3\n",
      "0\n",
      "44\n",
      "10,1.3;1.1,3\n",
      "9.06091\n",
      "45\n",
      "10,1.3;0,2.4\n",
      "10.0603\n",
      "46\n",
      "10,1.3;2.4,2\n",
      "7.63217\n",
      "47\n",
      "10,1.3;11.5,1.8\n",
      "1.58114\n",
      "48\n",
      "10,1.3;11,1\n",
      "1.04403\n",
      "49\n",
      "10,1.3;0.9,0\n",
      "9.19239\n",
      "410\n",
      "10,1.3;1,1.5\n",
      "9.00222\n",
      "411\n",
      "4,4\n",
      "0\n",
      "1\n",
      "2\n",
      "3\n",
      "1.1,3;4.2,4\n",
      "3.2573\n",
      "50\n",
      "1.1,3;5.9,3.9\n",
      "4.88365\n",
      "51\n",
      "1.1,3;2.8,3.5\n",
      "1.772\n",
      "52\n",
      "1.1,3;12,1.3\n",
      "11.0318\n",
      "53\n",
      "1.1,3;10,1.3\n",
      "9.06091\n",
      "54\n",
      "1.1,3;1.1,3\n",
      "0\n",
      "55\n",
      "1.1,3;0,2.4\n",
      "1.253\n",
      "56\n",
      "1.1,3;2.4,2\n",
      "1.64012\n",
      "57\n",
      "1.1,3;11.5,1.8\n",
      "10.469\n",
      "58\n",
      "1.1,3;11,1\n",
      "10.1\n",
      "59\n",
      "1.1,3;0.9,0\n",
      "3.00666\n",
      "510\n",
      "1.1,3;1,1.5\n",
      "1.50333\n",
      "511\n",
      "5,5\n",
      "0\n",
      "1\n",
      "2\n",
      "3\n",
      "4\n",
      "0,2.4;4.2,4\n",
      "4.49444\n",
      "60\n",
      "0,2.4;5.9,3.9\n",
      "6.08769\n",
      "61\n",
      "0,2.4;2.8,3.5\n",
      "3.00832\n",
      "62\n",
      "0,2.4;12,1.3\n",
      "12.0503\n",
      "63\n",
      "0,2.4;10,1.3\n",
      "10.0603\n",
      "64\n",
      "0,2.4;1.1,3\n",
      "1.253\n",
      "65\n",
      "0,2.4;0,2.4\n",
      "0\n",
      "66\n",
      "0,2.4;2.4,2\n",
      "2.43311\n",
      "67\n",
      "0,2.4;11.5,1.8\n",
      "11.5156\n",
      "68\n",
      "0,2.4;11,1\n",
      "11.0887\n",
      "69\n",
      "0,2.4;0.9,0\n",
      "2.5632\n",
      "610\n",
      "0,2.4;1,1.5\n",
      "1.34536\n",
      "611\n",
      "2.4,2;4.2,4\n",
      "2.69072\n",
      "70\n",
      "2.4,2;5.9,3.9\n",
      "3.98246\n",
      "71\n",
      "2.4,2;2.8,3.5\n",
      "1.55242\n",
      "72\n",
      "2.4,2;12,1.3\n",
      "9.62549\n",
      "73\n",
      "2.4,2;10,1.3\n",
      "7.63217\n",
      "74\n",
      "2.4,2;1.1,3\n",
      "1.64012\n",
      "75\n",
      "2.4,2;0,2.4\n",
      "2.43311\n",
      "76\n",
      "2.4,2;2.4,2\n",
      "0\n",
      "77\n",
      "2.4,2;11.5,1.8\n",
      "9.1022\n",
      "78\n",
      "2.4,2;11,1\n",
      "8.65794\n",
      "79\n",
      "2.4,2;0.9,0\n",
      "2.5\n",
      "710\n",
      "2.4,2;1,1.5\n",
      "1.48661\n",
      "711\n",
      "7,7\n",
      "0\n",
      "1\n",
      "2\n",
      "3\n",
      "11.5,1.8;4.2,4\n",
      "7.6243\n",
      "80\n",
      "11.5,1.8;5.9,3.9\n",
      "5.9808\n",
      "81\n",
      "11.5,1.8;2.8,3.5\n",
      "8.86454\n",
      "82\n",
      "11.5,1.8;12,1.3\n",
      "0.707107\n",
      "83\n",
      "11.5,1.8;10,1.3\n",
      "1.58114\n",
      "84\n",
      "11.5,1.8;1.1,3\n",
      "10.469\n",
      "85\n",
      "11.5,1.8;0,2.4\n",
      "11.5156\n",
      "86\n",
      "11.5,1.8;2.4,2\n",
      "9.1022\n",
      "87\n",
      "11.5,1.8;11.5,1.8\n",
      "0\n",
      "88\n",
      "11.5,1.8;11,1\n",
      "0.943398\n",
      "89\n",
      "11.5,1.8;0.9,0\n",
      "10.7517\n",
      "810\n",
      "11.5,1.8;1,1.5\n",
      "10.5043\n",
      "811\n",
      "8,8\n",
      "0\n",
      "1\n",
      "2\n",
      "3\n",
      "11,1;4.2,4\n",
      "7.43236\n",
      "90\n",
      "11,1;5.9,3.9\n",
      "5.86686\n",
      "91\n",
      "11,1;2.8,3.5\n",
      "8.57263\n",
      "92\n",
      "11,1;12,1.3\n",
      "1.04403\n",
      "93\n",
      "11,1;10,1.3\n",
      "1.04403\n",
      "94\n",
      "11,1;1.1,3\n",
      "10.1\n",
      "95\n",
      "11,1;0,2.4\n",
      "11.0887\n",
      "96\n",
      "11,1;2.4,2\n",
      "8.65794\n",
      "97\n",
      "11,1;11.5,1.8\n",
      "0.943398\n",
      "98\n",
      "11,1;11,1\n",
      "0\n",
      "99\n",
      "11,1;0.9,0\n",
      "10.1494\n",
      "910\n",
      "11,1;1,1.5\n",
      "10.0125\n",
      "911\n",
      "9,9\n",
      "0\n",
      "1\n",
      "2\n",
      "3\n",
      "0.9,0;4.2,4\n",
      "5.18556\n",
      "100\n",
      "0.9,0;5.9,3.9\n",
      "6.34114\n",
      "101\n",
      "0.9,0;2.8,3.5\n",
      "3.98246\n",
      "102\n",
      "0.9,0;12,1.3\n",
      "11.1759\n",
      "103\n",
      "0.9,0;10,1.3\n",
      "9.19239\n",
      "104\n",
      "0.9,0;1.1,3\n",
      "3.00666\n",
      "105\n",
      "0.9,0;0,2.4\n",
      "2.5632\n",
      "106\n",
      "0.9,0;2.4,2\n",
      "2.5\n",
      "107\n",
      "0.9,0;11.5,1.8\n",
      "10.7517\n",
      "108\n",
      "0.9,0;11,1\n",
      "10.1494\n",
      "109\n",
      "0.9,0;0.9,0\n",
      "0\n",
      "1010\n",
      "0.9,0;1,1.5\n",
      "1.50333\n",
      "1011\n",
      "1,1.5;4.2,4\n",
      "4.06079\n",
      "110\n",
      "1,1.5;5.9,3.9\n",
      "5.45619\n",
      "111\n",
      "1,1.5;2.8,3.5\n",
      "2.69072\n",
      "112\n",
      "1,1.5;12,1.3\n",
      "11.0018\n",
      "113\n",
      "1,1.5;10,1.3\n",
      "9.00222\n",
      "114\n",
      "1,1.5;1.1,3\n",
      "1.50333\n",
      "115\n",
      "1,1.5;0,2.4\n",
      "1.34536\n",
      "116\n",
      "1,1.5;2.4,2\n",
      "1.48661\n",
      "117\n",
      "1,1.5;11.5,1.8\n",
      "10.5043\n",
      "118\n",
      "1,1.5;11,1\n",
      "10.0125\n",
      "119\n",
      "1,1.5;0.9,0\n",
      "1.50333\n",
      "1110\n",
      "1,1.5;1,1.5\n",
      "0\n",
      "1111\n",
      "11,11\n",
      "0\n",
      "1\n",
      "2\n",
      "3\n",
      "4\n"
     ]
    },
    {
     "data": {
      "text/html": [
       "<table style='border-style:solid;border-width:1px;'><tbody><tr><td style='font-family:monospace;' title='0'><pre> -1.</pre></td></tr><tr><td style='font-family:monospace;' title='1'><pre> -1.</pre></td></tr><tr><td style='font-family:monospace;' title='2'><pre>  3.</pre></td></tr><tr><td style='font-family:monospace;' title='3'><pre>  3.</pre></td></tr><tr><td style='font-family:monospace;' title='4'><pre>  4.</pre></td></tr><tr><td style='font-family:monospace;' title='5'><pre>  5.</pre></td></tr><tr><td style='font-family:monospace;' title='6'><pre> -1.</pre></td></tr><tr><td style='font-family:monospace;' title='7'><pre>  7.</pre></td></tr><tr><td style='font-family:monospace;' title='8'><pre>  8.</pre></td></tr><tr><td style='font-family:monospace;' title='9'><pre>  9.</pre></td></tr><tr><td style='font-family:monospace;' title='10'><pre> -1.</pre></td></tr><tr><td style='font-family:monospace;' title='11'><pre> 11.</pre></td></tr></tbody></table>"
      ]
     },
     "execution_count": 28,
     "metadata": {},
     "output_type": "execute_result"
    }
   ],
   "source": [
    "dbscan(X, 2, 4)"
   ]
  },
  {
   "cell_type": "code",
   "execution_count": 22,
   "id": "143b574b-e657-4a7d-95e2-0def24a94fb6",
   "metadata": {},
   "outputs": [],
   "source": [
    "auto euclidean_distance(const xarray<double>& a, const xarray<double>& b){ \n",
    "    return sqrt(sum(pow((a - b), 2)))(0);\n",
    "};"
   ]
  },
  {
   "cell_type": "code",
   "execution_count": 23,
   "id": "9e2f593e-5a4d-47d1-9302-08b5ae94bc8d",
   "metadata": {},
   "outputs": [
    {
     "data": {
      "text/plain": [
       "1.7029386"
      ]
     },
     "execution_count": 23,
     "metadata": {},
     "output_type": "execute_result"
    }
   ],
   "source": [
    "euclidean_distance(row(X, 0), row(X, 1))"
   ]
  },
  {
   "cell_type": "code",
   "execution_count": 29,
   "id": "cede7425-97f9-4867-8dd9-d8e49c21403c",
   "metadata": {},
   "outputs": [
    {
     "data": {
      "text/plain": [
       "true"
      ]
     },
     "execution_count": 29,
     "metadata": {},
     "output_type": "execute_result"
    }
   ],
   "source": [
    "xarray<double> cluster = ones<double>({10}) * -1;\n",
    "int NOT_VISITED = -1;\n",
    "int VISITED = 0;\n",
    "(cluster(2) == NOT_VISITED || cluster(2) == VISITED)"
   ]
  },
  {
   "cell_type": "code",
   "execution_count": 4,
   "id": "f963b367-e509-4296-bbab-f2340a501e94",
   "metadata": {},
   "outputs": [],
   "source": [
    "xarray<double> X = zeros<double>({3});"
   ]
  },
  {
   "cell_type": "code",
   "execution_count": null,
   "id": "4c7182ae-dfdc-4437-a174-6b86a187c6cf",
   "metadata": {},
   "outputs": [],
   "source": [
    "#include \"random.hpp\"\n",
    "#include \"xplot/xfigure.hpp\"\n",
    "#include \"xplot/xmarks.hpp\"\n",
    "#include \"xplot/xaxes.hpp\""
   ]
  },
  {
   "cell_type": "code",
   "execution_count": 5,
   "id": "26cd31d3-8ff2-4a68-8c2c-8014e60438b3",
   "metadata": {},
   "outputs": [],
   "source": [
    "void dodaj_papierosy_do( xarray<double>& X, int i) {\n",
    "    X(i)=0;\n",
    "    f(X, 2);\n",
    "    return;\n",
    "}"
   ]
  },
  {
   "cell_type": "code",
   "execution_count": null,
   "id": "6fe9cfec-3beb-47ea-8363-3adfb888e750",
   "metadata": {},
   "outputs": [],
   "source": [
    "f(X, 0)"
   ]
  },
  {
   "cell_type": "code",
   "execution_count": 45,
   "id": "d3641a1a-cc00-422e-89be-a496f1d880df",
   "metadata": {},
   "outputs": [
    {
     "data": {
      "text/plain": [
       "1"
      ]
     },
     "execution_count": 45,
     "metadata": {},
     "output_type": "execute_result"
    }
   ],
   "source": [
    "list<int> myList = list<int>();\n",
    "myList.push_back(4);\n",
    "myList.size()"
   ]
  },
  {
   "cell_type": "code",
   "execution_count": null,
   "id": "f636a30c-134b-4eb7-8bfe-bd119ea2f7ee",
   "metadata": {},
   "outputs": [],
   "source": [
    "4.2\t4.0\t1\n",
    "5.9\t3.9\t0\n",
    "2.8\t3.5\t1\n",
    "12.0\t1.3\t2\n",
    "10.0\t1.3\t2\n",
    "1.1\t3.0\t1\n",
    "0.0\t2.4\t1\n",
    "2.4\t2.0\t1\n",
    "11.5\t1.8\t2\n",
    "11.0\t1.0\t2\n",
    "0.9\t0.0\t1\n",
    "1.0\t1.5\t1"
   ]
  },
  {
   "cell_type": "code",
   "execution_count": 4,
   "id": "72e1f102-1db8-4eed-8436-3abb5276cdeb",
   "metadata": {},
   "outputs": [
    {
     "data": {
      "text/html": [
       "<table style='border-style:solid;border-width:1px;'><tbody><tr><td style='font-family:monospace;' title='(0, 0)'><pre> 1.</pre></td><td style='font-family:monospace;' title='(0, 1)'><pre> 2.</pre></td></tr><tr><td style='font-family:monospace;' title='(1, 0)'><pre> 5.</pre></td><td style='font-family:monospace;' title='(1, 1)'><pre> 6.</pre></td></tr></tbody></table>"
      ]
     },
     "execution_count": 4,
     "metadata": {},
     "output_type": "execute_result"
    }
   ],
   "source": [
    "// xarray<double> X = zeros<double>({3, 2});\n",
    "\n",
    "xarray<double> X = {{1, 2},\n",
    "                    {5, 6}};\n",
    "X"
   ]
  },
  {
   "cell_type": "code",
   "execution_count": 10,
   "id": "50782821-9a87-4ef5-a7d3-c8990c989f42",
   "metadata": {},
   "outputs": [
    {
     "data": {
      "text/html": [
       "<table style='border-style:solid;border-width:1px;'><tbody><tr><td style='font-family:monospace;'><pre>0</pre></td></tr></tbody></table>"
      ]
     },
     "execution_count": 10,
     "metadata": {},
     "output_type": "execute_result"
    }
   ],
   "source": [
    "euclidean_distance(view(X, 0, all()), view(X, 1, all()))"
   ]
  },
  {
   "cell_type": "code",
   "execution_count": 18,
   "id": "9951735d-9cd3-4419-a764-14ac5e721a1d",
   "metadata": {},
   "outputs": [
    {
     "data": {
      "text/plain": [
       "true"
      ]
     },
     "execution_count": 18,
     "metadata": {},
     "output_type": "execute_result"
    }
   ],
   "source": [
    "sqrt(sum(pow((row(X, 0) - row(X, 1)), 2)))(0)>4"
   ]
  },
  {
   "cell_type": "code",
   "execution_count": 11,
   "id": "3f5d4015-4880-4f9f-921c-7dc00d56cdd4",
   "metadata": {},
   "outputs": [
    {
     "data": {
      "text/html": [
       "<table style='border-style:solid;border-width:1px;'><tbody><tr><td style='font-family:monospace;'><pre>5.65685</pre></td></tr></tbody></table>"
      ]
     },
     "execution_count": 11,
     "metadata": {},
     "output_type": "execute_result"
    }
   ],
   "source": [
    "sqrt(sum(pow((a - b), 2)))"
   ]
  },
  {
   "cell_type": "code",
   "execution_count": 3,
   "id": "9e8993cc-272c-493e-943e-3f2c455d7edb",
   "metadata": {},
   "outputs": [],
   "source": [
    "xarray<double> a = row(X, 0);\n",
    "xarray<double> b = row(X, 1);"
   ]
  },
  {
   "cell_type": "code",
   "execution_count": 4,
   "id": "abc1f802-0a14-4cea-9bfe-cb7c620cfe17",
   "metadata": {},
   "outputs": [],
   "source": []
  },
  {
   "cell_type": "code",
   "execution_count": 5,
   "id": "1076ceb3-659c-4d4a-88fc-11d81a889737",
   "metadata": {},
   "outputs": [
    {
     "data": {
      "text/html": [
       "<table style='border-style:solid;border-width:1px;'><tbody><tr><td style='font-family:monospace;'><pre>5.65685</pre></td></tr></tbody></table>"
      ]
     },
     "execution_count": 5,
     "metadata": {},
     "output_type": "execute_result"
    }
   ],
   "source": [
    "euclidean_distance(a,b)"
   ]
  },
  {
   "cell_type": "code",
   "execution_count": 3,
   "id": "7a4121ae-d53a-445e-ae25-e526bae1320b",
   "metadata": {},
   "outputs": [],
   "source": [
    "auto example_xarray(const xarray<double>& m)\n",
    "{\n",
    "    return m + 2;\n",
    "}"
   ]
  },
  {
   "cell_type": "code",
   "execution_count": 4,
   "id": "13cd88c0-7b41-4701-bec0-fb3491591aed",
   "metadata": {},
   "outputs": [
    {
     "data": {
      "text/html": [
       "<table style='border-style:solid;border-width:1px;'><tbody><tr><td style='font-family:monospace;' title='(0, 0)'><pre> 0.</pre></td><td style='font-family:monospace;' title='(0, 1)'><pre> 0.</pre></td></tr><tr><td style='font-family:monospace;' title='(1, 0)'><pre> 0.</pre></td><td style='font-family:monospace;' title='(1, 1)'><pre> 0.</pre></td></tr><tr><td style='font-family:monospace;' title='(2, 0)'><pre> 0.</pre></td><td style='font-family:monospace;' title='(2, 1)'><pre> 0.</pre></td></tr></tbody></table>"
      ]
     },
     "execution_count": 4,
     "metadata": {},
     "output_type": "execute_result"
    }
   ],
   "source": [
    "X()"
   ]
  },
  {
   "cell_type": "code",
   "execution_count": 6,
   "id": "4cc1148f-2da5-4052-90da-dc9bb54a3a2a",
   "metadata": {},
   "outputs": [
    {
     "name": "stderr",
     "output_type": "stream",
     "text": [
      "\u001b[1minput_line_17:2:20: \u001b[0m\u001b[0;1;31merror: \u001b[0m\u001b[1mexpected ';' at end of declaration\u001b[0m\n",
      " auto a = row(X, 0)\n",
      "\u001b[0;1;32m                   ^\n",
      "\u001b[0m\u001b[0;32m                   ;\n",
      "\u001b[0m\u001b[1minput_line_17:3:19: \u001b[0m\u001b[0;1;31merror: \u001b[0m\u001b[1mexpected ';' at end of declaration\u001b[0m\n",
      "auto b = row(X, 1)\n",
      "\u001b[0;1;32m                  ^\n",
      "\u001b[0m\u001b[0;32m                  ;\n",
      "\u001b[0m"
     ]
    },
    {
     "ename": "Interpreter Error",
     "evalue": "",
     "output_type": "error",
     "traceback": [
      "Interpreter Error: "
     ]
    }
   ],
   "source": [
    "auto a = row(X, 0)\n",
    "auto b = row(X, 1)\n",
    "\n",
    "example_xarray(a,b)"
   ]
  },
  {
   "cell_type": "code",
   "execution_count": 3,
   "id": "123e8d9d-40c4-4382-a9e0-60e6bf8cbd92",
   "metadata": {},
   "outputs": [
    {
     "data": {
      "text/html": [
       "<table style='border-style:solid;border-width:1px;'><tbody><tr><td style='font-family:monospace;' title='0'><pre> 0.</pre></td></tr><tr><td style='font-family:monospace;' title='1'><pre> 0.</pre></td></tr></tbody></table>"
      ]
     },
     "execution_count": 3,
     "metadata": {},
     "output_type": "execute_result"
    }
   ],
   "source": [
    "row(X, 0)"
   ]
  },
  {
   "cell_type": "code",
   "execution_count": null,
   "id": "13b44b98-ecec-44c3-b264-dc4e7f1edc8e",
   "metadata": {},
   "outputs": [],
   "source": [
    "def euclidean_distance(a, b):\n",
    "    distance_measure = 0\n",
    "    for i in range(len(a)):\n",
    "         distance_measure += pow((a[i] - b[i]), 2)\n",
    "    return np.sqrt(distance_measure)"
   ]
  },
  {
   "cell_type": "code",
   "execution_count": 32,
   "id": "e28c9530-b118-48dc-acd9-f2ad6ca6cc14",
   "metadata": {},
   "outputs": [],
   "source": [
    "xarray<double> X = zeros<double>({3});"
   ]
  },
  {
   "cell_type": "code",
   "execution_count": 5,
   "id": "454319c4-51f1-467e-891d-3afbddd82ff0",
   "metadata": {},
   "outputs": [
    {
     "name": "stderr",
     "output_type": "stream",
     "text": [
      "\u001b[1minput_line_18:2:25: \u001b[0m\u001b[0;1;31merror: \u001b[0m\u001b[1muse of undeclared identifier 'n'\u001b[0m\n",
      " for (int x : arange(0, n))\n",
      "\u001b[0;1;32m                        ^\n",
      "\u001b[0m"
     ]
    },
    {
     "ename": "Interpreter Error",
     "evalue": "",
     "output_type": "error",
     "traceback": [
      "Interpreter Error: "
     ]
    }
   ],
   "source": [
    "for (int x : arange(0, n))\n",
    "{\n",
    "    std::cout << x << std::endl;\n",
    "}"
   ]
  }
 ],
 "metadata": {
  "kernelspec": {
   "display_name": "C++14",
   "language": "C++14",
   "name": "xcpp14"
  },
  "language_info": {
   "codemirror_mode": "text/x-c++src",
   "file_extension": ".cpp",
   "mimetype": "text/x-c++src",
   "name": "c++",
   "version": "14"
  }
 },
 "nbformat": 4,
 "nbformat_minor": 5
}
