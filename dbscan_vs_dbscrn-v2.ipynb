{
 "cells": [
  {
   "cell_type": "markdown",
   "id": "senior-shelter",
   "metadata": {
    "tags": []
   },
   "source": [
    "# DBSCAN vs DBSCRN"
   ]
  },
  {
   "cell_type": "code",
   "execution_count": 1,
   "id": "useful-content",
   "metadata": {},
   "outputs": [],
   "source": [
    "import time\n",
    "import warnings\n",
    "import math\n",
    "\n",
    "from sklearn.datasets import make_blobs\n",
    "from collections import Counter\n",
    "\n",
    "import numpy as np\n",
    "import matplotlib.pyplot as plt\n",
    "\n",
    "import pandas as pd\n",
    "\n",
    "from sklearn import cluster, datasets\n",
    "from sklearn.preprocessing import StandardScaler\n",
    "from itertools import cycle, islice\n",
    "from sklearn import cluster\n",
    "from sklearn import preprocessing\n",
    "\n",
    "np.random.seed(0)\n",
    "\n",
    "def cluster_encoder(cluster):\n",
    "    le = preprocessing.LabelEncoder()\n",
    "    le.fit(cluster)\n",
    "    return le.transform(cluster)"
   ]
  },
  {
   "cell_type": "markdown",
   "id": "norwegian-southeast",
   "metadata": {},
   "source": [
    "# Dataset for testing"
   ]
  },
  {
   "cell_type": "code",
   "execution_count": 2,
   "id": "recovered-carry",
   "metadata": {},
   "outputs": [
    {
     "data": {
      "image/png": "[encoded data removed]",
      "text/plain": [
       "<Figure size 432x288 with 1 Axes>"
      ]
     },
     "metadata": {
      "needs_background": "light"
     },
     "output_type": "display_data"
    }
   ],
   "source": [
    "data, y = make_blobs(n_samples=100, centers = [(5, -5), (0, 0), (-5, -5)], cluster_std=1, n_features=2, random_state=5)\n",
    "data = StandardScaler().fit_transform(data)\n",
    "\n",
    "fig, ax = plt.subplots()\n",
    "ax.scatter(data[:,0], data[:,1]);"
   ]
  },
  {
   "cell_type": "markdown",
   "id": "87ee34ec-bc7f-4729-ba30-25380e2dcd3c",
   "metadata": {},
   "source": [
    "# Clusterization performance metrics"
   ]
  },
  {
   "cell_type": "code",
   "execution_count": 3,
   "id": "premium-understanding",
   "metadata": {
    "tags": []
   },
   "outputs": [],
   "source": [
    "from sklearn.metrics.cluster import adjusted_rand_score\n",
    "from sklearn.cluster import KMeans\n",
    "from sklearn import metrics\n",
    "from sklearn.metrics import davies_bouldin_score\n",
    "# from sklearn.metrics import pairwise_distance\n",
    "\n",
    "# n_clusters: the number of discovered clusters,\n",
    "# y: real clusters,\n",
    "# c: discovered clusters\n",
    "\n",
    "# Purity\n",
    "def purity(C, G):\n",
    "    common_items_inclusters = metrics.cluster.contingency_matrix(C, G)\n",
    "    purity_score = np.sum(np.amax(common_items_inclusters, axis=0)) / np.sum(common_items_inclusters)\n",
    "    return purity_score\n",
    "\n",
    "def evaluate(y_pred, y_true, data):\n",
    "    y_pred = cluster_encoder(y_pred)\n",
    "    return {\n",
    "        \"purity\": purity(y_true, y_pred),\n",
    "        \"adjusted_rand_score\": adjusted_rand_score(y_true, y_pred),\n",
    "        \"davies_bouldin_score\": davies_bouldin_score(data, y_pred),\n",
    "        \"silhouette_score_euclidean\": metrics.silhouette_score(data, y_pred, metric = 'euclidean'),\n",
    "        \"silhouette_score_cosine\": metrics.silhouette_score(data, y_pred, metric = 'cosine'),\n",
    "    }"
   ]
  },
  {
   "cell_type": "markdown",
   "id": "2c3cfd53-21eb-4274-8cf4-60be97be4254",
   "metadata": {},
   "source": [
    "# Distance or (dis)similarity measures "
   ]
  },
  {
   "cell_type": "markdown",
   "id": "assumed-damages",
   "metadata": {
    "tags": []
   },
   "source": [
    "## Euclidean similarity"
   ]
  },
  {
   "cell_type": "code",
   "execution_count": 4,
   "id": "pressing-gardening",
   "metadata": {},
   "outputs": [],
   "source": [
    "def euclidean_distance(a, b):\n",
    "    similarity_measure = 0\n",
    "    for i in range(len(a)):\n",
    "         similarity_measure += pow((a[i] - b[i]), 2)\n",
    "    return np.sqrt(similarity_measure)"
   ]
  },
  {
   "cell_type": "markdown",
   "id": "rough-offset",
   "metadata": {},
   "source": [
    "## Cosinus dissimilarity "
   ]
  },
  {
   "cell_type": "code",
   "execution_count": 5,
   "id": "minus-slovakia",
   "metadata": {},
   "outputs": [],
   "source": [
    "def cosine_dissimilarity(a, b):\n",
    "    dot = 0\n",
    "    norm_a = 0\n",
    "    norm_b = 0\n",
    "    for i in range(len(a)):\n",
    "        dot += a[i] * b[i]\n",
    "        norm_a += a[i]**2\n",
    "        norm_b += b[i]**2\n",
    "    return 1 - dot / (norm_a * norm_b)**0.5"
   ]
  },
  {
   "cell_type": "markdown",
   "id": "4df09d7b-31ec-4642-8508-6c816e828170",
   "metadata": {},
   "source": [
    "# DBSCAN"
   ]
  },
  {
   "cell_type": "markdown",
   "id": "occupational-jonathan",
   "metadata": {},
   "source": [
    "## Get reachable neighbors"
   ]
  },
  {
   "cell_type": "code",
   "execution_count": 6,
   "id": "favorite-learning",
   "metadata": {},
   "outputs": [],
   "source": [
    "def get_neighbors(data, current_index, epsilon, similarity):\n",
    "    neighbor_indices = []\n",
    "    for neighbor_index, neighbor in enumerate(data):\n",
    "        if similarity(neighbor, data[current_index]) <= epsilon:\n",
    "            neighbor_indices.append(neighbor_index)\n",
    "    return neighbor_indices"
   ]
  },
  {
   "cell_type": "markdown",
   "id": "9b9b25bf-cd03-4b4f-be56-b649c81887b2",
   "metadata": {},
   "source": [
    "## Clusterization algorithm"
   ]
  },
  {
   "cell_type": "code",
   "execution_count": 7,
   "id": "thick-blowing",
   "metadata": {},
   "outputs": [],
   "source": [
    "def dbscan(data, epsilon, minPts, similarity):\n",
    "    \n",
    "    # each data point can be in one of 3 stages\n",
    "    NOT_VISITED = 0 # not visited point\n",
    "    VISTED = 1 # non-core point\n",
    "    CLUSTERED = 2 # core point\n",
    "    \n",
    "    # initial setup\n",
    "    n = data.shape[0]\n",
    "    cluster = np.array([0] * n) # cluster register\n",
    "    state = np.array([NOT_VISITED] * n) # state register\n",
    "    cluster_id = 1\n",
    "\n",
    "    def search(current_index, cluster_id, epsilon, minPts, similarity):\n",
    "        neighbor_indices = get_neighbors(data, current_index, epsilon, similarity)\n",
    "        if len(neighbor_indices) >= minPts:\n",
    "            state[current_index] = CLUSTERED\n",
    "            cluster[current_index] = cluster_id\n",
    "            for neighbor_index in neighbor_indices:\n",
    "                if state[neighbor_index] == NOT_VISITED:\n",
    "                    state[neighbor_index] = CLUSTERED\n",
    "                    cluster[neighbor_index] = cluster_id\n",
    "                    search(neighbor_index, cluster_id, epsilon, minPts, similarity)\n",
    "        else:\n",
    "            state[current_index] = VISTED\n",
    "\n",
    "    while NOT_VISITED in state:\n",
    "        not_visited_ids = np.where(state==NOT_VISITED)[0]\n",
    "        search(not_visited_ids[0], cluster_id, epsilon, minPts, similarity)\n",
    "        cluster_id += 1\n",
    "    \n",
    "    return cluster"
   ]
  },
  {
   "cell_type": "markdown",
   "id": "1ab1c46f-8ef8-4deb-abe5-4220e96d164e",
   "metadata": {},
   "source": [
    "## Evaluation"
   ]
  },
  {
   "cell_type": "markdown",
   "id": "a491d114-5661-49f4-8492-ecf48ed90b3f",
   "metadata": {},
   "source": [
    "### Euclidean distance"
   ]
  },
  {
   "cell_type": "code",
   "execution_count": 8,
   "id": "4b822c20-2027-4c10-b353-af6118fdee09",
   "metadata": {},
   "outputs": [
    {
     "data": {
      "image/png": "[encoded data removed]",
      "text/plain": [
       "<Figure size 432x288 with 1 Axes>"
      ]
     },
     "metadata": {
      "needs_background": "light"
     },
     "output_type": "display_data"
    },
    {
     "data": {
      "text/plain": [
       "{'purity': 1.0,\n",
       " 'adjusted_rand_score': 1.0,\n",
       " 'davies_bouldin_score': 0.3558505657725602,\n",
       " 'silhouette_score_euclidean': 0.7446693236136052,\n",
       " 'silhouette_score_cosine': 0.9547976849733445}"
      ]
     },
     "execution_count": 8,
     "metadata": {},
     "output_type": "execute_result"
    }
   ],
   "source": [
    "y_pred = dbscan(data=data, epsilon=0.5, minPts=3, similarity=euclidean_distance)\n",
    "\n",
    "# display results\n",
    "fig, ax = plt.subplots()\n",
    "ax.scatter(data[:,0], data[:,1], c=y_pred)\n",
    "plt.show()\n",
    "\n",
    "# evaluation\n",
    "evaluate(y_pred, y, data)"
   ]
  },
  {
   "cell_type": "markdown",
   "id": "06e1b791-a42d-4e4c-b25c-9375edb36816",
   "metadata": {},
   "source": [
    "### Cosine dissimilarity"
   ]
  },
  {
   "cell_type": "code",
   "execution_count": 9,
   "id": "attached-significance",
   "metadata": {},
   "outputs": [
    {
     "data": {
      "image/png": "[encoded data removed]",
      "text/plain": [
       "<Figure size 432x288 with 1 Axes>"
      ]
     },
     "metadata": {
      "needs_background": "light"
     },
     "output_type": "display_data"
    },
    {
     "data": {
      "text/plain": [
       "{'purity': 1.0,\n",
       " 'adjusted_rand_score': 1.0,\n",
       " 'davies_bouldin_score': 0.3558505657725602,\n",
       " 'silhouette_score_euclidean': 0.7446693236136052,\n",
       " 'silhouette_score_cosine': 0.9547976849733445}"
      ]
     },
     "execution_count": 9,
     "metadata": {},
     "output_type": "execute_result"
    }
   ],
   "source": [
    "y_pred = dbscan(data=data, epsilon=0.05, minPts=10, similarity=cosine_dissimilarity)\n",
    "\n",
    "# display results\n",
    "fig, ax = plt.subplots()\n",
    "ax.scatter(data[:,0], data[:,1], c=y_pred)\n",
    "plt.show()\n",
    "\n",
    "# evaluation\n",
    "evaluate(y_pred, y, data)"
   ]
  },
  {
   "cell_type": "markdown",
   "id": "liquid-campus",
   "metadata": {},
   "source": [
    "# DBSCANRN"
   ]
  },
  {
   "cell_type": "markdown",
   "id": "c318b05b-3edd-462d-8181-fa5e52105d91",
   "metadata": {
    "tags": []
   },
   "source": [
    "## KNN"
   ]
  },
  {
   "cell_type": "code",
   "execution_count": 10,
   "id": "royal-spencer",
   "metadata": {},
   "outputs": [],
   "source": [
    "def get_knn(current_index, neighbor_indices, k, similarity):\n",
    "    if current_index in neighbor_indices: neighbor_indices.remove(current_index)\n",
    "    neighbor_similaritys = []\n",
    "    for neighbor_index in neighbor_indices:\n",
    "        similarity_measure = similarity(data[neighbor_index], data[current_index])\n",
    "        neighbor_similaritys.append(similarity_measure) \n",
    "    sort_indices = np.argsort(neighbor_similaritys)\n",
    "    neighbor_indices = np.array(neighbor_indices)\n",
    "    return neighbor_indices[sort_indices][:k].tolist()"
   ]
  },
  {
   "cell_type": "markdown",
   "id": "e8c7ee44-22e2-4520-9a36-d5978817a2b9",
   "metadata": {},
   "source": [
    "## RNN"
   ]
  },
  {
   "cell_type": "code",
   "execution_count": 24,
   "id": "legal-arbor",
   "metadata": {},
   "outputs": [],
   "source": [
    "def get_pointwise_rnn(point_knn, current_index):\n",
    "    rnn = []\n",
    "    for neighbor in point_knn[current_index]:\n",
    "        if current_index in point_knn[neighbor]:\n",
    "            rnn.append(neighbor)\n",
    "    return rnn\n",
    "    \n",
    "def get_rnn(point_indices, k, similarity):\n",
    "    point_rnn = {}\n",
    "    point_knn = {}\n",
    "    for current_index in point_indices:\n",
    "        knn = get_knn(current_index, point_indices[:], k, similarity)\n",
    "        point_knn[current_index] = knn\n",
    "    for current_index in point_indices:\n",
    "        rnn = get_pointwise_rnn(point_knn, current_index)\n",
    "        point_rnn[current_index] = rnn\n",
    "    return point_rnn"
   ]
  },
  {
   "cell_type": "markdown",
   "id": "engaged-server",
   "metadata": {},
   "source": [
    "## Clusterization algorithm"
   ]
  },
  {
   "cell_type": "code",
   "execution_count": 25,
   "id": "joint-salem",
   "metadata": {},
   "outputs": [],
   "source": [
    "def dbscanrn(data, k, similarity):\n",
    "    \n",
    "    # each data point can be in one of 3 stages\n",
    "    NOT_VISITED = 0 # not visited point\n",
    "    VISTED = 1 # non-core point\n",
    "    CLUSTERED = 2 # core point\n",
    "    \n",
    "    # initial setup\n",
    "    n = data.shape[0]\n",
    "    cluster = np.array([0] * n) # cluster register\n",
    "    state = np.array([NOT_VISITED] * n) # state register\n",
    "    cluster_id = 1\n",
    "    all_point_indices = list(range(len(data))) # inidces of all points\n",
    "    point_rnn = get_rnn(all_point_indices, k, similarity) # calculate RNN_k for all points\n",
    "    \n",
    "    # search for clusters\n",
    "    def search(current_index, k):\n",
    "        if len(point_rnn[current_index]) < k:\n",
    "                state[current_index] = VISTED\n",
    "        else:\n",
    "            state[current_index] = CLUSTERED\n",
    "            cluster[current_index] = cluster_id\n",
    "            for neighbor_index in point_rnn[current_index]:\n",
    "                if state[neighbor_index] == NOT_VISITED:\n",
    "                    state[neighbor_index] = CLUSTERED\n",
    "                    cluster[neighbor_index] = cluster_id\n",
    "                    search(neighbor_index, k)\n",
    "    \n",
    "    # visit all data points\n",
    "    while NOT_VISITED in state:\n",
    "        not_visited_ids = np.where(state==NOT_VISITED)[0][0]\n",
    "        search(not_visited_ids, k)\n",
    "        cluster_id += 1\n",
    "    \n",
    "    # clusterize all outlier data points \n",
    "    while VISTED in state:\n",
    "        not_clustered_ids = np.where(state==VISTED)[0][0]\n",
    "        clustered_ids = np.where(state==CLUSTERED)[0]\n",
    "        knn = get_knn(not_clustered_ids, clustered_ids, 1, similarity)\n",
    "        cluster[not_clustered_ids] = cluster[knn[0]]\n",
    "        state[not_clustered_ids] = CLUSTERED\n",
    "    \n",
    "    return cluster"
   ]
  },
  {
   "cell_type": "markdown",
   "id": "e62d2162-d481-44f2-a748-f5618a5133c8",
   "metadata": {},
   "source": [
    "## Evaluation"
   ]
  },
  {
   "cell_type": "markdown",
   "id": "b9f182ad-4568-40f3-a0c9-c6215838b6d1",
   "metadata": {},
   "source": [
    "### Euclidean distance"
   ]
  },
  {
   "cell_type": "code",
   "execution_count": 26,
   "id": "070980a4-7825-4b3f-aa62-20716b1dc4d9",
   "metadata": {
    "tags": []
   },
   "outputs": [
    {
     "data": {
      "image/png": "[encoded data removed]",
      "text/plain": [
       "<Figure size 432x288 with 1 Axes>"
      ]
     },
     "metadata": {
      "needs_background": "light"
     },
     "output_type": "display_data"
    },
    {
     "data": {
      "text/plain": [
       "{'purity': 1.0,\n",
       " 'adjusted_rand_score': 1.0,\n",
       " 'davies_bouldin_score': 0.3558505657725602,\n",
       " 'silhouette_score_euclidean': 0.7446693236136052,\n",
       " 'silhouette_score_cosine': 0.9547976849733445}"
      ]
     },
     "execution_count": 26,
     "metadata": {},
     "output_type": "execute_result"
    }
   ],
   "source": [
    "y_pred = dbscanrn(data=data, k=10, similarity=euclidean_distance)\n",
    "\n",
    "# display results\n",
    "fig, ax = plt.subplots()\n",
    "ax.scatter(data[:,0], data[:,1], c=y_pred)\n",
    "plt.show()\n",
    "\n",
    "# evaluation\n",
    "evaluate(y_pred, y, data)"
   ]
  },
  {
   "cell_type": "markdown",
   "id": "52125101-324d-4b2a-bb67-e4b3f1f70e5e",
   "metadata": {},
   "source": [
    "## Cosine dissimilarity"
   ]
  },
  {
   "cell_type": "code",
   "execution_count": 236,
   "id": "1ce97838-75c5-4ec8-a057-f3fa1c2c050a",
   "metadata": {},
   "outputs": [
    {
     "data": {
      "image/png": "[encoded data removed]",
      "text/plain": [
       "<Figure size 432x288 with 1 Axes>"
      ]
     },
     "metadata": {
      "needs_background": "light"
     },
     "output_type": "display_data"
    },
    {
     "data": {
      "text/plain": [
       "{'purity': 1.0,\n",
       " 'adjusted_rand_score': 1.0,\n",
       " 'davies_bouldin_score': 0.3558505657725602,\n",
       " 'silhouette_score_euclidean': 0.7446693236136052,\n",
       " 'silhouette_score_cosine': 0.9547976849733445}"
      ]
     },
     "execution_count": 236,
     "metadata": {},
     "output_type": "execute_result"
    }
   ],
   "source": [
    "y_pred = dbscanrn(data=data, k=10, similarity=cosine_dissimilarity)\n",
    "\n",
    "# display results\n",
    "fig, ax = plt.subplots()\n",
    "ax.scatter(data[:,0], data[:,1], c=y_pred)\n",
    "plt.show()\n",
    "\n",
    "# evaluation\n",
    "evaluate(y_pred, y, data)"
   ]
  },
  {
   "cell_type": "markdown",
   "id": "voluntary-seven",
   "metadata": {},
   "source": [
    "# Example from lecture"
   ]
  },
  {
   "cell_type": "code",
   "execution_count": 237,
   "id": "interpreted-florist",
   "metadata": {},
   "outputs": [],
   "source": [
    "X = np.array(\n",
    "    [[4.2, 4.0], \n",
    "    [5.9, 3.9],\n",
    "    [2.8, 3.5],\n",
    "    [12.0, 1.3],\n",
    "    [10.0, 1.3],\n",
    "    [1.1, 3.0],\n",
    "    [0.0, 2.4],\n",
    "    [2.4, 2.0],\n",
    "    [11.5, 1.8],\n",
    "    [11.0, 1.0],\n",
    "    [0.9, 0.0],\n",
    "    [1.0, 1.5]], np.single)\n",
    "\n",
    "X = StandardScaler().fit_transform(X)\n",
    "\n",
    "# real clusters\n",
    "y =  np.array([1, 0, 1, 2, 2, 1, 1, 1, 2, 2, 1, 1])"
   ]
  },
  {
   "cell_type": "markdown",
   "id": "6f6351f8-3afa-452b-b5a0-f46306cca6a6",
   "metadata": {},
   "source": [
    "## DBSCANRN: euclidean distance"
   ]
  },
  {
   "cell_type": "code",
   "execution_count": 239,
   "id": "10795478-e4d0-4d21-83c5-5d034fb6552a",
   "metadata": {},
   "outputs": [
    {
     "data": {
      "image/png": "[encoded data removed]",
      "text/plain": [
       "<Figure size 432x288 with 1 Axes>"
      ]
     },
     "metadata": {
      "needs_background": "light"
     },
     "output_type": "display_data"
    },
    {
     "data": {
      "text/plain": [
       "{'purity': 0.9166666666666666,\n",
       " 'adjusted_rand_score': 0.7890410958904109,\n",
       " 'davies_bouldin_score': 0.5802992349799708,\n",
       " 'silhouette_score_euclidean': 0.5339634,\n",
       " 'silhouette_score_cosine': 0.6784044}"
      ]
     },
     "execution_count": 239,
     "metadata": {},
     "output_type": "execute_result"
    }
   ],
   "source": [
    "y_pred = dbscan(data=X, epsilon=0.5, minPts=4, similarity=euclidean_distance)\n",
    "\n",
    "# display results\n",
    "fig, ax = plt.subplots()\n",
    "ax.scatter(X[:,0], X[:,1], c=y_pred)\n",
    "plt.show()\n",
    "\n",
    "# evaluation\n",
    "evaluate(y_pred, y, X)"
   ]
  },
  {
   "cell_type": "markdown",
   "id": "a3a72f11-2ea3-426c-a330-19337bb56ee8",
   "metadata": {},
   "source": [
    "## DBSCAN: cosine dissimilarity"
   ]
  },
  {
   "cell_type": "code",
   "execution_count": 240,
   "id": "be132c93-0d55-49c3-a3ff-03dba9550d2a",
   "metadata": {},
   "outputs": [
    {
     "data": {
      "image/png": "[encoded data removed]",
      "text/plain": [
       "<Figure size 432x288 with 1 Axes>"
      ]
     },
     "metadata": {
      "needs_background": "light"
     },
     "output_type": "display_data"
    },
    {
     "data": {
      "text/plain": [
       "{'purity': 0.9166666666666666,\n",
       " 'adjusted_rand_score': 0.7890410958904109,\n",
       " 'davies_bouldin_score': 0.5802992349799708,\n",
       " 'silhouette_score_euclidean': 0.5339634,\n",
       " 'silhouette_score_cosine': 0.6784044}"
      ]
     },
     "execution_count": 240,
     "metadata": {},
     "output_type": "execute_result"
    }
   ],
   "source": [
    "y_pred = dbscan(data=X, epsilon=0.5, minPts=4, similarity=cosine_dissimilarity)\n",
    "\n",
    "# display results\n",
    "fig, ax = plt.subplots()\n",
    "ax.scatter(X[:,0], X[:,1], c=y_pred)\n",
    "plt.show()\n",
    "\n",
    "# evaluation\n",
    "evaluate(y_pred, y, X)"
   ]
  },
  {
   "cell_type": "markdown",
   "id": "6682be7e-ca2f-49fe-9c94-0229cb4a4f39",
   "metadata": {},
   "source": [
    "## DBSCANRN: euclidean distance"
   ]
  },
  {
   "cell_type": "code",
   "execution_count": 241,
   "id": "322674ac-4148-49d0-84da-ac1c527a2a9d",
   "metadata": {},
   "outputs": [
    {
     "data": {
      "image/png": "[encoded data removed]",
      "text/plain": [
       "<Figure size 432x288 with 1 Axes>"
      ]
     },
     "metadata": {
      "needs_background": "light"
     },
     "output_type": "display_data"
    },
    {
     "data": {
      "text/plain": [
       "{'purity': 0.5833333333333334,\n",
       " 'adjusted_rand_score': 0.019498607242339833,\n",
       " 'davies_bouldin_score': 12.468419229593488,\n",
       " 'silhouette_score_euclidean': -0.12486723,\n",
       " 'silhouette_score_cosine': -0.13842197}"
      ]
     },
     "execution_count": 241,
     "metadata": {},
     "output_type": "execute_result"
    }
   ],
   "source": [
    "y_pred = dbscanrn(data=X, k=3, similarity=euclidean_distance)\n",
    "\n",
    "# display results\n",
    "fig, ax = plt.subplots()\n",
    "ax.scatter(X[:,0], X[:,1], c=y_pred)\n",
    "plt.show()\n",
    "\n",
    "# evaluation\n",
    "evaluate(y_pred, y, X)"
   ]
  },
  {
   "cell_type": "markdown",
   "id": "1ce8f2d0-b8ea-4641-a64b-38627f347821",
   "metadata": {},
   "source": [
    "## DBSCANRN: cosine dissimilarity"
   ]
  },
  {
   "cell_type": "code",
   "execution_count": 242,
   "id": "b036250e-da9d-4ce4-9268-161a2d23e57a",
   "metadata": {},
   "outputs": [
    {
     "data": {
      "image/png": "[encoded data removed]",
      "text/plain": [
       "<Figure size 432x288 with 1 Axes>"
      ]
     },
     "metadata": {
      "needs_background": "light"
     },
     "output_type": "display_data"
    },
    {
     "data": {
      "text/plain": [
       "{'purity': 0.5833333333333334,\n",
       " 'adjusted_rand_score': 0.019498607242339833,\n",
       " 'davies_bouldin_score': 12.468419229593488,\n",
       " 'silhouette_score_euclidean': -0.12486723,\n",
       " 'silhouette_score_cosine': -0.13842197}"
      ]
     },
     "execution_count": 242,
     "metadata": {},
     "output_type": "execute_result"
    }
   ],
   "source": [
    "y_pred = dbscanrn(data=X, k=4, similarity=cosine_dissimilarity)\n",
    "\n",
    "# display results\n",
    "fig, ax = plt.subplots()\n",
    "ax.scatter(X[:,0], X[:,1], c=y_pred)\n",
    "plt.show()\n",
    "\n",
    "# evaluation\n",
    "evaluate(y_pred, y, X)"
   ]
  },
  {
   "cell_type": "code",
   "execution_count": null,
   "id": "03f8b604-1ec4-4189-9e05-94f08fc98130",
   "metadata": {},
   "outputs": [],
   "source": []
  }
 ],
 "metadata": {
  "kernelspec": {
   "display_name": "Python 3 (ipykernel)",
   "language": "python",
   "name": "python3"
  },
  "language_info": {
   "codemirror_mode": {
    "name": "ipython",
    "version": 3
   },
   "file_extension": ".py",
   "mimetype": "text/x-python",
   "name": "python",
   "nbconvert_exporter": "python",
   "pygments_lexer": "ipython3",
   "version": "3.8.5"
  },
  "toc-showcode": false
 },
 "nbformat": 4,
 "nbformat_minor": 5
}
